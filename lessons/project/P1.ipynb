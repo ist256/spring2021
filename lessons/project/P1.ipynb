{
 "cells": [
  {
   "cell_type": "markdown",
   "metadata": {},
   "source": [
    "# IST256 Project Deliverable 1 (P1)\n",
    "\n",
    "## FIRST: Read The Syllabus\n",
    "\n",
    "Please read the project section of the syllabus as that explains the the project itself, its phases, and evaluation criteria. \n",
    "\n",
    "[http://ist256.com/syllabus/#project-p1-p4](http://ist256.com/syllabus/#project-p1-p4)\n",
    "\n",
    "\n",
    "## Project Objective\n",
    "\n",
    "Your primary objectives for the project are to create something novel, useful and innovative with Python code. You can draw your inspiration from the many examples given to you throughout the semester. Your project should clearly and explicitly demonstrate the level of programming knowledge that you have acquired in this course. The type of project you propose is up to you. Ultimately you are evaluated based on not only the idea itself but your execution of it, therefore your **project should be a representaiton of you and your abilities as a programmer.**  \n",
    "\n",
    "Our role is to help you to scope your idea. If it is simple enough we will expect a full implementation, if it’s complex then we’ll ask for a manifestation of your idea as a minimum viable product. It should be a proof of concept demonstrating how the bigger system might work. That being said, it is important to engage your small group instructor as they are the evaluator of your work. It can only make your project and your grade better.\n"
   ]
  },
  {
   "cell_type": "markdown",
   "metadata": {},
   "source": [
    "### Starting Your Code Journal\n",
    "\n",
    "One of the most valuable things you can do for yourself as a programmer is start a code journal. Each time you work on the project include the date, number of hours worked and a summary what you did. The most important part of your journal should be the comments. What did you do? Did you finish it? What issues are outstanding? What questions do you have? Did you hit any dead-ends? How did you work around the problem? Are you stuck? What are you stuck on?\n",
    "\n",
    "Each time before you start work on your project review the last entry of your journal to remind you of where you left off! When you embrace journaling you'll discover many valuable uses for it. I love it simply for all the things I don't have to try to keep in my head between coding sessions.\n",
    "\n",
    "If you want the best possible grade on your project, then you will have to maintain a regular code journal. It should include routine contributions you've made to the project. I have written an interactive journal as a Python program. Using the journal is simple. just Open `CodeJournal.ipynb` and run the code cell.\n",
    "\n",
    "\n",
    "**IMPORTANT**: You should start journaling your project activity NOW as you complete P1.\n",
    "\n",
    "[![(https://ist256.github.io/images/code-journal.gif)](https://ist256.github.io/images/code-journal.gif)](https://ist256.github.io/images/code-journal.gif)\n"
   ]
  },
  {
   "cell_type": "markdown",
   "metadata": {},
   "source": [
    "## Phase 1: Ideation\n",
    "\n",
    "The goal of this phase is to outline the specific goals and objectives of your project; include evidence of its feasibility by including citations of resources you will use to complete the code.\n"
   ]
  },
  {
   "cell_type": "markdown",
   "metadata": {},
   "source": [
    "### Step 1: Project Summary\n",
    "\n",
    "Write a brief summary of your project idea, In 250 - 500 words.\n",
    "\n",
    "`--== Double-Click and Write Your Project Summary Below This Line  ==--`\n",
    "\n",
    "\n"
   ]
  },
  {
   "cell_type": "markdown",
   "metadata": {},
   "source": [
    "### Step 2: Project Component Research\n",
    "\n",
    "You should provide evidence through research that you have the components necessary to implement your project in code. We expect you to provide sources for each component, some will be of your own discovery, some will be things we've done in class.\n",
    "\n",
    "For each component:\n",
    "\n",
    "1. Define what it is and how will it be used in your project, and \n",
    "2. Provide a citation to the sources you can use to implement the component. ALWAYS include a URL to the source, unless it came from the course itself, in which you should state where it came from in the course (lesson 04 lab, lesson 05 homework, lesson 06 large group, etc. Its a good idea to have at least two sources in case one does not work out. \n",
    "\n",
    "\n",
    "**Two Examples of Components with Sources**  \n",
    "\n",
    "```\n",
    "Sentiment analysis will be used determine how chickens feel about the weather. \n",
    "I plan to use https://text-processing.com (from lesson 10 lab/hw) or \n",
    "Azure Text Analytics https://azure.microsoft.com/en-us/services/cognitive-services/text-analytics/ (from lesson 11 lab and hw). Depending on which one is more accurate.\n",
    "\n",
    "The locations of the chickens will be placed on a map \n",
    "using Folium (Lesson 13 Lab) or perhaps if I can figure it out \n",
    "using plotly bubble maps service (https://plotly.com/python/bubble-maps/)\n",
    "```\n",
    "\n",
    "\n",
    "\n",
    "\n",
    "What qualifies as a component?\n",
    "\n",
    "- An API and/or Python module on https://pypi.org (always include a URL source)\n",
    "- A Data set (include a URL source if online, or scraping a webpage, for example)\n",
    "- Using interact / IPywidgets / IPython.display for UI\n",
    "- Each visualization (chart, graph, map)\n",
    "- Other things, upon discussion with your small group instructor\n",
    "\n",
    "\n",
    "**NOTE:** The more components you have the better the chance you will reach the code length threshold for your desired grade. In addition for the highest possible grade **at least 3 of those components must be novel** - things we have not used in class before. Consult the syllabus.\n",
    "\n",
    "\n"
   ]
  },
  {
   "cell_type": "markdown",
   "metadata": {},
   "source": [
    "### Step 2a: List Your Project Components\n",
    "\n",
    "`--== Double-click and list all components with URL sources below This line  ==--`\n",
    "\n",
    "\n"
   ]
  },
  {
   "cell_type": "markdown",
   "metadata": {},
   "source": [
    "### Step 2b: Identify Your Novel Components\n",
    "\n",
    "`--== Double-click and identify which components are novel below This line  ==--`\n",
    "\n",
    "\n"
   ]
  },
  {
   "cell_type": "markdown",
   "metadata": {},
   "source": [
    "### No Grading at This Point, Only feedback\n",
    "\n",
    "Remember you will not recieve a grade for P1, only feedback to get you going. Late or incomplete submissions will affect your grade. Consult the syllabus.\n",
    "\n",
    "\n",
    "When you are ready, turn in your P1 using the submission script."
   ]
  },
  {
   "cell_type": "code",
   "execution_count": 3,
   "metadata": {},
   "outputs": [
    {
     "data": {
      "application/javascript": [
       "IPython.notebook.save_notebook()"
      ]
     },
     "metadata": {},
     "output_type": "display_data"
    },
    {
     "data": {
      "text/html": [
       "<h2>Submission Details</h2>"
      ],
      "text/plain": [
       "<IPython.core.display.HTML object>"
      ]
     },
     "metadata": {},
     "output_type": "display_data"
    },
    {
     "data": {
      "text/html": [
       "<ul><li>Your NetID: <code>mafudge</code></li><li>Instructor NetID: <code>mafudge</code></li><li>Blackboard Gradebook Assignment Name: <code>P1</code></li><li>Total Points: <code>0</code></li><li>File You Are Submitting: <code>P1.ipynb</code></li><li>Date/Time of Your Submission: <code>04/25/2021 12:54 PM</code></li><li>Due Date of the Assignment: <code>4/30/2021 11:59 PM</code></li></ul>"
      ],
      "text/plain": [
       "<IPython.core.display.HTML object>"
      ]
     },
     "metadata": {},
     "output_type": "display_data"
    },
    {
     "data": {
      "text/html": [
       "<p style='color: #993333;'><i class='fa fa-save'></i> <b>To ensure your instructor has the most recent version, press <code>CTRL+S</code> to save your work before submitting.</b></p>"
      ],
      "text/plain": [
       "<IPython.core.display.HTML object>"
      ]
     },
     "metadata": {},
     "output_type": "display_data"
    },
    {
     "data": {
      "application/vnd.jupyter.widget-view+json": {
       "model_id": "d66864b9626b4363b62fb77ee001b191",
       "version_major": 2,
       "version_minor": 0
      },
      "text/plain": [
       "HBox(children=(Button(button_style='success', description='Submit', icon='check-circle', style=ButtonStyle(), …"
      ]
     },
     "metadata": {},
     "output_type": "display_data"
    },
    {
     "data": {
      "application/vnd.jupyter.widget-view+json": {
       "model_id": "46422e747f2b4804bf06a8b4340287a8",
       "version_major": 2,
       "version_minor": 0
      },
      "text/plain": [
       "Output()"
      ]
     },
     "metadata": {},
     "output_type": "display_data"
    }
   ],
   "source": [
    "# run this code to turn in your work!\n",
    "from coursetools.submission import Submission\n",
    "Submission().submit()"
   ]
  },
  {
   "cell_type": "code",
   "execution_count": null,
   "metadata": {},
   "outputs": [],
   "source": []
  }
 ],
 "metadata": {
  "kernelspec": {
   "display_name": "Python 3",
   "language": "python",
   "name": "python3"
  },
  "language_info": {
   "codemirror_mode": {
    "name": "ipython",
    "version": 3
   },
   "file_extension": ".py",
   "mimetype": "text/x-python",
   "name": "python",
   "nbconvert_exporter": "python",
   "pygments_lexer": "ipython3",
   "version": "3.8.6"
  }
 },
 "nbformat": 4,
 "nbformat_minor": 4
}
