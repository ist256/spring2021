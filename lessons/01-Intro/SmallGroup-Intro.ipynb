{
 "cells": [
  {
   "cell_type": "markdown",
   "metadata": {},
   "source": [
    "# Now You Code In Class: Gathering Student Data\n",
    "\n",
    "\n",
    "## The Problem\n",
    "\n",
    "Write a program which gathers student data such as name, email, gpa and major then prints out a student profile card with a layout EXACTLY like this:\n",
    "\n",
    "### Sample Output:\n",
    "\n",
    "```\n",
    "===== STUDENT PROFILE =====\n",
    "NAME  : Michael Fudge\n",
    "EMAIL : mafudge@syr.edu\n",
    "GPA   : 4.0\n",
    "MAJOR : Information Studies\n",
    "```\n",
    "\n",
    "Of course your actual output of name, email, GPA and major, will vary based on the inputs, which is the point of programming in the first place! "
   ]
  },
  {
   "cell_type": "markdown",
   "metadata": {},
   "source": [
    "## Problem Analysis: \"Thinking About The Problem\"\n",
    "\n",
    "The first thing we should do before writing ANY CODE is have a good understanding of the problem. After all you can't solve a problem in code unless you understand it first!  \n",
    "\n",
    "As part of your **practice** routine in this course, you will formalize your **understanding** of the problem by articulating:\n",
    "\n",
    "1. the data inputs into the program\n",
    "2. the information output from the program\n",
    "3. the algorithm - the high level steps from input to output. \n",
    "\n",
    "Again, the purpose of this is to communicate your understanding of the problem **to your professor and more importantly yourself.** \n",
    "\n",
    "Of course, defining a problem this way is typically not an easy thing to do, which is why we will learn several  **problem-solving approaches** in this class.\n"
   ]
  },
  {
   "cell_type": "markdown",
   "metadata": {},
   "source": [
    "## Problem Solving Approach: Work Backwards \n",
    "\n",
    "The **work-backwards** approach to problem solving is often used in science and mathematics. It works well when we have an idea of the program's output but are unclear how to start the program. It can be used in this case because we expect out of the program itself is clearly understood. \n",
    "\n",
    "The approach is as follows:\n",
    "\n",
    "1. start with the output\n",
    "2. figure out which variables are used in the output (what part of the output changes versus stays the same - the changing parts use variables)\n",
    "3. keep working backwards until the variables become inputs."
   ]
  },
  {
   "cell_type": "markdown",
   "metadata": {},
   "source": [
    "### PROMPT 1: Start with the output\n",
    "\n",
    "Write Python code to print the example output under the problem section exactly as shown:"
   ]
  },
  {
   "cell_type": "code",
   "execution_count": 4,
   "metadata": {},
   "outputs": [
    {
     "name": "stdout",
     "output_type": "stream",
     "text": [
      "===== STUDENT PROFILE =====\n",
      "NAME  : Michael Fudge\n",
      "EMAIL : mafudge@syr.edu\n"
     ]
    }
   ],
   "source": [
    "# Code here\n"
   ]
  },
  {
   "cell_type": "code",
   "execution_count": null,
   "metadata": {},
   "outputs": [],
   "source": []
  },
  {
   "cell_type": "markdown",
   "metadata": {},
   "source": [
    "### PROMPT 2: Which aspects of the output should change?\n",
    "\n",
    "Which aspects of the output should change and therefore be written using variables? Write a Python assignment statement for each variable assigning it the **exact** value from the output.\n"
   ]
  },
  {
   "cell_type": "code",
   "execution_count": 1,
   "metadata": {},
   "outputs": [],
   "source": [
    "# Code here\n"
   ]
  },
  {
   "cell_type": "markdown",
   "metadata": {},
   "source": [
    "### PROMPT 3: Re-write the code from prompt 1 to use your variables\n",
    "\n",
    "Now we re-write the code from prompt 1 but use variables instead. Try using f-strings as they provide the best formatting options."
   ]
  },
  {
   "cell_type": "code",
   "execution_count": 2,
   "metadata": {},
   "outputs": [],
   "source": [
    "# Code here\n"
   ]
  },
  {
   "cell_type": "markdown",
   "metadata": {},
   "source": [
    "### PROMPT 4: What transformations are required to get the variables from input to output?\n",
    "\n",
    "Are there any transformations required of the variables from input to output? For example, you might input first name and last name separarely, then combine them to full name."
   ]
  },
  {
   "cell_type": "code",
   "execution_count": null,
   "metadata": {},
   "outputs": [],
   "source": [
    "# Code here"
   ]
  },
  {
   "cell_type": "markdown",
   "metadata": {},
   "source": [
    "### PROMPT 5: Finalize the inputs\n",
    "\n",
    "combine prompts 3 and 4 into a single program, replace the initialized variables with Python inputs and prompts. "
   ]
  },
  {
   "cell_type": "code",
   "execution_count": 3,
   "metadata": {},
   "outputs": [],
   "source": [
    "# Code here... now its written!\n",
    "\n"
   ]
  },
  {
   "cell_type": "markdown",
   "metadata": {
    "collapsed": true
   },
   "source": [
    "## Step 1: Problem Analysis\n",
    "\n",
    "Inputs: name and email\n",
    "\n",
    "Outputs: student profile card\n",
    "\n",
    "Algorithm (Steps in Program):\n",
    "\n"
   ]
  },
  {
   "cell_type": "code",
   "execution_count": 4,
   "metadata": {},
   "outputs": [],
   "source": [
    "# Step 2: Write code here\n"
   ]
  },
  {
   "cell_type": "code",
   "execution_count": 5,
   "metadata": {
    "scrolled": false
   },
   "outputs": [
    {
     "data": {
      "application/javascript": [
       "IPython.notebook.save_notebook()"
      ]
     },
     "metadata": {},
     "output_type": "display_data"
    },
    {
     "data": {
      "text/html": [
       "<h2>Submission Details</h2>"
      ],
      "text/plain": [
       "<IPython.core.display.HTML object>"
      ]
     },
     "metadata": {},
     "output_type": "display_data"
    },
    {
     "data": {
      "text/html": [
       "<ul><li>Your NetID: <code>mafudge</code></li><li>Instructor NetID: <code>mafudge</code></li><li>Blackboard Gradebook Assignment Name: <code>S01</code></li><li>Total Points: <code>1</code></li><li>File You Are Submitting: <code>SmallGroup-Intro.ipynb</code></li><li>Date/Time of Your Submission: <code>02/17/2021 03:17 PM</code></li></ul>"
      ],
      "text/plain": [
       "<IPython.core.display.HTML object>"
      ]
     },
     "metadata": {},
     "output_type": "display_data"
    },
    {
     "data": {
      "text/html": [
       "<p style='color: #993333;'><i class='fa fa-save'></i> <b>To ensure your instructor has the most recent version, press <code>CTRL+S</code> to save your work before submitting.</b></p>"
      ],
      "text/plain": [
       "<IPython.core.display.HTML object>"
      ]
     },
     "metadata": {},
     "output_type": "display_data"
    },
    {
     "data": {
      "application/vnd.jupyter.widget-view+json": {
       "model_id": "053da80c573b45a788fc9647438305dd",
       "version_major": 2,
       "version_minor": 0
      },
      "text/plain": [
       "HBox(children=(Button(button_style='success', description='Submit', icon='check-circle', style=ButtonStyle(), …"
      ]
     },
     "metadata": {},
     "output_type": "display_data"
    },
    {
     "data": {
      "application/vnd.jupyter.widget-view+json": {
       "model_id": "0335cc4f8ef34af0b51fbdc568b8ba86",
       "version_major": 2,
       "version_minor": 0
      },
      "text/plain": [
       "Output()"
      ]
     },
     "metadata": {},
     "output_type": "display_data"
    }
   ],
   "source": [
    "# run this code to turn in your work!\n",
    "from coursetools.submission import Submission\n",
    "Submission().submit_now()"
   ]
  },
  {
   "cell_type": "code",
   "execution_count": null,
   "metadata": {},
   "outputs": [],
   "source": []
  }
 ],
 "metadata": {
  "anaconda-cloud": {},
  "kernelspec": {
   "display_name": "Python 3",
   "language": "python",
   "name": "python3"
  },
  "language_info": {
   "codemirror_mode": {
    "name": "ipython",
    "version": 3
   },
   "file_extension": ".py",
   "mimetype": "text/x-python",
   "name": "python",
   "nbconvert_exporter": "python",
   "pygments_lexer": "ipython3",
   "version": "3.8.6"
  },
  "toc": {
   "base_numbering": 1,
   "nav_menu": {},
   "number_sections": false,
   "sideBar": false,
   "skip_h1_title": false,
   "title_cell": "Table of Contents",
   "title_sidebar": "Contents",
   "toc_cell": false,
   "toc_position": {},
   "toc_section_display": false,
   "toc_window_display": false
  }
 },
 "nbformat": 4,
 "nbformat_minor": 1
}
