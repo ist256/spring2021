{
 "rise": {
 "enable_chalkboard": true
 },
 "cells": [
  {
   "cell_type": "markdown",
   "metadata": {},
   "source": [
    "# Code Samples From Large Group\n"
   ]
  },
  {
   "cell_type": "code",
   "execution_count": 3,
   "metadata": {},
   "outputs": [
    {
     "name": "stdout",
     "output_type": "stream",
     "text": [
      "Enter an int: 10\n",
      "Enter a float: 5.5\n",
      "5\n"
     ]
    }
   ],
   "source": [
    "i = int(input(\"Enter an int: \"))\n",
    "f = float(input(\"Enter a float: \"))\n",
    "\n",
    "print(int(f))"
   ]
  },
  {
   "cell_type": "code",
   "execution_count": 4,
   "metadata": {},
   "outputs": [
    {
     "ename": "ValueError",
     "evalue": "invalid literal for int() with base 10: '238jsdhgjk'",
     "output_type": "error",
     "traceback": [
      "\u001b[0;31m---------------------------------------------------------------------------\u001b[0m",
      "\u001b[0;31mValueError\u001b[0m                                Traceback (most recent call last)",
      "\u001b[0;32m<ipython-input-4-a1e19486c821>\u001b[0m in \u001b[0;36m<module>\u001b[0;34m\u001b[0m\n\u001b[0;32m----> 1\u001b[0;31m \u001b[0mint\u001b[0m\u001b[0;34m(\u001b[0m\u001b[0;34m\"238jsdhgjk\"\u001b[0m\u001b[0;34m)\u001b[0m\u001b[0;34m\u001b[0m\u001b[0;34m\u001b[0m\u001b[0m\n\u001b[0m",
      "\u001b[0;31mValueError\u001b[0m: invalid literal for int() with base 10: '238jsdhgjk'"
     ]
    }
   ],
   "source": [
    "int(\"238jsdhgjk\")"
   ]
  },
  {
   "cell_type": "code",
   "execution_count": 5,
   "metadata": {},
   "outputs": [
    {
     "ename": "ValueError",
     "evalue": "invalid literal for int() with base 10: '3.4'",
     "output_type": "error",
     "traceback": [
      "\u001b[0;31m---------------------------------------------------------------------------\u001b[0m",
      "\u001b[0;31mValueError\u001b[0m                                Traceback (most recent call last)",
      "\u001b[0;32m<ipython-input-5-3594573f2808>\u001b[0m in \u001b[0;36m<module>\u001b[0;34m\u001b[0m\n\u001b[0;32m----> 1\u001b[0;31m \u001b[0mint\u001b[0m\u001b[0;34m(\u001b[0m\u001b[0;34m\"3.4\"\u001b[0m\u001b[0;34m)\u001b[0m\u001b[0;34m\u001b[0m\u001b[0;34m\u001b[0m\u001b[0m\n\u001b[0m",
      "\u001b[0;31mValueError\u001b[0m: invalid literal for int() with base 10: '3.4'"
     ]
    }
   ],
   "source": [
    "int(\"3.4\")"
   ]
  },
  {
   "cell_type": "code",
   "execution_count": 6,
   "metadata": {},
   "outputs": [
    {
     "data": {
      "text/plain": [
       "3"
      ]
     },
     "execution_count": 6,
     "metadata": {},
     "output_type": "execute_result"
    }
   ],
   "source": [
    "int(3.4)"
   ]
  },
  {
   "cell_type": "code",
   "execution_count": 7,
   "metadata": {},
   "outputs": [
    {
     "data": {
      "application/vnd.jupyter.widget-view+json": {
       "model_id": "5ba61302bd654389b8d53ce5746c366c",
       "version_major": 2,
       "version_minor": 0
      },
      "text/plain": [
       "interactive(children=(IntSlider(value=75, description='grade', max=150), Button(description='Run Interact', st…"
      ]
     },
     "metadata": {},
     "output_type": "display_data"
    }
   ],
   "source": [
    "from ipywidgets import interact_manual\n",
    "@interact_manual(grade=(0,150))\n",
    "def runit(grade):\n",
    "    if grade >= 125:\n",
    "        print(\"A\")\n",
    "    else:\n",
    "        print(\"Not an A\")"
   ]
  },
  {
   "cell_type": "code",
   "execution_count": 10,
   "metadata": {},
   "outputs": [
    {
     "name": "stdout",
     "output_type": "stream",
     "text": [
      "Enter your bank account number for a free lotto ticket! hfdgvfskdj\n"
     ]
    },
    {
     "data": {
      "text/plain": [
       "'hfdgvfskdj'"
      ]
     },
     "execution_count": 10,
     "metadata": {},
     "output_type": "execute_result"
    }
   ],
   "source": [
    "input(\"Enter your bank account number for a free lotto ticket! \")"
   ]
  },
  {
   "cell_type": "code",
   "execution_count": 11,
   "metadata": {},
   "outputs": [
    {
     "name": "stdout",
     "output_type": "stream",
     "text": [
      "Requirement already satisfied: gTTS in /opt/conda/lib/python3.8/site-packages (2.2.2)\r\n",
      "Requirement already satisfied: requests in /opt/conda/lib/python3.8/site-packages (from gTTS) (2.25.0)\r\n",
      "Requirement already satisfied: click in /opt/conda/lib/python3.8/site-packages (from gTTS) (7.1.2)\r\n",
      "Requirement already satisfied: six in /opt/conda/lib/python3.8/site-packages (from gTTS) (1.15.0)\r\n",
      "Requirement already satisfied: urllib3<1.27,>=1.21.1 in /opt/conda/lib/python3.8/site-packages (from requests->gTTS) (1.25.11)\r\n",
      "Requirement already satisfied: certifi>=2017.4.17 in /opt/conda/lib/python3.8/site-packages (from requests->gTTS) (2020.12.5)\r\n",
      "Requirement already satisfied: idna<3,>=2.5 in /opt/conda/lib/python3.8/site-packages (from requests->gTTS) (2.10)\r\n",
      "Requirement already satisfied: chardet<4,>=3.0.2 in /opt/conda/lib/python3.8/site-packages (from requests->gTTS) (3.0.4)\r\n"
     ]
    }
   ],
   "source": [
    "! pip install gTTS"
   ]
  },
  {
   "cell_type": "code",
   "execution_count": 21,
   "metadata": {},
   "outputs": [
    {
     "name": "stdout",
     "output_type": "stream",
     "text": [
      "Enter something for me to say: Welcome to this class\n"
     ]
    },
    {
     "data": {
      "text/html": [
       "\n",
       "                <audio  controls=\"controls\" autoplay=\"autoplay\">\n",
       "                    <source src=\"data:audio/mpeg;base64,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\" type=\"audio/mpeg\" />\n",
       "                    Your browser does not support the audio element.\n",
       "                </audio>\n",
       "              "
      ],
      "text/plain": [
       "<IPython.lib.display.Audio object>"
      ]
     },
     "execution_count": 21,
     "metadata": {},
     "output_type": "execute_result"
    }
   ],
   "source": [
    "from IPython.display import Audio\n",
    "from gtts import gTTS\n",
    "phrase = input(\"Enter something for me to say: \")\n",
    "x = gTTS(phrase, lang = 'en-GB', slow = True)\n",
    "x.save('somefile.mp3')\n",
    "Audio('somefile.mp3',autoplay=True)"
   ]
  },
  {
   "cell_type": "code",
   "execution_count": 27,
   "metadata": {},
   "outputs": [
    {
     "data": {
      "text/html": [
       "\n",
       "                <audio  controls=\"controls\" >\n",
       "                    <source src=\"data:audio/mpeg;base64,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\" type=\"audio/mpeg\" />\n",
       "                    Your browser does not support the audio element.\n",
       "                </audio>\n",
       "              "
      ],
      "text/plain": [
       "<IPython.lib.display.Audio object>"
      ]
     },
     "execution_count": 27,
     "metadata": {},
     "output_type": "execute_result"
    }
   ],
   "source": [
    "def speakit(text):\n",
    "    speak = gTTS(text, lang='en')\n",
    "    speak.save(\"demo.mp3\")\n",
    "    return Audio(\"demo.mp3\", autoplay=False)\n",
    "\n",
    "\n",
    "speakit(\"This is a lot of fun!\")\n"
   ]
  },
  {
   "cell_type": "code",
   "execution_count": 26,
   "metadata": {},
   "outputs": [
    {
     "data": {
      "text/plain": [
       "['Audio',\n",
       " 'In',\n",
       " 'Out',\n",
       " '_',\n",
       " '_10',\n",
       " '_15',\n",
       " '_16',\n",
       " '_17',\n",
       " '_19',\n",
       " '_20',\n",
       " '_21',\n",
       " '_23',\n",
       " '_6',\n",
       " '_9',\n",
       " '__',\n",
       " '___',\n",
       " '__builtin__',\n",
       " '__builtins__',\n",
       " '__doc__',\n",
       " '__loader__',\n",
       " '__name__',\n",
       " '__package__',\n",
       " '__spec__',\n",
       " '_dh',\n",
       " '_exit_code',\n",
       " '_i',\n",
       " '_i1',\n",
       " '_i10',\n",
       " '_i11',\n",
       " '_i12',\n",
       " '_i13',\n",
       " '_i14',\n",
       " '_i15',\n",
       " '_i16',\n",
       " '_i17',\n",
       " '_i18',\n",
       " '_i19',\n",
       " '_i2',\n",
       " '_i20',\n",
       " '_i21',\n",
       " '_i22',\n",
       " '_i23',\n",
       " '_i24',\n",
       " '_i25',\n",
       " '_i26',\n",
       " '_i3',\n",
       " '_i4',\n",
       " '_i5',\n",
       " '_i6',\n",
       " '_i7',\n",
       " '_i8',\n",
       " '_i9',\n",
       " '_ih',\n",
       " '_ii',\n",
       " '_iii',\n",
       " '_oh',\n",
       " 'exit',\n",
       " 'f',\n",
       " 'gTTS',\n",
       " 'get_ipython',\n",
       " 'i',\n",
       " 'interact_manual',\n",
       " 'phrase',\n",
       " 'quit',\n",
       " 'runit',\n",
       " 'speakit',\n",
       " 'x']"
      ]
     },
     "execution_count": 26,
     "metadata": {},
     "output_type": "execute_result"
    }
   ],
   "source": [
    "dir()"
   ]
  },
  {
   "cell_type": "code",
   "execution_count": 29,
   "metadata": {},
   "outputs": [
    {
     "data": {
      "text/html": [
       "\n",
       "                <audio  controls=\"controls\" >\n",
       "                    <source src=\"data:audio/mpeg;base64,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\" type=\"audio/mpeg\" />\n",
       "                    Your browser does not support the audio element.\n",
       "                </audio>\n",
       "              "
      ],
      "text/plain": [
       "<IPython.lib.display.Audio object>"
      ]
     },
     "execution_count": 29,
     "metadata": {},
     "output_type": "execute_result"
    }
   ],
   "source": [
    "def speakit(text, lang = 'ru'):\n",
    "    speak = gTTS(text, lang=lang)\n",
    "    speak.save(\"demo.mp3\")\n",
    "    return Audio(\"demo.mp3\", autoplay=False)\n",
    "\n",
    "\n",
    "speakit(\"This is a lot of fun!\")"
   ]
  },
  {
   "cell_type": "code",
   "execution_count": 30,
   "metadata": {},
   "outputs": [
    {
     "data": {
      "text/html": [
       "\n",
       "                <audio  controls=\"controls\" >\n",
       "                    <source src=\"data:audio/mpeg;base64,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\" type=\"audio/mpeg\" />\n",
       "                    Your browser does not support the audio element.\n",
       "                </audio>\n",
       "              "
      ],
      "text/plain": [
       "<IPython.lib.display.Audio object>"
      ]
     },
     "execution_count": 30,
     "metadata": {},
     "output_type": "execute_result"
    }
   ],
   "source": [
    "x = speakit(\"Welcome to IST256!\", lang='es')\n",
    "x"
   ]
  },
  {
   "cell_type": "code",
   "execution_count": 32,
   "metadata": {},
   "outputs": [
    {
     "data": {
      "text/html": [
       "\n",
       "                <audio  controls=\"controls\" autoplay=\"autoplay\">\n",
       "                    <source src=\"data:audio/mpeg;base64,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\" type=\"audio/mpeg\" />\n",
       "                    Your browser does not support the audio element.\n",
       "                </audio>\n",
       "              "
      ],
      "text/plain": [
       "<IPython.lib.display.Audio object>"
      ]
     },
     "execution_count": 32,
     "metadata": {},
     "output_type": "execute_result"
    }
   ],
   "source": [
    "def speakit(text, lang = 'ru',play_automatically=True):\n",
    "    speak = gTTS(text, lang=lang)\n",
    "    speak.save(\"demo.mp3\")\n",
    "    return Audio(\"demo.mp3\", autoplay=play_automatically)\n",
    "\n",
    "\n",
    "speakit(\"This is a lot of fun!\", play_automatically=True)"
   ]
  },
  {
   "cell_type": "code",
   "execution_count": 35,
   "metadata": {},
   "outputs": [],
   "source": [
    "def area_of_triangle(base, height):\n",
    "    return (1/2)*base*height\n"
   ]
  },
  {
   "cell_type": "code",
   "execution_count": 36,
   "metadata": {},
   "outputs": [
    {
     "name": "stdout",
     "output_type": "stream",
     "text": [
      "25.0\n"
     ]
    }
   ],
   "source": [
    "triarea = area_of_triangle(10,5)\n",
    "print(triarea)"
   ]
  },
  {
   "cell_type": "code",
   "execution_count": 37,
   "metadata": {},
   "outputs": [
    {
     "name": "stdout",
     "output_type": "stream",
     "text": [
      "Help on function speakit in module __main__:\n",
      "\n",
      "speakit(text, lang='ru', play_automatically=True)\n",
      "\n"
     ]
    }
   ],
   "source": [
    "help(speakit)"
   ]
  },
  {
   "cell_type": "code",
   "execution_count": 38,
   "metadata": {},
   "outputs": [],
   "source": [
    "def speakit(text, lang = 'ru',play_automatically=True):\n",
    "    '''\n",
    "    This uses the gTTS module to speak the text provided in the lang selected.\n",
    "    The lang defaults to 'ru' if you want to find other languages check out\n",
    "    https://gist.github.com/traysr/2001377\n",
    "    '''\n",
    "    speak = gTTS(text, lang=lang)\n",
    "    speak.save(\"demo.mp3\")\n",
    "    return Audio(\"demo.mp3\", autoplay=play_automatically)"
   ]
  },
  {
   "cell_type": "code",
   "execution_count": 39,
   "metadata": {},
   "outputs": [
    {
     "data": {
      "text/html": [
       "\n",
       "                <audio  controls=\"controls\" autoplay=\"autoplay\">\n",
       "                    <source src=\"data:audio/mpeg;base64,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\" type=\"audio/mpeg\" />\n",
       "                    Your browser does not support the audio element.\n",
       "                </audio>\n",
       "              "
      ],
      "text/plain": [
       "<IPython.lib.display.Audio object>"
      ]
     },
     "execution_count": 39,
     "metadata": {},
     "output_type": "execute_result"
    }
   ],
   "source": [
    "speakit(\"Hello!\")"
   ]
  },
  {
   "cell_type": "code",
   "execution_count": 40,
   "metadata": {},
   "outputs": [
    {
     "name": "stdout",
     "output_type": "stream",
     "text": [
      "Help on function speakit in module __main__:\n",
      "\n",
      "speakit(text, lang='ru', play_automatically=True)\n",
      "    This uses the gTTS module to speak the text provided in the lang selected.\n",
      "    The lang defaults to 'ru' if you want to find other languages check out\n",
      "    https://gist.github.com/traysr/2001377\n",
      "\n"
     ]
    }
   ],
   "source": [
    "help(speakit)"
   ]
  },
  {
   "cell_type": "code",
   "execution_count": 41,
   "metadata": {},
   "outputs": [
    {
     "name": "stdout",
     "output_type": "stream",
     "text": [
      "Help on class gTTS in module gtts.tts:\n",
      "\n",
      "class gTTS(builtins.object)\n",
      " |  gTTS(text, tld='com', lang='en', slow=False, lang_check=True, pre_processor_funcs=[<function tone_marks at 0x7f31600e5c10>, <function end_of_line at 0x7f31600dd550>, <function abbreviations at 0x7f31600dd5e0>, <function word_sub at 0x7f31600dd670>], tokenizer_func=<bound method Tokenizer.run of re.compile('(?<=\\\\?).|(?<=!).|(?<=？).|(?<=！).|(?<!\\\\.[a-z])\\\\. |(?<!\\\\.[a-z]), |(?<!\\\\d):|、|‥|—|،|\\\\]|\\\\(|\\\\\\n|。|\\\\[|…|\\\\)|¿|;|：|，|¡', re.IGNORECASE) from: [<function tone_marks at 0x7f31600dd790>, <function period_comma at 0x7f31600dd820>, <function colon at 0x7f31600dd8b0>, <function other_punctuation at 0x7f31600dd940>]>)\n",
      " |  \n",
      " |  gTTS -- Google Text-to-Speech.\n",
      " |  \n",
      " |  An interface to Google Translate's Text-to-Speech API.\n",
      " |  \n",
      " |  Args:\n",
      " |      text (string): The text to be read.\n",
      " |      tld (string): Top-level domain for the Google Translate host,\n",
      " |          i.e `https://translate.google.<tld>`. This is useful\n",
      " |          when ``google.com`` might be blocked within a network but\n",
      " |          a local or different Google host (e.g. ``google.cn``) is not.\n",
      " |          Default is ``com``.\n",
      " |      lang (string, optional): The language (IETF language tag) to\n",
      " |          read the text in. Default is ``en``.\n",
      " |      slow (bool, optional): Reads text more slowly. Defaults to ``False``.\n",
      " |      lang_check (bool, optional): Strictly enforce an existing ``lang``,\n",
      " |          to catch a language error early. If set to ``True``,\n",
      " |          a ``ValueError`` is raised if ``lang`` doesn't exist.\n",
      " |          Setting ``lang_check`` to ``False`` skips Web requests\n",
      " |          (to validate language) and therefore speeds up instanciation.\n",
      " |          Default is ``True``.\n",
      " |      pre_processor_funcs (list): A list of zero or more functions that are\n",
      " |          called to transform (pre-process) text before tokenizing. Those\n",
      " |          functions must take a string and return a string. Defaults to::\n",
      " |  \n",
      " |              [\n",
      " |                  pre_processors.tone_marks,\n",
      " |                  pre_processors.end_of_line,\n",
      " |                  pre_processors.abbreviations,\n",
      " |                  pre_processors.word_sub\n",
      " |              ]\n",
      " |  \n",
      " |      tokenizer_func (callable): A function that takes in a string and\n",
      " |          returns a list of string (tokens). Defaults to::\n",
      " |  \n",
      " |              Tokenizer([\n",
      " |                  tokenizer_cases.tone_marks,\n",
      " |                  tokenizer_cases.period_comma,\n",
      " |                  tokenizer_cases.colon,\n",
      " |                  tokenizer_cases.other_punctuation\n",
      " |              ]).run\n",
      " |  \n",
      " |  See Also:\n",
      " |      :doc:`Pre-processing and tokenizing <tokenizer>`\n",
      " |  \n",
      " |  Raises:\n",
      " |      AssertionError: When ``text`` is ``None`` or empty; when there's nothing\n",
      " |          left to speak after pre-precessing, tokenizing and cleaning.\n",
      " |      ValueError: When ``lang_check`` is ``True`` and ``lang`` is not supported.\n",
      " |      RuntimeError: When ``lang_check`` is ``True`` but there's an error loading\n",
      " |          the languages dictionary.\n",
      " |  \n",
      " |  Methods defined here:\n",
      " |  \n",
      " |  __init__(self, text, tld='com', lang='en', slow=False, lang_check=True, pre_processor_funcs=[<function tone_marks at 0x7f31600e5c10>, <function end_of_line at 0x7f31600dd550>, <function abbreviations at 0x7f31600dd5e0>, <function word_sub at 0x7f31600dd670>], tokenizer_func=<bound method Tokenizer.run of re.compile('(?<=\\\\?).|(?<=!).|(?<=？).|(?<=！).|(?<!\\\\.[a-z])\\\\. |(?<!\\\\.[a-z]), |(?<!\\\\d):|、|‥|—|،|\\\\]|\\\\(|\\\\\\n|。|\\\\[|…|\\\\)|¿|;|：|，|¡', re.IGNORECASE) from: [<function tone_marks at 0x7f31600dd790>, <function period_comma at 0x7f31600dd820>, <function colon at 0x7f31600dd8b0>, <function other_punctuation at 0x7f31600dd940>]>)\n",
      " |      Initialize self.  See help(type(self)) for accurate signature.\n",
      " |  \n",
      " |  get_bodies(self)\n",
      " |      Get TTS API request bodies(s) that would be sent to the TTS API.\n",
      " |      \n",
      " |      Returns:\n",
      " |          list: A list of TTS API request bodiess to make.\n",
      " |  \n",
      " |  save(self, savefile)\n",
      " |      Do the TTS API request and write result to file.\n",
      " |      \n",
      " |      Args:\n",
      " |          savefile (string): The path and file name to save the ``mp3`` to.\n",
      " |      \n",
      " |      Raises:\n",
      " |          :class:`gTTSError`: When there's an error with the API request.\n",
      " |  \n",
      " |  write_to_fp(self, fp)\n",
      " |      Do the TTS API request(s) and write bytes to a file-like object.\n",
      " |      \n",
      " |      Args:\n",
      " |          fp (file object): Any file-like object to write the ``mp3`` to.\n",
      " |      \n",
      " |      Raises:\n",
      " |          :class:`gTTSError`: When there's an error with the API request.\n",
      " |          TypeError: When ``fp`` is not a file-like object that takes bytes.\n",
      " |  \n",
      " |  ----------------------------------------------------------------------\n",
      " |  Data descriptors defined here:\n",
      " |  \n",
      " |  __dict__\n",
      " |      dictionary for instance variables (if defined)\n",
      " |  \n",
      " |  __weakref__\n",
      " |      list of weak references to the object (if defined)\n",
      " |  \n",
      " |  ----------------------------------------------------------------------\n",
      " |  Data and other attributes defined here:\n",
      " |  \n",
      " |  GOOGLE_TTS_HEADERS = {'Content-Type': 'application/x-www-form-urlencod...\n",
      " |  \n",
      " |  GOOGLE_TTS_MAX_CHARS = 100\n",
      " |  \n",
      " |  GOOGLE_TTS_RPC = 'jQ1olc'\n",
      "\n"
     ]
    }
   ],
   "source": [
    "help(gTTS)"
   ]
  },
  {
   "cell_type": "code",
   "execution_count": 42,
   "metadata": {},
   "outputs": [
    {
     "name": "stdout",
     "output_type": "stream",
     "text": [
      "Help on built-in function print in module builtins:\n",
      "\n",
      "print(...)\n",
      "    print(value, ..., sep=' ', end='\\n', file=sys.stdout, flush=False)\n",
      "    \n",
      "    Prints the values to a stream, or to sys.stdout by default.\n",
      "    Optional keyword arguments:\n",
      "    file:  a file-like object (stream); defaults to the current sys.stdout.\n",
      "    sep:   string inserted between values, default a space.\n",
      "    end:   string appended after the last value, default a newline.\n",
      "    flush: whether to forcibly flush the stream.\n",
      "\n"
     ]
    }
   ],
   "source": [
    "help(print)"
   ]
  },
  {
   "cell_type": "code",
   "execution_count": 43,
   "metadata": {},
   "outputs": [
    {
     "name": "stdout",
     "output_type": "stream",
     "text": [
      "a b\n"
     ]
    }
   ],
   "source": [
    "print(\"a\",\"b\")"
   ]
  },
  {
   "cell_type": "code",
   "execution_count": 44,
   "metadata": {},
   "outputs": [
    {
     "name": "stdout",
     "output_type": "stream",
     "text": [
      "ab\n"
     ]
    }
   ],
   "source": [
    "print(\"a\",\"b\",sep=\"\")"
   ]
  },
  {
   "cell_type": "code",
   "execution_count": 45,
   "metadata": {},
   "outputs": [
    {
     "name": "stdout",
     "output_type": "stream",
     "text": [
      "Help on method raw_input in module ipykernel.kernelbase:\n",
      "\n",
      "raw_input(prompt='') method of ipykernel.ipkernel.IPythonKernel instance\n",
      "    Forward raw_input to frontends\n",
      "    \n",
      "    Raises\n",
      "    ------\n",
      "    StdinNotImplentedError if active frontend doesn't support stdin.\n",
      "\n"
     ]
    }
   ],
   "source": [
    "help(input)"
   ]
  },
  {
   "cell_type": "code",
   "execution_count": 49,
   "metadata": {},
   "outputs": [
    {
     "data": {
      "application/vnd.jupyter.widget-view+json": {
       "model_id": "29dda11003a04a44a83738424271823a",
       "version_major": 2,
       "version_minor": 0
      },
      "text/plain": [
       "interactive(children=(IntSlider(value=10, description='base', max=30, min=-10), IntSlider(value=5, description…"
      ]
     },
     "metadata": {},
     "output_type": "display_data"
    }
   ],
   "source": [
    "from  IPython.display import display, Audio\n",
    "from ipywidgets import interact_manual\n",
    "\n",
    "def speakit(text, lang = 'ru',play_automatically=True):\n",
    "    '''\n",
    "    This uses the gTTS module to speak the text provided in the lang selected.\n",
    "    The lang defaults to 'ru' if you want to find other languages check out\n",
    "    https://gist.github.com/traysr/2001377\n",
    "    '''\n",
    "    speak = gTTS(text, lang=lang)\n",
    "    speak.save(\"demo.mp3\")\n",
    "    return Audio(\"demo.mp3\", autoplay=play_automatically)\n",
    "\n",
    "\n",
    "@interact_manual(base=10, height=5)\n",
    "def doit(base,height):\n",
    "    area = area_of_triangle(base, height)\n",
    "    message = f\"The area of a triangle with base {base} and height {height} is {area}\"\n",
    "    print(message)\n",
    "    display(speakit(message, lang='en'))\n",
    "    "
   ]
  },
  {
   "cell_type": "code",
   "execution_count": 50,
   "metadata": {},
   "outputs": [
    {
     "data": {
      "text/html": [
       "\n",
       "                <audio  controls=\"controls\" autoplay=\"autoplay\">\n",
       "                    <source src=\"data:audio/mpeg;base64,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\" type=\"audio/mpeg\" />\n",
       "                    Your browser does not support the audio element.\n",
       "                </audio>\n",
       "              "
      ],
      "text/plain": [
       "<IPython.lib.display.Audio object>"
      ]
     },
     "execution_count": 50,
     "metadata": {},
     "output_type": "execute_result"
    }
   ],
   "source": [
    "speakit(\"Thank you\")"
   ]
  },
  {
   "cell_type": "code",
   "execution_count": null,
   "metadata": {},
   "outputs": [],
   "source": []
  },
  {
   "cell_type": "markdown",
   "metadata": {},
   "source": [
    "## Enter solution this one cell does it all"
   ]
  },
  {
   "cell_type": "code",
   "execution_count": null,
   "metadata": {},
   "outputs": [],
   "source": [
    "from  IPython.display import display, Audio\n",
    "from ipywidgets import interact_manual\n",
    "\n",
    "def area_of_triangle(base, height):\n",
    "    return (1/2)*base*height\n",
    "\n",
    "def speakit(text, lang = 'ru',play_automatically=True):\n",
    "    '''\n",
    "    This uses the gTTS module to speak the text provided in the lang selected.\n",
    "    The lang defaults to 'ru' if you want to find other languages check out\n",
    "    https://gist.github.com/traysr/2001377\n",
    "    '''\n",
    "    speak = gTTS(text, lang=lang)\n",
    "    speak.save(\"demo.mp3\")\n",
    "    return Audio(\"demo.mp3\", autoplay=play_automatically)\n",
    "\n",
    "@interact_manual(base=10, height=5)\n",
    "def doit(base,height):\n",
    "    area = area_of_triangle(base, height)\n",
    "    message = f\"The area of a triangle with base {base} and height {height} is {area}\"\n",
    "    print(message)\n",
    "    display(speakit(message, lang='en'))"
   ]
  }
 ],
 "metadata": {
  "kernelspec": {
   "display_name": "Python 3",
   "language": "python",
   "name": "python3"
  },
  "language_info": {
   "codemirror_mode": {
    "name": "ipython",
    "version": 3
   },
   "file_extension": ".py",
   "mimetype": "text/x-python",
   "name": "python",
   "nbconvert_exporter": "python",
   "pygments_lexer": "ipython3",
   "version": "3.8.6"
  }
 },
 "nbformat": 4,
 "nbformat_minor": 4
}
