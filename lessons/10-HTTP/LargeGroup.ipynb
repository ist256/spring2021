{
 "cells": [
  {
   "cell_type": "markdown",
   "metadata": {},
   "source": [
    "# Code Samples From Large Group\n"
   ]
  },
  {
   "cell_type": "code",
   "execution_count": 7,
   "metadata": {},
   "outputs": [],
   "source": [
    "import requests\n",
    "import json"
   ]
  },
  {
   "cell_type": "code",
   "execution_count": 8,
   "metadata": {},
   "outputs": [],
   "source": [
    "url = \"https://api.ist256.com/playground/hello1\"\n",
    "response = requests.get(url)\n",
    "data = json.loads(response.text)"
   ]
  },
  {
   "cell_type": "code",
   "execution_count": 10,
   "metadata": {},
   "outputs": [
    {
     "data": {
      "text/plain": [
       "'World!'"
      ]
     },
     "execution_count": 10,
     "metadata": {},
     "output_type": "execute_result"
    }
   ],
   "source": [
    "data['hello']"
   ]
  },
  {
   "cell_type": "code",
   "execution_count": 11,
   "metadata": {},
   "outputs": [
    {
     "data": {
      "text/plain": [
       "'{\\n    \"hello\": \"World!\"\\n}\\n'"
      ]
     },
     "execution_count": 11,
     "metadata": {},
     "output_type": "execute_result"
    }
   ],
   "source": [
    "response.text"
   ]
  },
  {
   "cell_type": "code",
   "execution_count": 12,
   "metadata": {},
   "outputs": [
    {
     "data": {
      "text/plain": [
       "{'hello': 'World!'}"
      ]
     },
     "execution_count": 12,
     "metadata": {},
     "output_type": "execute_result"
    }
   ],
   "source": [
    "# the right way\n",
    "url = \"https://api.ist256.com/playground/hello1\"\n",
    "response = requests.get(url)\n",
    "data = response.json()\n",
    "data"
   ]
  },
  {
   "cell_type": "code",
   "execution_count": 14,
   "metadata": {},
   "outputs": [
    {
     "data": {
      "text/plain": [
       "dict"
      ]
     },
     "execution_count": 14,
     "metadata": {},
     "output_type": "execute_result"
    }
   ],
   "source": [
    "type(data)"
   ]
  },
  {
   "cell_type": "code",
   "execution_count": 16,
   "metadata": {},
   "outputs": [
    {
     "data": {
      "text/plain": [
       "dict_keys(['hello'])"
      ]
     },
     "execution_count": 16,
     "metadata": {},
     "output_type": "execute_result"
    }
   ],
   "source": [
    "data.keys()"
   ]
  },
  {
   "cell_type": "code",
   "execution_count": 18,
   "metadata": {},
   "outputs": [
    {
     "data": {
      "text/plain": [
       "'World'"
      ]
     },
     "execution_count": 18,
     "metadata": {},
     "output_type": "execute_result"
    }
   ],
   "source": [
    "data['hello'].replace(\"!\",\"\")"
   ]
  },
  {
   "cell_type": "code",
   "execution_count": 22,
   "metadata": {},
   "outputs": [
    {
     "name": "stdout",
     "output_type": "stream",
     "text": [
      "Enter a name to say hello over web! dd\\\n"
     ]
    },
    {
     "data": {
      "text/plain": [
       "'dd\\\\'"
      ]
     },
     "execution_count": 22,
     "metadata": {},
     "output_type": "execute_result"
    }
   ],
   "source": [
    "name = input(\"Enter a name to say hello over web! \")\n",
    "url = f\"https://api.ist256.com/playground/hello2/{name}\"\n",
    "response = requests.get(url)\n",
    "data = response.json()\n",
    "data['hello']"
   ]
  },
  {
   "cell_type": "code",
   "execution_count": 24,
   "metadata": {},
   "outputs": [
    {
     "name": "stdout",
     "output_type": "stream",
     "text": [
      "Enter a name: Billy\n",
      "https://api.ist256.com/playground/hello3?name=Billy\n"
     ]
    },
    {
     "data": {
      "text/plain": [
       "{'hello': 'Billy'}"
      ]
     },
     "execution_count": 24,
     "metadata": {},
     "output_type": "execute_result"
    }
   ],
   "source": [
    "name = input(\"Enter a name: \")\n",
    "url = \"https://api.ist256.com/playground/hello3\"\n",
    "query_string = { 'name' : name }\n",
    "response = requests.get(url, params = query_string)\n",
    "print(response.url)  # Important for debugging.\n",
    "data = response.json()\n",
    "data"
   ]
  },
  {
   "cell_type": "code",
   "execution_count": 29,
   "metadata": {},
   "outputs": [
    {
     "name": "stdout",
     "output_type": "stream",
     "text": [
      "Enter Location: Washington Monument\n",
      "https://nominatim.openstreetmap.org/search?q=Washington+Monument&format=json\n"
     ]
    }
   ],
   "source": [
    "location = input(\"Enter Location: \")\n",
    "url = \"https://nominatim.openstreetmap.org/search\"\n",
    "query_string = { 'q' : location, 'format' : 'json' }\n",
    "response = requests.get(url, params = query_string)\n",
    "print(response.url)  # Important for debugging.\n",
    "data = response.json()"
   ]
  },
  {
   "cell_type": "code",
   "execution_count": 31,
   "metadata": {},
   "outputs": [
    {
     "name": "stdout",
     "output_type": "stream",
     "text": [
      "38.8894831 -77.03525003510639\n"
     ]
    }
   ],
   "source": [
    "lat = data[0]['lat']\n",
    "lon = data[0]['lon']\n",
    "print(lat,lon)"
   ]
  },
  {
   "cell_type": "code",
   "execution_count": 37,
   "metadata": {},
   "outputs": [
    {
     "name": "stdout",
     "output_type": "stream",
     "text": [
      "https://api.openweathermap.org/data/2.5/onecall?lat=38.8894831&lon=-77.03525003510639&units=imperial&appid=612b3c54ef872ced3aa0e59d85c40d28\n",
      "The weather in Washington Monument is 59.36 degrees and broken clouds.\n"
     ]
    }
   ],
   "source": [
    "weather_api_key='612b3c54ef872ced3aa0e59d85c40d28'\n",
    "url = \"https://api.openweathermap.org/data/2.5/onecall\"\n",
    "query_string = { 'lat' : lat, \"lon\" : lon, 'units' : 'imperial',  'appid' : weather_api_key }\n",
    "response = requests.get(url, params = query_string)\n",
    "print(response.url)  # Important for debugging.\n",
    "data = response.json()\n",
    "temp = data['current']['temp']\n",
    "conditions = data['current']['weather'][0]['description']\n",
    "print(f\"The weather in {location} is {temp} degrees and {conditions}.\")"
   ]
  },
  {
   "cell_type": "code",
   "execution_count": 41,
   "metadata": {},
   "outputs": [
    {
     "name": "stdout",
     "output_type": "stream",
     "text": [
      "Enter Location: Brownsville, TX\n",
      "The weather in Brownsville, TX is 84.15 degrees and broken clouds.\n"
     ]
    }
   ],
   "source": [
    "location = input(\"Enter Location: \")\n",
    "url = \"https://nominatim.openstreetmap.org/search\"\n",
    "query_string = { 'q' : location, 'format' : 'json' }\n",
    "response = requests.get(url, params = query_string)\n",
    "#print(response.url)  # Important for debugging.\n",
    "data = response.json()\n",
    "lat = data[0]['lat']\n",
    "lon = data[0]['lon']\n",
    "weather_api_key='612b3c54ef872ced3aa0e59d85c40d28'\n",
    "url = \"https://api.openweathermap.org/data/2.5/onecall\"\n",
    "query_string = { 'lat' : lat, \"lon\" : lon, 'units' : 'imperial',  'appid' : weather_api_key }\n",
    "response = requests.get(url, params = query_string)\n",
    "#print(response.url)  # Important for debugging.\n",
    "data = response.json()\n",
    "temp = data['current']['temp']\n",
    "conditions = data['current']['weather'][0]['description']\n",
    "print(f\"The weather in {location} is {temp} degrees and {conditions}.\")"
   ]
  }
 ],
 "metadata": {
  "kernelspec": {
   "display_name": "Python 3",
   "language": "python",
   "name": "python3"
  },
  "language_info": {
   "codemirror_mode": {
    "name": "ipython",
    "version": 3
   },
   "file_extension": ".py",
   "mimetype": "text/x-python",
   "name": "python",
   "nbconvert_exporter": "python",
   "pygments_lexer": "ipython3",
   "version": "3.8.6"
  }
 },
 "nbformat": 4,
 "nbformat_minor": 4
}
