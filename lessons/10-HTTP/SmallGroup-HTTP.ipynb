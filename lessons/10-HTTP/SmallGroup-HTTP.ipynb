{
 "cells": [
  {
   "cell_type": "markdown",
   "metadata": {},
   "source": [
    "# Now You Code In Class: Google Places API\n",
    "\n",
    "For this Now You Code, you will need the IST256 Google Places api https://api.ist256.com/ which we will use to access to local area restaurant information. **Your instructor will provide you with an API key**\n",
    "\n",
    "Let's write a program to do the following\n",
    "\n",
    "    1. input the city you're travelling to\n",
    "    2. input the place type you are searching for: lodging, restaurant, museum, stadium,  university\n",
    "    3. Use the /google/geocode API to get GPS coordinates for the city\n",
    "    4. Use the /google/places/search API to get place types in the city\n",
    "\n",
    "Let's follow the best practices from the lab and write each API call as a function once we get it working.\n",
    "\n",
    "We will take a **top down** approach, since we have a basic algorithm\n",
    "\n",
    "In your algorithm, frame your steps based on how the API must be used to complete the task. \n"
   ]
  },
  {
   "cell_type": "markdown",
   "metadata": {
    "collapsed": true
   },
   "source": [
    "# Top-Down \n",
    "\n",
    "    Step 1 - Trivial\n",
    "    Step 2 - Trivial\n",
    "    Step 3 - Call the /google/geocode API\n",
    "    Step 4 - Call the /google/places/search  API\n",
    "\n",
    "    "
   ]
  },
  {
   "cell_type": "code",
   "execution_count": null,
   "metadata": {},
   "outputs": [],
   "source": [
    "import requests\n",
    "google_api_key = \"\" # set this in this cell one time!"
   ]
  },
  {
   "cell_type": "markdown",
   "metadata": {},
   "source": [
    "## Step 3a - Inputs and outputs for /google/geocode API\n",
    "\n",
    "Let's go to https://api.ist256.com/ and call the /google/geocode API from there. what are the inputs and outputs?\n",
    "\n",
    "    ENDPOINT: What is the full URL to the API endpoint?\n",
    "    \n",
    "        PROMPT 1\n",
    "        \n",
    "    REQUEST METHOD: What is the HTTP request method used?\n",
    "    \n",
    "        PROMPT 2\n",
    "\n",
    "    INPUTS: (what do we need to make the API work?)\n",
    "    \n",
    "        PROMPT 3\n",
    "        \n",
    "    OUTPUTS: (what do we require for the next step)\n",
    "    \n",
    "        PROMPT 4\n",
    "\n",
    "    ALGORITHM: (to call any api with HTTP GET)\n",
    "    \n",
    "        1. build the request endpoint, header and query string\n",
    "        2. call the API using requests.get\n",
    "        3. de-serialize the JSON response to a python object data structure\n",
    "        4. extract what you need fro the python object data structure\n",
    "        "
   ]
  },
  {
   "cell_type": "code",
   "execution_count": 1,
   "metadata": {},
   "outputs": [],
   "source": [
    "# PROMPT 5 Code!\n",
    "city ='Syracuse, NY'\n"
   ]
  },
  {
   "cell_type": "markdown",
   "metadata": {},
   "source": [
    "## Step 3b: Refactor into function `googleGeocode()`"
   ]
  },
  {
   "cell_type": "code",
   "execution_count": 2,
   "metadata": {},
   "outputs": [],
   "source": [
    "# PROMPT 6 - refactor the code in prompt 5 into a function\n",
    "\n"
   ]
  },
  {
   "cell_type": "markdown",
   "metadata": {},
   "source": [
    "## Step 3c: `googleGeocode()` Test: Call the function"
   ]
  },
  {
   "cell_type": "code",
   "execution_count": null,
   "metadata": {},
   "outputs": [],
   "source": [
    "# PROMPT 7 - call your function using 'Syracuse, NY' as the argument\n"
   ]
  },
  {
   "cell_type": "markdown",
   "metadata": {},
   "source": [
    "## Step 4a - Inputs and outputs for /google/places/search API\n",
    "\n",
    "Let's go to https://api.ist256.com/ and call the /google/places/search API from there. what are the inputs and outputs?\n",
    "\n",
    "    ENDPOINT: What is the full URL to the API endpoint?\n",
    "    \n",
    "        PROMPT 8\n",
    "        \n",
    "    REQUEST METHOD: What is the HTTP request method used?\n",
    "    \n",
    "        PROMPT 9\n",
    "\n",
    "    INPUTS: (what do we need to make the API work?)\n",
    "    \n",
    "        PROMPT 10\n",
    "        \n",
    "    OUTPUTS: (what do we require for the next step)\n",
    "    \n",
    "        PROMPT 11\n",
    "\n",
    "    ALGORITHM AGAIN: (to call any api with HTTP GET)\n",
    "    \n",
    "        1. build the request endpoint, header and query string\n",
    "        2. call the API using requests.get\n",
    "        3. de-serialize the JSON response to a python object data structure\n",
    "        4. extract what you need fro the python object data structure\n",
    "        "
   ]
  },
  {
   "cell_type": "code",
   "execution_count": null,
   "metadata": {},
   "outputs": [],
   "source": [
    "# PROMPT 12 - Code again!!!\n",
    "\n",
    "# geocoded Syracuse, NY for you....\n",
    "lat = 43.0481  \n",
    "lng = 76.1474\n",
    "place_type = 'lodging'\n"
   ]
  },
  {
   "cell_type": "markdown",
   "metadata": {},
   "source": [
    "## Step 4b: Refactor into function `googlePlacesSearch()`"
   ]
  },
  {
   "cell_type": "code",
   "execution_count": null,
   "metadata": {},
   "outputs": [],
   "source": [
    "# PROMPT 13 - refactor the code in prompt 5 into a function\n",
    "\n"
   ]
  },
  {
   "cell_type": "markdown",
   "metadata": {},
   "source": [
    "## Step 4c: `googlePlacesSearch()` Test: Call the function"
   ]
  },
  {
   "cell_type": "code",
   "execution_count": 3,
   "metadata": {},
   "outputs": [],
   "source": [
    "# PROMPT 14 - call your function using lat,lng and place_type from prompt 12\n"
   ]
  },
  {
   "cell_type": "markdown",
   "metadata": {},
   "source": [
    "## Top-Down: Put it all together\n",
    "\n",
    "Get it all working in this cell. No need to copy the function definitions, just call the functions you made!\n"
   ]
  },
  {
   "cell_type": "code",
   "execution_count": null,
   "metadata": {},
   "outputs": [],
   "source": [
    "# PROMPT 15\n",
    "print(\"Google Places Search\")\n",
    "# TODO: Implement steps 1,2,3 and 4"
   ]
  },
  {
   "cell_type": "markdown",
   "metadata": {},
   "source": [
    "## Time for Jazz Hands... IPython interact!\n",
    "\n",
    "Replace the inputs with interact manual!!!!"
   ]
  },
  {
   "cell_type": "code",
   "execution_count": 4,
   "metadata": {},
   "outputs": [
    {
     "data": {
      "application/vnd.jupyter.widget-view+json": {
       "model_id": "49a9770c2eaa4f088c458a2ac5769453",
       "version_major": 2,
       "version_minor": 0
      },
      "text/plain": [
       "interactive(children=(Text(value='', description='location'), Dropdown(description='place_type', options=('lod…"
      ]
     },
     "metadata": {},
     "output_type": "display_data"
    }
   ],
   "source": [
    "from IPython.display import display,HTML\n",
    "from ipywidgets import interact_manual\n",
    "\n",
    "types = ['lodging','restaurant','museum', 'stadium', 'university']\n",
    "@interact_manual(location=\"\", place_type=types)\n",
    "def search(location, place_type):\n",
    "    pass # TODO remove pass and replace with steps 3 and 4\n",
    "\n"
   ]
  },
  {
   "cell_type": "code",
   "execution_count": null,
   "metadata": {},
   "outputs": [],
   "source": [
    "# run this code to turn in your work!\n",
    "from coursetools.submission import Submission\n",
    "Submission().submit_now()"
   ]
  }
 ],
 "metadata": {
  "anaconda-cloud": {},
  "kernelspec": {
   "display_name": "Python 3",
   "language": "python",
   "name": "python3"
  },
  "language_info": {
   "codemirror_mode": {
    "name": "ipython",
    "version": 3
   },
   "file_extension": ".py",
   "mimetype": "text/x-python",
   "name": "python",
   "nbconvert_exporter": "python",
   "pygments_lexer": "ipython3",
   "version": "3.8.6"
  },
  "toc": {
   "base_numbering": 1,
   "nav_menu": {},
   "number_sections": false,
   "sideBar": false,
   "skip_h1_title": false,
   "title_cell": "Table of Contents",
   "title_sidebar": "Contents",
   "toc_cell": false,
   "toc_position": {},
   "toc_section_display": false,
   "toc_window_display": false
  }
 },
 "nbformat": 4,
 "nbformat_minor": 1
}
