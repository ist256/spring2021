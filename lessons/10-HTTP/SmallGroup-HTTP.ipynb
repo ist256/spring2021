{
 "cells": [
  {
   "cell_type": "markdown",
   "metadata": {},
   "source": [
    "# Now You Code In Class: Google Places API\n",
    "\n",
    "For this Now You Code, you will need the IST256 Google Places api https://api.ist256.com/ which we will use to access to local area restaurant information. **Your instructor will provide you with an API key**\n",
    "\n",
    "Let's write a program to do the following\n",
    "\n",
    "    1. input the city you're travelling to\n",
    "    2. input the place type you are searching for: lodging, restaurant, museum, stadium,  university\n",
    "    3. Use the /google/geocode API to get GPS coordinates for the city\n",
    "    4. Use the /google/places/search API to get place types in the city\n",
    "\n",
    "Let's follow the best practices from the lab and write each API call as a function once we get it working.\n",
    "\n",
    "We will take a **top down** approach, since we have a basic algorithm\n",
    "\n",
    "In your algorithm, frame your steps based on how the API must be used to complete the task. \n"
   ]
  },
  {
   "cell_type": "markdown",
   "metadata": {
    "collapsed": true
   },
   "source": [
    "# Top-Down \n",
    "\n",
    "    Step 1 - Trivial\n",
    "    Step 2 - Trivial\n",
    "    Step 3 - Call the /google/geocode API\n",
    "    Step 4 - Call the /google/places/search  API\n",
    "\n",
    "    "
   ]
  },
  {
   "cell_type": "code",
   "execution_count": 12,
   "metadata": {},
   "outputs": [
    {
     "ename": "HTTPError",
     "evalue": "404 Client Error: NOT FOUND for url: https://api.ist256.com/playground/hello9",
     "output_type": "error",
     "traceback": [
      "\u001b[0;31m---------------------------------------------------------------------------\u001b[0m",
      "\u001b[0;31mHTTPError\u001b[0m                                 Traceback (most recent call last)",
      "\u001b[0;32m<ipython-input-12-48f80e032b18>\u001b[0m in \u001b[0;36m<module>\u001b[0;34m\u001b[0m\n\u001b[1;32m      4\u001b[0m \u001b[0murl\u001b[0m \u001b[0;34m=\u001b[0m \u001b[0;34m\"https://api.ist256.com/playground/hello9\"\u001b[0m\u001b[0;34m\u001b[0m\u001b[0;34m\u001b[0m\u001b[0m\n\u001b[1;32m      5\u001b[0m \u001b[0mresponse\u001b[0m \u001b[0;34m=\u001b[0m \u001b[0mrequests\u001b[0m\u001b[0;34m.\u001b[0m\u001b[0mget\u001b[0m\u001b[0;34m(\u001b[0m\u001b[0murl\u001b[0m\u001b[0;34m)\u001b[0m\u001b[0;34m\u001b[0m\u001b[0;34m\u001b[0m\u001b[0m\n\u001b[0;32m----> 6\u001b[0;31m \u001b[0mresponse\u001b[0m\u001b[0;34m.\u001b[0m\u001b[0mraise_for_status\u001b[0m\u001b[0;34m(\u001b[0m\u001b[0;34m)\u001b[0m\u001b[0;34m\u001b[0m\u001b[0;34m\u001b[0m\u001b[0m\n\u001b[0m\u001b[1;32m      7\u001b[0m \u001b[0mx\u001b[0m \u001b[0;34m=\u001b[0m \u001b[0mresponse\u001b[0m\u001b[0;34m.\u001b[0m\u001b[0mjson\u001b[0m\u001b[0;34m(\u001b[0m\u001b[0;34m)\u001b[0m\u001b[0;34m\u001b[0m\u001b[0;34m\u001b[0m\u001b[0m\n\u001b[1;32m      8\u001b[0m \u001b[0;34m\u001b[0m\u001b[0m\n",
      "\u001b[0;32m/opt/conda/lib/python3.8/site-packages/requests/models.py\u001b[0m in \u001b[0;36mraise_for_status\u001b[0;34m(self)\u001b[0m\n\u001b[1;32m    941\u001b[0m \u001b[0;34m\u001b[0m\u001b[0m\n\u001b[1;32m    942\u001b[0m         \u001b[0;32mif\u001b[0m \u001b[0mhttp_error_msg\u001b[0m\u001b[0;34m:\u001b[0m\u001b[0;34m\u001b[0m\u001b[0;34m\u001b[0m\u001b[0m\n\u001b[0;32m--> 943\u001b[0;31m             \u001b[0;32mraise\u001b[0m \u001b[0mHTTPError\u001b[0m\u001b[0;34m(\u001b[0m\u001b[0mhttp_error_msg\u001b[0m\u001b[0;34m,\u001b[0m \u001b[0mresponse\u001b[0m\u001b[0;34m=\u001b[0m\u001b[0mself\u001b[0m\u001b[0;34m)\u001b[0m\u001b[0;34m\u001b[0m\u001b[0;34m\u001b[0m\u001b[0m\n\u001b[0m\u001b[1;32m    944\u001b[0m \u001b[0;34m\u001b[0m\u001b[0m\n\u001b[1;32m    945\u001b[0m     \u001b[0;32mdef\u001b[0m \u001b[0mclose\u001b[0m\u001b[0;34m(\u001b[0m\u001b[0mself\u001b[0m\u001b[0;34m)\u001b[0m\u001b[0;34m:\u001b[0m\u001b[0;34m\u001b[0m\u001b[0;34m\u001b[0m\u001b[0m\n",
      "\u001b[0;31mHTTPError\u001b[0m: 404 Client Error: NOT FOUND for url: https://api.ist256.com/playground/hello9"
     ]
    }
   ],
   "source": [
    "import requests\n",
    "google_api_key = \"751838d6b9978955679461c80a7df60bde4f093d\" # set this in this cell one time!\n",
    "\n",
    "url = \"https://api.ist256.com/playground/hello9\"\n",
    "response = requests.get(url)\n",
    "response.raise_for_status()\n",
    "x = response.json()\n",
    "\n",
    "x['hello']\n",
    "\n",
    "# JSON Javascript Object Notation"
   ]
  },
  {
   "cell_type": "code",
   "execution_count": 38,
   "metadata": {},
   "outputs": [
    {
     "name": "stdout",
     "output_type": "stream",
     "text": [
      "Enter a location: Syracuse\n",
      "Enter a place type: lodging, restaurant, museum, stadium, university: restaurant\n",
      "Collegian Hotel & Suites, Trademark Collection by Wyndham\n",
      "Dinosaur Bar-B-Que\n",
      "Pastabilities\n",
      "Kitty Hoyne's Irish Pub\n",
      "Phoebe's Restaurant & Coffee Lounge\n",
      "Strong Hearts\n",
      "Blue Tusk\n",
      "Subway\n",
      "Starbucks\n",
      "Original Italian Pizza\n",
      "Subway\n",
      "Chipotle Mexican Grill\n",
      "appeThaizing\n",
      "Cafe Kubal\n",
      "Faegan's Cafe & Pub\n",
      "Lemon Grass Restaurant\n",
      "Byblos Mediterranean Cafe\n",
      "Starbucks\n",
      "Dunkin'\n",
      "Spaghetti Warehouse Restaurant\n"
     ]
    }
   ],
   "source": [
    "def geocode(location):\n",
    "    url = \"https://api.ist256.com/google/geocode\"\n",
    "    query_string = { \"location\" : location }\n",
    "    headers = { \"Api-Key\" : google_api_key }\n",
    "    response = requests.get(url, params = query_string, headers = headers)\n",
    "    response.raise_for_status()\n",
    "    data = response.json()\n",
    "    geo = data['results'][0]['geometry']['location']\n",
    "    return geo\n",
    "\n",
    "def search(place_type, geo):\n",
    "    url = \"https://api.ist256.com/google/places/search\"\n",
    "    query_string = { \n",
    "        \"type\" : place_type, \"lat\" : geo['lat'], \"lng\" : geo['lng']\n",
    "    }\n",
    "    headers = { 'Api-Key' : google_api_key }\n",
    "    response = requests.get(url, params = query_string, headers = headers)\n",
    "    response.raise_for_status()\n",
    "    data = response.json()\n",
    "    places = data['results']\n",
    "    return places\n",
    "\n",
    "location = input(\"Enter a location: \")\n",
    "place_type = input(\"Enter a place type: lodging, restaurant, museum, stadium, university: \")\n",
    "geo = geocode(location)\n",
    "places = search(place_type, geo)\n",
    "for place in places:\n",
    "    print(place['name'])"
   ]
  },
  {
   "cell_type": "code",
   "execution_count": 31,
   "metadata": {},
   "outputs": [
    {
     "data": {
      "text/plain": [
       "[{'height': 343,\n",
       "  'html_attributions': ['<a href=\"https://maps.google.com/maps/contrib/116597469685300198396\">Courtyard by Marriott Washington Embassy Row</a>'],\n",
       "  'photo_reference': 'ATtYBwJlOfzRmSjgZp3ZDB_t4_jkUPEOF5CvXGtQoYeTWuOsnqEk7ivAprrVizDf54-qga3v8xX46SiMxhYUHYRrfbWoka1WnHorFylzz5NcUOlPKGnhU2o1yTpQONN8FeJDYXwCPT2czVAdKF3inHhu99gQRMuv1mlCxpNEfrn-EcES5L8k',\n",
       "  'width': 610}]"
      ]
     },
     "execution_count": 31,
     "metadata": {},
     "output_type": "execute_result"
    }
   ],
   "source": [
    "data['results'][0]['name']"
   ]
  },
  {
   "cell_type": "markdown",
   "metadata": {},
   "source": [
    "## Step 3a - Inputs and outputs for /google/geocode API\n",
    "\n",
    "Let's go to https://api.ist256.com/ and call the /google/geocode API from there. what are the inputs and outputs?\n",
    "\n",
    "    ENDPOINT: What is the full URL to the API endpoint?\n",
    "    \n",
    "        PROMPT 1\n",
    "        \n",
    "    REQUEST METHOD: What is the HTTP request method used?\n",
    "    \n",
    "        PROMPT 2\n",
    "\n",
    "    INPUTS: (what do we need to make the API work?)\n",
    "    \n",
    "        PROMPT 3\n",
    "        \n",
    "    OUTPUTS: (what do we require for the next step)\n",
    "    \n",
    "        PROMPT 4\n",
    "\n",
    "    ALGORITHM: (to call any api with HTTP GET)\n",
    "    \n",
    "        1. build the request endpoint, header and query string\n",
    "        2. call the API using requests.get\n",
    "        3. de-serialize the JSON response to a python object data structure\n",
    "        4. extract what you need fro the python object data structure\n",
    "        "
   ]
  },
  {
   "cell_type": "code",
   "execution_count": 1,
   "metadata": {},
   "outputs": [],
   "source": [
    "# PROMPT 5 Code!\n",
    "city ='Syracuse, NY'\n"
   ]
  },
  {
   "cell_type": "markdown",
   "metadata": {},
   "source": [
    "## Step 3b: Refactor into function `googleGeocode()`"
   ]
  },
  {
   "cell_type": "code",
   "execution_count": 2,
   "metadata": {},
   "outputs": [],
   "source": [
    "# PROMPT 6 - refactor the code in prompt 5 into a function\n",
    "\n"
   ]
  },
  {
   "cell_type": "markdown",
   "metadata": {},
   "source": [
    "## Step 3c: `googleGeocode()` Test: Call the function"
   ]
  },
  {
   "cell_type": "code",
   "execution_count": null,
   "metadata": {},
   "outputs": [],
   "source": [
    "# PROMPT 7 - call your function using 'Syracuse, NY' as the argument\n"
   ]
  },
  {
   "cell_type": "markdown",
   "metadata": {},
   "source": [
    "## Step 4a - Inputs and outputs for /google/places/search API\n",
    "\n",
    "Let's go to https://api.ist256.com/ and call the /google/places/search API from there. what are the inputs and outputs?\n",
    "\n",
    "    ENDPOINT: What is the full URL to the API endpoint?\n",
    "    \n",
    "        PROMPT 8\n",
    "        \n",
    "    REQUEST METHOD: What is the HTTP request method used?\n",
    "    \n",
    "        PROMPT 9\n",
    "\n",
    "    INPUTS: (what do we need to make the API work?)\n",
    "    \n",
    "        PROMPT 10\n",
    "        \n",
    "    OUTPUTS: (what do we require for the next step)\n",
    "    \n",
    "        PROMPT 11\n",
    "\n",
    "    ALGORITHM AGAIN: (to call any api with HTTP GET)\n",
    "    \n",
    "        1. build the request endpoint, header and query string\n",
    "        2. call the API using requests.get\n",
    "        3. de-serialize the JSON response to a python object data structure\n",
    "        4. extract what you need fro the python object data structure\n",
    "        "
   ]
  },
  {
   "cell_type": "code",
   "execution_count": null,
   "metadata": {},
   "outputs": [],
   "source": [
    "# PROMPT 12 - Code again!!!\n",
    "\n",
    "# geocoded Syracuse, NY for you....\n",
    "lat = 43.0481  \n",
    "lng = 76.1474\n",
    "place_type = 'lodging'\n"
   ]
  },
  {
   "cell_type": "markdown",
   "metadata": {},
   "source": [
    "## Step 4b: Refactor into function `googlePlacesSearch()`"
   ]
  },
  {
   "cell_type": "code",
   "execution_count": null,
   "metadata": {},
   "outputs": [],
   "source": [
    "# PROMPT 13 - refactor the code in prompt 5 into a function\n",
    "\n"
   ]
  },
  {
   "cell_type": "markdown",
   "metadata": {},
   "source": [
    "## Step 4c: `googlePlacesSearch()` Test: Call the function"
   ]
  },
  {
   "cell_type": "code",
   "execution_count": 3,
   "metadata": {},
   "outputs": [],
   "source": [
    "# PROMPT 14 - call your function using lat,lng and place_type from prompt 12\n"
   ]
  },
  {
   "cell_type": "markdown",
   "metadata": {},
   "source": [
    "## Top-Down: Put it all together\n",
    "\n",
    "Get it all working in this cell. No need to copy the function definitions, just call the functions you made!\n"
   ]
  },
  {
   "cell_type": "code",
   "execution_count": null,
   "metadata": {},
   "outputs": [],
   "source": [
    "# PROMPT 15\n",
    "print(\"Google Places Search\")\n",
    "# TODO: Implement steps 1,2,3 and 4"
   ]
  },
  {
   "cell_type": "markdown",
   "metadata": {},
   "source": [
    "## Time for Jazz Hands... IPython interact!\n",
    "\n",
    "Replace the inputs with interact manual!!!!"
   ]
  },
  {
   "cell_type": "code",
   "execution_count": 4,
   "metadata": {},
   "outputs": [
    {
     "data": {
      "application/vnd.jupyter.widget-view+json": {
       "model_id": "49a9770c2eaa4f088c458a2ac5769453",
       "version_major": 2,
       "version_minor": 0
      },
      "text/plain": [
       "interactive(children=(Text(value='', description='location'), Dropdown(description='place_type', options=('lod…"
      ]
     },
     "metadata": {},
     "output_type": "display_data"
    }
   ],
   "source": [
    "from IPython.display import display,HTML\n",
    "from ipywidgets import interact_manual\n",
    "\n",
    "types = ['lodging','restaurant','museum', 'stadium', 'university']\n",
    "@interact_manual(location=\"\", place_type=types)\n",
    "def search(location, place_type):\n",
    "    pass # TODO remove pass and replace with steps 3 and 4\n",
    "\n"
   ]
  },
  {
   "cell_type": "code",
   "execution_count": null,
   "metadata": {},
   "outputs": [],
   "source": [
    "# run this code to turn in your work!\n",
    "from coursetools.submission import Submission\n",
    "Submission().submit_now()"
   ]
  }
 ],
 "metadata": {
  "anaconda-cloud": {},
  "kernelspec": {
   "display_name": "Python 3",
   "language": "python",
   "name": "python3"
  },
  "language_info": {
   "codemirror_mode": {
    "name": "ipython",
    "version": 3
   },
   "file_extension": ".py",
   "mimetype": "text/x-python",
   "name": "python",
   "nbconvert_exporter": "python",
   "pygments_lexer": "ipython3",
   "version": "3.8.6"
  },
  "toc": {
   "base_numbering": 1,
   "nav_menu": {},
   "number_sections": false,
   "sideBar": false,
   "skip_h1_title": false,
   "title_cell": "Table of Contents",
   "title_sidebar": "Contents",
   "toc_cell": false,
   "toc_position": {},
   "toc_section_display": false,
   "toc_window_display": false
  }
 },
 "nbformat": 4,
 "nbformat_minor": 1
}
