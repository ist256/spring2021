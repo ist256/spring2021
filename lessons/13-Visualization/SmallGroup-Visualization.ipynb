{
 "cells": [
  {
   "cell_type": "markdown",
   "metadata": {},
   "source": [
    "## Now You Code In Class: Tricks of The DataViz Masters\n",
    "\n",
    "We will try something a bit different in the Activity - A series of Data Visualization coding challenges!\n",
    "\n",
    "For this Now You Code, you will need:\n",
    "\n",
    "    - OpenWeatherMap API key https://openweathermap.org/api (From previous HW)\n",
    "    - Plotly Credentials  https://developers.zomato.com/api (From Lab) \n",
    "    \n",
    "\n",
    "    \n"
   ]
  },
  {
   "cell_type": "code",
   "execution_count": 3,
   "metadata": {},
   "outputs": [],
   "source": [
    "import requests\n",
    "import geocoder\n",
    "import matplotlib\n",
    "import matplotlib.pyplot as plt\n",
    "import chart_studio as plotly\n",
    "import chart_studio.plotly as py\n",
    "import plotly.express as px\n",
    "import plotly.graph_objects as go\n",
    "import pandas as pd\n",
    "import folium\n",
    "from IPython.display import display"
   ]
  },
  {
   "cell_type": "code",
   "execution_count": 4,
   "metadata": {},
   "outputs": [],
   "source": [
    "# SET YOUR KEYS AND CREDENTIALS\n",
    "plotly.tools.set_credentials_file(username='mafudge73fc', api_key='NQdPRZUBnfSm8CHucHCD')\n",
    "weather_key = '67f9d45c32dd086df27f2b7a90370a8e' # sign up for your own key at https://openweathermap.org/ "
   ]
  },
  {
   "cell_type": "code",
   "execution_count": 5,
   "metadata": {},
   "outputs": [
    {
     "data": {
      "text/plain": [
       "{'lat': 43.0481,\n",
       " 'lon': -76.1474,\n",
       " 'timezone': 'America/New_York',\n",
       " 'timezone_offset': -14400,\n",
       " 'current': {'dt': 1620246613,\n",
       "  'sunrise': 1620208354,\n",
       "  'sunset': 1620259792,\n",
       "  'temp': 49.89,\n",
       "  'feels_like': 45.1,\n",
       "  'pressure': 1009,\n",
       "  'humidity': 76,\n",
       "  'dew_point': 42.64,\n",
       "  'uvi': 0.84,\n",
       "  'clouds': 90,\n",
       "  'visibility': 10000,\n",
       "  'wind_speed': 12.66,\n",
       "  'wind_deg': 290,\n",
       "  'weather': [{'id': 804,\n",
       "    'main': 'Clouds',\n",
       "    'description': 'overcast clouds',\n",
       "    'icon': '04d'}]},\n",
       " 'minutely': [{'dt': 1620246660, 'precipitation': 0},\n",
       "  {'dt': 1620246720, 'precipitation': 0},\n",
       "  {'dt': 1620246780, 'precipitation': 0},\n",
       "  {'dt': 1620246840, 'precipitation': 0},\n",
       "  {'dt': 1620246900, 'precipitation': 0},\n",
       "  {'dt': 1620246960, 'precipitation': 0},\n",
       "  {'dt': 1620247020, 'precipitation': 0},\n",
       "  {'dt': 1620247080, 'precipitation': 0},\n",
       "  {'dt': 1620247140, 'precipitation': 0},\n",
       "  {'dt': 1620247200, 'precipitation': 0},\n",
       "  {'dt': 1620247260, 'precipitation': 0},\n",
       "  {'dt': 1620247320, 'precipitation': 0},\n",
       "  {'dt': 1620247380, 'precipitation': 0},\n",
       "  {'dt': 1620247440, 'precipitation': 0},\n",
       "  {'dt': 1620247500, 'precipitation': 0},\n",
       "  {'dt': 1620247560, 'precipitation': 0},\n",
       "  {'dt': 1620247620, 'precipitation': 0},\n",
       "  {'dt': 1620247680, 'precipitation': 0},\n",
       "  {'dt': 1620247740, 'precipitation': 0},\n",
       "  {'dt': 1620247800, 'precipitation': 0},\n",
       "  {'dt': 1620247860, 'precipitation': 0},\n",
       "  {'dt': 1620247920, 'precipitation': 0},\n",
       "  {'dt': 1620247980, 'precipitation': 0},\n",
       "  {'dt': 1620248040, 'precipitation': 0},\n",
       "  {'dt': 1620248100, 'precipitation': 0},\n",
       "  {'dt': 1620248160, 'precipitation': 0},\n",
       "  {'dt': 1620248220, 'precipitation': 0},\n",
       "  {'dt': 1620248280, 'precipitation': 0},\n",
       "  {'dt': 1620248340, 'precipitation': 0},\n",
       "  {'dt': 1620248400, 'precipitation': 0},\n",
       "  {'dt': 1620248460, 'precipitation': 0},\n",
       "  {'dt': 1620248520, 'precipitation': 0},\n",
       "  {'dt': 1620248580, 'precipitation': 0},\n",
       "  {'dt': 1620248640, 'precipitation': 0},\n",
       "  {'dt': 1620248700, 'precipitation': 0},\n",
       "  {'dt': 1620248760, 'precipitation': 0},\n",
       "  {'dt': 1620248820, 'precipitation': 0},\n",
       "  {'dt': 1620248880, 'precipitation': 0},\n",
       "  {'dt': 1620248940, 'precipitation': 0},\n",
       "  {'dt': 1620249000, 'precipitation': 0},\n",
       "  {'dt': 1620249060, 'precipitation': 0},\n",
       "  {'dt': 1620249120, 'precipitation': 0},\n",
       "  {'dt': 1620249180, 'precipitation': 0},\n",
       "  {'dt': 1620249240, 'precipitation': 0},\n",
       "  {'dt': 1620249300, 'precipitation': 0},\n",
       "  {'dt': 1620249360, 'precipitation': 0},\n",
       "  {'dt': 1620249420, 'precipitation': 0},\n",
       "  {'dt': 1620249480, 'precipitation': 0},\n",
       "  {'dt': 1620249540, 'precipitation': 0},\n",
       "  {'dt': 1620249600, 'precipitation': 0},\n",
       "  {'dt': 1620249660, 'precipitation': 0},\n",
       "  {'dt': 1620249720, 'precipitation': 0},\n",
       "  {'dt': 1620249780, 'precipitation': 0},\n",
       "  {'dt': 1620249840, 'precipitation': 0},\n",
       "  {'dt': 1620249900, 'precipitation': 0},\n",
       "  {'dt': 1620249960, 'precipitation': 0},\n",
       "  {'dt': 1620250020, 'precipitation': 0},\n",
       "  {'dt': 1620250080, 'precipitation': 0},\n",
       "  {'dt': 1620250140, 'precipitation': 0},\n",
       "  {'dt': 1620250200, 'precipitation': 0},\n",
       "  {'dt': 1620250260, 'precipitation': 0}],\n",
       " 'hourly': [{'dt': 1620244800,\n",
       "   'temp': 49.69,\n",
       "   'feels_like': 44.94,\n",
       "   'pressure': 1009,\n",
       "   'humidity': 79,\n",
       "   'dew_point': 43.47,\n",
       "   'uvi': 1.46,\n",
       "   'clouds': 92,\n",
       "   'visibility': 10000,\n",
       "   'wind_speed': 12.35,\n",
       "   'wind_deg': 297,\n",
       "   'wind_gust': 21.83,\n",
       "   'weather': [{'id': 804,\n",
       "     'main': 'Clouds',\n",
       "     'description': 'overcast clouds',\n",
       "     'icon': '04d'}],\n",
       "   'pop': 0.4},\n",
       "  {'dt': 1620248400,\n",
       "   'temp': 49.89,\n",
       "   'feels_like': 45,\n",
       "   'pressure': 1009,\n",
       "   'humidity': 76,\n",
       "   'dew_point': 42.64,\n",
       "   'uvi': 0.84,\n",
       "   'clouds': 90,\n",
       "   'visibility': 10000,\n",
       "   'wind_speed': 13.06,\n",
       "   'wind_deg': 298,\n",
       "   'wind_gust': 22.06,\n",
       "   'weather': [{'id': 804,\n",
       "     'main': 'Clouds',\n",
       "     'description': 'overcast clouds',\n",
       "     'icon': '04d'}],\n",
       "   'pop': 0.23},\n",
       "  {'dt': 1620252000,\n",
       "   'temp': 49.91,\n",
       "   'feels_like': 45.12,\n",
       "   'pressure': 1009,\n",
       "   'humidity': 77,\n",
       "   'dew_point': 43,\n",
       "   'uvi': 0.46,\n",
       "   'clouds': 92,\n",
       "   'visibility': 10000,\n",
       "   'wind_speed': 12.68,\n",
       "   'wind_deg': 291,\n",
       "   'wind_gust': 22.66,\n",
       "   'weather': [{'id': 804,\n",
       "     'main': 'Clouds',\n",
       "     'description': 'overcast clouds',\n",
       "     'icon': '04d'}],\n",
       "   'pop': 0.15},\n",
       "  {'dt': 1620255600,\n",
       "   'temp': 49.51,\n",
       "   'feels_like': 44.35,\n",
       "   'pressure': 1009,\n",
       "   'humidity': 77,\n",
       "   'dew_point': 42.62,\n",
       "   'uvi': 0.14,\n",
       "   'clouds': 94,\n",
       "   'visibility': 10000,\n",
       "   'wind_speed': 13.71,\n",
       "   'wind_deg': 290,\n",
       "   'wind_gust': 24.76,\n",
       "   'weather': [{'id': 804,\n",
       "     'main': 'Clouds',\n",
       "     'description': 'overcast clouds',\n",
       "     'icon': '04d'}],\n",
       "   'pop': 0.06},\n",
       "  {'dt': 1620259200,\n",
       "   'temp': 48.45,\n",
       "   'feels_like': 42.98,\n",
       "   'pressure': 1010,\n",
       "   'humidity': 75,\n",
       "   'dew_point': 40.91,\n",
       "   'uvi': 0,\n",
       "   'clouds': 95,\n",
       "   'visibility': 10000,\n",
       "   'wind_speed': 13.73,\n",
       "   'wind_deg': 285,\n",
       "   'wind_gust': 26.4,\n",
       "   'weather': [{'id': 804,\n",
       "     'main': 'Clouds',\n",
       "     'description': 'overcast clouds',\n",
       "     'icon': '04d'}],\n",
       "   'pop': 0.02},\n",
       "  {'dt': 1620262800,\n",
       "   'temp': 46.72,\n",
       "   'feels_like': 40.75,\n",
       "   'pressure': 1011,\n",
       "   'humidity': 80,\n",
       "   'dew_point': 40.89,\n",
       "   'uvi': 0,\n",
       "   'clouds': 84,\n",
       "   'visibility': 10000,\n",
       "   'wind_speed': 13.87,\n",
       "   'wind_deg': 286,\n",
       "   'wind_gust': 27.47,\n",
       "   'weather': [{'id': 803,\n",
       "     'main': 'Clouds',\n",
       "     'description': 'broken clouds',\n",
       "     'icon': '04n'}],\n",
       "   'pop': 0.01},\n",
       "  {'dt': 1620266400,\n",
       "   'temp': 45.45,\n",
       "   'feels_like': 39.24,\n",
       "   'pressure': 1013,\n",
       "   'humidity': 86,\n",
       "   'dew_point': 40.68,\n",
       "   'uvi': 0,\n",
       "   'clouds': 91,\n",
       "   'visibility': 10000,\n",
       "   'wind_speed': 13.51,\n",
       "   'wind_deg': 292,\n",
       "   'wind_gust': 25.28,\n",
       "   'weather': [{'id': 804,\n",
       "     'main': 'Clouds',\n",
       "     'description': 'overcast clouds',\n",
       "     'icon': '04n'}],\n",
       "   'pop': 0.03},\n",
       "  {'dt': 1620270000,\n",
       "   'temp': 44.47,\n",
       "   'feels_like': 38.17,\n",
       "   'pressure': 1013,\n",
       "   'humidity': 89,\n",
       "   'dew_point': 40.69,\n",
       "   'uvi': 0,\n",
       "   'clouds': 94,\n",
       "   'visibility': 10000,\n",
       "   'wind_speed': 12.95,\n",
       "   'wind_deg': 297,\n",
       "   'wind_gust': 24.18,\n",
       "   'weather': [{'id': 804,\n",
       "     'main': 'Clouds',\n",
       "     'description': 'overcast clouds',\n",
       "     'icon': '04n'}],\n",
       "   'pop': 0.03},\n",
       "  {'dt': 1620273600,\n",
       "   'temp': 43.61,\n",
       "   'feels_like': 37.08,\n",
       "   'pressure': 1014,\n",
       "   'humidity': 91,\n",
       "   'dew_point': 40.42,\n",
       "   'uvi': 0,\n",
       "   'clouds': 96,\n",
       "   'visibility': 10000,\n",
       "   'wind_speed': 12.95,\n",
       "   'wind_deg': 301,\n",
       "   'wind_gust': 22.7,\n",
       "   'weather': [{'id': 804,\n",
       "     'main': 'Clouds',\n",
       "     'description': 'overcast clouds',\n",
       "     'icon': '04n'}],\n",
       "   'pop': 0.01},\n",
       "  {'dt': 1620277200,\n",
       "   'temp': 42.85,\n",
       "   'feels_like': 36.14,\n",
       "   'pressure': 1014,\n",
       "   'humidity': 91,\n",
       "   'dew_point': 39.7,\n",
       "   'uvi': 0,\n",
       "   'clouds': 96,\n",
       "   'visibility': 10000,\n",
       "   'wind_speed': 12.86,\n",
       "   'wind_deg': 308,\n",
       "   'wind_gust': 21.43,\n",
       "   'weather': [{'id': 804,\n",
       "     'main': 'Clouds',\n",
       "     'description': 'overcast clouds',\n",
       "     'icon': '04n'}],\n",
       "   'pop': 0.01},\n",
       "  {'dt': 1620280800,\n",
       "   'temp': 42.28,\n",
       "   'feels_like': 35.47,\n",
       "   'pressure': 1015,\n",
       "   'humidity': 90,\n",
       "   'dew_point': 38.77,\n",
       "   'uvi': 0,\n",
       "   'clouds': 97,\n",
       "   'visibility': 10000,\n",
       "   'wind_speed': 12.68,\n",
       "   'wind_deg': 312,\n",
       "   'wind_gust': 21.85,\n",
       "   'weather': [{'id': 804,\n",
       "     'main': 'Clouds',\n",
       "     'description': 'overcast clouds',\n",
       "     'icon': '04n'}],\n",
       "   'pop': 0.01},\n",
       "  {'dt': 1620284400,\n",
       "   'temp': 41.97,\n",
       "   'feels_like': 35.35,\n",
       "   'pressure': 1015,\n",
       "   'humidity': 88,\n",
       "   'dew_point': 37.89,\n",
       "   'uvi': 0,\n",
       "   'clouds': 100,\n",
       "   'visibility': 10000,\n",
       "   'wind_speed': 11.92,\n",
       "   'wind_deg': 311,\n",
       "   'wind_gust': 21.21,\n",
       "   'weather': [{'id': 804,\n",
       "     'main': 'Clouds',\n",
       "     'description': 'overcast clouds',\n",
       "     'icon': '04n'}],\n",
       "   'pop': 0},\n",
       "  {'dt': 1620288000,\n",
       "   'temp': 41.02,\n",
       "   'feels_like': 34.61,\n",
       "   'pressure': 1015,\n",
       "   'humidity': 88,\n",
       "   'dew_point': 37.2,\n",
       "   'uvi': 0,\n",
       "   'clouds': 91,\n",
       "   'visibility': 10000,\n",
       "   'wind_speed': 10.71,\n",
       "   'wind_deg': 307,\n",
       "   'wind_gust': 20.56,\n",
       "   'weather': [{'id': 804,\n",
       "     'main': 'Clouds',\n",
       "     'description': 'overcast clouds',\n",
       "     'icon': '04n'}],\n",
       "   'pop': 0},\n",
       "  {'dt': 1620291600,\n",
       "   'temp': 39.67,\n",
       "   'feels_like': 34.02,\n",
       "   'pressure': 1016,\n",
       "   'humidity': 91,\n",
       "   'dew_point': 36.57,\n",
       "   'uvi': 0,\n",
       "   'clouds': 87,\n",
       "   'visibility': 10000,\n",
       "   'wind_speed': 8.32,\n",
       "   'wind_deg': 294,\n",
       "   'wind_gust': 19.13,\n",
       "   'weather': [{'id': 804,\n",
       "     'main': 'Clouds',\n",
       "     'description': 'overcast clouds',\n",
       "     'icon': '04n'}],\n",
       "   'pop': 0},\n",
       "  {'dt': 1620295200,\n",
       "   'temp': 37.72,\n",
       "   'feels_like': 31.77,\n",
       "   'pressure': 1016,\n",
       "   'humidity': 94,\n",
       "   'dew_point': 35.33,\n",
       "   'uvi': 0,\n",
       "   'clouds': 77,\n",
       "   'visibility': 10000,\n",
       "   'wind_speed': 8.1,\n",
       "   'wind_deg': 285,\n",
       "   'wind_gust': 20.67,\n",
       "   'weather': [{'id': 803,\n",
       "     'main': 'Clouds',\n",
       "     'description': 'broken clouds',\n",
       "     'icon': '04d'}],\n",
       "   'pop': 0},\n",
       "  {'dt': 1620298800,\n",
       "   'temp': 38.93,\n",
       "   'feels_like': 32.95,\n",
       "   'pressure': 1017,\n",
       "   'humidity': 93,\n",
       "   'dew_point': 36.19,\n",
       "   'uvi': 0.21,\n",
       "   'clouds': 66,\n",
       "   'visibility': 10000,\n",
       "   'wind_speed': 8.66,\n",
       "   'wind_deg': 291,\n",
       "   'wind_gust': 20.2,\n",
       "   'weather': [{'id': 803,\n",
       "     'main': 'Clouds',\n",
       "     'description': 'broken clouds',\n",
       "     'icon': '04d'}],\n",
       "   'pop': 0},\n",
       "  {'dt': 1620302400,\n",
       "   'temp': 41.31,\n",
       "   'feels_like': 34.83,\n",
       "   'pressure': 1018,\n",
       "   'humidity': 86,\n",
       "   'dew_point': 36.72,\n",
       "   'uvi': 0.79,\n",
       "   'clouds': 68,\n",
       "   'visibility': 10000,\n",
       "   'wind_speed': 11.07,\n",
       "   'wind_deg': 305,\n",
       "   'wind_gust': 17.25,\n",
       "   'weather': [{'id': 803,\n",
       "     'main': 'Clouds',\n",
       "     'description': 'broken clouds',\n",
       "     'icon': '04d'}],\n",
       "   'pop': 0},\n",
       "  {'dt': 1620306000,\n",
       "   'temp': 42.42,\n",
       "   'feels_like': 36.03,\n",
       "   'pressure': 1018,\n",
       "   'humidity': 77,\n",
       "   'dew_point': 35.04,\n",
       "   'uvi': 1.79,\n",
       "   'clouds': 97,\n",
       "   'visibility': 10000,\n",
       "   'wind_speed': 11.61,\n",
       "   'wind_deg': 309,\n",
       "   'wind_gust': 16.26,\n",
       "   'weather': [{'id': 804,\n",
       "     'main': 'Clouds',\n",
       "     'description': 'overcast clouds',\n",
       "     'icon': '04d'}],\n",
       "   'pop': 0},\n",
       "  {'dt': 1620309600,\n",
       "   'temp': 44.06,\n",
       "   'feels_like': 38.55,\n",
       "   'pressure': 1018,\n",
       "   'humidity': 67,\n",
       "   'dew_point': 33.06,\n",
       "   'uvi': 3.21,\n",
       "   'clouds': 95,\n",
       "   'visibility': 10000,\n",
       "   'wind_speed': 10.33,\n",
       "   'wind_deg': 312,\n",
       "   'wind_gust': 14.63,\n",
       "   'weather': [{'id': 804,\n",
       "     'main': 'Clouds',\n",
       "     'description': 'overcast clouds',\n",
       "     'icon': '04d'}],\n",
       "   'pop': 0},\n",
       "  {'dt': 1620313200,\n",
       "   'temp': 47.39,\n",
       "   'feels_like': 42.39,\n",
       "   'pressure': 1018,\n",
       "   'humidity': 56,\n",
       "   'dew_point': 31.73,\n",
       "   'uvi': 4.72,\n",
       "   'clouds': 93,\n",
       "   'visibility': 10000,\n",
       "   'wind_speed': 11.21,\n",
       "   'wind_deg': 314,\n",
       "   'wind_gust': 15.93,\n",
       "   'weather': [{'id': 804,\n",
       "     'main': 'Clouds',\n",
       "     'description': 'overcast clouds',\n",
       "     'icon': '04d'}],\n",
       "   'pop': 0},\n",
       "  {'dt': 1620316800,\n",
       "   'temp': 49.05,\n",
       "   'feels_like': 44.24,\n",
       "   'pressure': 1018,\n",
       "   'humidity': 49,\n",
       "   'dew_point': 30.16,\n",
       "   'uvi': 5.99,\n",
       "   'clouds': 79,\n",
       "   'visibility': 10000,\n",
       "   'wind_speed': 11.97,\n",
       "   'wind_deg': 312,\n",
       "   'wind_gust': 16.13,\n",
       "   'weather': [{'id': 803,\n",
       "     'main': 'Clouds',\n",
       "     'description': 'broken clouds',\n",
       "     'icon': '04d'}],\n",
       "   'pop': 0},\n",
       "  {'dt': 1620320400,\n",
       "   'temp': 50.18,\n",
       "   'feels_like': 47.07,\n",
       "   'pressure': 1018,\n",
       "   'humidity': 46,\n",
       "   'dew_point': 29.48,\n",
       "   'uvi': 6.49,\n",
       "   'clouds': 71,\n",
       "   'visibility': 10000,\n",
       "   'wind_speed': 11.63,\n",
       "   'wind_deg': 307,\n",
       "   'wind_gust': 15.37,\n",
       "   'weather': [{'id': 803,\n",
       "     'main': 'Clouds',\n",
       "     'description': 'broken clouds',\n",
       "     'icon': '04d'}],\n",
       "   'pop': 0},\n",
       "  {'dt': 1620324000,\n",
       "   'temp': 50.85,\n",
       "   'feels_like': 47.7,\n",
       "   'pressure': 1017,\n",
       "   'humidity': 44,\n",
       "   'dew_point': 29.44,\n",
       "   'uvi': 6.15,\n",
       "   'clouds': 73,\n",
       "   'visibility': 10000,\n",
       "   'wind_speed': 10.87,\n",
       "   'wind_deg': 312,\n",
       "   'wind_gust': 14.36,\n",
       "   'weather': [{'id': 803,\n",
       "     'main': 'Clouds',\n",
       "     'description': 'broken clouds',\n",
       "     'icon': '04d'}],\n",
       "   'pop': 0},\n",
       "  {'dt': 1620327600,\n",
       "   'temp': 51.6,\n",
       "   'feels_like': 48.52,\n",
       "   'pressure': 1017,\n",
       "   'humidity': 44,\n",
       "   'dew_point': 29.62,\n",
       "   'uvi': 4.94,\n",
       "   'clouds': 59,\n",
       "   'visibility': 10000,\n",
       "   'wind_speed': 10.31,\n",
       "   'wind_deg': 314,\n",
       "   'wind_gust': 13.91,\n",
       "   'weather': [{'id': 803,\n",
       "     'main': 'Clouds',\n",
       "     'description': 'broken clouds',\n",
       "     'icon': '04d'}],\n",
       "   'pop': 0},\n",
       "  {'dt': 1620331200,\n",
       "   'temp': 51.42,\n",
       "   'feels_like': 48.33,\n",
       "   'pressure': 1016,\n",
       "   'humidity': 44,\n",
       "   'dew_point': 29.57,\n",
       "   'uvi': 3.47,\n",
       "   'clouds': 79,\n",
       "   'visibility': 10000,\n",
       "   'wind_speed': 9.44,\n",
       "   'wind_deg': 317,\n",
       "   'wind_gust': 12.84,\n",
       "   'weather': [{'id': 803,\n",
       "     'main': 'Clouds',\n",
       "     'description': 'broken clouds',\n",
       "     'icon': '04d'}],\n",
       "   'pop': 0},\n",
       "  {'dt': 1620334800,\n",
       "   'temp': 50.85,\n",
       "   'feels_like': 47.7,\n",
       "   'pressure': 1016,\n",
       "   'humidity': 44,\n",
       "   'dew_point': 29.46,\n",
       "   'uvi': 2.02,\n",
       "   'clouds': 86,\n",
       "   'visibility': 10000,\n",
       "   'wind_speed': 8.46,\n",
       "   'wind_deg': 314,\n",
       "   'wind_gust': 11.41,\n",
       "   'weather': [{'id': 804,\n",
       "     'main': 'Clouds',\n",
       "     'description': 'overcast clouds',\n",
       "     'icon': '04d'}],\n",
       "   'pop': 0},\n",
       "  {'dt': 1620338400,\n",
       "   'temp': 49.75,\n",
       "   'feels_like': 47.01,\n",
       "   'pressure': 1016,\n",
       "   'humidity': 50,\n",
       "   'dew_point': 31.12,\n",
       "   'uvi': 0.85,\n",
       "   'clouds': 89,\n",
       "   'visibility': 10000,\n",
       "   'wind_speed': 6.73,\n",
       "   'wind_deg': 294,\n",
       "   'wind_gust': 8.9,\n",
       "   'weather': [{'id': 804,\n",
       "     'main': 'Clouds',\n",
       "     'description': 'overcast clouds',\n",
       "     'icon': '04d'}],\n",
       "   'pop': 0},\n",
       "  {'dt': 1620342000,\n",
       "   'temp': 47.75,\n",
       "   'feels_like': 45.01,\n",
       "   'pressure': 1016,\n",
       "   'humidity': 57,\n",
       "   'dew_point': 32.54,\n",
       "   'uvi': 0.27,\n",
       "   'clouds': 91,\n",
       "   'visibility': 10000,\n",
       "   'wind_speed': 5.95,\n",
       "   'wind_deg': 270,\n",
       "   'wind_gust': 10.04,\n",
       "   'weather': [{'id': 804,\n",
       "     'main': 'Clouds',\n",
       "     'description': 'overcast clouds',\n",
       "     'icon': '04d'}],\n",
       "   'pop': 0},\n",
       "  {'dt': 1620345600,\n",
       "   'temp': 44.24,\n",
       "   'feels_like': 41.99,\n",
       "   'pressure': 1016,\n",
       "   'humidity': 60,\n",
       "   'dew_point': 30.72,\n",
       "   'uvi': 0,\n",
       "   'clouds': 93,\n",
       "   'visibility': 10000,\n",
       "   'wind_speed': 4.27,\n",
       "   'wind_deg': 254,\n",
       "   'wind_gust': 6.29,\n",
       "   'weather': [{'id': 804,\n",
       "     'main': 'Clouds',\n",
       "     'description': 'overcast clouds',\n",
       "     'icon': '04d'}],\n",
       "   'pop': 0},\n",
       "  {'dt': 1620349200,\n",
       "   'temp': 42.3,\n",
       "   'feels_like': 42.3,\n",
       "   'pressure': 1016,\n",
       "   'humidity': 60,\n",
       "   'dew_point': 28.58,\n",
       "   'uvi': 0,\n",
       "   'clouds': 100,\n",
       "   'visibility': 10000,\n",
       "   'wind_speed': 2.48,\n",
       "   'wind_deg': 239,\n",
       "   'wind_gust': 3.09,\n",
       "   'weather': [{'id': 804,\n",
       "     'main': 'Clouds',\n",
       "     'description': 'overcast clouds',\n",
       "     'icon': '04n'}],\n",
       "   'pop': 0},\n",
       "  {'dt': 1620352800,\n",
       "   'temp': 41.52,\n",
       "   'feels_like': 41.52,\n",
       "   'pressure': 1016,\n",
       "   'humidity': 59,\n",
       "   'dew_point': 27.55,\n",
       "   'uvi': 0,\n",
       "   'clouds': 100,\n",
       "   'visibility': 10000,\n",
       "   'wind_speed': 0.85,\n",
       "   'wind_deg': 202,\n",
       "   'wind_gust': 1.68,\n",
       "   'weather': [{'id': 804,\n",
       "     'main': 'Clouds',\n",
       "     'description': 'overcast clouds',\n",
       "     'icon': '04n'}],\n",
       "   'pop': 0},\n",
       "  {'dt': 1620356400,\n",
       "   'temp': 39.81,\n",
       "   'feels_like': 39.81,\n",
       "   'pressure': 1016,\n",
       "   'humidity': 60,\n",
       "   'dew_point': 26.53,\n",
       "   'uvi': 0,\n",
       "   'clouds': 88,\n",
       "   'visibility': 10000,\n",
       "   'wind_speed': 1.5,\n",
       "   'wind_deg': 173,\n",
       "   'wind_gust': 1.54,\n",
       "   'weather': [{'id': 804,\n",
       "     'main': 'Clouds',\n",
       "     'description': 'overcast clouds',\n",
       "     'icon': '04n'}],\n",
       "   'pop': 0},\n",
       "  {'dt': 1620360000,\n",
       "   'temp': 39.11,\n",
       "   'feels_like': 36.97,\n",
       "   'pressure': 1016,\n",
       "   'humidity': 60,\n",
       "   'dew_point': 25.9,\n",
       "   'uvi': 0,\n",
       "   'clouds': 75,\n",
       "   'visibility': 10000,\n",
       "   'wind_speed': 3.33,\n",
       "   'wind_deg': 116,\n",
       "   'wind_gust': 3.15,\n",
       "   'weather': [{'id': 803,\n",
       "     'main': 'Clouds',\n",
       "     'description': 'broken clouds',\n",
       "     'icon': '04n'}],\n",
       "   'pop': 0},\n",
       "  {'dt': 1620363600,\n",
       "   'temp': 39.33,\n",
       "   'feels_like': 36.61,\n",
       "   'pressure': 1015,\n",
       "   'humidity': 60,\n",
       "   'dew_point': 25.92,\n",
       "   'uvi': 0,\n",
       "   'clouds': 77,\n",
       "   'visibility': 10000,\n",
       "   'wind_speed': 3.94,\n",
       "   'wind_deg': 131,\n",
       "   'wind_gust': 4.07,\n",
       "   'weather': [{'id': 803,\n",
       "     'main': 'Clouds',\n",
       "     'description': 'broken clouds',\n",
       "     'icon': '04n'}],\n",
       "   'pop': 0},\n",
       "  {'dt': 1620367200,\n",
       "   'temp': 39.94,\n",
       "   'feels_like': 36.99,\n",
       "   'pressure': 1015,\n",
       "   'humidity': 59,\n",
       "   'dew_point': 26.1,\n",
       "   'uvi': 0,\n",
       "   'clouds': 81,\n",
       "   'visibility': 10000,\n",
       "   'wind_speed': 4.29,\n",
       "   'wind_deg': 127,\n",
       "   'wind_gust': 5.68,\n",
       "   'weather': [{'id': 803,\n",
       "     'main': 'Clouds',\n",
       "     'description': 'broken clouds',\n",
       "     'icon': '04n'}],\n",
       "   'pop': 0},\n",
       "  {'dt': 1620370800,\n",
       "   'temp': 40.44,\n",
       "   'feels_like': 37.78,\n",
       "   'pressure': 1014,\n",
       "   'humidity': 58,\n",
       "   'dew_point': 26.15,\n",
       "   'uvi': 0,\n",
       "   'clouds': 100,\n",
       "   'visibility': 10000,\n",
       "   'wind_speed': 4.05,\n",
       "   'wind_deg': 125,\n",
       "   'wind_gust': 5.66,\n",
       "   'weather': [{'id': 804,\n",
       "     'main': 'Clouds',\n",
       "     'description': 'overcast clouds',\n",
       "     'icon': '04n'}],\n",
       "   'pop': 0},\n",
       "  {'dt': 1620374400,\n",
       "   'temp': 40.5,\n",
       "   'feels_like': 37.76,\n",
       "   'pressure': 1014,\n",
       "   'humidity': 59,\n",
       "   'dew_point': 26.49,\n",
       "   'uvi': 0,\n",
       "   'clouds': 100,\n",
       "   'visibility': 10000,\n",
       "   'wind_speed': 4.14,\n",
       "   'wind_deg': 114,\n",
       "   'wind_gust': 6.31,\n",
       "   'weather': [{'id': 804,\n",
       "     'main': 'Clouds',\n",
       "     'description': 'overcast clouds',\n",
       "     'icon': '04n'}],\n",
       "   'pop': 0},\n",
       "  {'dt': 1620378000,\n",
       "   'temp': 39.79,\n",
       "   'feels_like': 36.9,\n",
       "   'pressure': 1013,\n",
       "   'humidity': 62,\n",
       "   'dew_point': 27.1,\n",
       "   'uvi': 0,\n",
       "   'clouds': 100,\n",
       "   'visibility': 10000,\n",
       "   'wind_speed': 4.21,\n",
       "   'wind_deg': 125,\n",
       "   'wind_gust': 6.55,\n",
       "   'weather': [{'id': 804,\n",
       "     'main': 'Clouds',\n",
       "     'description': 'overcast clouds',\n",
       "     'icon': '04n'}],\n",
       "   'pop': 0},\n",
       "  {'dt': 1620381600,\n",
       "   'temp': 40.62,\n",
       "   'feels_like': 38.62,\n",
       "   'pressure': 1013,\n",
       "   'humidity': 62,\n",
       "   'dew_point': 27.88,\n",
       "   'uvi': 0,\n",
       "   'clouds': 100,\n",
       "   'visibility': 10000,\n",
       "   'wind_speed': 3.4,\n",
       "   'wind_deg': 111,\n",
       "   'wind_gust': 5.84,\n",
       "   'weather': [{'id': 804,\n",
       "     'main': 'Clouds',\n",
       "     'description': 'overcast clouds',\n",
       "     'icon': '04d'}],\n",
       "   'pop': 0},\n",
       "  {'dt': 1620385200,\n",
       "   'temp': 42.17,\n",
       "   'feels_like': 40.75,\n",
       "   'pressure': 1013,\n",
       "   'humidity': 65,\n",
       "   'dew_point': 30.43,\n",
       "   'uvi': 0.11,\n",
       "   'clouds': 100,\n",
       "   'visibility': 10000,\n",
       "   'wind_speed': 3.06,\n",
       "   'wind_deg': 78,\n",
       "   'wind_gust': 5.79,\n",
       "   'weather': [{'id': 804,\n",
       "     'main': 'Clouds',\n",
       "     'description': 'overcast clouds',\n",
       "     'icon': '04d'}],\n",
       "   'pop': 0},\n",
       "  {'dt': 1620388800,\n",
       "   'temp': 43.93,\n",
       "   'feels_like': 41.83,\n",
       "   'pressure': 1012,\n",
       "   'humidity': 63,\n",
       "   'dew_point': 31.48,\n",
       "   'uvi': 0.39,\n",
       "   'clouds': 100,\n",
       "   'visibility': 10000,\n",
       "   'wind_speed': 4.05,\n",
       "   'wind_deg': 78,\n",
       "   'wind_gust': 7.38,\n",
       "   'weather': [{'id': 804,\n",
       "     'main': 'Clouds',\n",
       "     'description': 'overcast clouds',\n",
       "     'icon': '04d'}],\n",
       "   'pop': 0},\n",
       "  {'dt': 1620392400,\n",
       "   'temp': 46.42,\n",
       "   'feels_like': 44.08,\n",
       "   'pressure': 1012,\n",
       "   'humidity': 59,\n",
       "   'dew_point': 32.18,\n",
       "   'uvi': 0.68,\n",
       "   'clouds': 100,\n",
       "   'visibility': 10000,\n",
       "   'wind_speed': 4.9,\n",
       "   'wind_deg': 89,\n",
       "   'wind_gust': 8.84,\n",
       "   'weather': [{'id': 804,\n",
       "     'main': 'Clouds',\n",
       "     'description': 'overcast clouds',\n",
       "     'icon': '04d'}],\n",
       "   'pop': 0.17},\n",
       "  {'dt': 1620396000,\n",
       "   'temp': 49.26,\n",
       "   'feels_like': 47.57,\n",
       "   'pressure': 1012,\n",
       "   'humidity': 54,\n",
       "   'dew_point': 32.95,\n",
       "   'uvi': 1.22,\n",
       "   'clouds': 100,\n",
       "   'visibility': 10000,\n",
       "   'wind_speed': 4.65,\n",
       "   'wind_deg': 108,\n",
       "   'wind_gust': 8.86,\n",
       "   'weather': [{'id': 804,\n",
       "     'main': 'Clouds',\n",
       "     'description': 'overcast clouds',\n",
       "     'icon': '04d'}],\n",
       "   'pop': 0.18},\n",
       "  {'dt': 1620399600,\n",
       "   'temp': 51.57,\n",
       "   'feels_like': 48.92,\n",
       "   'pressure': 1011,\n",
       "   'humidity': 53,\n",
       "   'dew_point': 34.21,\n",
       "   'uvi': 1.79,\n",
       "   'clouds': 100,\n",
       "   'visibility': 10000,\n",
       "   'wind_speed': 4.12,\n",
       "   'wind_deg': 134,\n",
       "   'wind_gust': 10.42,\n",
       "   'weather': [{'id': 804,\n",
       "     'main': 'Clouds',\n",
       "     'description': 'overcast clouds',\n",
       "     'icon': '04d'}],\n",
       "   'pop': 0.2},\n",
       "  {'dt': 1620403200,\n",
       "   'temp': 52.12,\n",
       "   'feels_like': 49.8,\n",
       "   'pressure': 1011,\n",
       "   'humidity': 59,\n",
       "   'dew_point': 37.35,\n",
       "   'uvi': 2.49,\n",
       "   'clouds': 100,\n",
       "   'visibility': 10000,\n",
       "   'wind_speed': 5.95,\n",
       "   'wind_deg': 190,\n",
       "   'wind_gust': 10.18,\n",
       "   'weather': [{'id': 804,\n",
       "     'main': 'Clouds',\n",
       "     'description': 'overcast clouds',\n",
       "     'icon': '04d'}],\n",
       "   'pop': 0.27},\n",
       "  {'dt': 1620406800,\n",
       "   'temp': 50.67,\n",
       "   'feels_like': 48.72,\n",
       "   'pressure': 1010,\n",
       "   'humidity': 70,\n",
       "   'dew_point': 40.6,\n",
       "   'uvi': 2.7,\n",
       "   'clouds': 100,\n",
       "   'visibility': 10000,\n",
       "   'wind_speed': 5.91,\n",
       "   'wind_deg': 176,\n",
       "   'wind_gust': 10.07,\n",
       "   'weather': [{'id': 500,\n",
       "     'main': 'Rain',\n",
       "     'description': 'light rain',\n",
       "     'icon': '10d'}],\n",
       "   'pop': 0.3,\n",
       "   'rain': {'1h': 0.19}},\n",
       "  {'dt': 1620410400,\n",
       "   'temp': 50.02,\n",
       "   'feels_like': 48.34,\n",
       "   'pressure': 1010,\n",
       "   'humidity': 77,\n",
       "   'dew_point': 42.46,\n",
       "   'uvi': 2.56,\n",
       "   'clouds': 100,\n",
       "   'visibility': 10000,\n",
       "   'wind_speed': 6.24,\n",
       "   'wind_deg': 153,\n",
       "   'wind_gust': 11.39,\n",
       "   'weather': [{'id': 500,\n",
       "     'main': 'Rain',\n",
       "     'description': 'light rain',\n",
       "     'icon': '10d'}],\n",
       "   'pop': 0.5,\n",
       "   'rain': {'1h': 0.25}},\n",
       "  {'dt': 1620414000,\n",
       "   'temp': 49.32,\n",
       "   'feels_like': 47.44,\n",
       "   'pressure': 1010,\n",
       "   'humidity': 85,\n",
       "   'dew_point': 44.28,\n",
       "   'uvi': 1.02,\n",
       "   'clouds': 100,\n",
       "   'visibility': 10000,\n",
       "   'wind_speed': 4.94,\n",
       "   'wind_deg': 163,\n",
       "   'wind_gust': 10.69,\n",
       "   'weather': [{'id': 500,\n",
       "     'main': 'Rain',\n",
       "     'description': 'light rain',\n",
       "     'icon': '10d'}],\n",
       "   'pop': 1,\n",
       "   'rain': {'1h': 0.53}}],\n",
       " 'daily': [{'dt': 1620234000,\n",
       "   'sunrise': 1620208354,\n",
       "   'sunset': 1620259792,\n",
       "   'moonrise': 1620200280,\n",
       "   'moonset': 1620237960,\n",
       "   'moon_phase': 0.81,\n",
       "   'temp': {'day': 47.89,\n",
       "    'min': 44.47,\n",
       "    'max': 60.06,\n",
       "    'night': 44.47,\n",
       "    'eve': 49.51,\n",
       "    'morn': 51.58},\n",
       "   'feels_like': {'day': 43.2, 'night': 51.04, 'eve': 44.35, 'morn': 51.04},\n",
       "   'pressure': 1009,\n",
       "   'humidity': 92,\n",
       "   'dew_point': 45.68,\n",
       "   'wind_speed': 13.87,\n",
       "   'wind_deg': 286,\n",
       "   'wind_gust': 27.47,\n",
       "   'weather': [{'id': 501,\n",
       "     'main': 'Rain',\n",
       "     'description': 'moderate rain',\n",
       "     'icon': '10d'}],\n",
       "   'clouds': 98,\n",
       "   'pop': 0.75,\n",
       "   'rain': 5.28,\n",
       "   'uvi': 2.09},\n",
       "  {'dt': 1620320400,\n",
       "   'sunrise': 1620294678,\n",
       "   'sunset': 1620346261,\n",
       "   'moonrise': 1620288180,\n",
       "   'moonset': 1620328260,\n",
       "   'moon_phase': 0.84,\n",
       "   'temp': {'day': 50.18,\n",
       "    'min': 37.72,\n",
       "    'max': 51.6,\n",
       "    'night': 39.81,\n",
       "    'eve': 47.75,\n",
       "    'morn': 38.93},\n",
       "   'feels_like': {'day': 47.07, 'night': 32.95, 'eve': 45.01, 'morn': 32.95},\n",
       "   'pressure': 1018,\n",
       "   'humidity': 46,\n",
       "   'dew_point': 29.48,\n",
       "   'wind_speed': 12.95,\n",
       "   'wind_deg': 301,\n",
       "   'wind_gust': 22.7,\n",
       "   'weather': [{'id': 803,\n",
       "     'main': 'Clouds',\n",
       "     'description': 'broken clouds',\n",
       "     'icon': '04d'}],\n",
       "   'clouds': 71,\n",
       "   'pop': 0.01,\n",
       "   'uvi': 6.49},\n",
       "  {'dt': 1620406800,\n",
       "   'sunrise': 1620381004,\n",
       "   'sunset': 1620432729,\n",
       "   'moonrise': 1620375900,\n",
       "   'moonset': 1620418380,\n",
       "   'moon_phase': 0.87,\n",
       "   'temp': {'day': 50.67,\n",
       "    'min': 39.11,\n",
       "    'max': 52.12,\n",
       "    'night': 40.91,\n",
       "    'eve': 41.54,\n",
       "    'morn': 42.17},\n",
       "   'feels_like': {'day': 48.72, 'night': 40.75, 'eve': 36.59, 'morn': 40.75},\n",
       "   'pressure': 1010,\n",
       "   'humidity': 70,\n",
       "   'dew_point': 40.6,\n",
       "   'wind_speed': 9.1,\n",
       "   'wind_deg': 312,\n",
       "   'wind_gust': 15.73,\n",
       "   'weather': [{'id': 501,\n",
       "     'main': 'Rain',\n",
       "     'description': 'moderate rain',\n",
       "     'icon': '10d'}],\n",
       "   'clouds': 100,\n",
       "   'pop': 1,\n",
       "   'rain': 11.66,\n",
       "   'uvi': 2.7},\n",
       "  {'dt': 1620493200,\n",
       "   'sunrise': 1620467331,\n",
       "   'sunset': 1620519197,\n",
       "   'moonrise': 1620463560,\n",
       "   'moonset': 1620508500,\n",
       "   'moon_phase': 0.9,\n",
       "   'temp': {'day': 46.56,\n",
       "    'min': 37.87,\n",
       "    'max': 49.8,\n",
       "    'night': 44.31,\n",
       "    'eve': 45.39,\n",
       "    'morn': 39.72},\n",
       "   'feels_like': {'day': 41.22, 'night': 36.12, 'eve': 42.04, 'morn': 36.12},\n",
       "   'pressure': 1012,\n",
       "   'humidity': 83,\n",
       "   'dew_point': 40.89,\n",
       "   'wind_speed': 11.65,\n",
       "   'wind_deg': 316,\n",
       "   'wind_gust': 25.32,\n",
       "   'weather': [{'id': 501,\n",
       "     'main': 'Rain',\n",
       "     'description': 'moderate rain',\n",
       "     'icon': '10d'}],\n",
       "   'clouds': 100,\n",
       "   'pop': 0.81,\n",
       "   'rain': 7.44,\n",
       "   'uvi': 3.69},\n",
       "  {'dt': 1620579600,\n",
       "   'sunrise': 1620553659,\n",
       "   'sunset': 1620605665,\n",
       "   'moonrise': 1620551160,\n",
       "   'moonset': 1620598560,\n",
       "   'moon_phase': 0.94,\n",
       "   'temp': {'day': 54.97,\n",
       "    'min': 36.73,\n",
       "    'max': 54.97,\n",
       "    'night': 42.75,\n",
       "    'eve': 46.02,\n",
       "    'morn': 42.98},\n",
       "   'feels_like': {'day': 52.18, 'night': 37.4, 'eve': 46.02, 'morn': 37.4},\n",
       "   'pressure': 1013,\n",
       "   'humidity': 43,\n",
       "   'dew_point': 32.4,\n",
       "   'wind_speed': 11.05,\n",
       "   'wind_deg': 279,\n",
       "   'wind_gust': 25.28,\n",
       "   'weather': [{'id': 802,\n",
       "     'main': 'Clouds',\n",
       "     'description': 'scattered clouds',\n",
       "     'icon': '03d'}],\n",
       "   'clouds': 50,\n",
       "   'pop': 0,\n",
       "   'uvi': 6.75},\n",
       "  {'dt': 1620666000,\n",
       "   'sunrise': 1620639989,\n",
       "   'sunset': 1620692132,\n",
       "   'moonrise': 1620638880,\n",
       "   'moonset': 1620688620,\n",
       "   'moon_phase': 0.97,\n",
       "   'temp': {'day': 51.71,\n",
       "    'min': 35.64,\n",
       "    'max': 51.71,\n",
       "    'night': 40.08,\n",
       "    'eve': 44.42,\n",
       "    'morn': 42.24},\n",
       "   'feels_like': {'day': 49.26, 'night': 36.72, 'eve': 39.42, 'morn': 36.72},\n",
       "   'pressure': 1013,\n",
       "   'humidity': 57,\n",
       "   'dew_point': 36.18,\n",
       "   'wind_speed': 16.28,\n",
       "   'wind_deg': 303,\n",
       "   'wind_gust': 26.04,\n",
       "   'weather': [{'id': 500,\n",
       "     'main': 'Rain',\n",
       "     'description': 'light rain',\n",
       "     'icon': '10d'}],\n",
       "   'clouds': 52,\n",
       "   'pop': 0.37,\n",
       "   'rain': 0.17,\n",
       "   'uvi': 0.86},\n",
       "  {'dt': 1620752400,\n",
       "   'sunrise': 1620726321,\n",
       "   'sunset': 1620778599,\n",
       "   'moonrise': 1620726660,\n",
       "   'moonset': 1620778740,\n",
       "   'moon_phase': 0,\n",
       "   'temp': {'day': 45,\n",
       "    'min': 38.39,\n",
       "    'max': 47.23,\n",
       "    'night': 42.37,\n",
       "    'eve': 45.99,\n",
       "    'morn': 40.69},\n",
       "   'feels_like': {'day': 38.73, 'night': 33.58, 'eve': 40.24, 'morn': 33.58},\n",
       "   'pressure': 1020,\n",
       "   'humidity': 72,\n",
       "   'dew_point': 35.91,\n",
       "   'wind_speed': 13.62,\n",
       "   'wind_deg': 313,\n",
       "   'wind_gust': 25.37,\n",
       "   'weather': [{'id': 500,\n",
       "     'main': 'Rain',\n",
       "     'description': 'light rain',\n",
       "     'icon': '10d'}],\n",
       "   'clouds': 100,\n",
       "   'pop': 0.2,\n",
       "   'rain': 0.29,\n",
       "   'uvi': 1},\n",
       "  {'dt': 1620838800,\n",
       "   'sunrise': 1620812654,\n",
       "   'sunset': 1620865065,\n",
       "   'moonrise': 1620814620,\n",
       "   'moonset': 1620868860,\n",
       "   'moon_phase': 0.03,\n",
       "   'temp': {'day': 52.16,\n",
       "    'min': 33.15,\n",
       "    'max': 52.83,\n",
       "    'night': 39.72,\n",
       "    'eve': 44.92,\n",
       "    'morn': 40.86},\n",
       "   'feels_like': {'day': 49.39, 'night': 35.58, 'eve': 43.23, 'morn': 35.58},\n",
       "   'pressure': 1028,\n",
       "   'humidity': 49,\n",
       "   'dew_point': 33.26,\n",
       "   'wind_speed': 12.41,\n",
       "   'wind_deg': 309,\n",
       "   'wind_gust': 17.16,\n",
       "   'weather': [{'id': 802,\n",
       "     'main': 'Clouds',\n",
       "     'description': 'scattered clouds',\n",
       "     'icon': '03d'}],\n",
       "   'clouds': 27,\n",
       "   'pop': 0,\n",
       "   'uvi': 1}]}"
      ]
     },
     "execution_count": 5,
     "metadata": {},
     "output_type": "execute_result"
    }
   ],
   "source": [
    "def getWeather(weather_key,location):\n",
    "    g = geocoder.osm(location)\n",
    "    query_string = { 'lat' : g.latlng[0], 'lon': g.latlng[1], 'appid' : weather_key, 'units' : 'imperial'}\n",
    "    url='https://api.openweathermap.org/data/2.5/onecall' \n",
    "    response = requests.get(url, params=query_string)\n",
    "    response.raise_for_status()\n",
    "    #print (response.url)\n",
    "    weather = response.json()\n",
    "    return weather\n",
    "\n",
    "\n",
    "getWeather(weather_key, \"Syracuse, ny\")\n"
   ]
  },
  {
   "cell_type": "markdown",
   "metadata": {},
   "source": [
    "# Exam Scores Data Set\n",
    "\n",
    "Load the data"
   ]
  },
  {
   "cell_type": "code",
   "execution_count": 6,
   "metadata": {},
   "outputs": [
    {
     "data": {
      "text/html": [
       "<div>\n",
       "<style scoped>\n",
       "    .dataframe tbody tr th:only-of-type {\n",
       "        vertical-align: middle;\n",
       "    }\n",
       "\n",
       "    .dataframe tbody tr th {\n",
       "        vertical-align: top;\n",
       "    }\n",
       "\n",
       "    .dataframe thead th {\n",
       "        text-align: right;\n",
       "    }\n",
       "</style>\n",
       "<table border=\"1\" class=\"dataframe\">\n",
       "  <thead>\n",
       "    <tr style=\"text-align: right;\">\n",
       "      <th></th>\n",
       "      <th>Class_Section</th>\n",
       "      <th>Exam_Version</th>\n",
       "      <th>Completion_Time</th>\n",
       "      <th>Made_Own_Study_Guide</th>\n",
       "      <th>Did_Exam_Prep Assignment</th>\n",
       "      <th>Studied_In_Groups</th>\n",
       "      <th>Student_Score</th>\n",
       "      <th>Percentage</th>\n",
       "      <th>Letter_Grade</th>\n",
       "    </tr>\n",
       "  </thead>\n",
       "  <tbody>\n",
       "    <tr>\n",
       "      <th>14</th>\n",
       "      <td>M01</td>\n",
       "      <td>C</td>\n",
       "      <td>20</td>\n",
       "      <td>Y</td>\n",
       "      <td>Y</td>\n",
       "      <td>Y</td>\n",
       "      <td>26</td>\n",
       "      <td>86.70%</td>\n",
       "      <td>B+</td>\n",
       "    </tr>\n",
       "    <tr>\n",
       "      <th>36</th>\n",
       "      <td>M02</td>\n",
       "      <td>A</td>\n",
       "      <td>55</td>\n",
       "      <td>Y</td>\n",
       "      <td>Y</td>\n",
       "      <td>N</td>\n",
       "      <td>25</td>\n",
       "      <td>83.30%</td>\n",
       "      <td>B</td>\n",
       "    </tr>\n",
       "    <tr>\n",
       "      <th>11</th>\n",
       "      <td>M01</td>\n",
       "      <td>B</td>\n",
       "      <td>25</td>\n",
       "      <td>N</td>\n",
       "      <td>N</td>\n",
       "      <td>N</td>\n",
       "      <td>24</td>\n",
       "      <td>80.00%</td>\n",
       "      <td>B</td>\n",
       "    </tr>\n",
       "    <tr>\n",
       "      <th>50</th>\n",
       "      <td>M02</td>\n",
       "      <td>C</td>\n",
       "      <td>35</td>\n",
       "      <td>N</td>\n",
       "      <td>Y</td>\n",
       "      <td>N</td>\n",
       "      <td>23</td>\n",
       "      <td>76.70%</td>\n",
       "      <td>B-</td>\n",
       "    </tr>\n",
       "    <tr>\n",
       "      <th>58</th>\n",
       "      <td>M02</td>\n",
       "      <td>D</td>\n",
       "      <td>25</td>\n",
       "      <td>N</td>\n",
       "      <td>N</td>\n",
       "      <td>Y</td>\n",
       "      <td>23</td>\n",
       "      <td>76.70%</td>\n",
       "      <td>B-</td>\n",
       "    </tr>\n",
       "  </tbody>\n",
       "</table>\n",
       "</div>"
      ],
      "text/plain": [
       "   Class_Section Exam_Version  Completion_Time Made_Own_Study_Guide  \\\n",
       "14           M01            C               20                    Y   \n",
       "36           M02            A               55                    Y   \n",
       "11           M01            B               25                    N   \n",
       "50           M02            C               35                    N   \n",
       "58           M02            D               25                    N   \n",
       "\n",
       "   Did_Exam_Prep Assignment Studied_In_Groups  Student_Score Percentage  \\\n",
       "14                        Y                 Y             26     86.70%   \n",
       "36                        Y                 N             25     83.30%   \n",
       "11                        N                 N             24     80.00%   \n",
       "50                        Y                 N             23     76.70%   \n",
       "58                        N                 Y             23     76.70%   \n",
       "\n",
       "   Letter_Grade  \n",
       "14           B+  \n",
       "36            B  \n",
       "11            B  \n",
       "50           B-  \n",
       "58           B-  "
      ]
     },
     "metadata": {},
     "output_type": "display_data"
    }
   ],
   "source": [
    "exam_df = pd.read_csv('https://raw.githubusercontent.com/mafudge/datasets/master/exam-scores/exam-scores.csv')\n",
    "display(exam_df.sample(5))"
   ]
  },
  {
   "cell_type": "markdown",
   "metadata": {},
   "source": [
    "## Challenge 1\n",
    "\n",
    "Use `matplotlib` to plot a pie chart of 'Studied In Groups`\n",
    "\n",
    "HINTS: \n",
    " - You must get `value_counts` of the series, then make a `DataFrame` from it and plot.\n",
    " - Plotting help:  `help(df.plot.pie)` where `df` is the dataframe you made.\n"
   ]
  },
  {
   "cell_type": "code",
   "execution_count": 7,
   "metadata": {},
   "outputs": [
    {
     "data": {
      "text/plain": [
       "<AxesSubplot:ylabel='counts'>"
      ]
     },
     "execution_count": 7,
     "metadata": {},
     "output_type": "execute_result"
    },
    {
     "data": {
      "image/png": "[encoded data removed]",
      "text/plain": [
       "<Figure size 432x288 with 1 Axes>"
      ]
     },
     "metadata": {},
     "output_type": "display_data"
    }
   ],
   "source": [
    "counts = exam_df['Studied_In_Groups'].value_counts()\n",
    "df = pd.DataFrame( { \"counts\" : counts } )\n",
    "df.plot.pie(y='counts')"
   ]
  },
  {
   "cell_type": "markdown",
   "metadata": {},
   "source": [
    "## Challenge 2\n",
    "\n",
    "Use `plotly` express to plot the same pie chart of 'Studied In Groups`\n",
    "\n",
    "HINT: You can use the dataframe from the previous cell. `help(px.pie)` for assistance\n"
   ]
  },
  {
   "cell_type": "code",
   "execution_count": 18,
   "metadata": {},
   "outputs": [
    {
     "data": {
      "text/plain": [
       "<AxesSubplot:ylabel='counts'>"
      ]
     },
     "execution_count": 18,
     "metadata": {},
     "output_type": "execute_result"
    },
    {
     "data": {
      "image/png": "[encoded data removed]",
      "text/plain": [
       "<Figure size 432x288 with 1 Axes>"
      ]
     },
     "metadata": {},
     "output_type": "display_data"
    }
   ],
   "source": [
    "counts = exam_df['Studied_In_Groups'].value_counts()\n",
    "df = pd.DataFrame( { \"counts\" : counts } )\n",
    "df.plot.pie(y='counts')"
   ]
  },
  {
   "cell_type": "code",
   "execution_count": 19,
   "metadata": {},
   "outputs": [
    {
     "data": {
      "application/vnd.plotly.v1+json": {
       "config": {
        "plotlyServerURL": "https://plotly.com"
       },
       "data": [
        {
         "domain": {
          "x": [
           0,
           1
          ],
          "y": [
           0,
           1
          ]
         },
         "hovertemplate": "index=%{label}<br>counts=%{value}<extra></extra>",
         "labels": [
          "Y",
          "N",
          "?"
         ],
         "legendgroup": "",
         "name": "",
         "showlegend": true,
         "type": "pie",
         "values": [
          27,
          24,
          14
         ]
        }
       ],
       "layout": {
        "legend": {
         "tracegroupgap": 0
        },
        "margin": {
         "t": 60
        },
        "template": {
         "data": {
          "bar": [
           {
            "error_x": {
             "color": "#2a3f5f"
            },
            "error_y": {
             "color": "#2a3f5f"
            },
            "marker": {
             "line": {
              "color": "#E5ECF6",
              "width": 0.5
             }
            },
            "type": "bar"
           }
          ],
          "barpolar": [
           {
            "marker": {
             "line": {
              "color": "#E5ECF6",
              "width": 0.5
             }
            },
            "type": "barpolar"
           }
          ],
          "carpet": [
           {
            "aaxis": {
             "endlinecolor": "#2a3f5f",
             "gridcolor": "white",
             "linecolor": "white",
             "minorgridcolor": "white",
             "startlinecolor": "#2a3f5f"
            },
            "baxis": {
             "endlinecolor": "#2a3f5f",
             "gridcolor": "white",
             "linecolor": "white",
             "minorgridcolor": "white",
             "startlinecolor": "#2a3f5f"
            },
            "type": "carpet"
           }
          ],
          "choropleth": [
           {
            "colorbar": {
             "outlinewidth": 0,
             "ticks": ""
            },
            "type": "choropleth"
           }
          ],
          "contour": [
           {
            "colorbar": {
             "outlinewidth": 0,
             "ticks": ""
            },
            "colorscale": [
             [
              0,
              "#0d0887"
             ],
             [
              0.1111111111111111,
              "#46039f"
             ],
             [
              0.2222222222222222,
              "#7201a8"
             ],
             [
              0.3333333333333333,
              "#9c179e"
             ],
             [
              0.4444444444444444,
              "#bd3786"
             ],
             [
              0.5555555555555556,
              "#d8576b"
             ],
             [
              0.6666666666666666,
              "#ed7953"
             ],
             [
              0.7777777777777778,
              "#fb9f3a"
             ],
             [
              0.8888888888888888,
              "#fdca26"
             ],
             [
              1,
              "#f0f921"
             ]
            ],
            "type": "contour"
           }
          ],
          "contourcarpet": [
           {
            "colorbar": {
             "outlinewidth": 0,
             "ticks": ""
            },
            "type": "contourcarpet"
           }
          ],
          "heatmap": [
           {
            "colorbar": {
             "outlinewidth": 0,
             "ticks": ""
            },
            "colorscale": [
             [
              0,
              "#0d0887"
             ],
             [
              0.1111111111111111,
              "#46039f"
             ],
             [
              0.2222222222222222,
              "#7201a8"
             ],
             [
              0.3333333333333333,
              "#9c179e"
             ],
             [
              0.4444444444444444,
              "#bd3786"
             ],
             [
              0.5555555555555556,
              "#d8576b"
             ],
             [
              0.6666666666666666,
              "#ed7953"
             ],
             [
              0.7777777777777778,
              "#fb9f3a"
             ],
             [
              0.8888888888888888,
              "#fdca26"
             ],
             [
              1,
              "#f0f921"
             ]
            ],
            "type": "heatmap"
           }
          ],
          "heatmapgl": [
           {
            "colorbar": {
             "outlinewidth": 0,
             "ticks": ""
            },
            "colorscale": [
             [
              0,
              "#0d0887"
             ],
             [
              0.1111111111111111,
              "#46039f"
             ],
             [
              0.2222222222222222,
              "#7201a8"
             ],
             [
              0.3333333333333333,
              "#9c179e"
             ],
             [
              0.4444444444444444,
              "#bd3786"
             ],
             [
              0.5555555555555556,
              "#d8576b"
             ],
             [
              0.6666666666666666,
              "#ed7953"
             ],
             [
              0.7777777777777778,
              "#fb9f3a"
             ],
             [
              0.8888888888888888,
              "#fdca26"
             ],
             [
              1,
              "#f0f921"
             ]
            ],
            "type": "heatmapgl"
           }
          ],
          "histogram": [
           {
            "marker": {
             "colorbar": {
              "outlinewidth": 0,
              "ticks": ""
             }
            },
            "type": "histogram"
           }
          ],
          "histogram2d": [
           {
            "colorbar": {
             "outlinewidth": 0,
             "ticks": ""
            },
            "colorscale": [
             [
              0,
              "#0d0887"
             ],
             [
              0.1111111111111111,
              "#46039f"
             ],
             [
              0.2222222222222222,
              "#7201a8"
             ],
             [
              0.3333333333333333,
              "#9c179e"
             ],
             [
              0.4444444444444444,
              "#bd3786"
             ],
             [
              0.5555555555555556,
              "#d8576b"
             ],
             [
              0.6666666666666666,
              "#ed7953"
             ],
             [
              0.7777777777777778,
              "#fb9f3a"
             ],
             [
              0.8888888888888888,
              "#fdca26"
             ],
             [
              1,
              "#f0f921"
             ]
            ],
            "type": "histogram2d"
           }
          ],
          "histogram2dcontour": [
           {
            "colorbar": {
             "outlinewidth": 0,
             "ticks": ""
            },
            "colorscale": [
             [
              0,
              "#0d0887"
             ],
             [
              0.1111111111111111,
              "#46039f"
             ],
             [
              0.2222222222222222,
              "#7201a8"
             ],
             [
              0.3333333333333333,
              "#9c179e"
             ],
             [
              0.4444444444444444,
              "#bd3786"
             ],
             [
              0.5555555555555556,
              "#d8576b"
             ],
             [
              0.6666666666666666,
              "#ed7953"
             ],
             [
              0.7777777777777778,
              "#fb9f3a"
             ],
             [
              0.8888888888888888,
              "#fdca26"
             ],
             [
              1,
              "#f0f921"
             ]
            ],
            "type": "histogram2dcontour"
           }
          ],
          "mesh3d": [
           {
            "colorbar": {
             "outlinewidth": 0,
             "ticks": ""
            },
            "type": "mesh3d"
           }
          ],
          "parcoords": [
           {
            "line": {
             "colorbar": {
              "outlinewidth": 0,
              "ticks": ""
             }
            },
            "type": "parcoords"
           }
          ],
          "pie": [
           {
            "automargin": true,
            "type": "pie"
           }
          ],
          "scatter": [
           {
            "marker": {
             "colorbar": {
              "outlinewidth": 0,
              "ticks": ""
             }
            },
            "type": "scatter"
           }
          ],
          "scatter3d": [
           {
            "line": {
             "colorbar": {
              "outlinewidth": 0,
              "ticks": ""
             }
            },
            "marker": {
             "colorbar": {
              "outlinewidth": 0,
              "ticks": ""
             }
            },
            "type": "scatter3d"
           }
          ],
          "scattercarpet": [
           {
            "marker": {
             "colorbar": {
              "outlinewidth": 0,
              "ticks": ""
             }
            },
            "type": "scattercarpet"
           }
          ],
          "scattergeo": [
           {
            "marker": {
             "colorbar": {
              "outlinewidth": 0,
              "ticks": ""
             }
            },
            "type": "scattergeo"
           }
          ],
          "scattergl": [
           {
            "marker": {
             "colorbar": {
              "outlinewidth": 0,
              "ticks": ""
             }
            },
            "type": "scattergl"
           }
          ],
          "scattermapbox": [
           {
            "marker": {
             "colorbar": {
              "outlinewidth": 0,
              "ticks": ""
             }
            },
            "type": "scattermapbox"
           }
          ],
          "scatterpolar": [
           {
            "marker": {
             "colorbar": {
              "outlinewidth": 0,
              "ticks": ""
             }
            },
            "type": "scatterpolar"
           }
          ],
          "scatterpolargl": [
           {
            "marker": {
             "colorbar": {
              "outlinewidth": 0,
              "ticks": ""
             }
            },
            "type": "scatterpolargl"
           }
          ],
          "scatterternary": [
           {
            "marker": {
             "colorbar": {
              "outlinewidth": 0,
              "ticks": ""
             }
            },
            "type": "scatterternary"
           }
          ],
          "surface": [
           {
            "colorbar": {
             "outlinewidth": 0,
             "ticks": ""
            },
            "colorscale": [
             [
              0,
              "#0d0887"
             ],
             [
              0.1111111111111111,
              "#46039f"
             ],
             [
              0.2222222222222222,
              "#7201a8"
             ],
             [
              0.3333333333333333,
              "#9c179e"
             ],
             [
              0.4444444444444444,
              "#bd3786"
             ],
             [
              0.5555555555555556,
              "#d8576b"
             ],
             [
              0.6666666666666666,
              "#ed7953"
             ],
             [
              0.7777777777777778,
              "#fb9f3a"
             ],
             [
              0.8888888888888888,
              "#fdca26"
             ],
             [
              1,
              "#f0f921"
             ]
            ],
            "type": "surface"
           }
          ],
          "table": [
           {
            "cells": {
             "fill": {
              "color": "#EBF0F8"
             },
             "line": {
              "color": "white"
             }
            },
            "header": {
             "fill": {
              "color": "#C8D4E3"
             },
             "line": {
              "color": "white"
             }
            },
            "type": "table"
           }
          ]
         },
         "layout": {
          "annotationdefaults": {
           "arrowcolor": "#2a3f5f",
           "arrowhead": 0,
           "arrowwidth": 1
          },
          "autotypenumbers": "strict",
          "coloraxis": {
           "colorbar": {
            "outlinewidth": 0,
            "ticks": ""
           }
          },
          "colorscale": {
           "diverging": [
            [
             0,
             "#8e0152"
            ],
            [
             0.1,
             "#c51b7d"
            ],
            [
             0.2,
             "#de77ae"
            ],
            [
             0.3,
             "#f1b6da"
            ],
            [
             0.4,
             "#fde0ef"
            ],
            [
             0.5,
             "#f7f7f7"
            ],
            [
             0.6,
             "#e6f5d0"
            ],
            [
             0.7,
             "#b8e186"
            ],
            [
             0.8,
             "#7fbc41"
            ],
            [
             0.9,
             "#4d9221"
            ],
            [
             1,
             "#276419"
            ]
           ],
           "sequential": [
            [
             0,
             "#0d0887"
            ],
            [
             0.1111111111111111,
             "#46039f"
            ],
            [
             0.2222222222222222,
             "#7201a8"
            ],
            [
             0.3333333333333333,
             "#9c179e"
            ],
            [
             0.4444444444444444,
             "#bd3786"
            ],
            [
             0.5555555555555556,
             "#d8576b"
            ],
            [
             0.6666666666666666,
             "#ed7953"
            ],
            [
             0.7777777777777778,
             "#fb9f3a"
            ],
            [
             0.8888888888888888,
             "#fdca26"
            ],
            [
             1,
             "#f0f921"
            ]
           ],
           "sequentialminus": [
            [
             0,
             "#0d0887"
            ],
            [
             0.1111111111111111,
             "#46039f"
            ],
            [
             0.2222222222222222,
             "#7201a8"
            ],
            [
             0.3333333333333333,
             "#9c179e"
            ],
            [
             0.4444444444444444,
             "#bd3786"
            ],
            [
             0.5555555555555556,
             "#d8576b"
            ],
            [
             0.6666666666666666,
             "#ed7953"
            ],
            [
             0.7777777777777778,
             "#fb9f3a"
            ],
            [
             0.8888888888888888,
             "#fdca26"
            ],
            [
             1,
             "#f0f921"
            ]
           ]
          },
          "colorway": [
           "#636efa",
           "#EF553B",
           "#00cc96",
           "#ab63fa",
           "#FFA15A",
           "#19d3f3",
           "#FF6692",
           "#B6E880",
           "#FF97FF",
           "#FECB52"
          ],
          "font": {
           "color": "#2a3f5f"
          },
          "geo": {
           "bgcolor": "white",
           "lakecolor": "white",
           "landcolor": "#E5ECF6",
           "showlakes": true,
           "showland": true,
           "subunitcolor": "white"
          },
          "hoverlabel": {
           "align": "left"
          },
          "hovermode": "closest",
          "mapbox": {
           "style": "light"
          },
          "paper_bgcolor": "white",
          "plot_bgcolor": "#E5ECF6",
          "polar": {
           "angularaxis": {
            "gridcolor": "white",
            "linecolor": "white",
            "ticks": ""
           },
           "bgcolor": "#E5ECF6",
           "radialaxis": {
            "gridcolor": "white",
            "linecolor": "white",
            "ticks": ""
           }
          },
          "scene": {
           "xaxis": {
            "backgroundcolor": "#E5ECF6",
            "gridcolor": "white",
            "gridwidth": 2,
            "linecolor": "white",
            "showbackground": true,
            "ticks": "",
            "zerolinecolor": "white"
           },
           "yaxis": {
            "backgroundcolor": "#E5ECF6",
            "gridcolor": "white",
            "gridwidth": 2,
            "linecolor": "white",
            "showbackground": true,
            "ticks": "",
            "zerolinecolor": "white"
           },
           "zaxis": {
            "backgroundcolor": "#E5ECF6",
            "gridcolor": "white",
            "gridwidth": 2,
            "linecolor": "white",
            "showbackground": true,
            "ticks": "",
            "zerolinecolor": "white"
           }
          },
          "shapedefaults": {
           "line": {
            "color": "#2a3f5f"
           }
          },
          "ternary": {
           "aaxis": {
            "gridcolor": "white",
            "linecolor": "white",
            "ticks": ""
           },
           "baxis": {
            "gridcolor": "white",
            "linecolor": "white",
            "ticks": ""
           },
           "bgcolor": "#E5ECF6",
           "caxis": {
            "gridcolor": "white",
            "linecolor": "white",
            "ticks": ""
           }
          },
          "title": {
           "x": 0.05
          },
          "xaxis": {
           "automargin": true,
           "gridcolor": "white",
           "linecolor": "white",
           "ticks": "",
           "title": {
            "standoff": 15
           },
           "zerolinecolor": "white",
           "zerolinewidth": 2
          },
          "yaxis": {
           "automargin": true,
           "gridcolor": "white",
           "linecolor": "white",
           "ticks": "",
           "title": {
            "standoff": 15
           },
           "zerolinecolor": "white",
           "zerolinewidth": 2
          }
         }
        }
       }
      },
      "text/html": [
       "<div>                            <div id=\"4b45828a-5128-4459-bfbc-ff5e2a5e9943\" class=\"plotly-graph-div\" style=\"height:525px; width:100%;\"></div>            <script type=\"text/javascript\">                require([\"plotly\"], function(Plotly) {                    window.PLOTLYENV=window.PLOTLYENV || {};                                    if (document.getElementById(\"4b45828a-5128-4459-bfbc-ff5e2a5e9943\")) {                    Plotly.newPlot(                        \"4b45828a-5128-4459-bfbc-ff5e2a5e9943\",                        [{\"domain\": {\"x\": [0.0, 1.0], \"y\": [0.0, 1.0]}, \"hovertemplate\": \"index=%{label}<br>counts=%{value}<extra></extra>\", \"labels\": [\"Y\", \"N\", \"?\"], \"legendgroup\": \"\", \"name\": \"\", \"showlegend\": true, \"type\": \"pie\", \"values\": [27, 24, 14]}],                        {\"legend\": {\"tracegroupgap\": 0}, \"margin\": {\"t\": 60}, \"template\": {\"data\": {\"bar\": [{\"error_x\": {\"color\": \"#2a3f5f\"}, \"error_y\": {\"color\": \"#2a3f5f\"}, \"marker\": {\"line\": {\"color\": \"#E5ECF6\", \"width\": 0.5}}, \"type\": \"bar\"}], \"barpolar\": [{\"marker\": {\"line\": {\"color\": \"#E5ECF6\", \"width\": 0.5}}, \"type\": \"barpolar\"}], \"carpet\": [{\"aaxis\": {\"endlinecolor\": \"#2a3f5f\", \"gridcolor\": \"white\", \"linecolor\": \"white\", \"minorgridcolor\": \"white\", \"startlinecolor\": \"#2a3f5f\"}, \"baxis\": {\"endlinecolor\": \"#2a3f5f\", \"gridcolor\": \"white\", \"linecolor\": \"white\", \"minorgridcolor\": \"white\", \"startlinecolor\": \"#2a3f5f\"}, \"type\": \"carpet\"}], \"choropleth\": [{\"colorbar\": {\"outlinewidth\": 0, \"ticks\": \"\"}, \"type\": \"choropleth\"}], \"contour\": [{\"colorbar\": {\"outlinewidth\": 0, \"ticks\": \"\"}, \"colorscale\": [[0.0, \"#0d0887\"], [0.1111111111111111, \"#46039f\"], [0.2222222222222222, \"#7201a8\"], [0.3333333333333333, \"#9c179e\"], [0.4444444444444444, \"#bd3786\"], [0.5555555555555556, \"#d8576b\"], [0.6666666666666666, \"#ed7953\"], [0.7777777777777778, \"#fb9f3a\"], [0.8888888888888888, \"#fdca26\"], [1.0, \"#f0f921\"]], \"type\": \"contour\"}], \"contourcarpet\": [{\"colorbar\": {\"outlinewidth\": 0, \"ticks\": \"\"}, \"type\": \"contourcarpet\"}], \"heatmap\": [{\"colorbar\": {\"outlinewidth\": 0, \"ticks\": \"\"}, \"colorscale\": [[0.0, \"#0d0887\"], [0.1111111111111111, \"#46039f\"], [0.2222222222222222, \"#7201a8\"], [0.3333333333333333, \"#9c179e\"], [0.4444444444444444, \"#bd3786\"], [0.5555555555555556, \"#d8576b\"], [0.6666666666666666, \"#ed7953\"], [0.7777777777777778, \"#fb9f3a\"], [0.8888888888888888, \"#fdca26\"], [1.0, \"#f0f921\"]], \"type\": \"heatmap\"}], \"heatmapgl\": [{\"colorbar\": {\"outlinewidth\": 0, \"ticks\": \"\"}, \"colorscale\": [[0.0, \"#0d0887\"], [0.1111111111111111, \"#46039f\"], [0.2222222222222222, \"#7201a8\"], [0.3333333333333333, \"#9c179e\"], [0.4444444444444444, \"#bd3786\"], [0.5555555555555556, \"#d8576b\"], [0.6666666666666666, \"#ed7953\"], [0.7777777777777778, \"#fb9f3a\"], [0.8888888888888888, \"#fdca26\"], [1.0, \"#f0f921\"]], \"type\": \"heatmapgl\"}], \"histogram\": [{\"marker\": {\"colorbar\": {\"outlinewidth\": 0, \"ticks\": \"\"}}, \"type\": \"histogram\"}], \"histogram2d\": [{\"colorbar\": {\"outlinewidth\": 0, \"ticks\": \"\"}, \"colorscale\": [[0.0, \"#0d0887\"], [0.1111111111111111, \"#46039f\"], [0.2222222222222222, \"#7201a8\"], [0.3333333333333333, \"#9c179e\"], [0.4444444444444444, \"#bd3786\"], [0.5555555555555556, \"#d8576b\"], [0.6666666666666666, \"#ed7953\"], [0.7777777777777778, \"#fb9f3a\"], [0.8888888888888888, \"#fdca26\"], [1.0, \"#f0f921\"]], \"type\": \"histogram2d\"}], \"histogram2dcontour\": [{\"colorbar\": {\"outlinewidth\": 0, \"ticks\": \"\"}, \"colorscale\": [[0.0, \"#0d0887\"], [0.1111111111111111, \"#46039f\"], [0.2222222222222222, \"#7201a8\"], [0.3333333333333333, \"#9c179e\"], [0.4444444444444444, \"#bd3786\"], [0.5555555555555556, \"#d8576b\"], [0.6666666666666666, \"#ed7953\"], [0.7777777777777778, \"#fb9f3a\"], [0.8888888888888888, \"#fdca26\"], [1.0, \"#f0f921\"]], \"type\": \"histogram2dcontour\"}], \"mesh3d\": [{\"colorbar\": {\"outlinewidth\": 0, \"ticks\": \"\"}, \"type\": \"mesh3d\"}], \"parcoords\": [{\"line\": {\"colorbar\": {\"outlinewidth\": 0, \"ticks\": \"\"}}, \"type\": \"parcoords\"}], \"pie\": [{\"automargin\": true, \"type\": \"pie\"}], \"scatter\": [{\"marker\": {\"colorbar\": {\"outlinewidth\": 0, \"ticks\": \"\"}}, \"type\": \"scatter\"}], \"scatter3d\": [{\"line\": {\"colorbar\": {\"outlinewidth\": 0, \"ticks\": \"\"}}, \"marker\": {\"colorbar\": {\"outlinewidth\": 0, \"ticks\": \"\"}}, \"type\": \"scatter3d\"}], \"scattercarpet\": [{\"marker\": {\"colorbar\": {\"outlinewidth\": 0, \"ticks\": \"\"}}, \"type\": \"scattercarpet\"}], \"scattergeo\": [{\"marker\": {\"colorbar\": {\"outlinewidth\": 0, \"ticks\": \"\"}}, \"type\": \"scattergeo\"}], \"scattergl\": [{\"marker\": {\"colorbar\": {\"outlinewidth\": 0, \"ticks\": \"\"}}, \"type\": \"scattergl\"}], \"scattermapbox\": [{\"marker\": {\"colorbar\": {\"outlinewidth\": 0, \"ticks\": \"\"}}, \"type\": \"scattermapbox\"}], \"scatterpolar\": [{\"marker\": {\"colorbar\": {\"outlinewidth\": 0, \"ticks\": \"\"}}, \"type\": \"scatterpolar\"}], \"scatterpolargl\": [{\"marker\": {\"colorbar\": {\"outlinewidth\": 0, \"ticks\": \"\"}}, \"type\": \"scatterpolargl\"}], \"scatterternary\": [{\"marker\": {\"colorbar\": {\"outlinewidth\": 0, \"ticks\": \"\"}}, \"type\": \"scatterternary\"}], \"surface\": [{\"colorbar\": {\"outlinewidth\": 0, \"ticks\": \"\"}, \"colorscale\": [[0.0, \"#0d0887\"], [0.1111111111111111, \"#46039f\"], [0.2222222222222222, \"#7201a8\"], [0.3333333333333333, \"#9c179e\"], [0.4444444444444444, \"#bd3786\"], [0.5555555555555556, \"#d8576b\"], [0.6666666666666666, \"#ed7953\"], [0.7777777777777778, \"#fb9f3a\"], [0.8888888888888888, \"#fdca26\"], [1.0, \"#f0f921\"]], \"type\": \"surface\"}], \"table\": [{\"cells\": {\"fill\": {\"color\": \"#EBF0F8\"}, \"line\": {\"color\": \"white\"}}, \"header\": {\"fill\": {\"color\": \"#C8D4E3\"}, \"line\": {\"color\": \"white\"}}, \"type\": \"table\"}]}, \"layout\": {\"annotationdefaults\": {\"arrowcolor\": \"#2a3f5f\", \"arrowhead\": 0, \"arrowwidth\": 1}, \"autotypenumbers\": \"strict\", \"coloraxis\": {\"colorbar\": {\"outlinewidth\": 0, \"ticks\": \"\"}}, \"colorscale\": {\"diverging\": [[0, \"#8e0152\"], [0.1, \"#c51b7d\"], [0.2, \"#de77ae\"], [0.3, \"#f1b6da\"], [0.4, \"#fde0ef\"], [0.5, \"#f7f7f7\"], [0.6, \"#e6f5d0\"], [0.7, \"#b8e186\"], [0.8, \"#7fbc41\"], [0.9, \"#4d9221\"], [1, \"#276419\"]], \"sequential\": [[0.0, \"#0d0887\"], [0.1111111111111111, \"#46039f\"], [0.2222222222222222, \"#7201a8\"], [0.3333333333333333, \"#9c179e\"], [0.4444444444444444, \"#bd3786\"], [0.5555555555555556, \"#d8576b\"], [0.6666666666666666, \"#ed7953\"], [0.7777777777777778, \"#fb9f3a\"], [0.8888888888888888, \"#fdca26\"], [1.0, \"#f0f921\"]], \"sequentialminus\": [[0.0, \"#0d0887\"], [0.1111111111111111, \"#46039f\"], [0.2222222222222222, \"#7201a8\"], [0.3333333333333333, \"#9c179e\"], [0.4444444444444444, \"#bd3786\"], [0.5555555555555556, \"#d8576b\"], [0.6666666666666666, \"#ed7953\"], [0.7777777777777778, \"#fb9f3a\"], [0.8888888888888888, \"#fdca26\"], [1.0, \"#f0f921\"]]}, \"colorway\": [\"#636efa\", \"#EF553B\", \"#00cc96\", \"#ab63fa\", \"#FFA15A\", \"#19d3f3\", \"#FF6692\", \"#B6E880\", \"#FF97FF\", \"#FECB52\"], \"font\": {\"color\": \"#2a3f5f\"}, \"geo\": {\"bgcolor\": \"white\", \"lakecolor\": \"white\", \"landcolor\": \"#E5ECF6\", \"showlakes\": true, \"showland\": true, \"subunitcolor\": \"white\"}, \"hoverlabel\": {\"align\": \"left\"}, \"hovermode\": \"closest\", \"mapbox\": {\"style\": \"light\"}, \"paper_bgcolor\": \"white\", \"plot_bgcolor\": \"#E5ECF6\", \"polar\": {\"angularaxis\": {\"gridcolor\": \"white\", \"linecolor\": \"white\", \"ticks\": \"\"}, \"bgcolor\": \"#E5ECF6\", \"radialaxis\": {\"gridcolor\": \"white\", \"linecolor\": \"white\", \"ticks\": \"\"}}, \"scene\": {\"xaxis\": {\"backgroundcolor\": \"#E5ECF6\", \"gridcolor\": \"white\", \"gridwidth\": 2, \"linecolor\": \"white\", \"showbackground\": true, \"ticks\": \"\", \"zerolinecolor\": \"white\"}, \"yaxis\": {\"backgroundcolor\": \"#E5ECF6\", \"gridcolor\": \"white\", \"gridwidth\": 2, \"linecolor\": \"white\", \"showbackground\": true, \"ticks\": \"\", \"zerolinecolor\": \"white\"}, \"zaxis\": {\"backgroundcolor\": \"#E5ECF6\", \"gridcolor\": \"white\", \"gridwidth\": 2, \"linecolor\": \"white\", \"showbackground\": true, \"ticks\": \"\", \"zerolinecolor\": \"white\"}}, \"shapedefaults\": {\"line\": {\"color\": \"#2a3f5f\"}}, \"ternary\": {\"aaxis\": {\"gridcolor\": \"white\", \"linecolor\": \"white\", \"ticks\": \"\"}, \"baxis\": {\"gridcolor\": \"white\", \"linecolor\": \"white\", \"ticks\": \"\"}, \"bgcolor\": \"#E5ECF6\", \"caxis\": {\"gridcolor\": \"white\", \"linecolor\": \"white\", \"ticks\": \"\"}}, \"title\": {\"x\": 0.05}, \"xaxis\": {\"automargin\": true, \"gridcolor\": \"white\", \"linecolor\": \"white\", \"ticks\": \"\", \"title\": {\"standoff\": 15}, \"zerolinecolor\": \"white\", \"zerolinewidth\": 2}, \"yaxis\": {\"automargin\": true, \"gridcolor\": \"white\", \"linecolor\": \"white\", \"ticks\": \"\", \"title\": {\"standoff\": 15}, \"zerolinecolor\": \"white\", \"zerolinewidth\": 2}}}},                        {\"responsive\": true}                    ).then(function(){\n",
       "                            \n",
       "var gd = document.getElementById('4b45828a-5128-4459-bfbc-ff5e2a5e9943');\n",
       "var x = new MutationObserver(function (mutations, observer) {{\n",
       "        var display = window.getComputedStyle(gd).display;\n",
       "        if (!display || display === 'none') {{\n",
       "            console.log([gd, 'removed!']);\n",
       "            Plotly.purge(gd);\n",
       "            observer.disconnect();\n",
       "        }}\n",
       "}});\n",
       "\n",
       "// Listen for the removal of the full notebook cells\n",
       "var notebookContainer = gd.closest('#notebook-container');\n",
       "if (notebookContainer) {{\n",
       "    x.observe(notebookContainer, {childList: true});\n",
       "}}\n",
       "\n",
       "// Listen for the clearing of the current output cell\n",
       "var outputEl = gd.closest('.output');\n",
       "if (outputEl) {{\n",
       "    x.observe(outputEl, {childList: true});\n",
       "}}\n",
       "\n",
       "                        })                };                });            </script>        </div>"
      ]
     },
     "metadata": {},
     "output_type": "display_data"
    }
   ],
   "source": [
    "px.pie(data_frame=df, values='counts', names=counts.index)"
   ]
  },
  {
   "cell_type": "markdown",
   "metadata": {},
   "source": [
    "## Challenge 3\n",
    "\n",
    "Use `matplotlib` to plot the grades Student_score as a bar. There should be a bar for each student score.\n",
    "\n",
    "HINT: `help(exam_df.plot.bar)` for assistance."
   ]
  },
  {
   "cell_type": "code",
   "execution_count": 23,
   "metadata": {},
   "outputs": [
    {
     "data": {
      "text/plain": [
       "<AxesSubplot:>"
      ]
     },
     "execution_count": 23,
     "metadata": {},
     "output_type": "execute_result"
    },
    {
     "data": {
      "image/png": "[encoded data removed]",
      "text/plain": [
       "<Figure size 432x288 with 1 Axes>"
      ]
     },
     "metadata": {
      "needs_background": "light"
     },
     "output_type": "display_data"
    }
   ],
   "source": [
    "score  = exam_df['Student_Score'].value_counts()\n",
    "df = pd.DataFrame( {\"counts\" : score })\n",
    "df.plot.bar(y=\"counts\")\n"
   ]
  },
  {
   "cell_type": "code",
   "execution_count": 26,
   "metadata": {},
   "outputs": [
    {
     "data": {
      "application/vnd.plotly.v1+json": {
       "config": {
        "plotlyServerURL": "https://plotly.com"
       },
       "data": [
        {
         "alignmentgroup": "True",
         "hovertemplate": "index=%{x}<br>counts=%{y}<extra></extra>",
         "legendgroup": "",
         "marker": {
          "color": "#636efa"
         },
         "name": "",
         "offsetgroup": "",
         "orientation": "v",
         "showlegend": false,
         "textposition": "auto",
         "type": "bar",
         "x": [
          24,
          23,
          22,
          27,
          25,
          21,
          26,
          20,
          28,
          16,
          19,
          17,
          30,
          13,
          18,
          29,
          15
         ],
         "xaxis": "x",
         "y": [
          11,
          8,
          5,
          5,
          5,
          5,
          4,
          4,
          3,
          3,
          3,
          2,
          2,
          2,
          1,
          1,
          1
         ],
         "yaxis": "y"
        }
       ],
       "layout": {
        "barmode": "relative",
        "legend": {
         "tracegroupgap": 0
        },
        "margin": {
         "t": 60
        },
        "template": {
         "data": {
          "bar": [
           {
            "error_x": {
             "color": "#2a3f5f"
            },
            "error_y": {
             "color": "#2a3f5f"
            },
            "marker": {
             "line": {
              "color": "#E5ECF6",
              "width": 0.5
             }
            },
            "type": "bar"
           }
          ],
          "barpolar": [
           {
            "marker": {
             "line": {
              "color": "#E5ECF6",
              "width": 0.5
             }
            },
            "type": "barpolar"
           }
          ],
          "carpet": [
           {
            "aaxis": {
             "endlinecolor": "#2a3f5f",
             "gridcolor": "white",
             "linecolor": "white",
             "minorgridcolor": "white",
             "startlinecolor": "#2a3f5f"
            },
            "baxis": {
             "endlinecolor": "#2a3f5f",
             "gridcolor": "white",
             "linecolor": "white",
             "minorgridcolor": "white",
             "startlinecolor": "#2a3f5f"
            },
            "type": "carpet"
           }
          ],
          "choropleth": [
           {
            "colorbar": {
             "outlinewidth": 0,
             "ticks": ""
            },
            "type": "choropleth"
           }
          ],
          "contour": [
           {
            "colorbar": {
             "outlinewidth": 0,
             "ticks": ""
            },
            "colorscale": [
             [
              0,
              "#0d0887"
             ],
             [
              0.1111111111111111,
              "#46039f"
             ],
             [
              0.2222222222222222,
              "#7201a8"
             ],
             [
              0.3333333333333333,
              "#9c179e"
             ],
             [
              0.4444444444444444,
              "#bd3786"
             ],
             [
              0.5555555555555556,
              "#d8576b"
             ],
             [
              0.6666666666666666,
              "#ed7953"
             ],
             [
              0.7777777777777778,
              "#fb9f3a"
             ],
             [
              0.8888888888888888,
              "#fdca26"
             ],
             [
              1,
              "#f0f921"
             ]
            ],
            "type": "contour"
           }
          ],
          "contourcarpet": [
           {
            "colorbar": {
             "outlinewidth": 0,
             "ticks": ""
            },
            "type": "contourcarpet"
           }
          ],
          "heatmap": [
           {
            "colorbar": {
             "outlinewidth": 0,
             "ticks": ""
            },
            "colorscale": [
             [
              0,
              "#0d0887"
             ],
             [
              0.1111111111111111,
              "#46039f"
             ],
             [
              0.2222222222222222,
              "#7201a8"
             ],
             [
              0.3333333333333333,
              "#9c179e"
             ],
             [
              0.4444444444444444,
              "#bd3786"
             ],
             [
              0.5555555555555556,
              "#d8576b"
             ],
             [
              0.6666666666666666,
              "#ed7953"
             ],
             [
              0.7777777777777778,
              "#fb9f3a"
             ],
             [
              0.8888888888888888,
              "#fdca26"
             ],
             [
              1,
              "#f0f921"
             ]
            ],
            "type": "heatmap"
           }
          ],
          "heatmapgl": [
           {
            "colorbar": {
             "outlinewidth": 0,
             "ticks": ""
            },
            "colorscale": [
             [
              0,
              "#0d0887"
             ],
             [
              0.1111111111111111,
              "#46039f"
             ],
             [
              0.2222222222222222,
              "#7201a8"
             ],
             [
              0.3333333333333333,
              "#9c179e"
             ],
             [
              0.4444444444444444,
              "#bd3786"
             ],
             [
              0.5555555555555556,
              "#d8576b"
             ],
             [
              0.6666666666666666,
              "#ed7953"
             ],
             [
              0.7777777777777778,
              "#fb9f3a"
             ],
             [
              0.8888888888888888,
              "#fdca26"
             ],
             [
              1,
              "#f0f921"
             ]
            ],
            "type": "heatmapgl"
           }
          ],
          "histogram": [
           {
            "marker": {
             "colorbar": {
              "outlinewidth": 0,
              "ticks": ""
             }
            },
            "type": "histogram"
           }
          ],
          "histogram2d": [
           {
            "colorbar": {
             "outlinewidth": 0,
             "ticks": ""
            },
            "colorscale": [
             [
              0,
              "#0d0887"
             ],
             [
              0.1111111111111111,
              "#46039f"
             ],
             [
              0.2222222222222222,
              "#7201a8"
             ],
             [
              0.3333333333333333,
              "#9c179e"
             ],
             [
              0.4444444444444444,
              "#bd3786"
             ],
             [
              0.5555555555555556,
              "#d8576b"
             ],
             [
              0.6666666666666666,
              "#ed7953"
             ],
             [
              0.7777777777777778,
              "#fb9f3a"
             ],
             [
              0.8888888888888888,
              "#fdca26"
             ],
             [
              1,
              "#f0f921"
             ]
            ],
            "type": "histogram2d"
           }
          ],
          "histogram2dcontour": [
           {
            "colorbar": {
             "outlinewidth": 0,
             "ticks": ""
            },
            "colorscale": [
             [
              0,
              "#0d0887"
             ],
             [
              0.1111111111111111,
              "#46039f"
             ],
             [
              0.2222222222222222,
              "#7201a8"
             ],
             [
              0.3333333333333333,
              "#9c179e"
             ],
             [
              0.4444444444444444,
              "#bd3786"
             ],
             [
              0.5555555555555556,
              "#d8576b"
             ],
             [
              0.6666666666666666,
              "#ed7953"
             ],
             [
              0.7777777777777778,
              "#fb9f3a"
             ],
             [
              0.8888888888888888,
              "#fdca26"
             ],
             [
              1,
              "#f0f921"
             ]
            ],
            "type": "histogram2dcontour"
           }
          ],
          "mesh3d": [
           {
            "colorbar": {
             "outlinewidth": 0,
             "ticks": ""
            },
            "type": "mesh3d"
           }
          ],
          "parcoords": [
           {
            "line": {
             "colorbar": {
              "outlinewidth": 0,
              "ticks": ""
             }
            },
            "type": "parcoords"
           }
          ],
          "pie": [
           {
            "automargin": true,
            "type": "pie"
           }
          ],
          "scatter": [
           {
            "marker": {
             "colorbar": {
              "outlinewidth": 0,
              "ticks": ""
             }
            },
            "type": "scatter"
           }
          ],
          "scatter3d": [
           {
            "line": {
             "colorbar": {
              "outlinewidth": 0,
              "ticks": ""
             }
            },
            "marker": {
             "colorbar": {
              "outlinewidth": 0,
              "ticks": ""
             }
            },
            "type": "scatter3d"
           }
          ],
          "scattercarpet": [
           {
            "marker": {
             "colorbar": {
              "outlinewidth": 0,
              "ticks": ""
             }
            },
            "type": "scattercarpet"
           }
          ],
          "scattergeo": [
           {
            "marker": {
             "colorbar": {
              "outlinewidth": 0,
              "ticks": ""
             }
            },
            "type": "scattergeo"
           }
          ],
          "scattergl": [
           {
            "marker": {
             "colorbar": {
              "outlinewidth": 0,
              "ticks": ""
             }
            },
            "type": "scattergl"
           }
          ],
          "scattermapbox": [
           {
            "marker": {
             "colorbar": {
              "outlinewidth": 0,
              "ticks": ""
             }
            },
            "type": "scattermapbox"
           }
          ],
          "scatterpolar": [
           {
            "marker": {
             "colorbar": {
              "outlinewidth": 0,
              "ticks": ""
             }
            },
            "type": "scatterpolar"
           }
          ],
          "scatterpolargl": [
           {
            "marker": {
             "colorbar": {
              "outlinewidth": 0,
              "ticks": ""
             }
            },
            "type": "scatterpolargl"
           }
          ],
          "scatterternary": [
           {
            "marker": {
             "colorbar": {
              "outlinewidth": 0,
              "ticks": ""
             }
            },
            "type": "scatterternary"
           }
          ],
          "surface": [
           {
            "colorbar": {
             "outlinewidth": 0,
             "ticks": ""
            },
            "colorscale": [
             [
              0,
              "#0d0887"
             ],
             [
              0.1111111111111111,
              "#46039f"
             ],
             [
              0.2222222222222222,
              "#7201a8"
             ],
             [
              0.3333333333333333,
              "#9c179e"
             ],
             [
              0.4444444444444444,
              "#bd3786"
             ],
             [
              0.5555555555555556,
              "#d8576b"
             ],
             [
              0.6666666666666666,
              "#ed7953"
             ],
             [
              0.7777777777777778,
              "#fb9f3a"
             ],
             [
              0.8888888888888888,
              "#fdca26"
             ],
             [
              1,
              "#f0f921"
             ]
            ],
            "type": "surface"
           }
          ],
          "table": [
           {
            "cells": {
             "fill": {
              "color": "#EBF0F8"
             },
             "line": {
              "color": "white"
             }
            },
            "header": {
             "fill": {
              "color": "#C8D4E3"
             },
             "line": {
              "color": "white"
             }
            },
            "type": "table"
           }
          ]
         },
         "layout": {
          "annotationdefaults": {
           "arrowcolor": "#2a3f5f",
           "arrowhead": 0,
           "arrowwidth": 1
          },
          "autotypenumbers": "strict",
          "coloraxis": {
           "colorbar": {
            "outlinewidth": 0,
            "ticks": ""
           }
          },
          "colorscale": {
           "diverging": [
            [
             0,
             "#8e0152"
            ],
            [
             0.1,
             "#c51b7d"
            ],
            [
             0.2,
             "#de77ae"
            ],
            [
             0.3,
             "#f1b6da"
            ],
            [
             0.4,
             "#fde0ef"
            ],
            [
             0.5,
             "#f7f7f7"
            ],
            [
             0.6,
             "#e6f5d0"
            ],
            [
             0.7,
             "#b8e186"
            ],
            [
             0.8,
             "#7fbc41"
            ],
            [
             0.9,
             "#4d9221"
            ],
            [
             1,
             "#276419"
            ]
           ],
           "sequential": [
            [
             0,
             "#0d0887"
            ],
            [
             0.1111111111111111,
             "#46039f"
            ],
            [
             0.2222222222222222,
             "#7201a8"
            ],
            [
             0.3333333333333333,
             "#9c179e"
            ],
            [
             0.4444444444444444,
             "#bd3786"
            ],
            [
             0.5555555555555556,
             "#d8576b"
            ],
            [
             0.6666666666666666,
             "#ed7953"
            ],
            [
             0.7777777777777778,
             "#fb9f3a"
            ],
            [
             0.8888888888888888,
             "#fdca26"
            ],
            [
             1,
             "#f0f921"
            ]
           ],
           "sequentialminus": [
            [
             0,
             "#0d0887"
            ],
            [
             0.1111111111111111,
             "#46039f"
            ],
            [
             0.2222222222222222,
             "#7201a8"
            ],
            [
             0.3333333333333333,
             "#9c179e"
            ],
            [
             0.4444444444444444,
             "#bd3786"
            ],
            [
             0.5555555555555556,
             "#d8576b"
            ],
            [
             0.6666666666666666,
             "#ed7953"
            ],
            [
             0.7777777777777778,
             "#fb9f3a"
            ],
            [
             0.8888888888888888,
             "#fdca26"
            ],
            [
             1,
             "#f0f921"
            ]
           ]
          },
          "colorway": [
           "#636efa",
           "#EF553B",
           "#00cc96",
           "#ab63fa",
           "#FFA15A",
           "#19d3f3",
           "#FF6692",
           "#B6E880",
           "#FF97FF",
           "#FECB52"
          ],
          "font": {
           "color": "#2a3f5f"
          },
          "geo": {
           "bgcolor": "white",
           "lakecolor": "white",
           "landcolor": "#E5ECF6",
           "showlakes": true,
           "showland": true,
           "subunitcolor": "white"
          },
          "hoverlabel": {
           "align": "left"
          },
          "hovermode": "closest",
          "mapbox": {
           "style": "light"
          },
          "paper_bgcolor": "white",
          "plot_bgcolor": "#E5ECF6",
          "polar": {
           "angularaxis": {
            "gridcolor": "white",
            "linecolor": "white",
            "ticks": ""
           },
           "bgcolor": "#E5ECF6",
           "radialaxis": {
            "gridcolor": "white",
            "linecolor": "white",
            "ticks": ""
           }
          },
          "scene": {
           "xaxis": {
            "backgroundcolor": "#E5ECF6",
            "gridcolor": "white",
            "gridwidth": 2,
            "linecolor": "white",
            "showbackground": true,
            "ticks": "",
            "zerolinecolor": "white"
           },
           "yaxis": {
            "backgroundcolor": "#E5ECF6",
            "gridcolor": "white",
            "gridwidth": 2,
            "linecolor": "white",
            "showbackground": true,
            "ticks": "",
            "zerolinecolor": "white"
           },
           "zaxis": {
            "backgroundcolor": "#E5ECF6",
            "gridcolor": "white",
            "gridwidth": 2,
            "linecolor": "white",
            "showbackground": true,
            "ticks": "",
            "zerolinecolor": "white"
           }
          },
          "shapedefaults": {
           "line": {
            "color": "#2a3f5f"
           }
          },
          "ternary": {
           "aaxis": {
            "gridcolor": "white",
            "linecolor": "white",
            "ticks": ""
           },
           "baxis": {
            "gridcolor": "white",
            "linecolor": "white",
            "ticks": ""
           },
           "bgcolor": "#E5ECF6",
           "caxis": {
            "gridcolor": "white",
            "linecolor": "white",
            "ticks": ""
           }
          },
          "title": {
           "x": 0.05
          },
          "xaxis": {
           "automargin": true,
           "gridcolor": "white",
           "linecolor": "white",
           "ticks": "",
           "title": {
            "standoff": 15
           },
           "zerolinecolor": "white",
           "zerolinewidth": 2
          },
          "yaxis": {
           "automargin": true,
           "gridcolor": "white",
           "linecolor": "white",
           "ticks": "",
           "title": {
            "standoff": 15
           },
           "zerolinecolor": "white",
           "zerolinewidth": 2
          }
         }
        },
        "xaxis": {
         "anchor": "y",
         "domain": [
          0,
          1
         ],
         "title": {
          "text": "index"
         }
        },
        "yaxis": {
         "anchor": "x",
         "domain": [
          0,
          1
         ],
         "title": {
          "text": "counts"
         }
        }
       }
      },
      "text/html": [
       "<div>                            <div id=\"6859c42c-25fd-41ac-8545-c8fb5a6aa940\" class=\"plotly-graph-div\" style=\"height:525px; width:100%;\"></div>            <script type=\"text/javascript\">                require([\"plotly\"], function(Plotly) {                    window.PLOTLYENV=window.PLOTLYENV || {};                                    if (document.getElementById(\"6859c42c-25fd-41ac-8545-c8fb5a6aa940\")) {                    Plotly.newPlot(                        \"6859c42c-25fd-41ac-8545-c8fb5a6aa940\",                        [{\"alignmentgroup\": \"True\", \"hovertemplate\": \"index=%{x}<br>counts=%{y}<extra></extra>\", \"legendgroup\": \"\", \"marker\": {\"color\": \"#636efa\"}, \"name\": \"\", \"offsetgroup\": \"\", \"orientation\": \"v\", \"showlegend\": false, \"textposition\": \"auto\", \"type\": \"bar\", \"x\": [24, 23, 22, 27, 25, 21, 26, 20, 28, 16, 19, 17, 30, 13, 18, 29, 15], \"xaxis\": \"x\", \"y\": [11, 8, 5, 5, 5, 5, 4, 4, 3, 3, 3, 2, 2, 2, 1, 1, 1], \"yaxis\": \"y\"}],                        {\"barmode\": \"relative\", \"legend\": {\"tracegroupgap\": 0}, \"margin\": {\"t\": 60}, \"template\": {\"data\": {\"bar\": [{\"error_x\": {\"color\": \"#2a3f5f\"}, \"error_y\": {\"color\": \"#2a3f5f\"}, \"marker\": {\"line\": {\"color\": \"#E5ECF6\", \"width\": 0.5}}, \"type\": \"bar\"}], \"barpolar\": [{\"marker\": {\"line\": {\"color\": \"#E5ECF6\", \"width\": 0.5}}, \"type\": \"barpolar\"}], \"carpet\": [{\"aaxis\": {\"endlinecolor\": \"#2a3f5f\", \"gridcolor\": \"white\", \"linecolor\": \"white\", \"minorgridcolor\": \"white\", \"startlinecolor\": \"#2a3f5f\"}, \"baxis\": {\"endlinecolor\": \"#2a3f5f\", \"gridcolor\": \"white\", \"linecolor\": \"white\", \"minorgridcolor\": \"white\", \"startlinecolor\": \"#2a3f5f\"}, \"type\": \"carpet\"}], \"choropleth\": [{\"colorbar\": {\"outlinewidth\": 0, \"ticks\": \"\"}, \"type\": \"choropleth\"}], \"contour\": [{\"colorbar\": {\"outlinewidth\": 0, \"ticks\": \"\"}, \"colorscale\": [[0.0, \"#0d0887\"], [0.1111111111111111, \"#46039f\"], [0.2222222222222222, \"#7201a8\"], [0.3333333333333333, \"#9c179e\"], [0.4444444444444444, \"#bd3786\"], [0.5555555555555556, \"#d8576b\"], [0.6666666666666666, \"#ed7953\"], [0.7777777777777778, \"#fb9f3a\"], [0.8888888888888888, \"#fdca26\"], [1.0, \"#f0f921\"]], \"type\": \"contour\"}], \"contourcarpet\": [{\"colorbar\": {\"outlinewidth\": 0, \"ticks\": \"\"}, \"type\": \"contourcarpet\"}], \"heatmap\": [{\"colorbar\": {\"outlinewidth\": 0, \"ticks\": \"\"}, \"colorscale\": [[0.0, \"#0d0887\"], [0.1111111111111111, \"#46039f\"], [0.2222222222222222, \"#7201a8\"], [0.3333333333333333, \"#9c179e\"], [0.4444444444444444, \"#bd3786\"], [0.5555555555555556, \"#d8576b\"], [0.6666666666666666, \"#ed7953\"], [0.7777777777777778, \"#fb9f3a\"], [0.8888888888888888, \"#fdca26\"], [1.0, \"#f0f921\"]], \"type\": \"heatmap\"}], \"heatmapgl\": [{\"colorbar\": {\"outlinewidth\": 0, \"ticks\": \"\"}, \"colorscale\": [[0.0, \"#0d0887\"], [0.1111111111111111, \"#46039f\"], [0.2222222222222222, \"#7201a8\"], [0.3333333333333333, \"#9c179e\"], [0.4444444444444444, \"#bd3786\"], [0.5555555555555556, \"#d8576b\"], [0.6666666666666666, \"#ed7953\"], [0.7777777777777778, \"#fb9f3a\"], [0.8888888888888888, \"#fdca26\"], [1.0, \"#f0f921\"]], \"type\": \"heatmapgl\"}], \"histogram\": [{\"marker\": {\"colorbar\": {\"outlinewidth\": 0, \"ticks\": \"\"}}, \"type\": \"histogram\"}], \"histogram2d\": [{\"colorbar\": {\"outlinewidth\": 0, \"ticks\": \"\"}, \"colorscale\": [[0.0, \"#0d0887\"], [0.1111111111111111, \"#46039f\"], [0.2222222222222222, \"#7201a8\"], [0.3333333333333333, \"#9c179e\"], [0.4444444444444444, \"#bd3786\"], [0.5555555555555556, \"#d8576b\"], [0.6666666666666666, \"#ed7953\"], [0.7777777777777778, \"#fb9f3a\"], [0.8888888888888888, \"#fdca26\"], [1.0, \"#f0f921\"]], \"type\": \"histogram2d\"}], \"histogram2dcontour\": [{\"colorbar\": {\"outlinewidth\": 0, \"ticks\": \"\"}, \"colorscale\": [[0.0, \"#0d0887\"], [0.1111111111111111, \"#46039f\"], [0.2222222222222222, \"#7201a8\"], [0.3333333333333333, \"#9c179e\"], [0.4444444444444444, \"#bd3786\"], [0.5555555555555556, \"#d8576b\"], [0.6666666666666666, \"#ed7953\"], [0.7777777777777778, \"#fb9f3a\"], [0.8888888888888888, \"#fdca26\"], [1.0, \"#f0f921\"]], \"type\": \"histogram2dcontour\"}], \"mesh3d\": [{\"colorbar\": {\"outlinewidth\": 0, \"ticks\": \"\"}, \"type\": \"mesh3d\"}], \"parcoords\": [{\"line\": {\"colorbar\": {\"outlinewidth\": 0, \"ticks\": \"\"}}, \"type\": \"parcoords\"}], \"pie\": [{\"automargin\": true, \"type\": \"pie\"}], \"scatter\": [{\"marker\": {\"colorbar\": {\"outlinewidth\": 0, \"ticks\": \"\"}}, \"type\": \"scatter\"}], \"scatter3d\": [{\"line\": {\"colorbar\": {\"outlinewidth\": 0, \"ticks\": \"\"}}, \"marker\": {\"colorbar\": {\"outlinewidth\": 0, \"ticks\": \"\"}}, \"type\": \"scatter3d\"}], \"scattercarpet\": [{\"marker\": {\"colorbar\": {\"outlinewidth\": 0, \"ticks\": \"\"}}, \"type\": \"scattercarpet\"}], \"scattergeo\": [{\"marker\": {\"colorbar\": {\"outlinewidth\": 0, \"ticks\": \"\"}}, \"type\": \"scattergeo\"}], \"scattergl\": [{\"marker\": {\"colorbar\": {\"outlinewidth\": 0, \"ticks\": \"\"}}, \"type\": \"scattergl\"}], \"scattermapbox\": [{\"marker\": {\"colorbar\": {\"outlinewidth\": 0, \"ticks\": \"\"}}, \"type\": \"scattermapbox\"}], \"scatterpolar\": [{\"marker\": {\"colorbar\": {\"outlinewidth\": 0, \"ticks\": \"\"}}, \"type\": \"scatterpolar\"}], \"scatterpolargl\": [{\"marker\": {\"colorbar\": {\"outlinewidth\": 0, \"ticks\": \"\"}}, \"type\": \"scatterpolargl\"}], \"scatterternary\": [{\"marker\": {\"colorbar\": {\"outlinewidth\": 0, \"ticks\": \"\"}}, \"type\": \"scatterternary\"}], \"surface\": [{\"colorbar\": {\"outlinewidth\": 0, \"ticks\": \"\"}, \"colorscale\": [[0.0, \"#0d0887\"], [0.1111111111111111, \"#46039f\"], [0.2222222222222222, \"#7201a8\"], [0.3333333333333333, \"#9c179e\"], [0.4444444444444444, \"#bd3786\"], [0.5555555555555556, \"#d8576b\"], [0.6666666666666666, \"#ed7953\"], [0.7777777777777778, \"#fb9f3a\"], [0.8888888888888888, \"#fdca26\"], [1.0, \"#f0f921\"]], \"type\": \"surface\"}], \"table\": [{\"cells\": {\"fill\": {\"color\": \"#EBF0F8\"}, \"line\": {\"color\": \"white\"}}, \"header\": {\"fill\": {\"color\": \"#C8D4E3\"}, \"line\": {\"color\": \"white\"}}, \"type\": \"table\"}]}, \"layout\": {\"annotationdefaults\": {\"arrowcolor\": \"#2a3f5f\", \"arrowhead\": 0, \"arrowwidth\": 1}, \"autotypenumbers\": \"strict\", \"coloraxis\": {\"colorbar\": {\"outlinewidth\": 0, \"ticks\": \"\"}}, \"colorscale\": {\"diverging\": [[0, \"#8e0152\"], [0.1, \"#c51b7d\"], [0.2, \"#de77ae\"], [0.3, \"#f1b6da\"], [0.4, \"#fde0ef\"], [0.5, \"#f7f7f7\"], [0.6, \"#e6f5d0\"], [0.7, \"#b8e186\"], [0.8, \"#7fbc41\"], [0.9, \"#4d9221\"], [1, \"#276419\"]], \"sequential\": [[0.0, \"#0d0887\"], [0.1111111111111111, \"#46039f\"], [0.2222222222222222, \"#7201a8\"], [0.3333333333333333, \"#9c179e\"], [0.4444444444444444, \"#bd3786\"], [0.5555555555555556, \"#d8576b\"], [0.6666666666666666, \"#ed7953\"], [0.7777777777777778, \"#fb9f3a\"], [0.8888888888888888, \"#fdca26\"], [1.0, \"#f0f921\"]], \"sequentialminus\": [[0.0, \"#0d0887\"], [0.1111111111111111, \"#46039f\"], [0.2222222222222222, \"#7201a8\"], [0.3333333333333333, \"#9c179e\"], [0.4444444444444444, \"#bd3786\"], [0.5555555555555556, \"#d8576b\"], [0.6666666666666666, \"#ed7953\"], [0.7777777777777778, \"#fb9f3a\"], [0.8888888888888888, \"#fdca26\"], [1.0, \"#f0f921\"]]}, \"colorway\": [\"#636efa\", \"#EF553B\", \"#00cc96\", \"#ab63fa\", \"#FFA15A\", \"#19d3f3\", \"#FF6692\", \"#B6E880\", \"#FF97FF\", \"#FECB52\"], \"font\": {\"color\": \"#2a3f5f\"}, \"geo\": {\"bgcolor\": \"white\", \"lakecolor\": \"white\", \"landcolor\": \"#E5ECF6\", \"showlakes\": true, \"showland\": true, \"subunitcolor\": \"white\"}, \"hoverlabel\": {\"align\": \"left\"}, \"hovermode\": \"closest\", \"mapbox\": {\"style\": \"light\"}, \"paper_bgcolor\": \"white\", \"plot_bgcolor\": \"#E5ECF6\", \"polar\": {\"angularaxis\": {\"gridcolor\": \"white\", \"linecolor\": \"white\", \"ticks\": \"\"}, \"bgcolor\": \"#E5ECF6\", \"radialaxis\": {\"gridcolor\": \"white\", \"linecolor\": \"white\", \"ticks\": \"\"}}, \"scene\": {\"xaxis\": {\"backgroundcolor\": \"#E5ECF6\", \"gridcolor\": \"white\", \"gridwidth\": 2, \"linecolor\": \"white\", \"showbackground\": true, \"ticks\": \"\", \"zerolinecolor\": \"white\"}, \"yaxis\": {\"backgroundcolor\": \"#E5ECF6\", \"gridcolor\": \"white\", \"gridwidth\": 2, \"linecolor\": \"white\", \"showbackground\": true, \"ticks\": \"\", \"zerolinecolor\": \"white\"}, \"zaxis\": {\"backgroundcolor\": \"#E5ECF6\", \"gridcolor\": \"white\", \"gridwidth\": 2, \"linecolor\": \"white\", \"showbackground\": true, \"ticks\": \"\", \"zerolinecolor\": \"white\"}}, \"shapedefaults\": {\"line\": {\"color\": \"#2a3f5f\"}}, \"ternary\": {\"aaxis\": {\"gridcolor\": \"white\", \"linecolor\": \"white\", \"ticks\": \"\"}, \"baxis\": {\"gridcolor\": \"white\", \"linecolor\": \"white\", \"ticks\": \"\"}, \"bgcolor\": \"#E5ECF6\", \"caxis\": {\"gridcolor\": \"white\", \"linecolor\": \"white\", \"ticks\": \"\"}}, \"title\": {\"x\": 0.05}, \"xaxis\": {\"automargin\": true, \"gridcolor\": \"white\", \"linecolor\": \"white\", \"ticks\": \"\", \"title\": {\"standoff\": 15}, \"zerolinecolor\": \"white\", \"zerolinewidth\": 2}, \"yaxis\": {\"automargin\": true, \"gridcolor\": \"white\", \"linecolor\": \"white\", \"ticks\": \"\", \"title\": {\"standoff\": 15}, \"zerolinecolor\": \"white\", \"zerolinewidth\": 2}}}, \"xaxis\": {\"anchor\": \"y\", \"domain\": [0.0, 1.0], \"title\": {\"text\": \"index\"}}, \"yaxis\": {\"anchor\": \"x\", \"domain\": [0.0, 1.0], \"title\": {\"text\": \"counts\"}}},                        {\"responsive\": true}                    ).then(function(){\n",
       "                            \n",
       "var gd = document.getElementById('6859c42c-25fd-41ac-8545-c8fb5a6aa940');\n",
       "var x = new MutationObserver(function (mutations, observer) {{\n",
       "        var display = window.getComputedStyle(gd).display;\n",
       "        if (!display || display === 'none') {{\n",
       "            console.log([gd, 'removed!']);\n",
       "            Plotly.purge(gd);\n",
       "            observer.disconnect();\n",
       "        }}\n",
       "}});\n",
       "\n",
       "// Listen for the removal of the full notebook cells\n",
       "var notebookContainer = gd.closest('#notebook-container');\n",
       "if (notebookContainer) {{\n",
       "    x.observe(notebookContainer, {childList: true});\n",
       "}}\n",
       "\n",
       "// Listen for the clearing of the current output cell\n",
       "var outputEl = gd.closest('.output');\n",
       "if (outputEl) {{\n",
       "    x.observe(outputEl, {childList: true});\n",
       "}}\n",
       "\n",
       "                        })                };                });            </script>        </div>"
      ]
     },
     "metadata": {},
     "output_type": "display_data"
    }
   ],
   "source": [
    "px.bar(data_frame =df,y = 'counts', x = score.index )"
   ]
  },
  {
   "cell_type": "code",
   "execution_count": 33,
   "metadata": {},
   "outputs": [
    {
     "data": {
      "application/vnd.jupyter.widget-view+json": {
       "model_id": "",
       "version_major": 2,
       "version_minor": 0
      },
      "text/plain": [
       "interactive(children=(Dropdown(description='section', options=('M01', 'M02'), value='M01'), Output()), _dom_cl…"
      ]
     },
     "metadata": {},
     "output_type": "display_data"
    }
   ],
   "source": [
    "from ipywidgets import interact\n",
    "sections = ['M01', 'M02']\n",
    "@interact(section=sections)\n",
    "def showChart(section):\n",
    "    filt = exam_df[ exam_df['Class_Section'] == section  ]\n",
    "    scores = filt['Student_Score'].value_counts()\n",
    "    df = pd.DataFrame({ 'scores' : scores})\n",
    "    display(px.bar(data_frame=df, y = 'scores', x = scores.index))"
   ]
  },
  {
   "cell_type": "code",
   "execution_count": 42,
   "metadata": {},
   "outputs": [
    {
     "data": {
      "text/plain": [
       "array(['A', 'B', 'C', 'D'], dtype=object)"
      ]
     },
     "execution_count": 42,
     "metadata": {},
     "output_type": "execute_result"
    }
   ],
   "source": [
    "list(exam_df['Exam_Version'].unique())"
   ]
  },
  {
   "cell_type": "code",
   "execution_count": 46,
   "metadata": {},
   "outputs": [
    {
     "data": {
      "text/html": [
       "<h2>Hi Mom!</h2>"
      ],
      "text/plain": [
       "<IPython.core.display.HTML object>"
      ]
     },
     "metadata": {},
     "output_type": "display_data"
    },
    {
     "data": {
      "application/vnd.jupyter.widget-view+json": {
       "model_id": "3346b4cc38cd4668bb38f1cc218c30a9",
       "version_major": 2,
       "version_minor": 0
      },
      "text/plain": [
       "interactive(children=(Dropdown(description='section', options=('M01', 'M02'), value='M01'), Dropdown(descripti…"
      ]
     },
     "metadata": {},
     "output_type": "display_data"
    }
   ],
   "source": [
    "from ipywidgets import interact\n",
    "from IPython.display import display, HTML\n",
    "sections = ['M01', 'M02']\n",
    "exam_versions = list(exam_df['Exam_Version'].unique())\n",
    "display(HTML(\"<h2>Hi Mom!</h2>\"))\n",
    "@interact(section=sections,exam_version=exam_versions)\n",
    "def showChart(section,exam_version):\n",
    "    filt = exam_df[ exam_df['Class_Section'] == section  ]\n",
    "    filt2 = filt[ filt['Exam_Version'] == exam_version ]\n",
    "    scores = filt2['Student_Score'].value_counts()\n",
    "    df = pd.DataFrame({ 'scores' : scores})\n",
    "    display(HTML(\"This is a shart\"))\n",
    "    display(px.bar(data_frame=df, y = 'scores', x = scores.index))"
   ]
  },
  {
   "cell_type": "markdown",
   "metadata": {},
   "source": [
    "## Challenge 4\n",
    "\n",
    "Since the last plot was too detailed, use `matplotlib` to plot a histogram of the grades in 9 bins. \n",
    "\n",
    "HINT: `help(exam_df.hist)` for assistance."
   ]
  },
  {
   "cell_type": "code",
   "execution_count": 29,
   "metadata": {},
   "outputs": [
    {
     "data": {
      "text/html": [
       "<div>\n",
       "<style scoped>\n",
       "    .dataframe tbody tr th:only-of-type {\n",
       "        vertical-align: middle;\n",
       "    }\n",
       "\n",
       "    .dataframe tbody tr th {\n",
       "        vertical-align: top;\n",
       "    }\n",
       "\n",
       "    .dataframe thead th {\n",
       "        text-align: right;\n",
       "    }\n",
       "</style>\n",
       "<table border=\"1\" class=\"dataframe\">\n",
       "  <thead>\n",
       "    <tr style=\"text-align: right;\">\n",
       "      <th></th>\n",
       "      <th>Class_Section</th>\n",
       "      <th>Exam_Version</th>\n",
       "      <th>Completion_Time</th>\n",
       "      <th>Made_Own_Study_Guide</th>\n",
       "      <th>Did_Exam_Prep Assignment</th>\n",
       "      <th>Studied_In_Groups</th>\n",
       "      <th>Student_Score</th>\n",
       "      <th>Percentage</th>\n",
       "      <th>Letter_Grade</th>\n",
       "    </tr>\n",
       "  </thead>\n",
       "  <tbody>\n",
       "    <tr>\n",
       "      <th>0</th>\n",
       "      <td>M01</td>\n",
       "      <td>A</td>\n",
       "      <td>20</td>\n",
       "      <td>N</td>\n",
       "      <td>N</td>\n",
       "      <td>Y</td>\n",
       "      <td>24</td>\n",
       "      <td>80.00%</td>\n",
       "      <td>B</td>\n",
       "    </tr>\n",
       "    <tr>\n",
       "      <th>1</th>\n",
       "      <td>M01</td>\n",
       "      <td>A</td>\n",
       "      <td>20</td>\n",
       "      <td>?</td>\n",
       "      <td>?</td>\n",
       "      <td>?</td>\n",
       "      <td>27</td>\n",
       "      <td>90.00%</td>\n",
       "      <td>A-</td>\n",
       "    </tr>\n",
       "    <tr>\n",
       "      <th>2</th>\n",
       "      <td>M01</td>\n",
       "      <td>A</td>\n",
       "      <td>30</td>\n",
       "      <td>Y</td>\n",
       "      <td>Y</td>\n",
       "      <td>Y</td>\n",
       "      <td>30</td>\n",
       "      <td>100.00%</td>\n",
       "      <td>A</td>\n",
       "    </tr>\n",
       "    <tr>\n",
       "      <th>3</th>\n",
       "      <td>M01</td>\n",
       "      <td>A</td>\n",
       "      <td>50</td>\n",
       "      <td>N</td>\n",
       "      <td>Y</td>\n",
       "      <td>Y</td>\n",
       "      <td>18</td>\n",
       "      <td>60.00%</td>\n",
       "      <td>C-</td>\n",
       "    </tr>\n",
       "    <tr>\n",
       "      <th>4</th>\n",
       "      <td>M01</td>\n",
       "      <td>A</td>\n",
       "      <td>55</td>\n",
       "      <td>Y</td>\n",
       "      <td>Y</td>\n",
       "      <td>N</td>\n",
       "      <td>24</td>\n",
       "      <td>80.00%</td>\n",
       "      <td>B</td>\n",
       "    </tr>\n",
       "    <tr>\n",
       "      <th>...</th>\n",
       "      <td>...</td>\n",
       "      <td>...</td>\n",
       "      <td>...</td>\n",
       "      <td>...</td>\n",
       "      <td>...</td>\n",
       "      <td>...</td>\n",
       "      <td>...</td>\n",
       "      <td>...</td>\n",
       "      <td>...</td>\n",
       "    </tr>\n",
       "    <tr>\n",
       "      <th>60</th>\n",
       "      <td>M02</td>\n",
       "      <td>D</td>\n",
       "      <td>40</td>\n",
       "      <td>?</td>\n",
       "      <td>?</td>\n",
       "      <td>?</td>\n",
       "      <td>23</td>\n",
       "      <td>76.70%</td>\n",
       "      <td>B-</td>\n",
       "    </tr>\n",
       "    <tr>\n",
       "      <th>61</th>\n",
       "      <td>M02</td>\n",
       "      <td>D</td>\n",
       "      <td>45</td>\n",
       "      <td>Y</td>\n",
       "      <td>Y</td>\n",
       "      <td>N</td>\n",
       "      <td>22</td>\n",
       "      <td>73.30%</td>\n",
       "      <td>C+</td>\n",
       "    </tr>\n",
       "    <tr>\n",
       "      <th>62</th>\n",
       "      <td>M02</td>\n",
       "      <td>D</td>\n",
       "      <td>45</td>\n",
       "      <td>?</td>\n",
       "      <td>?</td>\n",
       "      <td>?</td>\n",
       "      <td>24</td>\n",
       "      <td>80.00%</td>\n",
       "      <td>B</td>\n",
       "    </tr>\n",
       "    <tr>\n",
       "      <th>63</th>\n",
       "      <td>M02</td>\n",
       "      <td>D</td>\n",
       "      <td>55</td>\n",
       "      <td>Y</td>\n",
       "      <td>Y</td>\n",
       "      <td>N</td>\n",
       "      <td>24</td>\n",
       "      <td>80.00%</td>\n",
       "      <td>B</td>\n",
       "    </tr>\n",
       "    <tr>\n",
       "      <th>64</th>\n",
       "      <td>M02</td>\n",
       "      <td>D</td>\n",
       "      <td>60</td>\n",
       "      <td>N</td>\n",
       "      <td>N</td>\n",
       "      <td>Y</td>\n",
       "      <td>24</td>\n",
       "      <td>80.00%</td>\n",
       "      <td>B</td>\n",
       "    </tr>\n",
       "  </tbody>\n",
       "</table>\n",
       "<p>65 rows × 9 columns</p>\n",
       "</div>"
      ],
      "text/plain": [
       "   Class_Section Exam_Version  Completion_Time Made_Own_Study_Guide  \\\n",
       "0            M01            A               20                    N   \n",
       "1            M01            A               20                    ?   \n",
       "2            M01            A               30                    Y   \n",
       "3            M01            A               50                    N   \n",
       "4            M01            A               55                    Y   \n",
       "..           ...          ...              ...                  ...   \n",
       "60           M02            D               40                    ?   \n",
       "61           M02            D               45                    Y   \n",
       "62           M02            D               45                    ?   \n",
       "63           M02            D               55                    Y   \n",
       "64           M02            D               60                    N   \n",
       "\n",
       "   Did_Exam_Prep Assignment Studied_In_Groups  Student_Score Percentage  \\\n",
       "0                         N                 Y             24     80.00%   \n",
       "1                         ?                 ?             27     90.00%   \n",
       "2                         Y                 Y             30    100.00%   \n",
       "3                         Y                 Y             18     60.00%   \n",
       "4                         Y                 N             24     80.00%   \n",
       "..                      ...               ...            ...        ...   \n",
       "60                        ?                 ?             23     76.70%   \n",
       "61                        Y                 N             22     73.30%   \n",
       "62                        ?                 ?             24     80.00%   \n",
       "63                        Y                 N             24     80.00%   \n",
       "64                        N                 Y             24     80.00%   \n",
       "\n",
       "   Letter_Grade  \n",
       "0             B  \n",
       "1            A-  \n",
       "2             A  \n",
       "3            C-  \n",
       "4             B  \n",
       "..          ...  \n",
       "60           B-  \n",
       "61           C+  \n",
       "62            B  \n",
       "63            B  \n",
       "64            B  \n",
       "\n",
       "[65 rows x 9 columns]"
      ]
     },
     "execution_count": 29,
     "metadata": {},
     "output_type": "execute_result"
    }
   ],
   "source": [
    "exam_df"
   ]
  },
  {
   "cell_type": "markdown",
   "metadata": {},
   "source": [
    "## Challenge 5\n",
    "\n",
    "Plot the exact same histogram using plotly express. \n",
    "\n",
    "HINT: `help(px.histogram)` for assistance. \n",
    "\n",
    "Note (binning algorithm is different)\n"
   ]
  },
  {
   "cell_type": "code",
   "execution_count": null,
   "metadata": {},
   "outputs": [],
   "source": []
  },
  {
   "cell_type": "markdown",
   "metadata": {},
   "source": [
    "## Challenge 6\n",
    "\n",
    "Plot a scatter comparing the completion time the exam to the exam score. use `matplotlib`\n",
    "\n",
    "Note: No correlation will stick out."
   ]
  },
  {
   "cell_type": "code",
   "execution_count": null,
   "metadata": {},
   "outputs": [],
   "source": []
  },
  {
   "cell_type": "markdown",
   "metadata": {},
   "source": [
    "## Challenge 7\n",
    "\n",
    "Plot the same scatter in `plotly express`\n"
   ]
  },
  {
   "cell_type": "code",
   "execution_count": null,
   "metadata": {},
   "outputs": [],
   "source": []
  },
  {
   "cell_type": "markdown",
   "metadata": {},
   "source": [
    "# Weather API Dataset\n",
    "\n",
    "Load the data "
   ]
  },
  {
   "cell_type": "code",
   "execution_count": null,
   "metadata": {},
   "outputs": [],
   "source": [
    "location = 'Syracuse, NY'\n",
    "weather = getWeather(weather_key,location)\n",
    "weather_df = pd.json_normalize(weather['daily'])\n",
    "display(weather_df.sample(3))"
   ]
  },
  {
   "cell_type": "markdown",
   "metadata": {},
   "source": [
    "## Challenge 7\n",
    "\n",
    "Plot a line of daily day temperatures (temp.day) using `matplotlib`"
   ]
  },
  {
   "cell_type": "code",
   "execution_count": null,
   "metadata": {},
   "outputs": [],
   "source": []
  },
  {
   "cell_type": "markdown",
   "metadata": {},
   "source": [
    "## Challenge 8\n",
    "\n",
    "Plot the same line in `plotly express`"
   ]
  },
  {
   "cell_type": "code",
   "execution_count": null,
   "metadata": {},
   "outputs": [],
   "source": []
  },
  {
   "cell_type": "markdown",
   "metadata": {},
   "source": [
    "## Challenge 9 \n",
    "\n",
    "Let's plot multiple series\n",
    "\n",
    "Using `matplotlib` plot two series `temp.min` and `temp.max` (both as lines) on the same graph.\n",
    "\n",
    "HINT: \n",
    "\n",
    " - This is not a one-liner. you must call in the `plt.plot()` method manually, then `display(plt)`\n",
    " - Consult the WMC1 example."
   ]
  },
  {
   "cell_type": "code",
   "execution_count": null,
   "metadata": {},
   "outputs": [],
   "source": []
  },
  {
   "cell_type": "markdown",
   "metadata": {},
   "source": [
    "## Challenge 10\n",
    "\n",
    "Plot the same thing using PoP (plain old plotly), similar to the lab example.\n",
    "\n",
    "HINT: \n",
    "\n",
    " - This is not a one-liner. you must make a figure and `add_trace()` for each series. \n",
    " - Consult the lab. "
   ]
  },
  {
   "cell_type": "code",
   "execution_count": null,
   "metadata": {},
   "outputs": [],
   "source": []
  },
  {
   "cell_type": "markdown",
   "metadata": {},
   "source": [
    "## Challenge 12\n",
    "\n",
    "Create a `folium` map at the geographic center of NY State and place a pin there. The pin should day \"This is the center\"\n",
    "\n",
    "\n",
    "HINT: \n",
    "\n",
    " - Get the center here: https://en.wikipedia.org/wiki/List_of_geographic_centers_of_the_United_States\n",
    " - Use `folium.Marker` to make the pin, then add to map\n",
    " "
   ]
  },
  {
   "cell_type": "code",
   "execution_count": null,
   "metadata": {},
   "outputs": [],
   "source": []
  },
  {
   "cell_type": "markdown",
   "metadata": {},
   "source": [
    "# Cities of New York Dataset\n",
    "\n",
    "Get it with this code"
   ]
  },
  {
   "cell_type": "code",
   "execution_count": null,
   "metadata": {},
   "outputs": [],
   "source": [
    "cities_df = pd.read_csv('https://raw.githubusercontent.com/mafudge/datasets/master/ist256/13-visualization/ny-cities.csv')\n",
    "cities_df.sample(5)"
   ]
  },
  {
   "cell_type": "markdown",
   "metadata": {},
   "source": [
    "## Challenge 13\n",
    "\n",
    "Create a `folium` map at the geographic center of NY State and place a pin there. put a red pin on the map for each city in the `cities_df` dataset.\n",
    "\n",
    "\n",
    "HINT: \n",
    "\n",
    " - Loop over each row in the data frame.\n",
    " - create the  `folium.Marker` then add to map\n",
    " "
   ]
  },
  {
   "cell_type": "code",
   "execution_count": null,
   "metadata": {
    "scrolled": true
   },
   "outputs": [],
   "source": []
  },
  {
   "cell_type": "code",
   "execution_count": null,
   "metadata": {},
   "outputs": [],
   "source": [
    "# run this code to turn in your work!\n",
    "from coursetools.submission import Submission\n",
    "Submission().submit_now()"
   ]
  }
 ],
 "metadata": {
  "anaconda-cloud": {},
  "kernelspec": {
   "display_name": "Python 3",
   "language": "python",
   "name": "python3"
  },
  "language_info": {
   "codemirror_mode": {
    "name": "ipython",
    "version": 3
   },
   "file_extension": ".py",
   "mimetype": "text/x-python",
   "name": "python",
   "nbconvert_exporter": "python",
   "pygments_lexer": "ipython3",
   "version": "3.8.6"
  },
  "toc": {
   "base_numbering": 1,
   "nav_menu": {},
   "number_sections": false,
   "sideBar": false,
   "skip_h1_title": false,
   "title_cell": "Table of Contents",
   "title_sidebar": "Contents",
   "toc_cell": false,
   "toc_position": {},
   "toc_section_display": false,
   "toc_window_display": false
  }
 },
 "nbformat": 4,
 "nbformat_minor": 1
}
