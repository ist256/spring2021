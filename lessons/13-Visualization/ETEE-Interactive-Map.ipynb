{
 "cells": [
  {
   "cell_type": "markdown",
   "metadata": {},
   "source": [
    "# End-To-End Example: Google Places Map\n",
    "\n",
    "Let's import our google functions and then use folium to plot restaurants on a map.\n",
    "\n"
   ]
  },
  {
   "cell_type": "code",
   "execution_count": 1,
   "metadata": {},
   "outputs": [
    {
     "name": "stdout",
     "output_type": "stream",
     "text": [
      "importing Jupyter notebook from googleapi.ipynb\n"
     ]
    }
   ],
   "source": [
    "import requests \n",
    "import pandas as pd\n",
    "import folium\n",
    "import import_ipynb\n",
    "import googleapi as google\n",
    "from IPython.display import display, HTML\n",
    "from ipywidgets import interact, interactive, fixed, interact_manual\n",
    "import ipywidgets as widgets"
   ]
  },
  {
   "cell_type": "code",
   "execution_count": 6,
   "metadata": {},
   "outputs": [
    {
     "name": "stdout",
     "output_type": "stream",
     "text": [
      "Help on function googlePlacesSearch in module googleapi:\n",
      "\n",
      "googlePlacesSearch(google_api_key, lat, lng, place_type)\n",
      "\n"
     ]
    }
   ],
   "source": [
    "help(google.googlePlacesSearch)"
   ]
  },
  {
   "cell_type": "code",
   "execution_count": 2,
   "metadata": {},
   "outputs": [],
   "source": [
    "google_api_key = '751838d6b9978955679461c80a7df60bde4f093d'"
   ]
  },
  {
   "cell_type": "code",
   "execution_count": 3,
   "metadata": {
    "scrolled": false
   },
   "outputs": [
    {
     "data": {
      "text/html": [
       "<h1>Yummy.com Restaurants</h1>"
      ],
      "text/plain": [
       "<IPython.core.display.HTML object>"
      ]
     },
     "metadata": {},
     "output_type": "display_data"
    },
    {
     "data": {
      "application/vnd.jupyter.widget-view+json": {
       "model_id": "08d2d742ddb24a4f818fab42bd116e10",
       "version_major": 2,
       "version_minor": 0
      },
      "text/plain": [
       "interactive(children=(Text(value='pizza', description='cuisine'), Text(value='Syracuse, NY', description='city…"
      ]
     },
     "metadata": {},
     "output_type": "display_data"
    }
   ],
   "source": [
    "display(HTML(\"<h1>Yummy.com Restaurants</h1>\"))\n",
    "interact_google=interact.options(manual=True, manual_name=\"Find Eateries!\")\n",
    "@interact_google(cuisine=\"pizza\", city=\"Syracuse, NY\")\n",
    "def main(cuisine,city):\n",
    "    geo = google.googleGeocode(google_api_key, city)\n",
    "    rests = google.googlePlacesSearch(google_api_key, geo['lat'], geo['lng'],'restaurant', keyword=cuisine)\n",
    "    rests_df = pd.json_normalize(rests)\n",
    "    MAPCITY = (geo['lat'], geo['lng'])\n",
    "    rmap = folium.Map(location=MAPCITY, zoom_start=14, width=800, height=600)\n",
    "                        \n",
    "    for row in rests_df.to_records():\n",
    "        coords = (float(row['geometry.location.lat']),float(row['geometry.location.lng']))\n",
    "        loc = f\"<p><b>{row['name']}</b></p>\"\n",
    "        loc += f\"<p>({row['rating']})</p>\"\n",
    "        marker = folium.Marker(location=coords, popup=loc,tooltip=loc)\n",
    "        rmap.add_child(marker)\n",
    "    display(rmap)\n",
    "    #display(rests_df)"
   ]
  },
  {
   "cell_type": "code",
   "execution_count": null,
   "metadata": {},
   "outputs": [],
   "source": []
  }
 ],
 "metadata": {
  "kernelspec": {
   "display_name": "Python 3",
   "language": "python",
   "name": "python3"
  },
  "language_info": {
   "codemirror_mode": {
    "name": "ipython",
    "version": 3
   },
   "file_extension": ".py",
   "mimetype": "text/x-python",
   "name": "python",
   "nbconvert_exporter": "python",
   "pygments_lexer": "ipython3",
   "version": "3.8.6"
  }
 },
 "nbformat": 4,
 "nbformat_minor": 4
}
