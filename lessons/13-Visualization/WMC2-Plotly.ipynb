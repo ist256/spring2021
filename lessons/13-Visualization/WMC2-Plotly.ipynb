{
 "cells": [
  {
   "cell_type": "markdown",
   "metadata": {},
   "source": [
    "# Watch Me Code 2: Plotly and Chart Studio\n",
    "\n",
    "- Plotly is a cloud based plotting service. It uses the popular JavaScript library D3.js.\n",
    "- Plotly is simple to use "
   ]
  },
  {
   "cell_type": "code",
   "execution_count": null,
   "metadata": {},
   "outputs": [],
   "source": [
    "!pip install chart-studio plotly --upgrade\n"
   ]
  },
  {
   "cell_type": "code",
   "execution_count": 5,
   "metadata": {},
   "outputs": [],
   "source": [
    "# PoP = Plain old plotly => Anything\n",
    "# Plotly Express => DataFrame\n",
    "import chart_studio as plotly\n",
    "import chart_studio.plotly as py\n",
    "import plotly.express as px\n",
    "import plotly.graph_objects as go\n",
    "import pandas as pd\n",
    "from IPython.display import display"
   ]
  },
  {
   "cell_type": "code",
   "execution_count": 16,
   "metadata": {},
   "outputs": [
    {
     "data": {
      "text/plain": [
       "['AngularAxis',\n",
       " 'Annotation',\n",
       " 'Annotations',\n",
       " 'Area',\n",
       " 'Bar',\n",
       " 'Barpolar',\n",
       " 'Box',\n",
       " 'Candlestick',\n",
       " 'Carpet',\n",
       " 'Choropleth',\n",
       " 'Choroplethmapbox',\n",
       " 'ColorBar',\n",
       " 'Cone',\n",
       " 'Contour',\n",
       " 'Contourcarpet',\n",
       " 'Contours',\n",
       " 'Data',\n",
       " 'Densitymapbox',\n",
       " 'ErrorX',\n",
       " 'ErrorY',\n",
       " 'ErrorZ',\n",
       " 'Figure',\n",
       " 'FigureWidget',\n",
       " 'Font',\n",
       " 'Frame',\n",
       " 'Frames',\n",
       " 'Funnel',\n",
       " 'Funnelarea',\n",
       " 'Heatmap',\n",
       " 'Heatmapgl',\n",
       " 'Histogram',\n",
       " 'Histogram2d',\n",
       " 'Histogram2dContour',\n",
       " 'Histogram2dcontour',\n",
       " 'Image',\n",
       " 'Indicator',\n",
       " 'Isosurface',\n",
       " 'Layout',\n",
       " 'Legend',\n",
       " 'Line',\n",
       " 'Margin',\n",
       " 'Marker',\n",
       " 'Mesh3d',\n",
       " 'Ohlc',\n",
       " 'Parcats',\n",
       " 'Parcoords',\n",
       " 'Pie',\n",
       " 'Pointcloud',\n",
       " 'RadialAxis',\n",
       " 'Sankey',\n",
       " 'Scatter',\n",
       " 'Scatter3d',\n",
       " 'Scattercarpet',\n",
       " 'Scattergeo',\n",
       " 'Scattergl',\n",
       " 'Scattermapbox',\n",
       " 'Scatterpolar',\n",
       " 'Scatterpolargl',\n",
       " 'Scatterternary',\n",
       " 'Scene',\n",
       " 'Splom',\n",
       " 'Stream',\n",
       " 'Streamtube',\n",
       " 'Sunburst',\n",
       " 'Surface',\n",
       " 'Table',\n",
       " 'Trace',\n",
       " 'Treemap',\n",
       " 'Violin',\n",
       " 'Volume',\n",
       " 'Waterfall',\n",
       " 'XAxis',\n",
       " 'XBins',\n",
       " 'YAxis',\n",
       " 'YBins',\n",
       " 'ZAxis',\n",
       " 'area',\n",
       " 'bar',\n",
       " 'barpolar',\n",
       " 'box',\n",
       " 'candlestick',\n",
       " 'carpet',\n",
       " 'choropleth',\n",
       " 'choroplethmapbox',\n",
       " 'cone',\n",
       " 'contour',\n",
       " 'contourcarpet',\n",
       " 'densitymapbox',\n",
       " 'funnel',\n",
       " 'funnelarea',\n",
       " 'heatmap',\n",
       " 'heatmapgl',\n",
       " 'histogram',\n",
       " 'histogram2d',\n",
       " 'histogram2dcontour',\n",
       " 'image',\n",
       " 'indicator',\n",
       " 'isosurface',\n",
       " 'layout',\n",
       " 'mesh3d',\n",
       " 'ohlc',\n",
       " 'parcats',\n",
       " 'parcoords',\n",
       " 'pie',\n",
       " 'pointcloud',\n",
       " 'sankey',\n",
       " 'scatter',\n",
       " 'scatter3d',\n",
       " 'scattercarpet',\n",
       " 'scattergeo',\n",
       " 'scattergl',\n",
       " 'scattermapbox',\n",
       " 'scatterpolar',\n",
       " 'scatterpolargl',\n",
       " 'scatterternary',\n",
       " 'splom',\n",
       " 'streamtube',\n",
       " 'sunburst',\n",
       " 'surface',\n",
       " 'table',\n",
       " 'treemap',\n",
       " 'violin',\n",
       " 'volume',\n",
       " 'waterfall']"
      ]
     },
     "execution_count": 16,
     "metadata": {},
     "output_type": "execute_result"
    }
   ],
   "source": [
    "dir(go)"
   ]
  },
  {
   "cell_type": "code",
   "execution_count": 17,
   "metadata": {},
   "outputs": [
    {
     "data": {
      "application/vnd.plotly.v1+json": {
       "config": {
        "plotlyServerURL": "https://plotly.com"
       },
       "data": [
        {
         "hovertemplate": "number=%{x}<br>stage=%{y}<extra></extra>",
         "legendgroup": "",
         "marker": {
          "color": "#636efa"
         },
         "name": "",
         "orientation": "h",
         "showlegend": false,
         "type": "funnel",
         "x": [
          39,
          27.4,
          20.6,
          11,
          2
         ],
         "xaxis": "x",
         "y": [
          "Website visit",
          "Downloads",
          "Potential customers",
          "Requested price",
          "invoice sent"
         ],
         "yaxis": "y"
        }
       ],
       "layout": {
        "legend": {
         "tracegroupgap": 0
        },
        "margin": {
         "t": 60
        },
        "template": {
         "data": {
          "bar": [
           {
            "error_x": {
             "color": "#2a3f5f"
            },
            "error_y": {
             "color": "#2a3f5f"
            },
            "marker": {
             "line": {
              "color": "#E5ECF6",
              "width": 0.5
             }
            },
            "type": "bar"
           }
          ],
          "barpolar": [
           {
            "marker": {
             "line": {
              "color": "#E5ECF6",
              "width": 0.5
             }
            },
            "type": "barpolar"
           }
          ],
          "carpet": [
           {
            "aaxis": {
             "endlinecolor": "#2a3f5f",
             "gridcolor": "white",
             "linecolor": "white",
             "minorgridcolor": "white",
             "startlinecolor": "#2a3f5f"
            },
            "baxis": {
             "endlinecolor": "#2a3f5f",
             "gridcolor": "white",
             "linecolor": "white",
             "minorgridcolor": "white",
             "startlinecolor": "#2a3f5f"
            },
            "type": "carpet"
           }
          ],
          "choropleth": [
           {
            "colorbar": {
             "outlinewidth": 0,
             "ticks": ""
            },
            "type": "choropleth"
           }
          ],
          "contour": [
           {
            "colorbar": {
             "outlinewidth": 0,
             "ticks": ""
            },
            "colorscale": [
             [
              0,
              "#0d0887"
             ],
             [
              0.1111111111111111,
              "#46039f"
             ],
             [
              0.2222222222222222,
              "#7201a8"
             ],
             [
              0.3333333333333333,
              "#9c179e"
             ],
             [
              0.4444444444444444,
              "#bd3786"
             ],
             [
              0.5555555555555556,
              "#d8576b"
             ],
             [
              0.6666666666666666,
              "#ed7953"
             ],
             [
              0.7777777777777778,
              "#fb9f3a"
             ],
             [
              0.8888888888888888,
              "#fdca26"
             ],
             [
              1,
              "#f0f921"
             ]
            ],
            "type": "contour"
           }
          ],
          "contourcarpet": [
           {
            "colorbar": {
             "outlinewidth": 0,
             "ticks": ""
            },
            "type": "contourcarpet"
           }
          ],
          "heatmap": [
           {
            "colorbar": {
             "outlinewidth": 0,
             "ticks": ""
            },
            "colorscale": [
             [
              0,
              "#0d0887"
             ],
             [
              0.1111111111111111,
              "#46039f"
             ],
             [
              0.2222222222222222,
              "#7201a8"
             ],
             [
              0.3333333333333333,
              "#9c179e"
             ],
             [
              0.4444444444444444,
              "#bd3786"
             ],
             [
              0.5555555555555556,
              "#d8576b"
             ],
             [
              0.6666666666666666,
              "#ed7953"
             ],
             [
              0.7777777777777778,
              "#fb9f3a"
             ],
             [
              0.8888888888888888,
              "#fdca26"
             ],
             [
              1,
              "#f0f921"
             ]
            ],
            "type": "heatmap"
           }
          ],
          "heatmapgl": [
           {
            "colorbar": {
             "outlinewidth": 0,
             "ticks": ""
            },
            "colorscale": [
             [
              0,
              "#0d0887"
             ],
             [
              0.1111111111111111,
              "#46039f"
             ],
             [
              0.2222222222222222,
              "#7201a8"
             ],
             [
              0.3333333333333333,
              "#9c179e"
             ],
             [
              0.4444444444444444,
              "#bd3786"
             ],
             [
              0.5555555555555556,
              "#d8576b"
             ],
             [
              0.6666666666666666,
              "#ed7953"
             ],
             [
              0.7777777777777778,
              "#fb9f3a"
             ],
             [
              0.8888888888888888,
              "#fdca26"
             ],
             [
              1,
              "#f0f921"
             ]
            ],
            "type": "heatmapgl"
           }
          ],
          "histogram": [
           {
            "marker": {
             "colorbar": {
              "outlinewidth": 0,
              "ticks": ""
             }
            },
            "type": "histogram"
           }
          ],
          "histogram2d": [
           {
            "colorbar": {
             "outlinewidth": 0,
             "ticks": ""
            },
            "colorscale": [
             [
              0,
              "#0d0887"
             ],
             [
              0.1111111111111111,
              "#46039f"
             ],
             [
              0.2222222222222222,
              "#7201a8"
             ],
             [
              0.3333333333333333,
              "#9c179e"
             ],
             [
              0.4444444444444444,
              "#bd3786"
             ],
             [
              0.5555555555555556,
              "#d8576b"
             ],
             [
              0.6666666666666666,
              "#ed7953"
             ],
             [
              0.7777777777777778,
              "#fb9f3a"
             ],
             [
              0.8888888888888888,
              "#fdca26"
             ],
             [
              1,
              "#f0f921"
             ]
            ],
            "type": "histogram2d"
           }
          ],
          "histogram2dcontour": [
           {
            "colorbar": {
             "outlinewidth": 0,
             "ticks": ""
            },
            "colorscale": [
             [
              0,
              "#0d0887"
             ],
             [
              0.1111111111111111,
              "#46039f"
             ],
             [
              0.2222222222222222,
              "#7201a8"
             ],
             [
              0.3333333333333333,
              "#9c179e"
             ],
             [
              0.4444444444444444,
              "#bd3786"
             ],
             [
              0.5555555555555556,
              "#d8576b"
             ],
             [
              0.6666666666666666,
              "#ed7953"
             ],
             [
              0.7777777777777778,
              "#fb9f3a"
             ],
             [
              0.8888888888888888,
              "#fdca26"
             ],
             [
              1,
              "#f0f921"
             ]
            ],
            "type": "histogram2dcontour"
           }
          ],
          "mesh3d": [
           {
            "colorbar": {
             "outlinewidth": 0,
             "ticks": ""
            },
            "type": "mesh3d"
           }
          ],
          "parcoords": [
           {
            "line": {
             "colorbar": {
              "outlinewidth": 0,
              "ticks": ""
             }
            },
            "type": "parcoords"
           }
          ],
          "pie": [
           {
            "automargin": true,
            "type": "pie"
           }
          ],
          "scatter": [
           {
            "marker": {
             "colorbar": {
              "outlinewidth": 0,
              "ticks": ""
             }
            },
            "type": "scatter"
           }
          ],
          "scatter3d": [
           {
            "line": {
             "colorbar": {
              "outlinewidth": 0,
              "ticks": ""
             }
            },
            "marker": {
             "colorbar": {
              "outlinewidth": 0,
              "ticks": ""
             }
            },
            "type": "scatter3d"
           }
          ],
          "scattercarpet": [
           {
            "marker": {
             "colorbar": {
              "outlinewidth": 0,
              "ticks": ""
             }
            },
            "type": "scattercarpet"
           }
          ],
          "scattergeo": [
           {
            "marker": {
             "colorbar": {
              "outlinewidth": 0,
              "ticks": ""
             }
            },
            "type": "scattergeo"
           }
          ],
          "scattergl": [
           {
            "marker": {
             "colorbar": {
              "outlinewidth": 0,
              "ticks": ""
             }
            },
            "type": "scattergl"
           }
          ],
          "scattermapbox": [
           {
            "marker": {
             "colorbar": {
              "outlinewidth": 0,
              "ticks": ""
             }
            },
            "type": "scattermapbox"
           }
          ],
          "scatterpolar": [
           {
            "marker": {
             "colorbar": {
              "outlinewidth": 0,
              "ticks": ""
             }
            },
            "type": "scatterpolar"
           }
          ],
          "scatterpolargl": [
           {
            "marker": {
             "colorbar": {
              "outlinewidth": 0,
              "ticks": ""
             }
            },
            "type": "scatterpolargl"
           }
          ],
          "scatterternary": [
           {
            "marker": {
             "colorbar": {
              "outlinewidth": 0,
              "ticks": ""
             }
            },
            "type": "scatterternary"
           }
          ],
          "surface": [
           {
            "colorbar": {
             "outlinewidth": 0,
             "ticks": ""
            },
            "colorscale": [
             [
              0,
              "#0d0887"
             ],
             [
              0.1111111111111111,
              "#46039f"
             ],
             [
              0.2222222222222222,
              "#7201a8"
             ],
             [
              0.3333333333333333,
              "#9c179e"
             ],
             [
              0.4444444444444444,
              "#bd3786"
             ],
             [
              0.5555555555555556,
              "#d8576b"
             ],
             [
              0.6666666666666666,
              "#ed7953"
             ],
             [
              0.7777777777777778,
              "#fb9f3a"
             ],
             [
              0.8888888888888888,
              "#fdca26"
             ],
             [
              1,
              "#f0f921"
             ]
            ],
            "type": "surface"
           }
          ],
          "table": [
           {
            "cells": {
             "fill": {
              "color": "#EBF0F8"
             },
             "line": {
              "color": "white"
             }
            },
            "header": {
             "fill": {
              "color": "#C8D4E3"
             },
             "line": {
              "color": "white"
             }
            },
            "type": "table"
           }
          ]
         },
         "layout": {
          "annotationdefaults": {
           "arrowcolor": "#2a3f5f",
           "arrowhead": 0,
           "arrowwidth": 1
          },
          "autotypenumbers": "strict",
          "coloraxis": {
           "colorbar": {
            "outlinewidth": 0,
            "ticks": ""
           }
          },
          "colorscale": {
           "diverging": [
            [
             0,
             "#8e0152"
            ],
            [
             0.1,
             "#c51b7d"
            ],
            [
             0.2,
             "#de77ae"
            ],
            [
             0.3,
             "#f1b6da"
            ],
            [
             0.4,
             "#fde0ef"
            ],
            [
             0.5,
             "#f7f7f7"
            ],
            [
             0.6,
             "#e6f5d0"
            ],
            [
             0.7,
             "#b8e186"
            ],
            [
             0.8,
             "#7fbc41"
            ],
            [
             0.9,
             "#4d9221"
            ],
            [
             1,
             "#276419"
            ]
           ],
           "sequential": [
            [
             0,
             "#0d0887"
            ],
            [
             0.1111111111111111,
             "#46039f"
            ],
            [
             0.2222222222222222,
             "#7201a8"
            ],
            [
             0.3333333333333333,
             "#9c179e"
            ],
            [
             0.4444444444444444,
             "#bd3786"
            ],
            [
             0.5555555555555556,
             "#d8576b"
            ],
            [
             0.6666666666666666,
             "#ed7953"
            ],
            [
             0.7777777777777778,
             "#fb9f3a"
            ],
            [
             0.8888888888888888,
             "#fdca26"
            ],
            [
             1,
             "#f0f921"
            ]
           ],
           "sequentialminus": [
            [
             0,
             "#0d0887"
            ],
            [
             0.1111111111111111,
             "#46039f"
            ],
            [
             0.2222222222222222,
             "#7201a8"
            ],
            [
             0.3333333333333333,
             "#9c179e"
            ],
            [
             0.4444444444444444,
             "#bd3786"
            ],
            [
             0.5555555555555556,
             "#d8576b"
            ],
            [
             0.6666666666666666,
             "#ed7953"
            ],
            [
             0.7777777777777778,
             "#fb9f3a"
            ],
            [
             0.8888888888888888,
             "#fdca26"
            ],
            [
             1,
             "#f0f921"
            ]
           ]
          },
          "colorway": [
           "#636efa",
           "#EF553B",
           "#00cc96",
           "#ab63fa",
           "#FFA15A",
           "#19d3f3",
           "#FF6692",
           "#B6E880",
           "#FF97FF",
           "#FECB52"
          ],
          "font": {
           "color": "#2a3f5f"
          },
          "geo": {
           "bgcolor": "white",
           "lakecolor": "white",
           "landcolor": "#E5ECF6",
           "showlakes": true,
           "showland": true,
           "subunitcolor": "white"
          },
          "hoverlabel": {
           "align": "left"
          },
          "hovermode": "closest",
          "mapbox": {
           "style": "light"
          },
          "paper_bgcolor": "white",
          "plot_bgcolor": "#E5ECF6",
          "polar": {
           "angularaxis": {
            "gridcolor": "white",
            "linecolor": "white",
            "ticks": ""
           },
           "bgcolor": "#E5ECF6",
           "radialaxis": {
            "gridcolor": "white",
            "linecolor": "white",
            "ticks": ""
           }
          },
          "scene": {
           "xaxis": {
            "backgroundcolor": "#E5ECF6",
            "gridcolor": "white",
            "gridwidth": 2,
            "linecolor": "white",
            "showbackground": true,
            "ticks": "",
            "zerolinecolor": "white"
           },
           "yaxis": {
            "backgroundcolor": "#E5ECF6",
            "gridcolor": "white",
            "gridwidth": 2,
            "linecolor": "white",
            "showbackground": true,
            "ticks": "",
            "zerolinecolor": "white"
           },
           "zaxis": {
            "backgroundcolor": "#E5ECF6",
            "gridcolor": "white",
            "gridwidth": 2,
            "linecolor": "white",
            "showbackground": true,
            "ticks": "",
            "zerolinecolor": "white"
           }
          },
          "shapedefaults": {
           "line": {
            "color": "#2a3f5f"
           }
          },
          "ternary": {
           "aaxis": {
            "gridcolor": "white",
            "linecolor": "white",
            "ticks": ""
           },
           "baxis": {
            "gridcolor": "white",
            "linecolor": "white",
            "ticks": ""
           },
           "bgcolor": "#E5ECF6",
           "caxis": {
            "gridcolor": "white",
            "linecolor": "white",
            "ticks": ""
           }
          },
          "title": {
           "x": 0.05
          },
          "xaxis": {
           "automargin": true,
           "gridcolor": "white",
           "linecolor": "white",
           "ticks": "",
           "title": {
            "standoff": 15
           },
           "zerolinecolor": "white",
           "zerolinewidth": 2
          },
          "yaxis": {
           "automargin": true,
           "gridcolor": "white",
           "linecolor": "white",
           "ticks": "",
           "title": {
            "standoff": 15
           },
           "zerolinecolor": "white",
           "zerolinewidth": 2
          }
         }
        },
        "xaxis": {
         "anchor": "y",
         "domain": [
          0,
          1
         ],
         "title": {
          "text": "number"
         }
        },
        "yaxis": {
         "anchor": "x",
         "domain": [
          0,
          1
         ],
         "title": {
          "text": "stage"
         }
        }
       }
      },
      "text/html": [
       "<div>                            <div id=\"84e643dd-a77a-4bbe-98d7-66c86b11e495\" class=\"plotly-graph-div\" style=\"height:525px; width:100%;\"></div>            <script type=\"text/javascript\">                require([\"plotly\"], function(Plotly) {                    window.PLOTLYENV=window.PLOTLYENV || {};                                    if (document.getElementById(\"84e643dd-a77a-4bbe-98d7-66c86b11e495\")) {                    Plotly.newPlot(                        \"84e643dd-a77a-4bbe-98d7-66c86b11e495\",                        [{\"hovertemplate\": \"number=%{x}<br>stage=%{y}<extra></extra>\", \"legendgroup\": \"\", \"marker\": {\"color\": \"#636efa\"}, \"name\": \"\", \"orientation\": \"h\", \"showlegend\": false, \"type\": \"funnel\", \"x\": [39.0, 27.4, 20.6, 11.0, 2.0], \"xaxis\": \"x\", \"y\": [\"Website visit\", \"Downloads\", \"Potential customers\", \"Requested price\", \"invoice sent\"], \"yaxis\": \"y\"}],                        {\"legend\": {\"tracegroupgap\": 0}, \"margin\": {\"t\": 60}, \"template\": {\"data\": {\"bar\": [{\"error_x\": {\"color\": \"#2a3f5f\"}, \"error_y\": {\"color\": \"#2a3f5f\"}, \"marker\": {\"line\": {\"color\": \"#E5ECF6\", \"width\": 0.5}}, \"type\": \"bar\"}], \"barpolar\": [{\"marker\": {\"line\": {\"color\": \"#E5ECF6\", \"width\": 0.5}}, \"type\": \"barpolar\"}], \"carpet\": [{\"aaxis\": {\"endlinecolor\": \"#2a3f5f\", \"gridcolor\": \"white\", \"linecolor\": \"white\", \"minorgridcolor\": \"white\", \"startlinecolor\": \"#2a3f5f\"}, \"baxis\": {\"endlinecolor\": \"#2a3f5f\", \"gridcolor\": \"white\", \"linecolor\": \"white\", \"minorgridcolor\": \"white\", \"startlinecolor\": \"#2a3f5f\"}, \"type\": \"carpet\"}], \"choropleth\": [{\"colorbar\": {\"outlinewidth\": 0, \"ticks\": \"\"}, \"type\": \"choropleth\"}], \"contour\": [{\"colorbar\": {\"outlinewidth\": 0, \"ticks\": \"\"}, \"colorscale\": [[0.0, \"#0d0887\"], [0.1111111111111111, \"#46039f\"], [0.2222222222222222, \"#7201a8\"], [0.3333333333333333, \"#9c179e\"], [0.4444444444444444, \"#bd3786\"], [0.5555555555555556, \"#d8576b\"], [0.6666666666666666, \"#ed7953\"], [0.7777777777777778, \"#fb9f3a\"], [0.8888888888888888, \"#fdca26\"], [1.0, \"#f0f921\"]], \"type\": \"contour\"}], \"contourcarpet\": [{\"colorbar\": {\"outlinewidth\": 0, \"ticks\": \"\"}, \"type\": \"contourcarpet\"}], \"heatmap\": [{\"colorbar\": {\"outlinewidth\": 0, \"ticks\": \"\"}, \"colorscale\": [[0.0, \"#0d0887\"], [0.1111111111111111, \"#46039f\"], [0.2222222222222222, \"#7201a8\"], [0.3333333333333333, \"#9c179e\"], [0.4444444444444444, \"#bd3786\"], [0.5555555555555556, \"#d8576b\"], [0.6666666666666666, \"#ed7953\"], [0.7777777777777778, \"#fb9f3a\"], [0.8888888888888888, \"#fdca26\"], [1.0, \"#f0f921\"]], \"type\": \"heatmap\"}], \"heatmapgl\": [{\"colorbar\": {\"outlinewidth\": 0, \"ticks\": \"\"}, \"colorscale\": [[0.0, \"#0d0887\"], [0.1111111111111111, \"#46039f\"], [0.2222222222222222, \"#7201a8\"], [0.3333333333333333, \"#9c179e\"], [0.4444444444444444, \"#bd3786\"], [0.5555555555555556, \"#d8576b\"], [0.6666666666666666, \"#ed7953\"], [0.7777777777777778, \"#fb9f3a\"], [0.8888888888888888, \"#fdca26\"], [1.0, \"#f0f921\"]], \"type\": \"heatmapgl\"}], \"histogram\": [{\"marker\": {\"colorbar\": {\"outlinewidth\": 0, \"ticks\": \"\"}}, \"type\": \"histogram\"}], \"histogram2d\": [{\"colorbar\": {\"outlinewidth\": 0, \"ticks\": \"\"}, \"colorscale\": [[0.0, \"#0d0887\"], [0.1111111111111111, \"#46039f\"], [0.2222222222222222, \"#7201a8\"], [0.3333333333333333, \"#9c179e\"], [0.4444444444444444, \"#bd3786\"], [0.5555555555555556, \"#d8576b\"], [0.6666666666666666, \"#ed7953\"], [0.7777777777777778, \"#fb9f3a\"], [0.8888888888888888, \"#fdca26\"], [1.0, \"#f0f921\"]], \"type\": \"histogram2d\"}], \"histogram2dcontour\": [{\"colorbar\": {\"outlinewidth\": 0, \"ticks\": \"\"}, \"colorscale\": [[0.0, \"#0d0887\"], [0.1111111111111111, \"#46039f\"], [0.2222222222222222, \"#7201a8\"], [0.3333333333333333, \"#9c179e\"], [0.4444444444444444, \"#bd3786\"], [0.5555555555555556, \"#d8576b\"], [0.6666666666666666, \"#ed7953\"], [0.7777777777777778, \"#fb9f3a\"], [0.8888888888888888, \"#fdca26\"], [1.0, \"#f0f921\"]], \"type\": \"histogram2dcontour\"}], \"mesh3d\": [{\"colorbar\": {\"outlinewidth\": 0, \"ticks\": \"\"}, \"type\": \"mesh3d\"}], \"parcoords\": [{\"line\": {\"colorbar\": {\"outlinewidth\": 0, \"ticks\": \"\"}}, \"type\": \"parcoords\"}], \"pie\": [{\"automargin\": true, \"type\": \"pie\"}], \"scatter\": [{\"marker\": {\"colorbar\": {\"outlinewidth\": 0, \"ticks\": \"\"}}, \"type\": \"scatter\"}], \"scatter3d\": [{\"line\": {\"colorbar\": {\"outlinewidth\": 0, \"ticks\": \"\"}}, \"marker\": {\"colorbar\": {\"outlinewidth\": 0, \"ticks\": \"\"}}, \"type\": \"scatter3d\"}], \"scattercarpet\": [{\"marker\": {\"colorbar\": {\"outlinewidth\": 0, \"ticks\": \"\"}}, \"type\": \"scattercarpet\"}], \"scattergeo\": [{\"marker\": {\"colorbar\": {\"outlinewidth\": 0, \"ticks\": \"\"}}, \"type\": \"scattergeo\"}], \"scattergl\": [{\"marker\": {\"colorbar\": {\"outlinewidth\": 0, \"ticks\": \"\"}}, \"type\": \"scattergl\"}], \"scattermapbox\": [{\"marker\": {\"colorbar\": {\"outlinewidth\": 0, \"ticks\": \"\"}}, \"type\": \"scattermapbox\"}], \"scatterpolar\": [{\"marker\": {\"colorbar\": {\"outlinewidth\": 0, \"ticks\": \"\"}}, \"type\": \"scatterpolar\"}], \"scatterpolargl\": [{\"marker\": {\"colorbar\": {\"outlinewidth\": 0, \"ticks\": \"\"}}, \"type\": \"scatterpolargl\"}], \"scatterternary\": [{\"marker\": {\"colorbar\": {\"outlinewidth\": 0, \"ticks\": \"\"}}, \"type\": \"scatterternary\"}], \"surface\": [{\"colorbar\": {\"outlinewidth\": 0, \"ticks\": \"\"}, \"colorscale\": [[0.0, \"#0d0887\"], [0.1111111111111111, \"#46039f\"], [0.2222222222222222, \"#7201a8\"], [0.3333333333333333, \"#9c179e\"], [0.4444444444444444, \"#bd3786\"], [0.5555555555555556, \"#d8576b\"], [0.6666666666666666, \"#ed7953\"], [0.7777777777777778, \"#fb9f3a\"], [0.8888888888888888, \"#fdca26\"], [1.0, \"#f0f921\"]], \"type\": \"surface\"}], \"table\": [{\"cells\": {\"fill\": {\"color\": \"#EBF0F8\"}, \"line\": {\"color\": \"white\"}}, \"header\": {\"fill\": {\"color\": \"#C8D4E3\"}, \"line\": {\"color\": \"white\"}}, \"type\": \"table\"}]}, \"layout\": {\"annotationdefaults\": {\"arrowcolor\": \"#2a3f5f\", \"arrowhead\": 0, \"arrowwidth\": 1}, \"autotypenumbers\": \"strict\", \"coloraxis\": {\"colorbar\": {\"outlinewidth\": 0, \"ticks\": \"\"}}, \"colorscale\": {\"diverging\": [[0, \"#8e0152\"], [0.1, \"#c51b7d\"], [0.2, \"#de77ae\"], [0.3, \"#f1b6da\"], [0.4, \"#fde0ef\"], [0.5, \"#f7f7f7\"], [0.6, \"#e6f5d0\"], [0.7, \"#b8e186\"], [0.8, \"#7fbc41\"], [0.9, \"#4d9221\"], [1, \"#276419\"]], \"sequential\": [[0.0, \"#0d0887\"], [0.1111111111111111, \"#46039f\"], [0.2222222222222222, \"#7201a8\"], [0.3333333333333333, \"#9c179e\"], [0.4444444444444444, \"#bd3786\"], [0.5555555555555556, \"#d8576b\"], [0.6666666666666666, \"#ed7953\"], [0.7777777777777778, \"#fb9f3a\"], [0.8888888888888888, \"#fdca26\"], [1.0, \"#f0f921\"]], \"sequentialminus\": [[0.0, \"#0d0887\"], [0.1111111111111111, \"#46039f\"], [0.2222222222222222, \"#7201a8\"], [0.3333333333333333, \"#9c179e\"], [0.4444444444444444, \"#bd3786\"], [0.5555555555555556, \"#d8576b\"], [0.6666666666666666, \"#ed7953\"], [0.7777777777777778, \"#fb9f3a\"], [0.8888888888888888, \"#fdca26\"], [1.0, \"#f0f921\"]]}, \"colorway\": [\"#636efa\", \"#EF553B\", \"#00cc96\", \"#ab63fa\", \"#FFA15A\", \"#19d3f3\", \"#FF6692\", \"#B6E880\", \"#FF97FF\", \"#FECB52\"], \"font\": {\"color\": \"#2a3f5f\"}, \"geo\": {\"bgcolor\": \"white\", \"lakecolor\": \"white\", \"landcolor\": \"#E5ECF6\", \"showlakes\": true, \"showland\": true, \"subunitcolor\": \"white\"}, \"hoverlabel\": {\"align\": \"left\"}, \"hovermode\": \"closest\", \"mapbox\": {\"style\": \"light\"}, \"paper_bgcolor\": \"white\", \"plot_bgcolor\": \"#E5ECF6\", \"polar\": {\"angularaxis\": {\"gridcolor\": \"white\", \"linecolor\": \"white\", \"ticks\": \"\"}, \"bgcolor\": \"#E5ECF6\", \"radialaxis\": {\"gridcolor\": \"white\", \"linecolor\": \"white\", \"ticks\": \"\"}}, \"scene\": {\"xaxis\": {\"backgroundcolor\": \"#E5ECF6\", \"gridcolor\": \"white\", \"gridwidth\": 2, \"linecolor\": \"white\", \"showbackground\": true, \"ticks\": \"\", \"zerolinecolor\": \"white\"}, \"yaxis\": {\"backgroundcolor\": \"#E5ECF6\", \"gridcolor\": \"white\", \"gridwidth\": 2, \"linecolor\": \"white\", \"showbackground\": true, \"ticks\": \"\", \"zerolinecolor\": \"white\"}, \"zaxis\": {\"backgroundcolor\": \"#E5ECF6\", \"gridcolor\": \"white\", \"gridwidth\": 2, \"linecolor\": \"white\", \"showbackground\": true, \"ticks\": \"\", \"zerolinecolor\": \"white\"}}, \"shapedefaults\": {\"line\": {\"color\": \"#2a3f5f\"}}, \"ternary\": {\"aaxis\": {\"gridcolor\": \"white\", \"linecolor\": \"white\", \"ticks\": \"\"}, \"baxis\": {\"gridcolor\": \"white\", \"linecolor\": \"white\", \"ticks\": \"\"}, \"bgcolor\": \"#E5ECF6\", \"caxis\": {\"gridcolor\": \"white\", \"linecolor\": \"white\", \"ticks\": \"\"}}, \"title\": {\"x\": 0.05}, \"xaxis\": {\"automargin\": true, \"gridcolor\": \"white\", \"linecolor\": \"white\", \"ticks\": \"\", \"title\": {\"standoff\": 15}, \"zerolinecolor\": \"white\", \"zerolinewidth\": 2}, \"yaxis\": {\"automargin\": true, \"gridcolor\": \"white\", \"linecolor\": \"white\", \"ticks\": \"\", \"title\": {\"standoff\": 15}, \"zerolinecolor\": \"white\", \"zerolinewidth\": 2}}}, \"xaxis\": {\"anchor\": \"y\", \"domain\": [0.0, 1.0], \"title\": {\"text\": \"number\"}}, \"yaxis\": {\"anchor\": \"x\", \"domain\": [0.0, 1.0], \"title\": {\"text\": \"stage\"}}},                        {\"responsive\": true}                    ).then(function(){\n",
       "                            \n",
       "var gd = document.getElementById('84e643dd-a77a-4bbe-98d7-66c86b11e495');\n",
       "var x = new MutationObserver(function (mutations, observer) {{\n",
       "        var display = window.getComputedStyle(gd).display;\n",
       "        if (!display || display === 'none') {{\n",
       "            console.log([gd, 'removed!']);\n",
       "            Plotly.purge(gd);\n",
       "            observer.disconnect();\n",
       "        }}\n",
       "}});\n",
       "\n",
       "// Listen for the removal of the full notebook cells\n",
       "var notebookContainer = gd.closest('#notebook-container');\n",
       "if (notebookContainer) {{\n",
       "    x.observe(notebookContainer, {childList: true});\n",
       "}}\n",
       "\n",
       "// Listen for the clearing of the current output cell\n",
       "var outputEl = gd.closest('.output');\n",
       "if (outputEl) {{\n",
       "    x.observe(outputEl, {childList: true});\n",
       "}}\n",
       "\n",
       "                        })                };                });            </script>        </div>"
      ]
     },
     "metadata": {},
     "output_type": "display_data"
    }
   ],
   "source": [
    "import plotly.express as px\n",
    "data = dict(\n",
    "    number=[39, 27.4, 20.6, 11, 2],\n",
    "    stage=[\"Website visit\", \"Downloads\", \"Potential customers\", \"Requested price\", \"invoice sent\"])\n",
    "fig = px.funnel(data, x='number', y='stage')\n",
    "fig.show()"
   ]
  },
  {
   "cell_type": "markdown",
   "metadata": {},
   "source": [
    "To use plot.ly you need to sign up for a free account then get API credentials. https://chart-studio.plot.ly/settings/api"
   ]
  },
  {
   "cell_type": "code",
   "execution_count": 6,
   "metadata": {},
   "outputs": [],
   "source": [
    "# setup the credentials\n",
    "# GET YOUR OWN CREDENTIALS!!!!!!!!\n",
    "\n",
    "plotly.tools.set_credentials_file(username='mafudge73fc', api_key='q5Lg5VEVNXO1ygKV56tl')"
   ]
  },
  {
   "cell_type": "code",
   "execution_count": 7,
   "metadata": {},
   "outputs": [
    {
     "data": {
      "text/html": [
       "<div>\n",
       "<style scoped>\n",
       "    .dataframe tbody tr th:only-of-type {\n",
       "        vertical-align: middle;\n",
       "    }\n",
       "\n",
       "    .dataframe tbody tr th {\n",
       "        vertical-align: top;\n",
       "    }\n",
       "\n",
       "    .dataframe thead th {\n",
       "        text-align: right;\n",
       "    }\n",
       "</style>\n",
       "<table border=\"1\" class=\"dataframe\">\n",
       "  <thead>\n",
       "    <tr style=\"text-align: right;\">\n",
       "      <th></th>\n",
       "      <th>subjects</th>\n",
       "      <th>grades</th>\n",
       "    </tr>\n",
       "  </thead>\n",
       "  <tbody>\n",
       "    <tr>\n",
       "      <th>0</th>\n",
       "      <td>Mathematics</td>\n",
       "      <td>67</td>\n",
       "    </tr>\n",
       "    <tr>\n",
       "      <th>1</th>\n",
       "      <td>English</td>\n",
       "      <td>60</td>\n",
       "    </tr>\n",
       "    <tr>\n",
       "      <th>2</th>\n",
       "      <td>History</td>\n",
       "      <td>36</td>\n",
       "    </tr>\n",
       "    <tr>\n",
       "      <th>3</th>\n",
       "      <td>Science</td>\n",
       "      <td>61</td>\n",
       "    </tr>\n",
       "    <tr>\n",
       "      <th>4</th>\n",
       "      <td>Arts</td>\n",
       "      <td>58</td>\n",
       "    </tr>\n",
       "  </tbody>\n",
       "</table>\n",
       "</div>"
      ],
      "text/plain": [
       "      subjects  grades\n",
       "0  Mathematics      67\n",
       "1      English      60\n",
       "2      History      36\n",
       "3      Science      61\n",
       "4         Arts      58"
      ]
     },
     "execution_count": 7,
     "metadata": {},
     "output_type": "execute_result"
    }
   ],
   "source": [
    "# Start with a Simple Pandas DataFrame\n",
    "grades = { 'subjects' : ['Mathematics', 'English', 'History', 'Science', 'Arts'],\n",
    "           'grades' : [67, 60, 36, 61, 58]\n",
    "         }\n",
    "grades_df = pd.DataFrame(grades)\n",
    "grades_df"
   ]
  },
  {
   "cell_type": "markdown",
   "metadata": {},
   "source": [
    "To plot with plotly, we need:\n",
    "\n",
    "- To create a figure\n",
    "- to add a series (trace)\n",
    "- label the axis\n",
    "- show the plot"
   ]
  },
  {
   "cell_type": "code",
   "execution_count": 8,
   "metadata": {},
   "outputs": [
    {
     "data": {
      "application/vnd.plotly.v1+json": {
       "config": {
        "plotlyServerURL": "https://plotly.com"
       },
       "data": [
        {
         "type": "bar",
         "x": [
          "Mathematics",
          "English",
          "History",
          "Science",
          "Arts"
         ],
         "y": [
          67,
          60,
          36,
          61,
          58
         ]
        }
       ],
       "layout": {
        "template": {
         "data": {
          "bar": [
           {
            "error_x": {
             "color": "#2a3f5f"
            },
            "error_y": {
             "color": "#2a3f5f"
            },
            "marker": {
             "line": {
              "color": "#E5ECF6",
              "width": 0.5
             }
            },
            "type": "bar"
           }
          ],
          "barpolar": [
           {
            "marker": {
             "line": {
              "color": "#E5ECF6",
              "width": 0.5
             }
            },
            "type": "barpolar"
           }
          ],
          "carpet": [
           {
            "aaxis": {
             "endlinecolor": "#2a3f5f",
             "gridcolor": "white",
             "linecolor": "white",
             "minorgridcolor": "white",
             "startlinecolor": "#2a3f5f"
            },
            "baxis": {
             "endlinecolor": "#2a3f5f",
             "gridcolor": "white",
             "linecolor": "white",
             "minorgridcolor": "white",
             "startlinecolor": "#2a3f5f"
            },
            "type": "carpet"
           }
          ],
          "choropleth": [
           {
            "colorbar": {
             "outlinewidth": 0,
             "ticks": ""
            },
            "type": "choropleth"
           }
          ],
          "contour": [
           {
            "colorbar": {
             "outlinewidth": 0,
             "ticks": ""
            },
            "colorscale": [
             [
              0,
              "#0d0887"
             ],
             [
              0.1111111111111111,
              "#46039f"
             ],
             [
              0.2222222222222222,
              "#7201a8"
             ],
             [
              0.3333333333333333,
              "#9c179e"
             ],
             [
              0.4444444444444444,
              "#bd3786"
             ],
             [
              0.5555555555555556,
              "#d8576b"
             ],
             [
              0.6666666666666666,
              "#ed7953"
             ],
             [
              0.7777777777777778,
              "#fb9f3a"
             ],
             [
              0.8888888888888888,
              "#fdca26"
             ],
             [
              1,
              "#f0f921"
             ]
            ],
            "type": "contour"
           }
          ],
          "contourcarpet": [
           {
            "colorbar": {
             "outlinewidth": 0,
             "ticks": ""
            },
            "type": "contourcarpet"
           }
          ],
          "heatmap": [
           {
            "colorbar": {
             "outlinewidth": 0,
             "ticks": ""
            },
            "colorscale": [
             [
              0,
              "#0d0887"
             ],
             [
              0.1111111111111111,
              "#46039f"
             ],
             [
              0.2222222222222222,
              "#7201a8"
             ],
             [
              0.3333333333333333,
              "#9c179e"
             ],
             [
              0.4444444444444444,
              "#bd3786"
             ],
             [
              0.5555555555555556,
              "#d8576b"
             ],
             [
              0.6666666666666666,
              "#ed7953"
             ],
             [
              0.7777777777777778,
              "#fb9f3a"
             ],
             [
              0.8888888888888888,
              "#fdca26"
             ],
             [
              1,
              "#f0f921"
             ]
            ],
            "type": "heatmap"
           }
          ],
          "heatmapgl": [
           {
            "colorbar": {
             "outlinewidth": 0,
             "ticks": ""
            },
            "colorscale": [
             [
              0,
              "#0d0887"
             ],
             [
              0.1111111111111111,
              "#46039f"
             ],
             [
              0.2222222222222222,
              "#7201a8"
             ],
             [
              0.3333333333333333,
              "#9c179e"
             ],
             [
              0.4444444444444444,
              "#bd3786"
             ],
             [
              0.5555555555555556,
              "#d8576b"
             ],
             [
              0.6666666666666666,
              "#ed7953"
             ],
             [
              0.7777777777777778,
              "#fb9f3a"
             ],
             [
              0.8888888888888888,
              "#fdca26"
             ],
             [
              1,
              "#f0f921"
             ]
            ],
            "type": "heatmapgl"
           }
          ],
          "histogram": [
           {
            "marker": {
             "colorbar": {
              "outlinewidth": 0,
              "ticks": ""
             }
            },
            "type": "histogram"
           }
          ],
          "histogram2d": [
           {
            "colorbar": {
             "outlinewidth": 0,
             "ticks": ""
            },
            "colorscale": [
             [
              0,
              "#0d0887"
             ],
             [
              0.1111111111111111,
              "#46039f"
             ],
             [
              0.2222222222222222,
              "#7201a8"
             ],
             [
              0.3333333333333333,
              "#9c179e"
             ],
             [
              0.4444444444444444,
              "#bd3786"
             ],
             [
              0.5555555555555556,
              "#d8576b"
             ],
             [
              0.6666666666666666,
              "#ed7953"
             ],
             [
              0.7777777777777778,
              "#fb9f3a"
             ],
             [
              0.8888888888888888,
              "#fdca26"
             ],
             [
              1,
              "#f0f921"
             ]
            ],
            "type": "histogram2d"
           }
          ],
          "histogram2dcontour": [
           {
            "colorbar": {
             "outlinewidth": 0,
             "ticks": ""
            },
            "colorscale": [
             [
              0,
              "#0d0887"
             ],
             [
              0.1111111111111111,
              "#46039f"
             ],
             [
              0.2222222222222222,
              "#7201a8"
             ],
             [
              0.3333333333333333,
              "#9c179e"
             ],
             [
              0.4444444444444444,
              "#bd3786"
             ],
             [
              0.5555555555555556,
              "#d8576b"
             ],
             [
              0.6666666666666666,
              "#ed7953"
             ],
             [
              0.7777777777777778,
              "#fb9f3a"
             ],
             [
              0.8888888888888888,
              "#fdca26"
             ],
             [
              1,
              "#f0f921"
             ]
            ],
            "type": "histogram2dcontour"
           }
          ],
          "mesh3d": [
           {
            "colorbar": {
             "outlinewidth": 0,
             "ticks": ""
            },
            "type": "mesh3d"
           }
          ],
          "parcoords": [
           {
            "line": {
             "colorbar": {
              "outlinewidth": 0,
              "ticks": ""
             }
            },
            "type": "parcoords"
           }
          ],
          "pie": [
           {
            "automargin": true,
            "type": "pie"
           }
          ],
          "scatter": [
           {
            "marker": {
             "colorbar": {
              "outlinewidth": 0,
              "ticks": ""
             }
            },
            "type": "scatter"
           }
          ],
          "scatter3d": [
           {
            "line": {
             "colorbar": {
              "outlinewidth": 0,
              "ticks": ""
             }
            },
            "marker": {
             "colorbar": {
              "outlinewidth": 0,
              "ticks": ""
             }
            },
            "type": "scatter3d"
           }
          ],
          "scattercarpet": [
           {
            "marker": {
             "colorbar": {
              "outlinewidth": 0,
              "ticks": ""
             }
            },
            "type": "scattercarpet"
           }
          ],
          "scattergeo": [
           {
            "marker": {
             "colorbar": {
              "outlinewidth": 0,
              "ticks": ""
             }
            },
            "type": "scattergeo"
           }
          ],
          "scattergl": [
           {
            "marker": {
             "colorbar": {
              "outlinewidth": 0,
              "ticks": ""
             }
            },
            "type": "scattergl"
           }
          ],
          "scattermapbox": [
           {
            "marker": {
             "colorbar": {
              "outlinewidth": 0,
              "ticks": ""
             }
            },
            "type": "scattermapbox"
           }
          ],
          "scatterpolar": [
           {
            "marker": {
             "colorbar": {
              "outlinewidth": 0,
              "ticks": ""
             }
            },
            "type": "scatterpolar"
           }
          ],
          "scatterpolargl": [
           {
            "marker": {
             "colorbar": {
              "outlinewidth": 0,
              "ticks": ""
             }
            },
            "type": "scatterpolargl"
           }
          ],
          "scatterternary": [
           {
            "marker": {
             "colorbar": {
              "outlinewidth": 0,
              "ticks": ""
             }
            },
            "type": "scatterternary"
           }
          ],
          "surface": [
           {
            "colorbar": {
             "outlinewidth": 0,
             "ticks": ""
            },
            "colorscale": [
             [
              0,
              "#0d0887"
             ],
             [
              0.1111111111111111,
              "#46039f"
             ],
             [
              0.2222222222222222,
              "#7201a8"
             ],
             [
              0.3333333333333333,
              "#9c179e"
             ],
             [
              0.4444444444444444,
              "#bd3786"
             ],
             [
              0.5555555555555556,
              "#d8576b"
             ],
             [
              0.6666666666666666,
              "#ed7953"
             ],
             [
              0.7777777777777778,
              "#fb9f3a"
             ],
             [
              0.8888888888888888,
              "#fdca26"
             ],
             [
              1,
              "#f0f921"
             ]
            ],
            "type": "surface"
           }
          ],
          "table": [
           {
            "cells": {
             "fill": {
              "color": "#EBF0F8"
             },
             "line": {
              "color": "white"
             }
            },
            "header": {
             "fill": {
              "color": "#C8D4E3"
             },
             "line": {
              "color": "white"
             }
            },
            "type": "table"
           }
          ]
         },
         "layout": {
          "annotationdefaults": {
           "arrowcolor": "#2a3f5f",
           "arrowhead": 0,
           "arrowwidth": 1
          },
          "autotypenumbers": "strict",
          "coloraxis": {
           "colorbar": {
            "outlinewidth": 0,
            "ticks": ""
           }
          },
          "colorscale": {
           "diverging": [
            [
             0,
             "#8e0152"
            ],
            [
             0.1,
             "#c51b7d"
            ],
            [
             0.2,
             "#de77ae"
            ],
            [
             0.3,
             "#f1b6da"
            ],
            [
             0.4,
             "#fde0ef"
            ],
            [
             0.5,
             "#f7f7f7"
            ],
            [
             0.6,
             "#e6f5d0"
            ],
            [
             0.7,
             "#b8e186"
            ],
            [
             0.8,
             "#7fbc41"
            ],
            [
             0.9,
             "#4d9221"
            ],
            [
             1,
             "#276419"
            ]
           ],
           "sequential": [
            [
             0,
             "#0d0887"
            ],
            [
             0.1111111111111111,
             "#46039f"
            ],
            [
             0.2222222222222222,
             "#7201a8"
            ],
            [
             0.3333333333333333,
             "#9c179e"
            ],
            [
             0.4444444444444444,
             "#bd3786"
            ],
            [
             0.5555555555555556,
             "#d8576b"
            ],
            [
             0.6666666666666666,
             "#ed7953"
            ],
            [
             0.7777777777777778,
             "#fb9f3a"
            ],
            [
             0.8888888888888888,
             "#fdca26"
            ],
            [
             1,
             "#f0f921"
            ]
           ],
           "sequentialminus": [
            [
             0,
             "#0d0887"
            ],
            [
             0.1111111111111111,
             "#46039f"
            ],
            [
             0.2222222222222222,
             "#7201a8"
            ],
            [
             0.3333333333333333,
             "#9c179e"
            ],
            [
             0.4444444444444444,
             "#bd3786"
            ],
            [
             0.5555555555555556,
             "#d8576b"
            ],
            [
             0.6666666666666666,
             "#ed7953"
            ],
            [
             0.7777777777777778,
             "#fb9f3a"
            ],
            [
             0.8888888888888888,
             "#fdca26"
            ],
            [
             1,
             "#f0f921"
            ]
           ]
          },
          "colorway": [
           "#636efa",
           "#EF553B",
           "#00cc96",
           "#ab63fa",
           "#FFA15A",
           "#19d3f3",
           "#FF6692",
           "#B6E880",
           "#FF97FF",
           "#FECB52"
          ],
          "font": {
           "color": "#2a3f5f"
          },
          "geo": {
           "bgcolor": "white",
           "lakecolor": "white",
           "landcolor": "#E5ECF6",
           "showlakes": true,
           "showland": true,
           "subunitcolor": "white"
          },
          "hoverlabel": {
           "align": "left"
          },
          "hovermode": "closest",
          "mapbox": {
           "style": "light"
          },
          "paper_bgcolor": "white",
          "plot_bgcolor": "#E5ECF6",
          "polar": {
           "angularaxis": {
            "gridcolor": "white",
            "linecolor": "white",
            "ticks": ""
           },
           "bgcolor": "#E5ECF6",
           "radialaxis": {
            "gridcolor": "white",
            "linecolor": "white",
            "ticks": ""
           }
          },
          "scene": {
           "xaxis": {
            "backgroundcolor": "#E5ECF6",
            "gridcolor": "white",
            "gridwidth": 2,
            "linecolor": "white",
            "showbackground": true,
            "ticks": "",
            "zerolinecolor": "white"
           },
           "yaxis": {
            "backgroundcolor": "#E5ECF6",
            "gridcolor": "white",
            "gridwidth": 2,
            "linecolor": "white",
            "showbackground": true,
            "ticks": "",
            "zerolinecolor": "white"
           },
           "zaxis": {
            "backgroundcolor": "#E5ECF6",
            "gridcolor": "white",
            "gridwidth": 2,
            "linecolor": "white",
            "showbackground": true,
            "ticks": "",
            "zerolinecolor": "white"
           }
          },
          "shapedefaults": {
           "line": {
            "color": "#2a3f5f"
           }
          },
          "ternary": {
           "aaxis": {
            "gridcolor": "white",
            "linecolor": "white",
            "ticks": ""
           },
           "baxis": {
            "gridcolor": "white",
            "linecolor": "white",
            "ticks": ""
           },
           "bgcolor": "#E5ECF6",
           "caxis": {
            "gridcolor": "white",
            "linecolor": "white",
            "ticks": ""
           }
          },
          "title": {
           "x": 0.05
          },
          "xaxis": {
           "automargin": true,
           "gridcolor": "white",
           "linecolor": "white",
           "ticks": "",
           "title": {
            "standoff": 15
           },
           "zerolinecolor": "white",
           "zerolinewidth": 2
          },
          "yaxis": {
           "automargin": true,
           "gridcolor": "white",
           "linecolor": "white",
           "ticks": "",
           "title": {
            "standoff": 15
           },
           "zerolinecolor": "white",
           "zerolinewidth": 2
          }
         }
        },
        "title": {
         "text": "My Grades R Awesum!"
        },
        "xaxis": {
         "title": {
          "text": "Grades"
         }
        },
        "yaxis": {
         "title": {
          "text": "Subjects"
         }
        }
       }
      },
      "text/html": [
       "<div>                            <div id=\"46ddb4a0-1d22-4906-aa63-62081c3aec56\" class=\"plotly-graph-div\" style=\"height:525px; width:100%;\"></div>            <script type=\"text/javascript\">                require([\"plotly\"], function(Plotly) {                    window.PLOTLYENV=window.PLOTLYENV || {};                                    if (document.getElementById(\"46ddb4a0-1d22-4906-aa63-62081c3aec56\")) {                    Plotly.newPlot(                        \"46ddb4a0-1d22-4906-aa63-62081c3aec56\",                        [{\"type\": \"bar\", \"x\": [\"Mathematics\", \"English\", \"History\", \"Science\", \"Arts\"], \"y\": [67, 60, 36, 61, 58]}],                        {\"template\": {\"data\": {\"bar\": [{\"error_x\": {\"color\": \"#2a3f5f\"}, \"error_y\": {\"color\": \"#2a3f5f\"}, \"marker\": {\"line\": {\"color\": \"#E5ECF6\", \"width\": 0.5}}, \"type\": \"bar\"}], \"barpolar\": [{\"marker\": {\"line\": {\"color\": \"#E5ECF6\", \"width\": 0.5}}, \"type\": \"barpolar\"}], \"carpet\": [{\"aaxis\": {\"endlinecolor\": \"#2a3f5f\", \"gridcolor\": \"white\", \"linecolor\": \"white\", \"minorgridcolor\": \"white\", \"startlinecolor\": \"#2a3f5f\"}, \"baxis\": {\"endlinecolor\": \"#2a3f5f\", \"gridcolor\": \"white\", \"linecolor\": \"white\", \"minorgridcolor\": \"white\", \"startlinecolor\": \"#2a3f5f\"}, \"type\": \"carpet\"}], \"choropleth\": [{\"colorbar\": {\"outlinewidth\": 0, \"ticks\": \"\"}, \"type\": \"choropleth\"}], \"contour\": [{\"colorbar\": {\"outlinewidth\": 0, \"ticks\": \"\"}, \"colorscale\": [[0.0, \"#0d0887\"], [0.1111111111111111, \"#46039f\"], [0.2222222222222222, \"#7201a8\"], [0.3333333333333333, \"#9c179e\"], [0.4444444444444444, \"#bd3786\"], [0.5555555555555556, \"#d8576b\"], [0.6666666666666666, \"#ed7953\"], [0.7777777777777778, \"#fb9f3a\"], [0.8888888888888888, \"#fdca26\"], [1.0, \"#f0f921\"]], \"type\": \"contour\"}], \"contourcarpet\": [{\"colorbar\": {\"outlinewidth\": 0, \"ticks\": \"\"}, \"type\": \"contourcarpet\"}], \"heatmap\": [{\"colorbar\": {\"outlinewidth\": 0, \"ticks\": \"\"}, \"colorscale\": [[0.0, \"#0d0887\"], [0.1111111111111111, \"#46039f\"], [0.2222222222222222, \"#7201a8\"], [0.3333333333333333, \"#9c179e\"], [0.4444444444444444, \"#bd3786\"], [0.5555555555555556, \"#d8576b\"], [0.6666666666666666, \"#ed7953\"], [0.7777777777777778, \"#fb9f3a\"], [0.8888888888888888, \"#fdca26\"], [1.0, \"#f0f921\"]], \"type\": \"heatmap\"}], \"heatmapgl\": [{\"colorbar\": {\"outlinewidth\": 0, \"ticks\": \"\"}, \"colorscale\": [[0.0, \"#0d0887\"], [0.1111111111111111, \"#46039f\"], [0.2222222222222222, \"#7201a8\"], [0.3333333333333333, \"#9c179e\"], [0.4444444444444444, \"#bd3786\"], [0.5555555555555556, \"#d8576b\"], [0.6666666666666666, \"#ed7953\"], [0.7777777777777778, \"#fb9f3a\"], [0.8888888888888888, \"#fdca26\"], [1.0, \"#f0f921\"]], \"type\": \"heatmapgl\"}], \"histogram\": [{\"marker\": {\"colorbar\": {\"outlinewidth\": 0, \"ticks\": \"\"}}, \"type\": \"histogram\"}], \"histogram2d\": [{\"colorbar\": {\"outlinewidth\": 0, \"ticks\": \"\"}, \"colorscale\": [[0.0, \"#0d0887\"], [0.1111111111111111, \"#46039f\"], [0.2222222222222222, \"#7201a8\"], [0.3333333333333333, \"#9c179e\"], [0.4444444444444444, \"#bd3786\"], [0.5555555555555556, \"#d8576b\"], [0.6666666666666666, \"#ed7953\"], [0.7777777777777778, \"#fb9f3a\"], [0.8888888888888888, \"#fdca26\"], [1.0, \"#f0f921\"]], \"type\": \"histogram2d\"}], \"histogram2dcontour\": [{\"colorbar\": {\"outlinewidth\": 0, \"ticks\": \"\"}, \"colorscale\": [[0.0, \"#0d0887\"], [0.1111111111111111, \"#46039f\"], [0.2222222222222222, \"#7201a8\"], [0.3333333333333333, \"#9c179e\"], [0.4444444444444444, \"#bd3786\"], [0.5555555555555556, \"#d8576b\"], [0.6666666666666666, \"#ed7953\"], [0.7777777777777778, \"#fb9f3a\"], [0.8888888888888888, \"#fdca26\"], [1.0, \"#f0f921\"]], \"type\": \"histogram2dcontour\"}], \"mesh3d\": [{\"colorbar\": {\"outlinewidth\": 0, \"ticks\": \"\"}, \"type\": \"mesh3d\"}], \"parcoords\": [{\"line\": {\"colorbar\": {\"outlinewidth\": 0, \"ticks\": \"\"}}, \"type\": \"parcoords\"}], \"pie\": [{\"automargin\": true, \"type\": \"pie\"}], \"scatter\": [{\"marker\": {\"colorbar\": {\"outlinewidth\": 0, \"ticks\": \"\"}}, \"type\": \"scatter\"}], \"scatter3d\": [{\"line\": {\"colorbar\": {\"outlinewidth\": 0, \"ticks\": \"\"}}, \"marker\": {\"colorbar\": {\"outlinewidth\": 0, \"ticks\": \"\"}}, \"type\": \"scatter3d\"}], \"scattercarpet\": [{\"marker\": {\"colorbar\": {\"outlinewidth\": 0, \"ticks\": \"\"}}, \"type\": \"scattercarpet\"}], \"scattergeo\": [{\"marker\": {\"colorbar\": {\"outlinewidth\": 0, \"ticks\": \"\"}}, \"type\": \"scattergeo\"}], \"scattergl\": [{\"marker\": {\"colorbar\": {\"outlinewidth\": 0, \"ticks\": \"\"}}, \"type\": \"scattergl\"}], \"scattermapbox\": [{\"marker\": {\"colorbar\": {\"outlinewidth\": 0, \"ticks\": \"\"}}, \"type\": \"scattermapbox\"}], \"scatterpolar\": [{\"marker\": {\"colorbar\": {\"outlinewidth\": 0, \"ticks\": \"\"}}, \"type\": \"scatterpolar\"}], \"scatterpolargl\": [{\"marker\": {\"colorbar\": {\"outlinewidth\": 0, \"ticks\": \"\"}}, \"type\": \"scatterpolargl\"}], \"scatterternary\": [{\"marker\": {\"colorbar\": {\"outlinewidth\": 0, \"ticks\": \"\"}}, \"type\": \"scatterternary\"}], \"surface\": [{\"colorbar\": {\"outlinewidth\": 0, \"ticks\": \"\"}, \"colorscale\": [[0.0, \"#0d0887\"], [0.1111111111111111, \"#46039f\"], [0.2222222222222222, \"#7201a8\"], [0.3333333333333333, \"#9c179e\"], [0.4444444444444444, \"#bd3786\"], [0.5555555555555556, \"#d8576b\"], [0.6666666666666666, \"#ed7953\"], [0.7777777777777778, \"#fb9f3a\"], [0.8888888888888888, \"#fdca26\"], [1.0, \"#f0f921\"]], \"type\": \"surface\"}], \"table\": [{\"cells\": {\"fill\": {\"color\": \"#EBF0F8\"}, \"line\": {\"color\": \"white\"}}, \"header\": {\"fill\": {\"color\": \"#C8D4E3\"}, \"line\": {\"color\": \"white\"}}, \"type\": \"table\"}]}, \"layout\": {\"annotationdefaults\": {\"arrowcolor\": \"#2a3f5f\", \"arrowhead\": 0, \"arrowwidth\": 1}, \"autotypenumbers\": \"strict\", \"coloraxis\": {\"colorbar\": {\"outlinewidth\": 0, \"ticks\": \"\"}}, \"colorscale\": {\"diverging\": [[0, \"#8e0152\"], [0.1, \"#c51b7d\"], [0.2, \"#de77ae\"], [0.3, \"#f1b6da\"], [0.4, \"#fde0ef\"], [0.5, \"#f7f7f7\"], [0.6, \"#e6f5d0\"], [0.7, \"#b8e186\"], [0.8, \"#7fbc41\"], [0.9, \"#4d9221\"], [1, \"#276419\"]], \"sequential\": [[0.0, \"#0d0887\"], [0.1111111111111111, \"#46039f\"], [0.2222222222222222, \"#7201a8\"], [0.3333333333333333, \"#9c179e\"], [0.4444444444444444, \"#bd3786\"], [0.5555555555555556, \"#d8576b\"], [0.6666666666666666, \"#ed7953\"], [0.7777777777777778, \"#fb9f3a\"], [0.8888888888888888, \"#fdca26\"], [1.0, \"#f0f921\"]], \"sequentialminus\": [[0.0, \"#0d0887\"], [0.1111111111111111, \"#46039f\"], [0.2222222222222222, \"#7201a8\"], [0.3333333333333333, \"#9c179e\"], [0.4444444444444444, \"#bd3786\"], [0.5555555555555556, \"#d8576b\"], [0.6666666666666666, \"#ed7953\"], [0.7777777777777778, \"#fb9f3a\"], [0.8888888888888888, \"#fdca26\"], [1.0, \"#f0f921\"]]}, \"colorway\": [\"#636efa\", \"#EF553B\", \"#00cc96\", \"#ab63fa\", \"#FFA15A\", \"#19d3f3\", \"#FF6692\", \"#B6E880\", \"#FF97FF\", \"#FECB52\"], \"font\": {\"color\": \"#2a3f5f\"}, \"geo\": {\"bgcolor\": \"white\", \"lakecolor\": \"white\", \"landcolor\": \"#E5ECF6\", \"showlakes\": true, \"showland\": true, \"subunitcolor\": \"white\"}, \"hoverlabel\": {\"align\": \"left\"}, \"hovermode\": \"closest\", \"mapbox\": {\"style\": \"light\"}, \"paper_bgcolor\": \"white\", \"plot_bgcolor\": \"#E5ECF6\", \"polar\": {\"angularaxis\": {\"gridcolor\": \"white\", \"linecolor\": \"white\", \"ticks\": \"\"}, \"bgcolor\": \"#E5ECF6\", \"radialaxis\": {\"gridcolor\": \"white\", \"linecolor\": \"white\", \"ticks\": \"\"}}, \"scene\": {\"xaxis\": {\"backgroundcolor\": \"#E5ECF6\", \"gridcolor\": \"white\", \"gridwidth\": 2, \"linecolor\": \"white\", \"showbackground\": true, \"ticks\": \"\", \"zerolinecolor\": \"white\"}, \"yaxis\": {\"backgroundcolor\": \"#E5ECF6\", \"gridcolor\": \"white\", \"gridwidth\": 2, \"linecolor\": \"white\", \"showbackground\": true, \"ticks\": \"\", \"zerolinecolor\": \"white\"}, \"zaxis\": {\"backgroundcolor\": \"#E5ECF6\", \"gridcolor\": \"white\", \"gridwidth\": 2, \"linecolor\": \"white\", \"showbackground\": true, \"ticks\": \"\", \"zerolinecolor\": \"white\"}}, \"shapedefaults\": {\"line\": {\"color\": \"#2a3f5f\"}}, \"ternary\": {\"aaxis\": {\"gridcolor\": \"white\", \"linecolor\": \"white\", \"ticks\": \"\"}, \"baxis\": {\"gridcolor\": \"white\", \"linecolor\": \"white\", \"ticks\": \"\"}, \"bgcolor\": \"#E5ECF6\", \"caxis\": {\"gridcolor\": \"white\", \"linecolor\": \"white\", \"ticks\": \"\"}}, \"title\": {\"x\": 0.05}, \"xaxis\": {\"automargin\": true, \"gridcolor\": \"white\", \"linecolor\": \"white\", \"ticks\": \"\", \"title\": {\"standoff\": 15}, \"zerolinecolor\": \"white\", \"zerolinewidth\": 2}, \"yaxis\": {\"automargin\": true, \"gridcolor\": \"white\", \"linecolor\": \"white\", \"ticks\": \"\", \"title\": {\"standoff\": 15}, \"zerolinecolor\": \"white\", \"zerolinewidth\": 2}}}, \"title\": {\"text\": \"My Grades R Awesum!\"}, \"xaxis\": {\"title\": {\"text\": \"Grades\"}}, \"yaxis\": {\"title\": {\"text\": \"Subjects\"}}},                        {\"responsive\": true}                    ).then(function(){\n",
       "                            \n",
       "var gd = document.getElementById('46ddb4a0-1d22-4906-aa63-62081c3aec56');\n",
       "var x = new MutationObserver(function (mutations, observer) {{\n",
       "        var display = window.getComputedStyle(gd).display;\n",
       "        if (!display || display === 'none') {{\n",
       "            console.log([gd, 'removed!']);\n",
       "            Plotly.purge(gd);\n",
       "            observer.disconnect();\n",
       "        }}\n",
       "}});\n",
       "\n",
       "// Listen for the removal of the full notebook cells\n",
       "var notebookContainer = gd.closest('#notebook-container');\n",
       "if (notebookContainer) {{\n",
       "    x.observe(notebookContainer, {childList: true});\n",
       "}}\n",
       "\n",
       "// Listen for the clearing of the current output cell\n",
       "var outputEl = gd.closest('.output');\n",
       "if (outputEl) {{\n",
       "    x.observe(outputEl, {childList: true});\n",
       "}}\n",
       "\n",
       "                        })                };                });            </script>        </div>"
      ]
     },
     "metadata": {},
     "output_type": "display_data"
    }
   ],
   "source": [
    "grade_data = go.Bar(x=grades_df['subjects'], y=grades_df['grades'])\n",
    "figure = go.Figure()\n",
    "figure.add_trace(grade_data)\n",
    "figure.update_layout(title='My Grades R Awesum!',\n",
    "                   xaxis_title='Grades',\n",
    "                   yaxis_title='Subjects')\n",
    "figure.show()"
   ]
  },
  {
   "cell_type": "markdown",
   "metadata": {},
   "source": [
    "Plotly express makes it easy to plot a dataframe"
   ]
  },
  {
   "cell_type": "code",
   "execution_count": 9,
   "metadata": {},
   "outputs": [
    {
     "data": {
      "application/vnd.plotly.v1+json": {
       "config": {
        "plotlyServerURL": "https://plotly.com"
       },
       "data": [
        {
         "alignmentgroup": "True",
         "hovertemplate": "subjects=%{x}<br>grades=%{y}<extra></extra>",
         "legendgroup": "",
         "marker": {
          "color": "#636efa"
         },
         "name": "",
         "offsetgroup": "",
         "orientation": "v",
         "showlegend": false,
         "textposition": "auto",
         "type": "bar",
         "x": [
          "Mathematics",
          "English",
          "History",
          "Science",
          "Arts"
         ],
         "xaxis": "x",
         "y": [
          67,
          60,
          36,
          61,
          58
         ],
         "yaxis": "y"
        }
       ],
       "layout": {
        "barmode": "relative",
        "legend": {
         "tracegroupgap": 0
        },
        "template": {
         "data": {
          "bar": [
           {
            "error_x": {
             "color": "#2a3f5f"
            },
            "error_y": {
             "color": "#2a3f5f"
            },
            "marker": {
             "line": {
              "color": "#E5ECF6",
              "width": 0.5
             }
            },
            "type": "bar"
           }
          ],
          "barpolar": [
           {
            "marker": {
             "line": {
              "color": "#E5ECF6",
              "width": 0.5
             }
            },
            "type": "barpolar"
           }
          ],
          "carpet": [
           {
            "aaxis": {
             "endlinecolor": "#2a3f5f",
             "gridcolor": "white",
             "linecolor": "white",
             "minorgridcolor": "white",
             "startlinecolor": "#2a3f5f"
            },
            "baxis": {
             "endlinecolor": "#2a3f5f",
             "gridcolor": "white",
             "linecolor": "white",
             "minorgridcolor": "white",
             "startlinecolor": "#2a3f5f"
            },
            "type": "carpet"
           }
          ],
          "choropleth": [
           {
            "colorbar": {
             "outlinewidth": 0,
             "ticks": ""
            },
            "type": "choropleth"
           }
          ],
          "contour": [
           {
            "colorbar": {
             "outlinewidth": 0,
             "ticks": ""
            },
            "colorscale": [
             [
              0,
              "#0d0887"
             ],
             [
              0.1111111111111111,
              "#46039f"
             ],
             [
              0.2222222222222222,
              "#7201a8"
             ],
             [
              0.3333333333333333,
              "#9c179e"
             ],
             [
              0.4444444444444444,
              "#bd3786"
             ],
             [
              0.5555555555555556,
              "#d8576b"
             ],
             [
              0.6666666666666666,
              "#ed7953"
             ],
             [
              0.7777777777777778,
              "#fb9f3a"
             ],
             [
              0.8888888888888888,
              "#fdca26"
             ],
             [
              1,
              "#f0f921"
             ]
            ],
            "type": "contour"
           }
          ],
          "contourcarpet": [
           {
            "colorbar": {
             "outlinewidth": 0,
             "ticks": ""
            },
            "type": "contourcarpet"
           }
          ],
          "heatmap": [
           {
            "colorbar": {
             "outlinewidth": 0,
             "ticks": ""
            },
            "colorscale": [
             [
              0,
              "#0d0887"
             ],
             [
              0.1111111111111111,
              "#46039f"
             ],
             [
              0.2222222222222222,
              "#7201a8"
             ],
             [
              0.3333333333333333,
              "#9c179e"
             ],
             [
              0.4444444444444444,
              "#bd3786"
             ],
             [
              0.5555555555555556,
              "#d8576b"
             ],
             [
              0.6666666666666666,
              "#ed7953"
             ],
             [
              0.7777777777777778,
              "#fb9f3a"
             ],
             [
              0.8888888888888888,
              "#fdca26"
             ],
             [
              1,
              "#f0f921"
             ]
            ],
            "type": "heatmap"
           }
          ],
          "heatmapgl": [
           {
            "colorbar": {
             "outlinewidth": 0,
             "ticks": ""
            },
            "colorscale": [
             [
              0,
              "#0d0887"
             ],
             [
              0.1111111111111111,
              "#46039f"
             ],
             [
              0.2222222222222222,
              "#7201a8"
             ],
             [
              0.3333333333333333,
              "#9c179e"
             ],
             [
              0.4444444444444444,
              "#bd3786"
             ],
             [
              0.5555555555555556,
              "#d8576b"
             ],
             [
              0.6666666666666666,
              "#ed7953"
             ],
             [
              0.7777777777777778,
              "#fb9f3a"
             ],
             [
              0.8888888888888888,
              "#fdca26"
             ],
             [
              1,
              "#f0f921"
             ]
            ],
            "type": "heatmapgl"
           }
          ],
          "histogram": [
           {
            "marker": {
             "colorbar": {
              "outlinewidth": 0,
              "ticks": ""
             }
            },
            "type": "histogram"
           }
          ],
          "histogram2d": [
           {
            "colorbar": {
             "outlinewidth": 0,
             "ticks": ""
            },
            "colorscale": [
             [
              0,
              "#0d0887"
             ],
             [
              0.1111111111111111,
              "#46039f"
             ],
             [
              0.2222222222222222,
              "#7201a8"
             ],
             [
              0.3333333333333333,
              "#9c179e"
             ],
             [
              0.4444444444444444,
              "#bd3786"
             ],
             [
              0.5555555555555556,
              "#d8576b"
             ],
             [
              0.6666666666666666,
              "#ed7953"
             ],
             [
              0.7777777777777778,
              "#fb9f3a"
             ],
             [
              0.8888888888888888,
              "#fdca26"
             ],
             [
              1,
              "#f0f921"
             ]
            ],
            "type": "histogram2d"
           }
          ],
          "histogram2dcontour": [
           {
            "colorbar": {
             "outlinewidth": 0,
             "ticks": ""
            },
            "colorscale": [
             [
              0,
              "#0d0887"
             ],
             [
              0.1111111111111111,
              "#46039f"
             ],
             [
              0.2222222222222222,
              "#7201a8"
             ],
             [
              0.3333333333333333,
              "#9c179e"
             ],
             [
              0.4444444444444444,
              "#bd3786"
             ],
             [
              0.5555555555555556,
              "#d8576b"
             ],
             [
              0.6666666666666666,
              "#ed7953"
             ],
             [
              0.7777777777777778,
              "#fb9f3a"
             ],
             [
              0.8888888888888888,
              "#fdca26"
             ],
             [
              1,
              "#f0f921"
             ]
            ],
            "type": "histogram2dcontour"
           }
          ],
          "mesh3d": [
           {
            "colorbar": {
             "outlinewidth": 0,
             "ticks": ""
            },
            "type": "mesh3d"
           }
          ],
          "parcoords": [
           {
            "line": {
             "colorbar": {
              "outlinewidth": 0,
              "ticks": ""
             }
            },
            "type": "parcoords"
           }
          ],
          "pie": [
           {
            "automargin": true,
            "type": "pie"
           }
          ],
          "scatter": [
           {
            "marker": {
             "colorbar": {
              "outlinewidth": 0,
              "ticks": ""
             }
            },
            "type": "scatter"
           }
          ],
          "scatter3d": [
           {
            "line": {
             "colorbar": {
              "outlinewidth": 0,
              "ticks": ""
             }
            },
            "marker": {
             "colorbar": {
              "outlinewidth": 0,
              "ticks": ""
             }
            },
            "type": "scatter3d"
           }
          ],
          "scattercarpet": [
           {
            "marker": {
             "colorbar": {
              "outlinewidth": 0,
              "ticks": ""
             }
            },
            "type": "scattercarpet"
           }
          ],
          "scattergeo": [
           {
            "marker": {
             "colorbar": {
              "outlinewidth": 0,
              "ticks": ""
             }
            },
            "type": "scattergeo"
           }
          ],
          "scattergl": [
           {
            "marker": {
             "colorbar": {
              "outlinewidth": 0,
              "ticks": ""
             }
            },
            "type": "scattergl"
           }
          ],
          "scattermapbox": [
           {
            "marker": {
             "colorbar": {
              "outlinewidth": 0,
              "ticks": ""
             }
            },
            "type": "scattermapbox"
           }
          ],
          "scatterpolar": [
           {
            "marker": {
             "colorbar": {
              "outlinewidth": 0,
              "ticks": ""
             }
            },
            "type": "scatterpolar"
           }
          ],
          "scatterpolargl": [
           {
            "marker": {
             "colorbar": {
              "outlinewidth": 0,
              "ticks": ""
             }
            },
            "type": "scatterpolargl"
           }
          ],
          "scatterternary": [
           {
            "marker": {
             "colorbar": {
              "outlinewidth": 0,
              "ticks": ""
             }
            },
            "type": "scatterternary"
           }
          ],
          "surface": [
           {
            "colorbar": {
             "outlinewidth": 0,
             "ticks": ""
            },
            "colorscale": [
             [
              0,
              "#0d0887"
             ],
             [
              0.1111111111111111,
              "#46039f"
             ],
             [
              0.2222222222222222,
              "#7201a8"
             ],
             [
              0.3333333333333333,
              "#9c179e"
             ],
             [
              0.4444444444444444,
              "#bd3786"
             ],
             [
              0.5555555555555556,
              "#d8576b"
             ],
             [
              0.6666666666666666,
              "#ed7953"
             ],
             [
              0.7777777777777778,
              "#fb9f3a"
             ],
             [
              0.8888888888888888,
              "#fdca26"
             ],
             [
              1,
              "#f0f921"
             ]
            ],
            "type": "surface"
           }
          ],
          "table": [
           {
            "cells": {
             "fill": {
              "color": "#EBF0F8"
             },
             "line": {
              "color": "white"
             }
            },
            "header": {
             "fill": {
              "color": "#C8D4E3"
             },
             "line": {
              "color": "white"
             }
            },
            "type": "table"
           }
          ]
         },
         "layout": {
          "annotationdefaults": {
           "arrowcolor": "#2a3f5f",
           "arrowhead": 0,
           "arrowwidth": 1
          },
          "autotypenumbers": "strict",
          "coloraxis": {
           "colorbar": {
            "outlinewidth": 0,
            "ticks": ""
           }
          },
          "colorscale": {
           "diverging": [
            [
             0,
             "#8e0152"
            ],
            [
             0.1,
             "#c51b7d"
            ],
            [
             0.2,
             "#de77ae"
            ],
            [
             0.3,
             "#f1b6da"
            ],
            [
             0.4,
             "#fde0ef"
            ],
            [
             0.5,
             "#f7f7f7"
            ],
            [
             0.6,
             "#e6f5d0"
            ],
            [
             0.7,
             "#b8e186"
            ],
            [
             0.8,
             "#7fbc41"
            ],
            [
             0.9,
             "#4d9221"
            ],
            [
             1,
             "#276419"
            ]
           ],
           "sequential": [
            [
             0,
             "#0d0887"
            ],
            [
             0.1111111111111111,
             "#46039f"
            ],
            [
             0.2222222222222222,
             "#7201a8"
            ],
            [
             0.3333333333333333,
             "#9c179e"
            ],
            [
             0.4444444444444444,
             "#bd3786"
            ],
            [
             0.5555555555555556,
             "#d8576b"
            ],
            [
             0.6666666666666666,
             "#ed7953"
            ],
            [
             0.7777777777777778,
             "#fb9f3a"
            ],
            [
             0.8888888888888888,
             "#fdca26"
            ],
            [
             1,
             "#f0f921"
            ]
           ],
           "sequentialminus": [
            [
             0,
             "#0d0887"
            ],
            [
             0.1111111111111111,
             "#46039f"
            ],
            [
             0.2222222222222222,
             "#7201a8"
            ],
            [
             0.3333333333333333,
             "#9c179e"
            ],
            [
             0.4444444444444444,
             "#bd3786"
            ],
            [
             0.5555555555555556,
             "#d8576b"
            ],
            [
             0.6666666666666666,
             "#ed7953"
            ],
            [
             0.7777777777777778,
             "#fb9f3a"
            ],
            [
             0.8888888888888888,
             "#fdca26"
            ],
            [
             1,
             "#f0f921"
            ]
           ]
          },
          "colorway": [
           "#636efa",
           "#EF553B",
           "#00cc96",
           "#ab63fa",
           "#FFA15A",
           "#19d3f3",
           "#FF6692",
           "#B6E880",
           "#FF97FF",
           "#FECB52"
          ],
          "font": {
           "color": "#2a3f5f"
          },
          "geo": {
           "bgcolor": "white",
           "lakecolor": "white",
           "landcolor": "#E5ECF6",
           "showlakes": true,
           "showland": true,
           "subunitcolor": "white"
          },
          "hoverlabel": {
           "align": "left"
          },
          "hovermode": "closest",
          "mapbox": {
           "style": "light"
          },
          "paper_bgcolor": "white",
          "plot_bgcolor": "#E5ECF6",
          "polar": {
           "angularaxis": {
            "gridcolor": "white",
            "linecolor": "white",
            "ticks": ""
           },
           "bgcolor": "#E5ECF6",
           "radialaxis": {
            "gridcolor": "white",
            "linecolor": "white",
            "ticks": ""
           }
          },
          "scene": {
           "xaxis": {
            "backgroundcolor": "#E5ECF6",
            "gridcolor": "white",
            "gridwidth": 2,
            "linecolor": "white",
            "showbackground": true,
            "ticks": "",
            "zerolinecolor": "white"
           },
           "yaxis": {
            "backgroundcolor": "#E5ECF6",
            "gridcolor": "white",
            "gridwidth": 2,
            "linecolor": "white",
            "showbackground": true,
            "ticks": "",
            "zerolinecolor": "white"
           },
           "zaxis": {
            "backgroundcolor": "#E5ECF6",
            "gridcolor": "white",
            "gridwidth": 2,
            "linecolor": "white",
            "showbackground": true,
            "ticks": "",
            "zerolinecolor": "white"
           }
          },
          "shapedefaults": {
           "line": {
            "color": "#2a3f5f"
           }
          },
          "ternary": {
           "aaxis": {
            "gridcolor": "white",
            "linecolor": "white",
            "ticks": ""
           },
           "baxis": {
            "gridcolor": "white",
            "linecolor": "white",
            "ticks": ""
           },
           "bgcolor": "#E5ECF6",
           "caxis": {
            "gridcolor": "white",
            "linecolor": "white",
            "ticks": ""
           }
          },
          "title": {
           "x": 0.05
          },
          "xaxis": {
           "automargin": true,
           "gridcolor": "white",
           "linecolor": "white",
           "ticks": "",
           "title": {
            "standoff": 15
           },
           "zerolinecolor": "white",
           "zerolinewidth": 2
          },
          "yaxis": {
           "automargin": true,
           "gridcolor": "white",
           "linecolor": "white",
           "ticks": "",
           "title": {
            "standoff": 15
           },
           "zerolinecolor": "white",
           "zerolinewidth": 2
          }
         }
        },
        "title": {
         "text": "My Grades R Awesum"
        },
        "xaxis": {
         "anchor": "y",
         "domain": [
          0,
          1
         ],
         "title": {
          "text": "subjects"
         }
        },
        "yaxis": {
         "anchor": "x",
         "domain": [
          0,
          1
         ],
         "title": {
          "text": "grades"
         }
        }
       }
      },
      "text/html": [
       "<div>                            <div id=\"1584f711-664a-4534-9997-417904a746a5\" class=\"plotly-graph-div\" style=\"height:525px; width:100%;\"></div>            <script type=\"text/javascript\">                require([\"plotly\"], function(Plotly) {                    window.PLOTLYENV=window.PLOTLYENV || {};                                    if (document.getElementById(\"1584f711-664a-4534-9997-417904a746a5\")) {                    Plotly.newPlot(                        \"1584f711-664a-4534-9997-417904a746a5\",                        [{\"alignmentgroup\": \"True\", \"hovertemplate\": \"subjects=%{x}<br>grades=%{y}<extra></extra>\", \"legendgroup\": \"\", \"marker\": {\"color\": \"#636efa\"}, \"name\": \"\", \"offsetgroup\": \"\", \"orientation\": \"v\", \"showlegend\": false, \"textposition\": \"auto\", \"type\": \"bar\", \"x\": [\"Mathematics\", \"English\", \"History\", \"Science\", \"Arts\"], \"xaxis\": \"x\", \"y\": [67, 60, 36, 61, 58], \"yaxis\": \"y\"}],                        {\"barmode\": \"relative\", \"legend\": {\"tracegroupgap\": 0}, \"template\": {\"data\": {\"bar\": [{\"error_x\": {\"color\": \"#2a3f5f\"}, \"error_y\": {\"color\": \"#2a3f5f\"}, \"marker\": {\"line\": {\"color\": \"#E5ECF6\", \"width\": 0.5}}, \"type\": \"bar\"}], \"barpolar\": [{\"marker\": {\"line\": {\"color\": \"#E5ECF6\", \"width\": 0.5}}, \"type\": \"barpolar\"}], \"carpet\": [{\"aaxis\": {\"endlinecolor\": \"#2a3f5f\", \"gridcolor\": \"white\", \"linecolor\": \"white\", \"minorgridcolor\": \"white\", \"startlinecolor\": \"#2a3f5f\"}, \"baxis\": {\"endlinecolor\": \"#2a3f5f\", \"gridcolor\": \"white\", \"linecolor\": \"white\", \"minorgridcolor\": \"white\", \"startlinecolor\": \"#2a3f5f\"}, \"type\": \"carpet\"}], \"choropleth\": [{\"colorbar\": {\"outlinewidth\": 0, \"ticks\": \"\"}, \"type\": \"choropleth\"}], \"contour\": [{\"colorbar\": {\"outlinewidth\": 0, \"ticks\": \"\"}, \"colorscale\": [[0.0, \"#0d0887\"], [0.1111111111111111, \"#46039f\"], [0.2222222222222222, \"#7201a8\"], [0.3333333333333333, \"#9c179e\"], [0.4444444444444444, \"#bd3786\"], [0.5555555555555556, \"#d8576b\"], [0.6666666666666666, \"#ed7953\"], [0.7777777777777778, \"#fb9f3a\"], [0.8888888888888888, \"#fdca26\"], [1.0, \"#f0f921\"]], \"type\": \"contour\"}], \"contourcarpet\": [{\"colorbar\": {\"outlinewidth\": 0, \"ticks\": \"\"}, \"type\": \"contourcarpet\"}], \"heatmap\": [{\"colorbar\": {\"outlinewidth\": 0, \"ticks\": \"\"}, \"colorscale\": [[0.0, \"#0d0887\"], [0.1111111111111111, \"#46039f\"], [0.2222222222222222, \"#7201a8\"], [0.3333333333333333, \"#9c179e\"], [0.4444444444444444, \"#bd3786\"], [0.5555555555555556, \"#d8576b\"], [0.6666666666666666, \"#ed7953\"], [0.7777777777777778, \"#fb9f3a\"], [0.8888888888888888, \"#fdca26\"], [1.0, \"#f0f921\"]], \"type\": \"heatmap\"}], \"heatmapgl\": [{\"colorbar\": {\"outlinewidth\": 0, \"ticks\": \"\"}, \"colorscale\": [[0.0, \"#0d0887\"], [0.1111111111111111, \"#46039f\"], [0.2222222222222222, \"#7201a8\"], [0.3333333333333333, \"#9c179e\"], [0.4444444444444444, \"#bd3786\"], [0.5555555555555556, \"#d8576b\"], [0.6666666666666666, \"#ed7953\"], [0.7777777777777778, \"#fb9f3a\"], [0.8888888888888888, \"#fdca26\"], [1.0, \"#f0f921\"]], \"type\": \"heatmapgl\"}], \"histogram\": [{\"marker\": {\"colorbar\": {\"outlinewidth\": 0, \"ticks\": \"\"}}, \"type\": \"histogram\"}], \"histogram2d\": [{\"colorbar\": {\"outlinewidth\": 0, \"ticks\": \"\"}, \"colorscale\": [[0.0, \"#0d0887\"], [0.1111111111111111, \"#46039f\"], [0.2222222222222222, \"#7201a8\"], [0.3333333333333333, \"#9c179e\"], [0.4444444444444444, \"#bd3786\"], [0.5555555555555556, \"#d8576b\"], [0.6666666666666666, \"#ed7953\"], [0.7777777777777778, \"#fb9f3a\"], [0.8888888888888888, \"#fdca26\"], [1.0, \"#f0f921\"]], \"type\": \"histogram2d\"}], \"histogram2dcontour\": [{\"colorbar\": {\"outlinewidth\": 0, \"ticks\": \"\"}, \"colorscale\": [[0.0, \"#0d0887\"], [0.1111111111111111, \"#46039f\"], [0.2222222222222222, \"#7201a8\"], [0.3333333333333333, \"#9c179e\"], [0.4444444444444444, \"#bd3786\"], [0.5555555555555556, \"#d8576b\"], [0.6666666666666666, \"#ed7953\"], [0.7777777777777778, \"#fb9f3a\"], [0.8888888888888888, \"#fdca26\"], [1.0, \"#f0f921\"]], \"type\": \"histogram2dcontour\"}], \"mesh3d\": [{\"colorbar\": {\"outlinewidth\": 0, \"ticks\": \"\"}, \"type\": \"mesh3d\"}], \"parcoords\": [{\"line\": {\"colorbar\": {\"outlinewidth\": 0, \"ticks\": \"\"}}, \"type\": \"parcoords\"}], \"pie\": [{\"automargin\": true, \"type\": \"pie\"}], \"scatter\": [{\"marker\": {\"colorbar\": {\"outlinewidth\": 0, \"ticks\": \"\"}}, \"type\": \"scatter\"}], \"scatter3d\": [{\"line\": {\"colorbar\": {\"outlinewidth\": 0, \"ticks\": \"\"}}, \"marker\": {\"colorbar\": {\"outlinewidth\": 0, \"ticks\": \"\"}}, \"type\": \"scatter3d\"}], \"scattercarpet\": [{\"marker\": {\"colorbar\": {\"outlinewidth\": 0, \"ticks\": \"\"}}, \"type\": \"scattercarpet\"}], \"scattergeo\": [{\"marker\": {\"colorbar\": {\"outlinewidth\": 0, \"ticks\": \"\"}}, \"type\": \"scattergeo\"}], \"scattergl\": [{\"marker\": {\"colorbar\": {\"outlinewidth\": 0, \"ticks\": \"\"}}, \"type\": \"scattergl\"}], \"scattermapbox\": [{\"marker\": {\"colorbar\": {\"outlinewidth\": 0, \"ticks\": \"\"}}, \"type\": \"scattermapbox\"}], \"scatterpolar\": [{\"marker\": {\"colorbar\": {\"outlinewidth\": 0, \"ticks\": \"\"}}, \"type\": \"scatterpolar\"}], \"scatterpolargl\": [{\"marker\": {\"colorbar\": {\"outlinewidth\": 0, \"ticks\": \"\"}}, \"type\": \"scatterpolargl\"}], \"scatterternary\": [{\"marker\": {\"colorbar\": {\"outlinewidth\": 0, \"ticks\": \"\"}}, \"type\": \"scatterternary\"}], \"surface\": [{\"colorbar\": {\"outlinewidth\": 0, \"ticks\": \"\"}, \"colorscale\": [[0.0, \"#0d0887\"], [0.1111111111111111, \"#46039f\"], [0.2222222222222222, \"#7201a8\"], [0.3333333333333333, \"#9c179e\"], [0.4444444444444444, \"#bd3786\"], [0.5555555555555556, \"#d8576b\"], [0.6666666666666666, \"#ed7953\"], [0.7777777777777778, \"#fb9f3a\"], [0.8888888888888888, \"#fdca26\"], [1.0, \"#f0f921\"]], \"type\": \"surface\"}], \"table\": [{\"cells\": {\"fill\": {\"color\": \"#EBF0F8\"}, \"line\": {\"color\": \"white\"}}, \"header\": {\"fill\": {\"color\": \"#C8D4E3\"}, \"line\": {\"color\": \"white\"}}, \"type\": \"table\"}]}, \"layout\": {\"annotationdefaults\": {\"arrowcolor\": \"#2a3f5f\", \"arrowhead\": 0, \"arrowwidth\": 1}, \"autotypenumbers\": \"strict\", \"coloraxis\": {\"colorbar\": {\"outlinewidth\": 0, \"ticks\": \"\"}}, \"colorscale\": {\"diverging\": [[0, \"#8e0152\"], [0.1, \"#c51b7d\"], [0.2, \"#de77ae\"], [0.3, \"#f1b6da\"], [0.4, \"#fde0ef\"], [0.5, \"#f7f7f7\"], [0.6, \"#e6f5d0\"], [0.7, \"#b8e186\"], [0.8, \"#7fbc41\"], [0.9, \"#4d9221\"], [1, \"#276419\"]], \"sequential\": [[0.0, \"#0d0887\"], [0.1111111111111111, \"#46039f\"], [0.2222222222222222, \"#7201a8\"], [0.3333333333333333, \"#9c179e\"], [0.4444444444444444, \"#bd3786\"], [0.5555555555555556, \"#d8576b\"], [0.6666666666666666, \"#ed7953\"], [0.7777777777777778, \"#fb9f3a\"], [0.8888888888888888, \"#fdca26\"], [1.0, \"#f0f921\"]], \"sequentialminus\": [[0.0, \"#0d0887\"], [0.1111111111111111, \"#46039f\"], [0.2222222222222222, \"#7201a8\"], [0.3333333333333333, \"#9c179e\"], [0.4444444444444444, \"#bd3786\"], [0.5555555555555556, \"#d8576b\"], [0.6666666666666666, \"#ed7953\"], [0.7777777777777778, \"#fb9f3a\"], [0.8888888888888888, \"#fdca26\"], [1.0, \"#f0f921\"]]}, \"colorway\": [\"#636efa\", \"#EF553B\", \"#00cc96\", \"#ab63fa\", \"#FFA15A\", \"#19d3f3\", \"#FF6692\", \"#B6E880\", \"#FF97FF\", \"#FECB52\"], \"font\": {\"color\": \"#2a3f5f\"}, \"geo\": {\"bgcolor\": \"white\", \"lakecolor\": \"white\", \"landcolor\": \"#E5ECF6\", \"showlakes\": true, \"showland\": true, \"subunitcolor\": \"white\"}, \"hoverlabel\": {\"align\": \"left\"}, \"hovermode\": \"closest\", \"mapbox\": {\"style\": \"light\"}, \"paper_bgcolor\": \"white\", \"plot_bgcolor\": \"#E5ECF6\", \"polar\": {\"angularaxis\": {\"gridcolor\": \"white\", \"linecolor\": \"white\", \"ticks\": \"\"}, \"bgcolor\": \"#E5ECF6\", \"radialaxis\": {\"gridcolor\": \"white\", \"linecolor\": \"white\", \"ticks\": \"\"}}, \"scene\": {\"xaxis\": {\"backgroundcolor\": \"#E5ECF6\", \"gridcolor\": \"white\", \"gridwidth\": 2, \"linecolor\": \"white\", \"showbackground\": true, \"ticks\": \"\", \"zerolinecolor\": \"white\"}, \"yaxis\": {\"backgroundcolor\": \"#E5ECF6\", \"gridcolor\": \"white\", \"gridwidth\": 2, \"linecolor\": \"white\", \"showbackground\": true, \"ticks\": \"\", \"zerolinecolor\": \"white\"}, \"zaxis\": {\"backgroundcolor\": \"#E5ECF6\", \"gridcolor\": \"white\", \"gridwidth\": 2, \"linecolor\": \"white\", \"showbackground\": true, \"ticks\": \"\", \"zerolinecolor\": \"white\"}}, \"shapedefaults\": {\"line\": {\"color\": \"#2a3f5f\"}}, \"ternary\": {\"aaxis\": {\"gridcolor\": \"white\", \"linecolor\": \"white\", \"ticks\": \"\"}, \"baxis\": {\"gridcolor\": \"white\", \"linecolor\": \"white\", \"ticks\": \"\"}, \"bgcolor\": \"#E5ECF6\", \"caxis\": {\"gridcolor\": \"white\", \"linecolor\": \"white\", \"ticks\": \"\"}}, \"title\": {\"x\": 0.05}, \"xaxis\": {\"automargin\": true, \"gridcolor\": \"white\", \"linecolor\": \"white\", \"ticks\": \"\", \"title\": {\"standoff\": 15}, \"zerolinecolor\": \"white\", \"zerolinewidth\": 2}, \"yaxis\": {\"automargin\": true, \"gridcolor\": \"white\", \"linecolor\": \"white\", \"ticks\": \"\", \"title\": {\"standoff\": 15}, \"zerolinecolor\": \"white\", \"zerolinewidth\": 2}}}, \"title\": {\"text\": \"My Grades R Awesum\"}, \"xaxis\": {\"anchor\": \"y\", \"domain\": [0.0, 1.0], \"title\": {\"text\": \"subjects\"}}, \"yaxis\": {\"anchor\": \"x\", \"domain\": [0.0, 1.0], \"title\": {\"text\": \"grades\"}}},                        {\"responsive\": true}                    ).then(function(){\n",
       "                            \n",
       "var gd = document.getElementById('1584f711-664a-4534-9997-417904a746a5');\n",
       "var x = new MutationObserver(function (mutations, observer) {{\n",
       "        var display = window.getComputedStyle(gd).display;\n",
       "        if (!display || display === 'none') {{\n",
       "            console.log([gd, 'removed!']);\n",
       "            Plotly.purge(gd);\n",
       "            observer.disconnect();\n",
       "        }}\n",
       "}});\n",
       "\n",
       "// Listen for the removal of the full notebook cells\n",
       "var notebookContainer = gd.closest('#notebook-container');\n",
       "if (notebookContainer) {{\n",
       "    x.observe(notebookContainer, {childList: true});\n",
       "}}\n",
       "\n",
       "// Listen for the clearing of the current output cell\n",
       "var outputEl = gd.closest('.output');\n",
       "if (outputEl) {{\n",
       "    x.observe(outputEl, {childList: true});\n",
       "}}\n",
       "\n",
       "                        })                };                });            </script>        </div>"
      ]
     },
     "metadata": {},
     "output_type": "display_data"
    }
   ],
   "source": [
    "# Same plot as a one-liner using plotly.express\n",
    "px.bar(grades_df, x='subjects', y='grades', title='My Grades R Awesum')"
   ]
  },
  {
   "cell_type": "markdown",
   "metadata": {},
   "source": [
    "How about an example with multiple series? For that we need to pull in another dataset"
   ]
  },
  {
   "cell_type": "code",
   "execution_count": 10,
   "metadata": {},
   "outputs": [
    {
     "data": {
      "text/html": [
       "<div>\n",
       "<style scoped>\n",
       "    .dataframe tbody tr th:only-of-type {\n",
       "        vertical-align: middle;\n",
       "    }\n",
       "\n",
       "    .dataframe tbody tr th {\n",
       "        vertical-align: top;\n",
       "    }\n",
       "\n",
       "    .dataframe thead th {\n",
       "        text-align: right;\n",
       "    }\n",
       "</style>\n",
       "<table border=\"1\" class=\"dataframe\">\n",
       "  <thead>\n",
       "    <tr style=\"text-align: right;\">\n",
       "      <th></th>\n",
       "      <th>EST</th>\n",
       "      <th>Max TemperatureF</th>\n",
       "      <th>Mean TemperatureF</th>\n",
       "      <th>Min TemperatureF</th>\n",
       "      <th>Max Dew PointF</th>\n",
       "      <th>MeanDew PointF</th>\n",
       "      <th>Min DewpointF</th>\n",
       "      <th>Max Humidity</th>\n",
       "      <th>Mean Humidity</th>\n",
       "      <th>Min Humidity</th>\n",
       "      <th>...</th>\n",
       "      <th>Max VisibilityMiles</th>\n",
       "      <th>Mean VisibilityMiles</th>\n",
       "      <th>Min VisibilityMiles</th>\n",
       "      <th>Max Wind SpeedMPH</th>\n",
       "      <th>Mean Wind SpeedMPH</th>\n",
       "      <th>Max Gust SpeedMPH</th>\n",
       "      <th>PrecipitationIn</th>\n",
       "      <th>CloudCover</th>\n",
       "      <th>Events</th>\n",
       "      <th>WindDirDegrees</th>\n",
       "    </tr>\n",
       "  </thead>\n",
       "  <tbody>\n",
       "    <tr>\n",
       "      <th>6480</th>\n",
       "      <td>2015-1-1</td>\n",
       "      <td>34</td>\n",
       "      <td>27.0</td>\n",
       "      <td>20</td>\n",
       "      <td>25</td>\n",
       "      <td>13</td>\n",
       "      <td>8</td>\n",
       "      <td>91</td>\n",
       "      <td>64</td>\n",
       "      <td>36</td>\n",
       "      <td>...</td>\n",
       "      <td>10</td>\n",
       "      <td>8</td>\n",
       "      <td>1</td>\n",
       "      <td>28</td>\n",
       "      <td>12</td>\n",
       "      <td>33.0</td>\n",
       "      <td>0.01</td>\n",
       "      <td>8</td>\n",
       "      <td>Snow</td>\n",
       "      <td>248</td>\n",
       "    </tr>\n",
       "    <tr>\n",
       "      <th>6481</th>\n",
       "      <td>2015-1-2</td>\n",
       "      <td>31</td>\n",
       "      <td>23.0</td>\n",
       "      <td>15</td>\n",
       "      <td>26</td>\n",
       "      <td>23</td>\n",
       "      <td>15</td>\n",
       "      <td>100</td>\n",
       "      <td>82</td>\n",
       "      <td>63</td>\n",
       "      <td>...</td>\n",
       "      <td>10</td>\n",
       "      <td>4</td>\n",
       "      <td>0</td>\n",
       "      <td>22</td>\n",
       "      <td>9</td>\n",
       "      <td>28.0</td>\n",
       "      <td>0.03</td>\n",
       "      <td>8</td>\n",
       "      <td>Fog-Snow</td>\n",
       "      <td>285</td>\n",
       "    </tr>\n",
       "    <tr>\n",
       "      <th>6482</th>\n",
       "      <td>2015-1-3</td>\n",
       "      <td>40</td>\n",
       "      <td>28.0</td>\n",
       "      <td>15</td>\n",
       "      <td>37</td>\n",
       "      <td>23</td>\n",
       "      <td>15</td>\n",
       "      <td>100</td>\n",
       "      <td>87</td>\n",
       "      <td>74</td>\n",
       "      <td>...</td>\n",
       "      <td>10</td>\n",
       "      <td>6</td>\n",
       "      <td>1</td>\n",
       "      <td>21</td>\n",
       "      <td>10</td>\n",
       "      <td>29.0</td>\n",
       "      <td>0.97</td>\n",
       "      <td>8</td>\n",
       "      <td>Rain-Snow</td>\n",
       "      <td>84</td>\n",
       "    </tr>\n",
       "    <tr>\n",
       "      <th>6483</th>\n",
       "      <td>2015-1-4</td>\n",
       "      <td>55</td>\n",
       "      <td>44.0</td>\n",
       "      <td>33</td>\n",
       "      <td>51</td>\n",
       "      <td>39</td>\n",
       "      <td>27</td>\n",
       "      <td>100</td>\n",
       "      <td>88</td>\n",
       "      <td>76</td>\n",
       "      <td>...</td>\n",
       "      <td>10</td>\n",
       "      <td>10</td>\n",
       "      <td>7</td>\n",
       "      <td>35</td>\n",
       "      <td>13</td>\n",
       "      <td>45.0</td>\n",
       "      <td>0.03</td>\n",
       "      <td>8</td>\n",
       "      <td>Rain-Snow</td>\n",
       "      <td>259</td>\n",
       "    </tr>\n",
       "    <tr>\n",
       "      <th>6484</th>\n",
       "      <td>2015-1-5</td>\n",
       "      <td>33</td>\n",
       "      <td>22.0</td>\n",
       "      <td>10</td>\n",
       "      <td>28</td>\n",
       "      <td>10</td>\n",
       "      <td>-3</td>\n",
       "      <td>88</td>\n",
       "      <td>70</td>\n",
       "      <td>51</td>\n",
       "      <td>...</td>\n",
       "      <td>10</td>\n",
       "      <td>8</td>\n",
       "      <td>1</td>\n",
       "      <td>37</td>\n",
       "      <td>22</td>\n",
       "      <td>47.0</td>\n",
       "      <td>0.01</td>\n",
       "      <td>6</td>\n",
       "      <td>Snow</td>\n",
       "      <td>274</td>\n",
       "    </tr>\n",
       "  </tbody>\n",
       "</table>\n",
       "<p>5 rows × 23 columns</p>\n",
       "</div>"
      ],
      "text/plain": [
       "           EST  Max TemperatureF  Mean TemperatureF  Min TemperatureF  \\\n",
       "6480  2015-1-1                34               27.0                20   \n",
       "6481  2015-1-2                31               23.0                15   \n",
       "6482  2015-1-3                40               28.0                15   \n",
       "6483  2015-1-4                55               44.0                33   \n",
       "6484  2015-1-5                33               22.0                10   \n",
       "\n",
       "      Max Dew PointF  MeanDew PointF  Min DewpointF  Max Humidity  \\\n",
       "6480              25              13              8            91   \n",
       "6481              26              23             15           100   \n",
       "6482              37              23             15           100   \n",
       "6483              51              39             27           100   \n",
       "6484              28              10             -3            88   \n",
       "\n",
       "      Mean Humidity  Min Humidity  ...  Max VisibilityMiles  \\\n",
       "6480             64            36  ...                   10   \n",
       "6481             82            63  ...                   10   \n",
       "6482             87            74  ...                   10   \n",
       "6483             88            76  ...                   10   \n",
       "6484             70            51  ...                   10   \n",
       "\n",
       "      Mean VisibilityMiles  Min VisibilityMiles  Max Wind SpeedMPH  \\\n",
       "6480                     8                    1                 28   \n",
       "6481                     4                    0                 22   \n",
       "6482                     6                    1                 21   \n",
       "6483                    10                    7                 35   \n",
       "6484                     8                    1                 37   \n",
       "\n",
       "      Mean Wind SpeedMPH  Max Gust SpeedMPH  PrecipitationIn  CloudCover  \\\n",
       "6480                  12               33.0             0.01           8   \n",
       "6481                   9               28.0             0.03           8   \n",
       "6482                  10               29.0             0.97           8   \n",
       "6483                  13               45.0             0.03           8   \n",
       "6484                  22               47.0             0.01           6   \n",
       "\n",
       "         Events WindDirDegrees  \n",
       "6480       Snow            248  \n",
       "6481   Fog-Snow            285  \n",
       "6482  Rain-Snow             84  \n",
       "6483  Rain-Snow            259  \n",
       "6484       Snow            274  \n",
       "\n",
       "[5 rows x 23 columns]"
      ]
     },
     "execution_count": 10,
     "metadata": {},
     "output_type": "execute_result"
    }
   ],
   "source": [
    "cuse_weather_df = pd.read_csv('https://raw.githubusercontent.com/mafudge/datasets/master/weather/syracuse-ny.csv')\n",
    "cuse_weather_df = cuse_weather_df[ cuse_weather_df['EST'].str.startswith('2015-')] \n",
    "cuse_weather_df.head(5)"
   ]
  },
  {
   "cell_type": "code",
   "execution_count": 12,
   "metadata": {},
   "outputs": [
    {
     "data": {
      "application/vnd.plotly.v1+json": {
       "config": {
        "plotlyServerURL": "https://plotly.com"
       },
       "data": [
        {
         "marker": {
          "color": "red"
         },
         "mode": "lines",
         "name": "Max Temp",
         "type": "scatter",
         "x": [
          "2015-1-1",
          "2015-1-2",
          "2015-1-3",
          "2015-1-4",
          "2015-1-5",
          "2015-1-6",
          "2015-1-7",
          "2015-1-8",
          "2015-1-9",
          "2015-1-10",
          "2015-1-11",
          "2015-1-12",
          "2015-1-13",
          "2015-1-14",
          "2015-1-15",
          "2015-1-16",
          "2015-1-17",
          "2015-1-18",
          "2015-1-19",
          "2015-1-20",
          "2015-1-21",
          "2015-1-22",
          "2015-1-23",
          "2015-1-24",
          "2015-1-25",
          "2015-1-26",
          "2015-1-27",
          "2015-1-28",
          "2015-1-29",
          "2015-1-30",
          "2015-1-31",
          "2015-2-1",
          "2015-2-2",
          "2015-2-3",
          "2015-2-4",
          "2015-2-5",
          "2015-2-6",
          "2015-2-7",
          "2015-2-8",
          "2015-2-9",
          "2015-2-10",
          "2015-2-11",
          "2015-2-12",
          "2015-2-13",
          "2015-2-14",
          "2015-2-15",
          "2015-2-16",
          "2015-2-17",
          "2015-2-18",
          "2015-2-19",
          "2015-2-20",
          "2015-2-21",
          "2015-2-22",
          "2015-2-23",
          "2015-2-24",
          "2015-2-25",
          "2015-2-26",
          "2015-2-27",
          "2015-2-28",
          "2015-3-1",
          "2015-3-2",
          "2015-3-3",
          "2015-3-4",
          "2015-3-5",
          "2015-3-6",
          "2015-3-7",
          "2015-3-8",
          "2015-3-9",
          "2015-3-10",
          "2015-3-11",
          "2015-3-12",
          "2015-3-13",
          "2015-3-14",
          "2015-3-15",
          "2015-3-16",
          "2015-3-17",
          "2015-3-18",
          "2015-3-19",
          "2015-3-20",
          "2015-3-21",
          "2015-3-22",
          "2015-3-23",
          "2015-3-24",
          "2015-3-25",
          "2015-3-26",
          "2015-3-27",
          "2015-3-28",
          "2015-3-29",
          "2015-3-30",
          "2015-3-31",
          "2015-4-1",
          "2015-4-2",
          "2015-4-3",
          "2015-4-4",
          "2015-4-5",
          "2015-4-6",
          "2015-4-7",
          "2015-4-8",
          "2015-4-9",
          "2015-4-10",
          "2015-4-11",
          "2015-4-12",
          "2015-4-13",
          "2015-4-14",
          "2015-4-15",
          "2015-4-16",
          "2015-4-17",
          "2015-4-18",
          "2015-4-19",
          "2015-4-20",
          "2015-4-21",
          "2015-4-22",
          "2015-4-23",
          "2015-4-24",
          "2015-4-25",
          "2015-4-26",
          "2015-4-27",
          "2015-4-28",
          "2015-4-29",
          "2015-4-30",
          "2015-5-1",
          "2015-5-2",
          "2015-5-3",
          "2015-5-4",
          "2015-5-5",
          "2015-5-6",
          "2015-5-7",
          "2015-5-8",
          "2015-5-9",
          "2015-5-10",
          "2015-5-11",
          "2015-5-12",
          "2015-5-13",
          "2015-5-14",
          "2015-5-15",
          "2015-5-16",
          "2015-5-17",
          "2015-5-18",
          "2015-5-19",
          "2015-5-20",
          "2015-5-21",
          "2015-5-22",
          "2015-5-23",
          "2015-5-24",
          "2015-5-25",
          "2015-5-26",
          "2015-5-27",
          "2015-5-28",
          "2015-5-29",
          "2015-5-30",
          "2015-5-31",
          "2015-6-1",
          "2015-6-2",
          "2015-6-3",
          "2015-6-4",
          "2015-6-5",
          "2015-6-6",
          "2015-6-7",
          "2015-6-8",
          "2015-6-9",
          "2015-6-10",
          "2015-6-11",
          "2015-6-12",
          "2015-6-13",
          "2015-6-14",
          "2015-6-15",
          "2015-6-16",
          "2015-6-17",
          "2015-6-18",
          "2015-6-19",
          "2015-6-20",
          "2015-6-21",
          "2015-6-22",
          "2015-6-23",
          "2015-6-24",
          "2015-6-25",
          "2015-6-26",
          "2015-6-27",
          "2015-6-28",
          "2015-6-29",
          "2015-6-30",
          "2015-7-1",
          "2015-7-2",
          "2015-7-3",
          "2015-7-4",
          "2015-7-5",
          "2015-7-6",
          "2015-7-7",
          "2015-7-8",
          "2015-7-9",
          "2015-7-10",
          "2015-7-11",
          "2015-7-12",
          "2015-7-13",
          "2015-7-14",
          "2015-7-15",
          "2015-7-16",
          "2015-7-17",
          "2015-7-18",
          "2015-7-19",
          "2015-7-20",
          "2015-7-21",
          "2015-7-22",
          "2015-7-23",
          "2015-7-24",
          "2015-7-25",
          "2015-7-26",
          "2015-7-27",
          "2015-7-28",
          "2015-7-29",
          "2015-7-30",
          "2015-7-31",
          "2015-8-1",
          "2015-8-2",
          "2015-8-3",
          "2015-8-4",
          "2015-8-5",
          "2015-8-6",
          "2015-8-7",
          "2015-8-8",
          "2015-8-9",
          "2015-8-10",
          "2015-8-11",
          "2015-8-12",
          "2015-8-13",
          "2015-8-14",
          "2015-8-15",
          "2015-8-16",
          "2015-8-17",
          "2015-8-18",
          "2015-8-19",
          "2015-8-20",
          "2015-8-21",
          "2015-8-22",
          "2015-8-23",
          "2015-8-24",
          "2015-8-25",
          "2015-8-26",
          "2015-8-27",
          "2015-8-28",
          "2015-8-29",
          "2015-8-30",
          "2015-8-31",
          "2015-9-1",
          "2015-9-2",
          "2015-9-3",
          "2015-9-4",
          "2015-9-5",
          "2015-9-6",
          "2015-9-7",
          "2015-9-8",
          "2015-9-9",
          "2015-9-10",
          "2015-9-11",
          "2015-9-12",
          "2015-9-13",
          "2015-9-14",
          "2015-9-15",
          "2015-9-16",
          "2015-9-17",
          "2015-9-18",
          "2015-9-19",
          "2015-9-20",
          "2015-9-21",
          "2015-9-22",
          "2015-9-23",
          "2015-9-24",
          "2015-9-25",
          "2015-9-26",
          "2015-9-27",
          "2015-9-28",
          "2015-9-29",
          "2015-9-30",
          "2015-10-1",
          "2015-10-2",
          "2015-10-3",
          "2015-10-4",
          "2015-10-5",
          "2015-10-6",
          "2015-10-7",
          "2015-10-8",
          "2015-10-9",
          "2015-10-10",
          "2015-10-11",
          "2015-10-12",
          "2015-10-13",
          "2015-10-14",
          "2015-10-15",
          "2015-10-16",
          "2015-10-17",
          "2015-10-18",
          "2015-10-19",
          "2015-10-20",
          "2015-10-21",
          "2015-10-22",
          "2015-10-23",
          "2015-10-24",
          "2015-10-25",
          "2015-10-26",
          "2015-10-27",
          "2015-10-28",
          "2015-10-29",
          "2015-10-30",
          "2015-10-31",
          "2015-11-1",
          "2015-11-2",
          "2015-11-3",
          "2015-11-4",
          "2015-11-5",
          "2015-11-6",
          "2015-11-7",
          "2015-11-8",
          "2015-11-9",
          "2015-11-10",
          "2015-11-11",
          "2015-11-12",
          "2015-11-13",
          "2015-11-14",
          "2015-11-15",
          "2015-11-16",
          "2015-11-17",
          "2015-11-18",
          "2015-11-19",
          "2015-11-20",
          "2015-11-21",
          "2015-11-22",
          "2015-11-23",
          "2015-11-24",
          "2015-11-25",
          "2015-11-26",
          "2015-11-27",
          "2015-11-28",
          "2015-11-29",
          "2015-11-30",
          "2015-12-1",
          "2015-12-2",
          "2015-12-3",
          "2015-12-4",
          "2015-12-5",
          "2015-12-6",
          "2015-12-7",
          "2015-12-8",
          "2015-12-9",
          "2015-12-10",
          "2015-12-11",
          "2015-12-12",
          "2015-12-13",
          "2015-12-14",
          "2015-12-15",
          "2015-12-16",
          "2015-12-17",
          "2015-12-18",
          "2015-12-19",
          "2015-12-20",
          "2015-12-21",
          "2015-12-22",
          "2015-12-23",
          "2015-12-24",
          "2015-12-25",
          "2015-12-26",
          "2015-12-27",
          "2015-12-28",
          "2015-12-29",
          "2015-12-30",
          "2015-12-31"
         ],
         "y": [
          34,
          31,
          40,
          55,
          33,
          18,
          16,
          17,
          22,
          16,
          33,
          34,
          12,
          20,
          28,
          29,
          28,
          41,
          34,
          24,
          22,
          26,
          31,
          32,
          31,
          18,
          14,
          22,
          35,
          27,
          15,
          24,
          14,
          22,
          32,
          22,
          22,
          27,
          23,
          20,
          18,
          28,
          24,
          8,
          22,
          8,
          6,
          17,
          24,
          11,
          5,
          20,
          25,
          13,
          19,
          19,
          15,
          14,
          19,
          23,
          24,
          33,
          32,
          21,
          21,
          30,
          35,
          42,
          50,
          45,
          39,
          47,
          44,
          37,
          51,
          39,
          28,
          32,
          35,
          41,
          28,
          21,
          33,
          48,
          42,
          39,
          26,
          40,
          43,
          42,
          41,
          68,
          59,
          41,
          36,
          62,
          51,
          40,
          50,
          58,
          47,
          67,
          81,
          64,
          61,
          74,
          62,
          72,
          65,
          59,
          59,
          51,
          38,
          40,
          50,
          54,
          52,
          64,
          69,
          71,
          69,
          73,
          78,
          84,
          71,
          78,
          82,
          90,
          89,
          86,
          87,
          75,
          58,
          66,
          74,
          78,
          79,
          86,
          76,
          56,
          66,
          62,
          64,
          80,
          87,
          84,
          85,
          74,
          83,
          87,
          69,
          55,
          63,
          73,
          77,
          81,
          68,
          81,
          75,
          74,
          80,
          77,
          83,
          77,
          83,
          82,
          78,
          77,
          81,
          73,
          81,
          79,
          82,
          85,
          75,
          79,
          78,
          69,
          64,
          71,
          76,
          74,
          73,
          78,
          78,
          81,
          84,
          88,
          74,
          71,
          79,
          82,
          84,
          87,
          81,
          71,
          76,
          79,
          86,
          91,
          84,
          78,
          76,
          78,
          82,
          81,
          84,
          87,
          89,
          91,
          85,
          84,
          80,
          84,
          83,
          78,
          76,
          77,
          79,
          78,
          83,
          85,
          79,
          76,
          78,
          86,
          83,
          87,
          89,
          89,
          88,
          85,
          77,
          77,
          81,
          78,
          77,
          74,
          70,
          74,
          82,
          80,
          84,
          82,
          85,
          87,
          85,
          88,
          91,
          93,
          93,
          90,
          73,
          78,
          90,
          64,
          72,
          80,
          84,
          86,
          85,
          83,
          67,
          67,
          76,
          76,
          78,
          75,
          72,
          76,
          74,
          74,
          65,
          62,
          54,
          55,
          62,
          67,
          63,
          68,
          66,
          64,
          56,
          71,
          78,
          69,
          57,
          64,
          57,
          45,
          43,
          54,
          65,
          61,
          66,
          50,
          53,
          55,
          51,
          55,
          54,
          59,
          49,
          51,
          65,
          61,
          69,
          75,
          73,
          73,
          54,
          51,
          59,
          58,
          56,
          61,
          52,
          41,
          59,
          56,
          51,
          58,
          67,
          53,
          48,
          50,
          36,
          38,
          49,
          59,
          66,
          42,
          39,
          43,
          49,
          48,
          42,
          43,
          43,
          39,
          41,
          39,
          53,
          57,
          60,
          52,
          54,
          66,
          54,
          46,
          51,
          41,
          34,
          38,
          52,
          55,
          60,
          68,
          54,
          46,
          50,
          33,
          41,
          44,
          37
         ]
        },
        {
         "marker": {
          "color": "green"
         },
         "mode": "lines+markers",
         "name": "Mean Temp",
         "type": "scatter",
         "x": [
          "2015-1-1",
          "2015-1-2",
          "2015-1-3",
          "2015-1-4",
          "2015-1-5",
          "2015-1-6",
          "2015-1-7",
          "2015-1-8",
          "2015-1-9",
          "2015-1-10",
          "2015-1-11",
          "2015-1-12",
          "2015-1-13",
          "2015-1-14",
          "2015-1-15",
          "2015-1-16",
          "2015-1-17",
          "2015-1-18",
          "2015-1-19",
          "2015-1-20",
          "2015-1-21",
          "2015-1-22",
          "2015-1-23",
          "2015-1-24",
          "2015-1-25",
          "2015-1-26",
          "2015-1-27",
          "2015-1-28",
          "2015-1-29",
          "2015-1-30",
          "2015-1-31",
          "2015-2-1",
          "2015-2-2",
          "2015-2-3",
          "2015-2-4",
          "2015-2-5",
          "2015-2-6",
          "2015-2-7",
          "2015-2-8",
          "2015-2-9",
          "2015-2-10",
          "2015-2-11",
          "2015-2-12",
          "2015-2-13",
          "2015-2-14",
          "2015-2-15",
          "2015-2-16",
          "2015-2-17",
          "2015-2-18",
          "2015-2-19",
          "2015-2-20",
          "2015-2-21",
          "2015-2-22",
          "2015-2-23",
          "2015-2-24",
          "2015-2-25",
          "2015-2-26",
          "2015-2-27",
          "2015-2-28",
          "2015-3-1",
          "2015-3-2",
          "2015-3-3",
          "2015-3-4",
          "2015-3-5",
          "2015-3-6",
          "2015-3-7",
          "2015-3-8",
          "2015-3-9",
          "2015-3-10",
          "2015-3-11",
          "2015-3-12",
          "2015-3-13",
          "2015-3-14",
          "2015-3-15",
          "2015-3-16",
          "2015-3-17",
          "2015-3-18",
          "2015-3-19",
          "2015-3-20",
          "2015-3-21",
          "2015-3-22",
          "2015-3-23",
          "2015-3-24",
          "2015-3-25",
          "2015-3-26",
          "2015-3-27",
          "2015-3-28",
          "2015-3-29",
          "2015-3-30",
          "2015-3-31",
          "2015-4-1",
          "2015-4-2",
          "2015-4-3",
          "2015-4-4",
          "2015-4-5",
          "2015-4-6",
          "2015-4-7",
          "2015-4-8",
          "2015-4-9",
          "2015-4-10",
          "2015-4-11",
          "2015-4-12",
          "2015-4-13",
          "2015-4-14",
          "2015-4-15",
          "2015-4-16",
          "2015-4-17",
          "2015-4-18",
          "2015-4-19",
          "2015-4-20",
          "2015-4-21",
          "2015-4-22",
          "2015-4-23",
          "2015-4-24",
          "2015-4-25",
          "2015-4-26",
          "2015-4-27",
          "2015-4-28",
          "2015-4-29",
          "2015-4-30",
          "2015-5-1",
          "2015-5-2",
          "2015-5-3",
          "2015-5-4",
          "2015-5-5",
          "2015-5-6",
          "2015-5-7",
          "2015-5-8",
          "2015-5-9",
          "2015-5-10",
          "2015-5-11",
          "2015-5-12",
          "2015-5-13",
          "2015-5-14",
          "2015-5-15",
          "2015-5-16",
          "2015-5-17",
          "2015-5-18",
          "2015-5-19",
          "2015-5-20",
          "2015-5-21",
          "2015-5-22",
          "2015-5-23",
          "2015-5-24",
          "2015-5-25",
          "2015-5-26",
          "2015-5-27",
          "2015-5-28",
          "2015-5-29",
          "2015-5-30",
          "2015-5-31",
          "2015-6-1",
          "2015-6-2",
          "2015-6-3",
          "2015-6-4",
          "2015-6-5",
          "2015-6-6",
          "2015-6-7",
          "2015-6-8",
          "2015-6-9",
          "2015-6-10",
          "2015-6-11",
          "2015-6-12",
          "2015-6-13",
          "2015-6-14",
          "2015-6-15",
          "2015-6-16",
          "2015-6-17",
          "2015-6-18",
          "2015-6-19",
          "2015-6-20",
          "2015-6-21",
          "2015-6-22",
          "2015-6-23",
          "2015-6-24",
          "2015-6-25",
          "2015-6-26",
          "2015-6-27",
          "2015-6-28",
          "2015-6-29",
          "2015-6-30",
          "2015-7-1",
          "2015-7-2",
          "2015-7-3",
          "2015-7-4",
          "2015-7-5",
          "2015-7-6",
          "2015-7-7",
          "2015-7-8",
          "2015-7-9",
          "2015-7-10",
          "2015-7-11",
          "2015-7-12",
          "2015-7-13",
          "2015-7-14",
          "2015-7-15",
          "2015-7-16",
          "2015-7-17",
          "2015-7-18",
          "2015-7-19",
          "2015-7-20",
          "2015-7-21",
          "2015-7-22",
          "2015-7-23",
          "2015-7-24",
          "2015-7-25",
          "2015-7-26",
          "2015-7-27",
          "2015-7-28",
          "2015-7-29",
          "2015-7-30",
          "2015-7-31",
          "2015-8-1",
          "2015-8-2",
          "2015-8-3",
          "2015-8-4",
          "2015-8-5",
          "2015-8-6",
          "2015-8-7",
          "2015-8-8",
          "2015-8-9",
          "2015-8-10",
          "2015-8-11",
          "2015-8-12",
          "2015-8-13",
          "2015-8-14",
          "2015-8-15",
          "2015-8-16",
          "2015-8-17",
          "2015-8-18",
          "2015-8-19",
          "2015-8-20",
          "2015-8-21",
          "2015-8-22",
          "2015-8-23",
          "2015-8-24",
          "2015-8-25",
          "2015-8-26",
          "2015-8-27",
          "2015-8-28",
          "2015-8-29",
          "2015-8-30",
          "2015-8-31",
          "2015-9-1",
          "2015-9-2",
          "2015-9-3",
          "2015-9-4",
          "2015-9-5",
          "2015-9-6",
          "2015-9-7",
          "2015-9-8",
          "2015-9-9",
          "2015-9-10",
          "2015-9-11",
          "2015-9-12",
          "2015-9-13",
          "2015-9-14",
          "2015-9-15",
          "2015-9-16",
          "2015-9-17",
          "2015-9-18",
          "2015-9-19",
          "2015-9-20",
          "2015-9-21",
          "2015-9-22",
          "2015-9-23",
          "2015-9-24",
          "2015-9-25",
          "2015-9-26",
          "2015-9-27",
          "2015-9-28",
          "2015-9-29",
          "2015-9-30",
          "2015-10-1",
          "2015-10-2",
          "2015-10-3",
          "2015-10-4",
          "2015-10-5",
          "2015-10-6",
          "2015-10-7",
          "2015-10-8",
          "2015-10-9",
          "2015-10-10",
          "2015-10-11",
          "2015-10-12",
          "2015-10-13",
          "2015-10-14",
          "2015-10-15",
          "2015-10-16",
          "2015-10-17",
          "2015-10-18",
          "2015-10-19",
          "2015-10-20",
          "2015-10-21",
          "2015-10-22",
          "2015-10-23",
          "2015-10-24",
          "2015-10-25",
          "2015-10-26",
          "2015-10-27",
          "2015-10-28",
          "2015-10-29",
          "2015-10-30",
          "2015-10-31",
          "2015-11-1",
          "2015-11-2",
          "2015-11-3",
          "2015-11-4",
          "2015-11-5",
          "2015-11-6",
          "2015-11-7",
          "2015-11-8",
          "2015-11-9",
          "2015-11-10",
          "2015-11-11",
          "2015-11-12",
          "2015-11-13",
          "2015-11-14",
          "2015-11-15",
          "2015-11-16",
          "2015-11-17",
          "2015-11-18",
          "2015-11-19",
          "2015-11-20",
          "2015-11-21",
          "2015-11-22",
          "2015-11-23",
          "2015-11-24",
          "2015-11-25",
          "2015-11-26",
          "2015-11-27",
          "2015-11-28",
          "2015-11-29",
          "2015-11-30",
          "2015-12-1",
          "2015-12-2",
          "2015-12-3",
          "2015-12-4",
          "2015-12-5",
          "2015-12-6",
          "2015-12-7",
          "2015-12-8",
          "2015-12-9",
          "2015-12-10",
          "2015-12-11",
          "2015-12-12",
          "2015-12-13",
          "2015-12-14",
          "2015-12-15",
          "2015-12-16",
          "2015-12-17",
          "2015-12-18",
          "2015-12-19",
          "2015-12-20",
          "2015-12-21",
          "2015-12-22",
          "2015-12-23",
          "2015-12-24",
          "2015-12-25",
          "2015-12-26",
          "2015-12-27",
          "2015-12-28",
          "2015-12-29",
          "2015-12-30",
          "2015-12-31"
         ],
         "y": [
          27,
          23,
          28,
          44,
          22,
          14,
          6,
          5,
          18,
          12,
          22,
          23,
          3,
          5,
          12,
          19,
          11,
          34,
          29,
          15,
          10,
          22,
          26,
          26,
          18,
          11,
          9,
          11,
          18,
          16,
          4,
          18,
          8,
          10,
          23,
          14,
          14,
          24,
          17,
          15,
          12,
          14,
          12,
          -2,
          12,
          1,
          -5,
          3,
          9,
          4,
          -4,
          2,
          19,
          6,
          1,
          13,
          9,
          6,
          8,
          8,
          17,
          16,
          27,
          13,
          8,
          19,
          28,
          31,
          36,
          41,
          30,
          33,
          40,
          33,
          38,
          34,
          25,
          23,
          28,
          32,
          22,
          16,
          21,
          33,
          38,
          31,
          22,
          29,
          39,
          34,
          31,
          48,
          50,
          37,
          33,
          46,
          44,
          38,
          43,
          51,
          42,
          49,
          59,
          52,
          49,
          53,
          55,
          57,
          52,
          52,
          50,
          44,
          35,
          36,
          39,
          44,
          47,
          52,
          57,
          56,
          57,
          58,
          61,
          68,
          63,
          62,
          66,
          71,
          78,
          76,
          76,
          64,
          49,
          51,
          58,
          66,
          68,
          72,
          63,
          49,
          54,
          52,
          49,
          64,
          73,
          78,
          78,
          66,
          67,
          77,
          60,
          53,
          56,
          57,
          63,
          72,
          58,
          62,
          71,
          67,
          68,
          68,
          71,
          68,
          70,
          73,
          71,
          66,
          71,
          63,
          65,
          72,
          71,
          74,
          67,
          69,
          69,
          62,
          59,
          64,
          66,
          67,
          64,
          64,
          69,
          69,
          71,
          80,
          67,
          65,
          69,
          70,
          72,
          75,
          74,
          63,
          64,
          66,
          79,
          80,
          76,
          70,
          68,
          69,
          69,
          69,
          75,
          74,
          77,
          78,
          79,
          75,
          72,
          72,
          74,
          71,
          69,
          67,
          67,
          66,
          70,
          72,
          72,
          70,
          69,
          74,
          75,
          76,
          78,
          78,
          79,
          76,
          69,
          68,
          69,
          69,
          67,
          67,
          63,
          64,
          68,
          72,
          72,
          73,
          73,
          77,
          74,
          76,
          77,
          81,
          84,
          79,
          67,
          68,
          79,
          59,
          63,
          66,
          69,
          72,
          71,
          72,
          58,
          55,
          62,
          61,
          65,
          64,
          62,
          62,
          66,
          70,
          56,
          53,
          47,
          47,
          54,
          54,
          58,
          61,
          58,
          56,
          48,
          55,
          64,
          63,
          51,
          53,
          50,
          39,
          36,
          42,
          56,
          57,
          56,
          41,
          42,
          47,
          42,
          42,
          48,
          53,
          42,
          40,
          55,
          52,
          54,
          58,
          63,
          64,
          47,
          43,
          45,
          47,
          52,
          55,
          46,
          38,
          47,
          44,
          39,
          46,
          60,
          42,
          39,
          40,
          31,
          33,
          38,
          50,
          54,
          37,
          34,
          32,
          42,
          44,
          39,
          41,
          37,
          32,
          33,
          34,
          42,
          51,
          51,
          43,
          50,
          56,
          47,
          42,
          46,
          37,
          31,
          34,
          44,
          48,
          51,
          53,
          43,
          37,
          42,
          28,
          32,
          39,
          35
         ]
        },
        {
         "marker": {
          "color": "blue"
         },
         "mode": "lines",
         "name": "Min Temp",
         "type": "scatter",
         "x": [
          "2015-1-1",
          "2015-1-2",
          "2015-1-3",
          "2015-1-4",
          "2015-1-5",
          "2015-1-6",
          "2015-1-7",
          "2015-1-8",
          "2015-1-9",
          "2015-1-10",
          "2015-1-11",
          "2015-1-12",
          "2015-1-13",
          "2015-1-14",
          "2015-1-15",
          "2015-1-16",
          "2015-1-17",
          "2015-1-18",
          "2015-1-19",
          "2015-1-20",
          "2015-1-21",
          "2015-1-22",
          "2015-1-23",
          "2015-1-24",
          "2015-1-25",
          "2015-1-26",
          "2015-1-27",
          "2015-1-28",
          "2015-1-29",
          "2015-1-30",
          "2015-1-31",
          "2015-2-1",
          "2015-2-2",
          "2015-2-3",
          "2015-2-4",
          "2015-2-5",
          "2015-2-6",
          "2015-2-7",
          "2015-2-8",
          "2015-2-9",
          "2015-2-10",
          "2015-2-11",
          "2015-2-12",
          "2015-2-13",
          "2015-2-14",
          "2015-2-15",
          "2015-2-16",
          "2015-2-17",
          "2015-2-18",
          "2015-2-19",
          "2015-2-20",
          "2015-2-21",
          "2015-2-22",
          "2015-2-23",
          "2015-2-24",
          "2015-2-25",
          "2015-2-26",
          "2015-2-27",
          "2015-2-28",
          "2015-3-1",
          "2015-3-2",
          "2015-3-3",
          "2015-3-4",
          "2015-3-5",
          "2015-3-6",
          "2015-3-7",
          "2015-3-8",
          "2015-3-9",
          "2015-3-10",
          "2015-3-11",
          "2015-3-12",
          "2015-3-13",
          "2015-3-14",
          "2015-3-15",
          "2015-3-16",
          "2015-3-17",
          "2015-3-18",
          "2015-3-19",
          "2015-3-20",
          "2015-3-21",
          "2015-3-22",
          "2015-3-23",
          "2015-3-24",
          "2015-3-25",
          "2015-3-26",
          "2015-3-27",
          "2015-3-28",
          "2015-3-29",
          "2015-3-30",
          "2015-3-31",
          "2015-4-1",
          "2015-4-2",
          "2015-4-3",
          "2015-4-4",
          "2015-4-5",
          "2015-4-6",
          "2015-4-7",
          "2015-4-8",
          "2015-4-9",
          "2015-4-10",
          "2015-4-11",
          "2015-4-12",
          "2015-4-13",
          "2015-4-14",
          "2015-4-15",
          "2015-4-16",
          "2015-4-17",
          "2015-4-18",
          "2015-4-19",
          "2015-4-20",
          "2015-4-21",
          "2015-4-22",
          "2015-4-23",
          "2015-4-24",
          "2015-4-25",
          "2015-4-26",
          "2015-4-27",
          "2015-4-28",
          "2015-4-29",
          "2015-4-30",
          "2015-5-1",
          "2015-5-2",
          "2015-5-3",
          "2015-5-4",
          "2015-5-5",
          "2015-5-6",
          "2015-5-7",
          "2015-5-8",
          "2015-5-9",
          "2015-5-10",
          "2015-5-11",
          "2015-5-12",
          "2015-5-13",
          "2015-5-14",
          "2015-5-15",
          "2015-5-16",
          "2015-5-17",
          "2015-5-18",
          "2015-5-19",
          "2015-5-20",
          "2015-5-21",
          "2015-5-22",
          "2015-5-23",
          "2015-5-24",
          "2015-5-25",
          "2015-5-26",
          "2015-5-27",
          "2015-5-28",
          "2015-5-29",
          "2015-5-30",
          "2015-5-31",
          "2015-6-1",
          "2015-6-2",
          "2015-6-3",
          "2015-6-4",
          "2015-6-5",
          "2015-6-6",
          "2015-6-7",
          "2015-6-8",
          "2015-6-9",
          "2015-6-10",
          "2015-6-11",
          "2015-6-12",
          "2015-6-13",
          "2015-6-14",
          "2015-6-15",
          "2015-6-16",
          "2015-6-17",
          "2015-6-18",
          "2015-6-19",
          "2015-6-20",
          "2015-6-21",
          "2015-6-22",
          "2015-6-23",
          "2015-6-24",
          "2015-6-25",
          "2015-6-26",
          "2015-6-27",
          "2015-6-28",
          "2015-6-29",
          "2015-6-30",
          "2015-7-1",
          "2015-7-2",
          "2015-7-3",
          "2015-7-4",
          "2015-7-5",
          "2015-7-6",
          "2015-7-7",
          "2015-7-8",
          "2015-7-9",
          "2015-7-10",
          "2015-7-11",
          "2015-7-12",
          "2015-7-13",
          "2015-7-14",
          "2015-7-15",
          "2015-7-16",
          "2015-7-17",
          "2015-7-18",
          "2015-7-19",
          "2015-7-20",
          "2015-7-21",
          "2015-7-22",
          "2015-7-23",
          "2015-7-24",
          "2015-7-25",
          "2015-7-26",
          "2015-7-27",
          "2015-7-28",
          "2015-7-29",
          "2015-7-30",
          "2015-7-31",
          "2015-8-1",
          "2015-8-2",
          "2015-8-3",
          "2015-8-4",
          "2015-8-5",
          "2015-8-6",
          "2015-8-7",
          "2015-8-8",
          "2015-8-9",
          "2015-8-10",
          "2015-8-11",
          "2015-8-12",
          "2015-8-13",
          "2015-8-14",
          "2015-8-15",
          "2015-8-16",
          "2015-8-17",
          "2015-8-18",
          "2015-8-19",
          "2015-8-20",
          "2015-8-21",
          "2015-8-22",
          "2015-8-23",
          "2015-8-24",
          "2015-8-25",
          "2015-8-26",
          "2015-8-27",
          "2015-8-28",
          "2015-8-29",
          "2015-8-30",
          "2015-8-31",
          "2015-9-1",
          "2015-9-2",
          "2015-9-3",
          "2015-9-4",
          "2015-9-5",
          "2015-9-6",
          "2015-9-7",
          "2015-9-8",
          "2015-9-9",
          "2015-9-10",
          "2015-9-11",
          "2015-9-12",
          "2015-9-13",
          "2015-9-14",
          "2015-9-15",
          "2015-9-16",
          "2015-9-17",
          "2015-9-18",
          "2015-9-19",
          "2015-9-20",
          "2015-9-21",
          "2015-9-22",
          "2015-9-23",
          "2015-9-24",
          "2015-9-25",
          "2015-9-26",
          "2015-9-27",
          "2015-9-28",
          "2015-9-29",
          "2015-9-30",
          "2015-10-1",
          "2015-10-2",
          "2015-10-3",
          "2015-10-4",
          "2015-10-5",
          "2015-10-6",
          "2015-10-7",
          "2015-10-8",
          "2015-10-9",
          "2015-10-10",
          "2015-10-11",
          "2015-10-12",
          "2015-10-13",
          "2015-10-14",
          "2015-10-15",
          "2015-10-16",
          "2015-10-17",
          "2015-10-18",
          "2015-10-19",
          "2015-10-20",
          "2015-10-21",
          "2015-10-22",
          "2015-10-23",
          "2015-10-24",
          "2015-10-25",
          "2015-10-26",
          "2015-10-27",
          "2015-10-28",
          "2015-10-29",
          "2015-10-30",
          "2015-10-31",
          "2015-11-1",
          "2015-11-2",
          "2015-11-3",
          "2015-11-4",
          "2015-11-5",
          "2015-11-6",
          "2015-11-7",
          "2015-11-8",
          "2015-11-9",
          "2015-11-10",
          "2015-11-11",
          "2015-11-12",
          "2015-11-13",
          "2015-11-14",
          "2015-11-15",
          "2015-11-16",
          "2015-11-17",
          "2015-11-18",
          "2015-11-19",
          "2015-11-20",
          "2015-11-21",
          "2015-11-22",
          "2015-11-23",
          "2015-11-24",
          "2015-11-25",
          "2015-11-26",
          "2015-11-27",
          "2015-11-28",
          "2015-11-29",
          "2015-11-30",
          "2015-12-1",
          "2015-12-2",
          "2015-12-3",
          "2015-12-4",
          "2015-12-5",
          "2015-12-6",
          "2015-12-7",
          "2015-12-8",
          "2015-12-9",
          "2015-12-10",
          "2015-12-11",
          "2015-12-12",
          "2015-12-13",
          "2015-12-14",
          "2015-12-15",
          "2015-12-16",
          "2015-12-17",
          "2015-12-18",
          "2015-12-19",
          "2015-12-20",
          "2015-12-21",
          "2015-12-22",
          "2015-12-23",
          "2015-12-24",
          "2015-12-25",
          "2015-12-26",
          "2015-12-27",
          "2015-12-28",
          "2015-12-29",
          "2015-12-30",
          "2015-12-31"
         ],
         "y": [
          20,
          15,
          15,
          33,
          10,
          10,
          -4,
          -8,
          13,
          7,
          11,
          12,
          -7,
          -11,
          -5,
          8,
          -6,
          26,
          24,
          5,
          -2,
          18,
          20,
          19,
          5,
          3,
          4,
          0,
          0,
          5,
          -7,
          11,
          1,
          -2,
          14,
          6,
          5,
          20,
          10,
          9,
          5,
          -1,
          0,
          -13,
          2,
          -6,
          -17,
          -11,
          -7,
          -3,
          -14,
          -16,
          13,
          -2,
          -18,
          6,
          2,
          -2,
          -4,
          -7,
          10,
          -1,
          21,
          5,
          -6,
          7,
          21,
          20,
          21,
          37,
          21,
          19,
          35,
          28,
          24,
          28,
          22,
          13,
          20,
          23,
          15,
          11,
          8,
          17,
          33,
          22,
          17,
          17,
          35,
          25,
          21,
          27,
          41,
          32,
          30,
          30,
          36,
          35,
          35,
          43,
          36,
          31,
          37,
          39,
          37,
          31,
          48,
          42,
          38,
          45,
          40,
          36,
          31,
          31,
          27,
          33,
          41,
          40,
          44,
          41,
          45,
          42,
          44,
          52,
          54,
          45,
          49,
          51,
          67,
          65,
          64,
          53,
          40,
          36,
          41,
          54,
          57,
          58,
          50,
          41,
          42,
          42,
          34,
          47,
          59,
          71,
          71,
          58,
          51,
          67,
          50,
          50,
          48,
          41,
          48,
          62,
          47,
          43,
          66,
          59,
          56,
          59,
          58,
          59,
          57,
          64,
          63,
          55,
          61,
          53,
          49,
          65,
          60,
          62,
          58,
          58,
          59,
          55,
          54,
          57,
          55,
          60,
          54,
          49,
          60,
          57,
          58,
          71,
          60,
          59,
          59,
          57,
          60,
          63,
          66,
          54,
          51,
          53,
          71,
          69,
          67,
          62,
          59,
          59,
          56,
          57,
          66,
          61,
          65,
          64,
          72,
          66,
          63,
          60,
          64,
          63,
          61,
          56,
          54,
          54,
          56,
          59,
          65,
          64,
          59,
          62,
          67,
          65,
          66,
          67,
          69,
          66,
          60,
          58,
          56,
          59,
          57,
          59,
          55,
          54,
          54,
          64,
          60,
          64,
          60,
          66,
          62,
          64,
          62,
          69,
          75,
          68,
          60,
          57,
          68,
          54,
          54,
          51,
          54,
          58,
          57,
          61,
          49,
          42,
          47,
          46,
          51,
          52,
          51,
          48,
          58,
          65,
          46,
          44,
          40,
          38,
          45,
          41,
          53,
          53,
          49,
          47,
          39,
          38,
          50,
          56,
          44,
          42,
          43,
          32,
          28,
          30,
          46,
          53,
          46,
          32,
          31,
          39,
          32,
          29,
          41,
          46,
          34,
          29,
          45,
          42,
          39,
          40,
          52,
          54,
          39,
          34,
          31,
          36,
          48,
          48,
          40,
          35,
          34,
          32,
          26,
          34,
          53,
          31,
          30,
          30,
          25,
          28,
          27,
          41,
          42,
          32,
          28,
          21,
          34,
          40,
          35,
          38,
          30,
          25,
          25,
          28,
          30,
          45,
          41,
          34,
          46,
          45,
          40,
          37,
          41,
          33,
          27,
          29,
          35,
          41,
          42,
          37,
          32,
          27,
          33,
          23,
          22,
          33,
          33
         ]
        }
       ],
       "layout": {
        "template": {
         "data": {
          "bar": [
           {
            "error_x": {
             "color": "#2a3f5f"
            },
            "error_y": {
             "color": "#2a3f5f"
            },
            "marker": {
             "line": {
              "color": "#E5ECF6",
              "width": 0.5
             }
            },
            "type": "bar"
           }
          ],
          "barpolar": [
           {
            "marker": {
             "line": {
              "color": "#E5ECF6",
              "width": 0.5
             }
            },
            "type": "barpolar"
           }
          ],
          "carpet": [
           {
            "aaxis": {
             "endlinecolor": "#2a3f5f",
             "gridcolor": "white",
             "linecolor": "white",
             "minorgridcolor": "white",
             "startlinecolor": "#2a3f5f"
            },
            "baxis": {
             "endlinecolor": "#2a3f5f",
             "gridcolor": "white",
             "linecolor": "white",
             "minorgridcolor": "white",
             "startlinecolor": "#2a3f5f"
            },
            "type": "carpet"
           }
          ],
          "choropleth": [
           {
            "colorbar": {
             "outlinewidth": 0,
             "ticks": ""
            },
            "type": "choropleth"
           }
          ],
          "contour": [
           {
            "colorbar": {
             "outlinewidth": 0,
             "ticks": ""
            },
            "colorscale": [
             [
              0,
              "#0d0887"
             ],
             [
              0.1111111111111111,
              "#46039f"
             ],
             [
              0.2222222222222222,
              "#7201a8"
             ],
             [
              0.3333333333333333,
              "#9c179e"
             ],
             [
              0.4444444444444444,
              "#bd3786"
             ],
             [
              0.5555555555555556,
              "#d8576b"
             ],
             [
              0.6666666666666666,
              "#ed7953"
             ],
             [
              0.7777777777777778,
              "#fb9f3a"
             ],
             [
              0.8888888888888888,
              "#fdca26"
             ],
             [
              1,
              "#f0f921"
             ]
            ],
            "type": "contour"
           }
          ],
          "contourcarpet": [
           {
            "colorbar": {
             "outlinewidth": 0,
             "ticks": ""
            },
            "type": "contourcarpet"
           }
          ],
          "heatmap": [
           {
            "colorbar": {
             "outlinewidth": 0,
             "ticks": ""
            },
            "colorscale": [
             [
              0,
              "#0d0887"
             ],
             [
              0.1111111111111111,
              "#46039f"
             ],
             [
              0.2222222222222222,
              "#7201a8"
             ],
             [
              0.3333333333333333,
              "#9c179e"
             ],
             [
              0.4444444444444444,
              "#bd3786"
             ],
             [
              0.5555555555555556,
              "#d8576b"
             ],
             [
              0.6666666666666666,
              "#ed7953"
             ],
             [
              0.7777777777777778,
              "#fb9f3a"
             ],
             [
              0.8888888888888888,
              "#fdca26"
             ],
             [
              1,
              "#f0f921"
             ]
            ],
            "type": "heatmap"
           }
          ],
          "heatmapgl": [
           {
            "colorbar": {
             "outlinewidth": 0,
             "ticks": ""
            },
            "colorscale": [
             [
              0,
              "#0d0887"
             ],
             [
              0.1111111111111111,
              "#46039f"
             ],
             [
              0.2222222222222222,
              "#7201a8"
             ],
             [
              0.3333333333333333,
              "#9c179e"
             ],
             [
              0.4444444444444444,
              "#bd3786"
             ],
             [
              0.5555555555555556,
              "#d8576b"
             ],
             [
              0.6666666666666666,
              "#ed7953"
             ],
             [
              0.7777777777777778,
              "#fb9f3a"
             ],
             [
              0.8888888888888888,
              "#fdca26"
             ],
             [
              1,
              "#f0f921"
             ]
            ],
            "type": "heatmapgl"
           }
          ],
          "histogram": [
           {
            "marker": {
             "colorbar": {
              "outlinewidth": 0,
              "ticks": ""
             }
            },
            "type": "histogram"
           }
          ],
          "histogram2d": [
           {
            "colorbar": {
             "outlinewidth": 0,
             "ticks": ""
            },
            "colorscale": [
             [
              0,
              "#0d0887"
             ],
             [
              0.1111111111111111,
              "#46039f"
             ],
             [
              0.2222222222222222,
              "#7201a8"
             ],
             [
              0.3333333333333333,
              "#9c179e"
             ],
             [
              0.4444444444444444,
              "#bd3786"
             ],
             [
              0.5555555555555556,
              "#d8576b"
             ],
             [
              0.6666666666666666,
              "#ed7953"
             ],
             [
              0.7777777777777778,
              "#fb9f3a"
             ],
             [
              0.8888888888888888,
              "#fdca26"
             ],
             [
              1,
              "#f0f921"
             ]
            ],
            "type": "histogram2d"
           }
          ],
          "histogram2dcontour": [
           {
            "colorbar": {
             "outlinewidth": 0,
             "ticks": ""
            },
            "colorscale": [
             [
              0,
              "#0d0887"
             ],
             [
              0.1111111111111111,
              "#46039f"
             ],
             [
              0.2222222222222222,
              "#7201a8"
             ],
             [
              0.3333333333333333,
              "#9c179e"
             ],
             [
              0.4444444444444444,
              "#bd3786"
             ],
             [
              0.5555555555555556,
              "#d8576b"
             ],
             [
              0.6666666666666666,
              "#ed7953"
             ],
             [
              0.7777777777777778,
              "#fb9f3a"
             ],
             [
              0.8888888888888888,
              "#fdca26"
             ],
             [
              1,
              "#f0f921"
             ]
            ],
            "type": "histogram2dcontour"
           }
          ],
          "mesh3d": [
           {
            "colorbar": {
             "outlinewidth": 0,
             "ticks": ""
            },
            "type": "mesh3d"
           }
          ],
          "parcoords": [
           {
            "line": {
             "colorbar": {
              "outlinewidth": 0,
              "ticks": ""
             }
            },
            "type": "parcoords"
           }
          ],
          "pie": [
           {
            "automargin": true,
            "type": "pie"
           }
          ],
          "scatter": [
           {
            "marker": {
             "colorbar": {
              "outlinewidth": 0,
              "ticks": ""
             }
            },
            "type": "scatter"
           }
          ],
          "scatter3d": [
           {
            "line": {
             "colorbar": {
              "outlinewidth": 0,
              "ticks": ""
             }
            },
            "marker": {
             "colorbar": {
              "outlinewidth": 0,
              "ticks": ""
             }
            },
            "type": "scatter3d"
           }
          ],
          "scattercarpet": [
           {
            "marker": {
             "colorbar": {
              "outlinewidth": 0,
              "ticks": ""
             }
            },
            "type": "scattercarpet"
           }
          ],
          "scattergeo": [
           {
            "marker": {
             "colorbar": {
              "outlinewidth": 0,
              "ticks": ""
             }
            },
            "type": "scattergeo"
           }
          ],
          "scattergl": [
           {
            "marker": {
             "colorbar": {
              "outlinewidth": 0,
              "ticks": ""
             }
            },
            "type": "scattergl"
           }
          ],
          "scattermapbox": [
           {
            "marker": {
             "colorbar": {
              "outlinewidth": 0,
              "ticks": ""
             }
            },
            "type": "scattermapbox"
           }
          ],
          "scatterpolar": [
           {
            "marker": {
             "colorbar": {
              "outlinewidth": 0,
              "ticks": ""
             }
            },
            "type": "scatterpolar"
           }
          ],
          "scatterpolargl": [
           {
            "marker": {
             "colorbar": {
              "outlinewidth": 0,
              "ticks": ""
             }
            },
            "type": "scatterpolargl"
           }
          ],
          "scatterternary": [
           {
            "marker": {
             "colorbar": {
              "outlinewidth": 0,
              "ticks": ""
             }
            },
            "type": "scatterternary"
           }
          ],
          "surface": [
           {
            "colorbar": {
             "outlinewidth": 0,
             "ticks": ""
            },
            "colorscale": [
             [
              0,
              "#0d0887"
             ],
             [
              0.1111111111111111,
              "#46039f"
             ],
             [
              0.2222222222222222,
              "#7201a8"
             ],
             [
              0.3333333333333333,
              "#9c179e"
             ],
             [
              0.4444444444444444,
              "#bd3786"
             ],
             [
              0.5555555555555556,
              "#d8576b"
             ],
             [
              0.6666666666666666,
              "#ed7953"
             ],
             [
              0.7777777777777778,
              "#fb9f3a"
             ],
             [
              0.8888888888888888,
              "#fdca26"
             ],
             [
              1,
              "#f0f921"
             ]
            ],
            "type": "surface"
           }
          ],
          "table": [
           {
            "cells": {
             "fill": {
              "color": "#EBF0F8"
             },
             "line": {
              "color": "white"
             }
            },
            "header": {
             "fill": {
              "color": "#C8D4E3"
             },
             "line": {
              "color": "white"
             }
            },
            "type": "table"
           }
          ]
         },
         "layout": {
          "annotationdefaults": {
           "arrowcolor": "#2a3f5f",
           "arrowhead": 0,
           "arrowwidth": 1
          },
          "autotypenumbers": "strict",
          "coloraxis": {
           "colorbar": {
            "outlinewidth": 0,
            "ticks": ""
           }
          },
          "colorscale": {
           "diverging": [
            [
             0,
             "#8e0152"
            ],
            [
             0.1,
             "#c51b7d"
            ],
            [
             0.2,
             "#de77ae"
            ],
            [
             0.3,
             "#f1b6da"
            ],
            [
             0.4,
             "#fde0ef"
            ],
            [
             0.5,
             "#f7f7f7"
            ],
            [
             0.6,
             "#e6f5d0"
            ],
            [
             0.7,
             "#b8e186"
            ],
            [
             0.8,
             "#7fbc41"
            ],
            [
             0.9,
             "#4d9221"
            ],
            [
             1,
             "#276419"
            ]
           ],
           "sequential": [
            [
             0,
             "#0d0887"
            ],
            [
             0.1111111111111111,
             "#46039f"
            ],
            [
             0.2222222222222222,
             "#7201a8"
            ],
            [
             0.3333333333333333,
             "#9c179e"
            ],
            [
             0.4444444444444444,
             "#bd3786"
            ],
            [
             0.5555555555555556,
             "#d8576b"
            ],
            [
             0.6666666666666666,
             "#ed7953"
            ],
            [
             0.7777777777777778,
             "#fb9f3a"
            ],
            [
             0.8888888888888888,
             "#fdca26"
            ],
            [
             1,
             "#f0f921"
            ]
           ],
           "sequentialminus": [
            [
             0,
             "#0d0887"
            ],
            [
             0.1111111111111111,
             "#46039f"
            ],
            [
             0.2222222222222222,
             "#7201a8"
            ],
            [
             0.3333333333333333,
             "#9c179e"
            ],
            [
             0.4444444444444444,
             "#bd3786"
            ],
            [
             0.5555555555555556,
             "#d8576b"
            ],
            [
             0.6666666666666666,
             "#ed7953"
            ],
            [
             0.7777777777777778,
             "#fb9f3a"
            ],
            [
             0.8888888888888888,
             "#fdca26"
            ],
            [
             1,
             "#f0f921"
            ]
           ]
          },
          "colorway": [
           "#636efa",
           "#EF553B",
           "#00cc96",
           "#ab63fa",
           "#FFA15A",
           "#19d3f3",
           "#FF6692",
           "#B6E880",
           "#FF97FF",
           "#FECB52"
          ],
          "font": {
           "color": "#2a3f5f"
          },
          "geo": {
           "bgcolor": "white",
           "lakecolor": "white",
           "landcolor": "#E5ECF6",
           "showlakes": true,
           "showland": true,
           "subunitcolor": "white"
          },
          "hoverlabel": {
           "align": "left"
          },
          "hovermode": "closest",
          "mapbox": {
           "style": "light"
          },
          "paper_bgcolor": "white",
          "plot_bgcolor": "#E5ECF6",
          "polar": {
           "angularaxis": {
            "gridcolor": "white",
            "linecolor": "white",
            "ticks": ""
           },
           "bgcolor": "#E5ECF6",
           "radialaxis": {
            "gridcolor": "white",
            "linecolor": "white",
            "ticks": ""
           }
          },
          "scene": {
           "xaxis": {
            "backgroundcolor": "#E5ECF6",
            "gridcolor": "white",
            "gridwidth": 2,
            "linecolor": "white",
            "showbackground": true,
            "ticks": "",
            "zerolinecolor": "white"
           },
           "yaxis": {
            "backgroundcolor": "#E5ECF6",
            "gridcolor": "white",
            "gridwidth": 2,
            "linecolor": "white",
            "showbackground": true,
            "ticks": "",
            "zerolinecolor": "white"
           },
           "zaxis": {
            "backgroundcolor": "#E5ECF6",
            "gridcolor": "white",
            "gridwidth": 2,
            "linecolor": "white",
            "showbackground": true,
            "ticks": "",
            "zerolinecolor": "white"
           }
          },
          "shapedefaults": {
           "line": {
            "color": "#2a3f5f"
           }
          },
          "ternary": {
           "aaxis": {
            "gridcolor": "white",
            "linecolor": "white",
            "ticks": ""
           },
           "baxis": {
            "gridcolor": "white",
            "linecolor": "white",
            "ticks": ""
           },
           "bgcolor": "#E5ECF6",
           "caxis": {
            "gridcolor": "white",
            "linecolor": "white",
            "ticks": ""
           }
          },
          "title": {
           "x": 0.05
          },
          "xaxis": {
           "automargin": true,
           "gridcolor": "white",
           "linecolor": "white",
           "ticks": "",
           "title": {
            "standoff": 15
           },
           "zerolinecolor": "white",
           "zerolinewidth": 2
          },
          "yaxis": {
           "automargin": true,
           "gridcolor": "white",
           "linecolor": "white",
           "ticks": "",
           "title": {
            "standoff": 15
           },
           "zerolinecolor": "white",
           "zerolinewidth": 2
          }
         }
        },
        "title": {
         "text": "Syracuse Weather 2015"
        },
        "xaxis": {
         "title": {
          "text": "Day of the Year"
         }
        },
        "yaxis": {
         "title": {
          "text": "Temperature Deg F"
         }
        }
       }
      },
      "text/html": [
       "<div>                            <div id=\"a47b1534-7782-4dca-b931-f6e4d84ac527\" class=\"plotly-graph-div\" style=\"height:525px; width:100%;\"></div>            <script type=\"text/javascript\">                require([\"plotly\"], function(Plotly) {                    window.PLOTLYENV=window.PLOTLYENV || {};                                    if (document.getElementById(\"a47b1534-7782-4dca-b931-f6e4d84ac527\")) {                    Plotly.newPlot(                        \"a47b1534-7782-4dca-b931-f6e4d84ac527\",                        [{\"marker\": {\"color\": \"red\"}, \"mode\": \"lines\", \"name\": \"Max Temp\", \"type\": \"scatter\", \"x\": [\"2015-1-1\", \"2015-1-2\", \"2015-1-3\", \"2015-1-4\", \"2015-1-5\", \"2015-1-6\", \"2015-1-7\", \"2015-1-8\", \"2015-1-9\", \"2015-1-10\", \"2015-1-11\", \"2015-1-12\", \"2015-1-13\", \"2015-1-14\", \"2015-1-15\", \"2015-1-16\", \"2015-1-17\", \"2015-1-18\", \"2015-1-19\", \"2015-1-20\", \"2015-1-21\", \"2015-1-22\", \"2015-1-23\", \"2015-1-24\", \"2015-1-25\", \"2015-1-26\", \"2015-1-27\", \"2015-1-28\", \"2015-1-29\", \"2015-1-30\", \"2015-1-31\", \"2015-2-1\", \"2015-2-2\", \"2015-2-3\", \"2015-2-4\", \"2015-2-5\", \"2015-2-6\", \"2015-2-7\", \"2015-2-8\", \"2015-2-9\", \"2015-2-10\", \"2015-2-11\", \"2015-2-12\", \"2015-2-13\", \"2015-2-14\", \"2015-2-15\", \"2015-2-16\", \"2015-2-17\", \"2015-2-18\", \"2015-2-19\", \"2015-2-20\", \"2015-2-21\", \"2015-2-22\", \"2015-2-23\", \"2015-2-24\", \"2015-2-25\", \"2015-2-26\", \"2015-2-27\", \"2015-2-28\", \"2015-3-1\", \"2015-3-2\", \"2015-3-3\", \"2015-3-4\", \"2015-3-5\", \"2015-3-6\", \"2015-3-7\", \"2015-3-8\", \"2015-3-9\", \"2015-3-10\", \"2015-3-11\", \"2015-3-12\", \"2015-3-13\", \"2015-3-14\", \"2015-3-15\", \"2015-3-16\", \"2015-3-17\", \"2015-3-18\", \"2015-3-19\", \"2015-3-20\", \"2015-3-21\", \"2015-3-22\", \"2015-3-23\", \"2015-3-24\", \"2015-3-25\", \"2015-3-26\", \"2015-3-27\", \"2015-3-28\", \"2015-3-29\", \"2015-3-30\", \"2015-3-31\", \"2015-4-1\", \"2015-4-2\", \"2015-4-3\", \"2015-4-4\", \"2015-4-5\", \"2015-4-6\", \"2015-4-7\", \"2015-4-8\", \"2015-4-9\", \"2015-4-10\", \"2015-4-11\", \"2015-4-12\", \"2015-4-13\", \"2015-4-14\", \"2015-4-15\", \"2015-4-16\", \"2015-4-17\", \"2015-4-18\", \"2015-4-19\", \"2015-4-20\", \"2015-4-21\", \"2015-4-22\", \"2015-4-23\", \"2015-4-24\", \"2015-4-25\", \"2015-4-26\", \"2015-4-27\", \"2015-4-28\", \"2015-4-29\", \"2015-4-30\", \"2015-5-1\", \"2015-5-2\", \"2015-5-3\", \"2015-5-4\", \"2015-5-5\", \"2015-5-6\", \"2015-5-7\", \"2015-5-8\", \"2015-5-9\", \"2015-5-10\", \"2015-5-11\", \"2015-5-12\", \"2015-5-13\", \"2015-5-14\", \"2015-5-15\", \"2015-5-16\", \"2015-5-17\", \"2015-5-18\", \"2015-5-19\", \"2015-5-20\", \"2015-5-21\", \"2015-5-22\", \"2015-5-23\", \"2015-5-24\", \"2015-5-25\", \"2015-5-26\", \"2015-5-27\", \"2015-5-28\", \"2015-5-29\", \"2015-5-30\", \"2015-5-31\", \"2015-6-1\", \"2015-6-2\", \"2015-6-3\", \"2015-6-4\", \"2015-6-5\", \"2015-6-6\", \"2015-6-7\", \"2015-6-8\", \"2015-6-9\", \"2015-6-10\", \"2015-6-11\", \"2015-6-12\", \"2015-6-13\", \"2015-6-14\", \"2015-6-15\", \"2015-6-16\", \"2015-6-17\", \"2015-6-18\", \"2015-6-19\", \"2015-6-20\", \"2015-6-21\", \"2015-6-22\", \"2015-6-23\", \"2015-6-24\", \"2015-6-25\", \"2015-6-26\", \"2015-6-27\", \"2015-6-28\", \"2015-6-29\", \"2015-6-30\", \"2015-7-1\", \"2015-7-2\", \"2015-7-3\", \"2015-7-4\", \"2015-7-5\", \"2015-7-6\", \"2015-7-7\", \"2015-7-8\", \"2015-7-9\", \"2015-7-10\", \"2015-7-11\", \"2015-7-12\", \"2015-7-13\", \"2015-7-14\", \"2015-7-15\", \"2015-7-16\", \"2015-7-17\", \"2015-7-18\", \"2015-7-19\", \"2015-7-20\", \"2015-7-21\", \"2015-7-22\", \"2015-7-23\", \"2015-7-24\", \"2015-7-25\", \"2015-7-26\", \"2015-7-27\", \"2015-7-28\", \"2015-7-29\", \"2015-7-30\", \"2015-7-31\", \"2015-8-1\", \"2015-8-2\", \"2015-8-3\", \"2015-8-4\", \"2015-8-5\", \"2015-8-6\", \"2015-8-7\", \"2015-8-8\", \"2015-8-9\", \"2015-8-10\", \"2015-8-11\", \"2015-8-12\", \"2015-8-13\", \"2015-8-14\", \"2015-8-15\", \"2015-8-16\", \"2015-8-17\", \"2015-8-18\", \"2015-8-19\", \"2015-8-20\", \"2015-8-21\", \"2015-8-22\", \"2015-8-23\", \"2015-8-24\", \"2015-8-25\", \"2015-8-26\", \"2015-8-27\", \"2015-8-28\", \"2015-8-29\", \"2015-8-30\", \"2015-8-31\", \"2015-9-1\", \"2015-9-2\", \"2015-9-3\", \"2015-9-4\", \"2015-9-5\", \"2015-9-6\", \"2015-9-7\", \"2015-9-8\", \"2015-9-9\", \"2015-9-10\", \"2015-9-11\", \"2015-9-12\", \"2015-9-13\", \"2015-9-14\", \"2015-9-15\", \"2015-9-16\", \"2015-9-17\", \"2015-9-18\", \"2015-9-19\", \"2015-9-20\", \"2015-9-21\", \"2015-9-22\", \"2015-9-23\", \"2015-9-24\", \"2015-9-25\", \"2015-9-26\", \"2015-9-27\", \"2015-9-28\", \"2015-9-29\", \"2015-9-30\", \"2015-10-1\", \"2015-10-2\", \"2015-10-3\", \"2015-10-4\", \"2015-10-5\", \"2015-10-6\", \"2015-10-7\", \"2015-10-8\", \"2015-10-9\", \"2015-10-10\", \"2015-10-11\", \"2015-10-12\", \"2015-10-13\", \"2015-10-14\", \"2015-10-15\", \"2015-10-16\", \"2015-10-17\", \"2015-10-18\", \"2015-10-19\", \"2015-10-20\", \"2015-10-21\", \"2015-10-22\", \"2015-10-23\", \"2015-10-24\", \"2015-10-25\", \"2015-10-26\", \"2015-10-27\", \"2015-10-28\", \"2015-10-29\", \"2015-10-30\", \"2015-10-31\", \"2015-11-1\", \"2015-11-2\", \"2015-11-3\", \"2015-11-4\", \"2015-11-5\", \"2015-11-6\", \"2015-11-7\", \"2015-11-8\", \"2015-11-9\", \"2015-11-10\", \"2015-11-11\", \"2015-11-12\", \"2015-11-13\", \"2015-11-14\", \"2015-11-15\", \"2015-11-16\", \"2015-11-17\", \"2015-11-18\", \"2015-11-19\", \"2015-11-20\", \"2015-11-21\", \"2015-11-22\", \"2015-11-23\", \"2015-11-24\", \"2015-11-25\", \"2015-11-26\", \"2015-11-27\", \"2015-11-28\", \"2015-11-29\", \"2015-11-30\", \"2015-12-1\", \"2015-12-2\", \"2015-12-3\", \"2015-12-4\", \"2015-12-5\", \"2015-12-6\", \"2015-12-7\", \"2015-12-8\", \"2015-12-9\", \"2015-12-10\", \"2015-12-11\", \"2015-12-12\", \"2015-12-13\", \"2015-12-14\", \"2015-12-15\", \"2015-12-16\", \"2015-12-17\", \"2015-12-18\", \"2015-12-19\", \"2015-12-20\", \"2015-12-21\", \"2015-12-22\", \"2015-12-23\", \"2015-12-24\", \"2015-12-25\", \"2015-12-26\", \"2015-12-27\", \"2015-12-28\", \"2015-12-29\", \"2015-12-30\", \"2015-12-31\"], \"y\": [34, 31, 40, 55, 33, 18, 16, 17, 22, 16, 33, 34, 12, 20, 28, 29, 28, 41, 34, 24, 22, 26, 31, 32, 31, 18, 14, 22, 35, 27, 15, 24, 14, 22, 32, 22, 22, 27, 23, 20, 18, 28, 24, 8, 22, 8, 6, 17, 24, 11, 5, 20, 25, 13, 19, 19, 15, 14, 19, 23, 24, 33, 32, 21, 21, 30, 35, 42, 50, 45, 39, 47, 44, 37, 51, 39, 28, 32, 35, 41, 28, 21, 33, 48, 42, 39, 26, 40, 43, 42, 41, 68, 59, 41, 36, 62, 51, 40, 50, 58, 47, 67, 81, 64, 61, 74, 62, 72, 65, 59, 59, 51, 38, 40, 50, 54, 52, 64, 69, 71, 69, 73, 78, 84, 71, 78, 82, 90, 89, 86, 87, 75, 58, 66, 74, 78, 79, 86, 76, 56, 66, 62, 64, 80, 87, 84, 85, 74, 83, 87, 69, 55, 63, 73, 77, 81, 68, 81, 75, 74, 80, 77, 83, 77, 83, 82, 78, 77, 81, 73, 81, 79, 82, 85, 75, 79, 78, 69, 64, 71, 76, 74, 73, 78, 78, 81, 84, 88, 74, 71, 79, 82, 84, 87, 81, 71, 76, 79, 86, 91, 84, 78, 76, 78, 82, 81, 84, 87, 89, 91, 85, 84, 80, 84, 83, 78, 76, 77, 79, 78, 83, 85, 79, 76, 78, 86, 83, 87, 89, 89, 88, 85, 77, 77, 81, 78, 77, 74, 70, 74, 82, 80, 84, 82, 85, 87, 85, 88, 91, 93, 93, 90, 73, 78, 90, 64, 72, 80, 84, 86, 85, 83, 67, 67, 76, 76, 78, 75, 72, 76, 74, 74, 65, 62, 54, 55, 62, 67, 63, 68, 66, 64, 56, 71, 78, 69, 57, 64, 57, 45, 43, 54, 65, 61, 66, 50, 53, 55, 51, 55, 54, 59, 49, 51, 65, 61, 69, 75, 73, 73, 54, 51, 59, 58, 56, 61, 52, 41, 59, 56, 51, 58, 67, 53, 48, 50, 36, 38, 49, 59, 66, 42, 39, 43, 49, 48, 42, 43, 43, 39, 41, 39, 53, 57, 60, 52, 54, 66, 54, 46, 51, 41, 34, 38, 52, 55, 60, 68, 54, 46, 50, 33, 41, 44, 37]}, {\"marker\": {\"color\": \"green\"}, \"mode\": \"lines+markers\", \"name\": \"Mean Temp\", \"type\": \"scatter\", \"x\": [\"2015-1-1\", \"2015-1-2\", \"2015-1-3\", \"2015-1-4\", \"2015-1-5\", \"2015-1-6\", \"2015-1-7\", \"2015-1-8\", \"2015-1-9\", \"2015-1-10\", \"2015-1-11\", \"2015-1-12\", \"2015-1-13\", \"2015-1-14\", \"2015-1-15\", \"2015-1-16\", \"2015-1-17\", \"2015-1-18\", \"2015-1-19\", \"2015-1-20\", \"2015-1-21\", \"2015-1-22\", \"2015-1-23\", \"2015-1-24\", \"2015-1-25\", \"2015-1-26\", \"2015-1-27\", \"2015-1-28\", \"2015-1-29\", \"2015-1-30\", \"2015-1-31\", \"2015-2-1\", \"2015-2-2\", \"2015-2-3\", \"2015-2-4\", \"2015-2-5\", \"2015-2-6\", \"2015-2-7\", \"2015-2-8\", \"2015-2-9\", \"2015-2-10\", \"2015-2-11\", \"2015-2-12\", \"2015-2-13\", \"2015-2-14\", \"2015-2-15\", \"2015-2-16\", \"2015-2-17\", \"2015-2-18\", \"2015-2-19\", \"2015-2-20\", \"2015-2-21\", \"2015-2-22\", \"2015-2-23\", \"2015-2-24\", \"2015-2-25\", \"2015-2-26\", \"2015-2-27\", \"2015-2-28\", \"2015-3-1\", \"2015-3-2\", \"2015-3-3\", \"2015-3-4\", \"2015-3-5\", \"2015-3-6\", \"2015-3-7\", \"2015-3-8\", \"2015-3-9\", \"2015-3-10\", \"2015-3-11\", \"2015-3-12\", \"2015-3-13\", \"2015-3-14\", \"2015-3-15\", \"2015-3-16\", \"2015-3-17\", \"2015-3-18\", \"2015-3-19\", \"2015-3-20\", \"2015-3-21\", \"2015-3-22\", \"2015-3-23\", \"2015-3-24\", \"2015-3-25\", \"2015-3-26\", \"2015-3-27\", \"2015-3-28\", \"2015-3-29\", \"2015-3-30\", \"2015-3-31\", \"2015-4-1\", \"2015-4-2\", \"2015-4-3\", \"2015-4-4\", \"2015-4-5\", \"2015-4-6\", \"2015-4-7\", \"2015-4-8\", \"2015-4-9\", \"2015-4-10\", \"2015-4-11\", \"2015-4-12\", \"2015-4-13\", \"2015-4-14\", \"2015-4-15\", \"2015-4-16\", \"2015-4-17\", \"2015-4-18\", \"2015-4-19\", \"2015-4-20\", \"2015-4-21\", \"2015-4-22\", \"2015-4-23\", \"2015-4-24\", \"2015-4-25\", \"2015-4-26\", \"2015-4-27\", \"2015-4-28\", \"2015-4-29\", \"2015-4-30\", \"2015-5-1\", \"2015-5-2\", \"2015-5-3\", \"2015-5-4\", \"2015-5-5\", \"2015-5-6\", \"2015-5-7\", \"2015-5-8\", \"2015-5-9\", \"2015-5-10\", \"2015-5-11\", \"2015-5-12\", \"2015-5-13\", \"2015-5-14\", \"2015-5-15\", \"2015-5-16\", \"2015-5-17\", \"2015-5-18\", \"2015-5-19\", \"2015-5-20\", \"2015-5-21\", \"2015-5-22\", \"2015-5-23\", \"2015-5-24\", \"2015-5-25\", \"2015-5-26\", \"2015-5-27\", \"2015-5-28\", \"2015-5-29\", \"2015-5-30\", \"2015-5-31\", \"2015-6-1\", \"2015-6-2\", \"2015-6-3\", \"2015-6-4\", \"2015-6-5\", \"2015-6-6\", \"2015-6-7\", \"2015-6-8\", \"2015-6-9\", \"2015-6-10\", \"2015-6-11\", \"2015-6-12\", \"2015-6-13\", \"2015-6-14\", \"2015-6-15\", \"2015-6-16\", \"2015-6-17\", \"2015-6-18\", \"2015-6-19\", \"2015-6-20\", \"2015-6-21\", \"2015-6-22\", \"2015-6-23\", \"2015-6-24\", \"2015-6-25\", \"2015-6-26\", \"2015-6-27\", \"2015-6-28\", \"2015-6-29\", \"2015-6-30\", \"2015-7-1\", \"2015-7-2\", \"2015-7-3\", \"2015-7-4\", \"2015-7-5\", \"2015-7-6\", \"2015-7-7\", \"2015-7-8\", \"2015-7-9\", \"2015-7-10\", \"2015-7-11\", \"2015-7-12\", \"2015-7-13\", \"2015-7-14\", \"2015-7-15\", \"2015-7-16\", \"2015-7-17\", \"2015-7-18\", \"2015-7-19\", \"2015-7-20\", \"2015-7-21\", \"2015-7-22\", \"2015-7-23\", \"2015-7-24\", \"2015-7-25\", \"2015-7-26\", \"2015-7-27\", \"2015-7-28\", \"2015-7-29\", \"2015-7-30\", \"2015-7-31\", \"2015-8-1\", \"2015-8-2\", \"2015-8-3\", \"2015-8-4\", \"2015-8-5\", \"2015-8-6\", \"2015-8-7\", \"2015-8-8\", \"2015-8-9\", \"2015-8-10\", \"2015-8-11\", \"2015-8-12\", \"2015-8-13\", \"2015-8-14\", \"2015-8-15\", \"2015-8-16\", \"2015-8-17\", \"2015-8-18\", \"2015-8-19\", \"2015-8-20\", \"2015-8-21\", \"2015-8-22\", \"2015-8-23\", \"2015-8-24\", \"2015-8-25\", \"2015-8-26\", \"2015-8-27\", \"2015-8-28\", \"2015-8-29\", \"2015-8-30\", \"2015-8-31\", \"2015-9-1\", \"2015-9-2\", \"2015-9-3\", \"2015-9-4\", \"2015-9-5\", \"2015-9-6\", \"2015-9-7\", \"2015-9-8\", \"2015-9-9\", \"2015-9-10\", \"2015-9-11\", \"2015-9-12\", \"2015-9-13\", \"2015-9-14\", \"2015-9-15\", \"2015-9-16\", \"2015-9-17\", \"2015-9-18\", \"2015-9-19\", \"2015-9-20\", \"2015-9-21\", \"2015-9-22\", \"2015-9-23\", \"2015-9-24\", \"2015-9-25\", \"2015-9-26\", \"2015-9-27\", \"2015-9-28\", \"2015-9-29\", \"2015-9-30\", \"2015-10-1\", \"2015-10-2\", \"2015-10-3\", \"2015-10-4\", \"2015-10-5\", \"2015-10-6\", \"2015-10-7\", \"2015-10-8\", \"2015-10-9\", \"2015-10-10\", \"2015-10-11\", \"2015-10-12\", \"2015-10-13\", \"2015-10-14\", \"2015-10-15\", \"2015-10-16\", \"2015-10-17\", \"2015-10-18\", \"2015-10-19\", \"2015-10-20\", \"2015-10-21\", \"2015-10-22\", \"2015-10-23\", \"2015-10-24\", \"2015-10-25\", \"2015-10-26\", \"2015-10-27\", \"2015-10-28\", \"2015-10-29\", \"2015-10-30\", \"2015-10-31\", \"2015-11-1\", \"2015-11-2\", \"2015-11-3\", \"2015-11-4\", \"2015-11-5\", \"2015-11-6\", \"2015-11-7\", \"2015-11-8\", \"2015-11-9\", \"2015-11-10\", \"2015-11-11\", \"2015-11-12\", \"2015-11-13\", \"2015-11-14\", \"2015-11-15\", \"2015-11-16\", \"2015-11-17\", \"2015-11-18\", \"2015-11-19\", \"2015-11-20\", \"2015-11-21\", \"2015-11-22\", \"2015-11-23\", \"2015-11-24\", \"2015-11-25\", \"2015-11-26\", \"2015-11-27\", \"2015-11-28\", \"2015-11-29\", \"2015-11-30\", \"2015-12-1\", \"2015-12-2\", \"2015-12-3\", \"2015-12-4\", \"2015-12-5\", \"2015-12-6\", \"2015-12-7\", \"2015-12-8\", \"2015-12-9\", \"2015-12-10\", \"2015-12-11\", \"2015-12-12\", \"2015-12-13\", \"2015-12-14\", \"2015-12-15\", \"2015-12-16\", \"2015-12-17\", \"2015-12-18\", \"2015-12-19\", \"2015-12-20\", \"2015-12-21\", \"2015-12-22\", \"2015-12-23\", \"2015-12-24\", \"2015-12-25\", \"2015-12-26\", \"2015-12-27\", \"2015-12-28\", \"2015-12-29\", \"2015-12-30\", \"2015-12-31\"], \"y\": [27.0, 23.0, 28.0, 44.0, 22.0, 14.0, 6.0, 5.0, 18.0, 12.0, 22.0, 23.0, 3.0, 5.0, 12.0, 19.0, 11.0, 34.0, 29.0, 15.0, 10.0, 22.0, 26.0, 26.0, 18.0, 11.0, 9.0, 11.0, 18.0, 16.0, 4.0, 18.0, 8.0, 10.0, 23.0, 14.0, 14.0, 24.0, 17.0, 15.0, 12.0, 14.0, 12.0, -2.0, 12.0, 1.0, -5.0, 3.0, 9.0, 4.0, -4.0, 2.0, 19.0, 6.0, 1.0, 13.0, 9.0, 6.0, 8.0, 8.0, 17.0, 16.0, 27.0, 13.0, 8.0, 19.0, 28.0, 31.0, 36.0, 41.0, 30.0, 33.0, 40.0, 33.0, 38.0, 34.0, 25.0, 23.0, 28.0, 32.0, 22.0, 16.0, 21.0, 33.0, 38.0, 31.0, 22.0, 29.0, 39.0, 34.0, 31.0, 48.0, 50.0, 37.0, 33.0, 46.0, 44.0, 38.0, 43.0, 51.0, 42.0, 49.0, 59.0, 52.0, 49.0, 53.0, 55.0, 57.0, 52.0, 52.0, 50.0, 44.0, 35.0, 36.0, 39.0, 44.0, 47.0, 52.0, 57.0, 56.0, 57.0, 58.0, 61.0, 68.0, 63.0, 62.0, 66.0, 71.0, 78.0, 76.0, 76.0, 64.0, 49.0, 51.0, 58.0, 66.0, 68.0, 72.0, 63.0, 49.0, 54.0, 52.0, 49.0, 64.0, 73.0, 78.0, 78.0, 66.0, 67.0, 77.0, 60.0, 53.0, 56.0, 57.0, 63.0, 72.0, 58.0, 62.0, 71.0, 67.0, 68.0, 68.0, 71.0, 68.0, 70.0, 73.0, 71.0, 66.0, 71.0, 63.0, 65.0, 72.0, 71.0, 74.0, 67.0, 69.0, 69.0, 62.0, 59.0, 64.0, 66.0, 67.0, 64.0, 64.0, 69.0, 69.0, 71.0, 80.0, 67.0, 65.0, 69.0, 70.0, 72.0, 75.0, 74.0, 63.0, 64.0, 66.0, 79.0, 80.0, 76.0, 70.0, 68.0, 69.0, 69.0, 69.0, 75.0, 74.0, 77.0, 78.0, 79.0, 75.0, 72.0, 72.0, 74.0, 71.0, 69.0, 67.0, 67.0, 66.0, 70.0, 72.0, 72.0, 70.0, 69.0, 74.0, 75.0, 76.0, 78.0, 78.0, 79.0, 76.0, 69.0, 68.0, 69.0, 69.0, 67.0, 67.0, 63.0, 64.0, 68.0, 72.0, 72.0, 73.0, 73.0, 77.0, 74.0, 76.0, 77.0, 81.0, 84.0, 79.0, 67.0, 68.0, 79.0, 59.0, 63.0, 66.0, 69.0, 72.0, 71.0, 72.0, 58.0, 55.0, 62.0, 61.0, 65.0, 64.0, 62.0, 62.0, 66.0, 70.0, 56.0, 53.0, 47.0, 47.0, 54.0, 54.0, 58.0, 61.0, 58.0, 56.0, 48.0, 55.0, 64.0, 63.0, 51.0, 53.0, 50.0, 39.0, 36.0, 42.0, 56.0, 57.0, 56.0, 41.0, 42.0, 47.0, 42.0, 42.0, 48.0, 53.0, 42.0, 40.0, 55.0, 52.0, 54.0, 58.0, 63.0, 64.0, 47.0, 43.0, 45.0, 47.0, 52.0, 55.0, 46.0, 38.0, 47.0, 44.0, 39.0, 46.0, 60.0, 42.0, 39.0, 40.0, 31.0, 33.0, 38.0, 50.0, 54.0, 37.0, 34.0, 32.0, 42.0, 44.0, 39.0, 41.0, 37.0, 32.0, 33.0, 34.0, 42.0, 51.0, 51.0, 43.0, 50.0, 56.0, 47.0, 42.0, 46.0, 37.0, 31.0, 34.0, 44.0, 48.0, 51.0, 53.0, 43.0, 37.0, 42.0, 28.0, 32.0, 39.0, 35.0]}, {\"marker\": {\"color\": \"blue\"}, \"mode\": \"lines\", \"name\": \"Min Temp\", \"type\": \"scatter\", \"x\": [\"2015-1-1\", \"2015-1-2\", \"2015-1-3\", \"2015-1-4\", \"2015-1-5\", \"2015-1-6\", \"2015-1-7\", \"2015-1-8\", \"2015-1-9\", \"2015-1-10\", \"2015-1-11\", \"2015-1-12\", \"2015-1-13\", \"2015-1-14\", \"2015-1-15\", \"2015-1-16\", \"2015-1-17\", \"2015-1-18\", \"2015-1-19\", \"2015-1-20\", \"2015-1-21\", \"2015-1-22\", \"2015-1-23\", \"2015-1-24\", \"2015-1-25\", \"2015-1-26\", \"2015-1-27\", \"2015-1-28\", \"2015-1-29\", \"2015-1-30\", \"2015-1-31\", \"2015-2-1\", \"2015-2-2\", \"2015-2-3\", \"2015-2-4\", \"2015-2-5\", \"2015-2-6\", \"2015-2-7\", \"2015-2-8\", \"2015-2-9\", \"2015-2-10\", \"2015-2-11\", \"2015-2-12\", \"2015-2-13\", \"2015-2-14\", \"2015-2-15\", \"2015-2-16\", \"2015-2-17\", \"2015-2-18\", \"2015-2-19\", \"2015-2-20\", \"2015-2-21\", \"2015-2-22\", \"2015-2-23\", \"2015-2-24\", \"2015-2-25\", \"2015-2-26\", \"2015-2-27\", \"2015-2-28\", \"2015-3-1\", \"2015-3-2\", \"2015-3-3\", \"2015-3-4\", \"2015-3-5\", \"2015-3-6\", \"2015-3-7\", \"2015-3-8\", \"2015-3-9\", \"2015-3-10\", \"2015-3-11\", \"2015-3-12\", \"2015-3-13\", \"2015-3-14\", \"2015-3-15\", \"2015-3-16\", \"2015-3-17\", \"2015-3-18\", \"2015-3-19\", \"2015-3-20\", \"2015-3-21\", \"2015-3-22\", \"2015-3-23\", \"2015-3-24\", \"2015-3-25\", \"2015-3-26\", \"2015-3-27\", \"2015-3-28\", \"2015-3-29\", \"2015-3-30\", \"2015-3-31\", \"2015-4-1\", \"2015-4-2\", \"2015-4-3\", \"2015-4-4\", \"2015-4-5\", \"2015-4-6\", \"2015-4-7\", \"2015-4-8\", \"2015-4-9\", \"2015-4-10\", \"2015-4-11\", \"2015-4-12\", \"2015-4-13\", \"2015-4-14\", \"2015-4-15\", \"2015-4-16\", \"2015-4-17\", \"2015-4-18\", \"2015-4-19\", \"2015-4-20\", \"2015-4-21\", \"2015-4-22\", \"2015-4-23\", \"2015-4-24\", \"2015-4-25\", \"2015-4-26\", \"2015-4-27\", \"2015-4-28\", \"2015-4-29\", \"2015-4-30\", \"2015-5-1\", \"2015-5-2\", \"2015-5-3\", \"2015-5-4\", \"2015-5-5\", \"2015-5-6\", \"2015-5-7\", \"2015-5-8\", \"2015-5-9\", \"2015-5-10\", \"2015-5-11\", \"2015-5-12\", \"2015-5-13\", \"2015-5-14\", \"2015-5-15\", \"2015-5-16\", \"2015-5-17\", \"2015-5-18\", \"2015-5-19\", \"2015-5-20\", \"2015-5-21\", \"2015-5-22\", \"2015-5-23\", \"2015-5-24\", \"2015-5-25\", \"2015-5-26\", \"2015-5-27\", \"2015-5-28\", \"2015-5-29\", \"2015-5-30\", \"2015-5-31\", \"2015-6-1\", \"2015-6-2\", \"2015-6-3\", \"2015-6-4\", \"2015-6-5\", \"2015-6-6\", \"2015-6-7\", \"2015-6-8\", \"2015-6-9\", \"2015-6-10\", \"2015-6-11\", \"2015-6-12\", \"2015-6-13\", \"2015-6-14\", \"2015-6-15\", \"2015-6-16\", \"2015-6-17\", \"2015-6-18\", \"2015-6-19\", \"2015-6-20\", \"2015-6-21\", \"2015-6-22\", \"2015-6-23\", \"2015-6-24\", \"2015-6-25\", \"2015-6-26\", \"2015-6-27\", \"2015-6-28\", \"2015-6-29\", \"2015-6-30\", \"2015-7-1\", \"2015-7-2\", \"2015-7-3\", \"2015-7-4\", \"2015-7-5\", \"2015-7-6\", \"2015-7-7\", \"2015-7-8\", \"2015-7-9\", \"2015-7-10\", \"2015-7-11\", \"2015-7-12\", \"2015-7-13\", \"2015-7-14\", \"2015-7-15\", \"2015-7-16\", \"2015-7-17\", \"2015-7-18\", \"2015-7-19\", \"2015-7-20\", \"2015-7-21\", \"2015-7-22\", \"2015-7-23\", \"2015-7-24\", \"2015-7-25\", \"2015-7-26\", \"2015-7-27\", \"2015-7-28\", \"2015-7-29\", \"2015-7-30\", \"2015-7-31\", \"2015-8-1\", \"2015-8-2\", \"2015-8-3\", \"2015-8-4\", \"2015-8-5\", \"2015-8-6\", \"2015-8-7\", \"2015-8-8\", \"2015-8-9\", \"2015-8-10\", \"2015-8-11\", \"2015-8-12\", \"2015-8-13\", \"2015-8-14\", \"2015-8-15\", \"2015-8-16\", \"2015-8-17\", \"2015-8-18\", \"2015-8-19\", \"2015-8-20\", \"2015-8-21\", \"2015-8-22\", \"2015-8-23\", \"2015-8-24\", \"2015-8-25\", \"2015-8-26\", \"2015-8-27\", \"2015-8-28\", \"2015-8-29\", \"2015-8-30\", \"2015-8-31\", \"2015-9-1\", \"2015-9-2\", \"2015-9-3\", \"2015-9-4\", \"2015-9-5\", \"2015-9-6\", \"2015-9-7\", \"2015-9-8\", \"2015-9-9\", \"2015-9-10\", \"2015-9-11\", \"2015-9-12\", \"2015-9-13\", \"2015-9-14\", \"2015-9-15\", \"2015-9-16\", \"2015-9-17\", \"2015-9-18\", \"2015-9-19\", \"2015-9-20\", \"2015-9-21\", \"2015-9-22\", \"2015-9-23\", \"2015-9-24\", \"2015-9-25\", \"2015-9-26\", \"2015-9-27\", \"2015-9-28\", \"2015-9-29\", \"2015-9-30\", \"2015-10-1\", \"2015-10-2\", \"2015-10-3\", \"2015-10-4\", \"2015-10-5\", \"2015-10-6\", \"2015-10-7\", \"2015-10-8\", \"2015-10-9\", \"2015-10-10\", \"2015-10-11\", \"2015-10-12\", \"2015-10-13\", \"2015-10-14\", \"2015-10-15\", \"2015-10-16\", \"2015-10-17\", \"2015-10-18\", \"2015-10-19\", \"2015-10-20\", \"2015-10-21\", \"2015-10-22\", \"2015-10-23\", \"2015-10-24\", \"2015-10-25\", \"2015-10-26\", \"2015-10-27\", \"2015-10-28\", \"2015-10-29\", \"2015-10-30\", \"2015-10-31\", \"2015-11-1\", \"2015-11-2\", \"2015-11-3\", \"2015-11-4\", \"2015-11-5\", \"2015-11-6\", \"2015-11-7\", \"2015-11-8\", \"2015-11-9\", \"2015-11-10\", \"2015-11-11\", \"2015-11-12\", \"2015-11-13\", \"2015-11-14\", \"2015-11-15\", \"2015-11-16\", \"2015-11-17\", \"2015-11-18\", \"2015-11-19\", \"2015-11-20\", \"2015-11-21\", \"2015-11-22\", \"2015-11-23\", \"2015-11-24\", \"2015-11-25\", \"2015-11-26\", \"2015-11-27\", \"2015-11-28\", \"2015-11-29\", \"2015-11-30\", \"2015-12-1\", \"2015-12-2\", \"2015-12-3\", \"2015-12-4\", \"2015-12-5\", \"2015-12-6\", \"2015-12-7\", \"2015-12-8\", \"2015-12-9\", \"2015-12-10\", \"2015-12-11\", \"2015-12-12\", \"2015-12-13\", \"2015-12-14\", \"2015-12-15\", \"2015-12-16\", \"2015-12-17\", \"2015-12-18\", \"2015-12-19\", \"2015-12-20\", \"2015-12-21\", \"2015-12-22\", \"2015-12-23\", \"2015-12-24\", \"2015-12-25\", \"2015-12-26\", \"2015-12-27\", \"2015-12-28\", \"2015-12-29\", \"2015-12-30\", \"2015-12-31\"], \"y\": [20, 15, 15, 33, 10, 10, -4, -8, 13, 7, 11, 12, -7, -11, -5, 8, -6, 26, 24, 5, -2, 18, 20, 19, 5, 3, 4, 0, 0, 5, -7, 11, 1, -2, 14, 6, 5, 20, 10, 9, 5, -1, 0, -13, 2, -6, -17, -11, -7, -3, -14, -16, 13, -2, -18, 6, 2, -2, -4, -7, 10, -1, 21, 5, -6, 7, 21, 20, 21, 37, 21, 19, 35, 28, 24, 28, 22, 13, 20, 23, 15, 11, 8, 17, 33, 22, 17, 17, 35, 25, 21, 27, 41, 32, 30, 30, 36, 35, 35, 43, 36, 31, 37, 39, 37, 31, 48, 42, 38, 45, 40, 36, 31, 31, 27, 33, 41, 40, 44, 41, 45, 42, 44, 52, 54, 45, 49, 51, 67, 65, 64, 53, 40, 36, 41, 54, 57, 58, 50, 41, 42, 42, 34, 47, 59, 71, 71, 58, 51, 67, 50, 50, 48, 41, 48, 62, 47, 43, 66, 59, 56, 59, 58, 59, 57, 64, 63, 55, 61, 53, 49, 65, 60, 62, 58, 58, 59, 55, 54, 57, 55, 60, 54, 49, 60, 57, 58, 71, 60, 59, 59, 57, 60, 63, 66, 54, 51, 53, 71, 69, 67, 62, 59, 59, 56, 57, 66, 61, 65, 64, 72, 66, 63, 60, 64, 63, 61, 56, 54, 54, 56, 59, 65, 64, 59, 62, 67, 65, 66, 67, 69, 66, 60, 58, 56, 59, 57, 59, 55, 54, 54, 64, 60, 64, 60, 66, 62, 64, 62, 69, 75, 68, 60, 57, 68, 54, 54, 51, 54, 58, 57, 61, 49, 42, 47, 46, 51, 52, 51, 48, 58, 65, 46, 44, 40, 38, 45, 41, 53, 53, 49, 47, 39, 38, 50, 56, 44, 42, 43, 32, 28, 30, 46, 53, 46, 32, 31, 39, 32, 29, 41, 46, 34, 29, 45, 42, 39, 40, 52, 54, 39, 34, 31, 36, 48, 48, 40, 35, 34, 32, 26, 34, 53, 31, 30, 30, 25, 28, 27, 41, 42, 32, 28, 21, 34, 40, 35, 38, 30, 25, 25, 28, 30, 45, 41, 34, 46, 45, 40, 37, 41, 33, 27, 29, 35, 41, 42, 37, 32, 27, 33, 23, 22, 33, 33]}],                        {\"template\": {\"data\": {\"bar\": [{\"error_x\": {\"color\": \"#2a3f5f\"}, \"error_y\": {\"color\": \"#2a3f5f\"}, \"marker\": {\"line\": {\"color\": \"#E5ECF6\", \"width\": 0.5}}, \"type\": \"bar\"}], \"barpolar\": [{\"marker\": {\"line\": {\"color\": \"#E5ECF6\", \"width\": 0.5}}, \"type\": \"barpolar\"}], \"carpet\": [{\"aaxis\": {\"endlinecolor\": \"#2a3f5f\", \"gridcolor\": \"white\", \"linecolor\": \"white\", \"minorgridcolor\": \"white\", \"startlinecolor\": \"#2a3f5f\"}, \"baxis\": {\"endlinecolor\": \"#2a3f5f\", \"gridcolor\": \"white\", \"linecolor\": \"white\", \"minorgridcolor\": \"white\", \"startlinecolor\": \"#2a3f5f\"}, \"type\": \"carpet\"}], \"choropleth\": [{\"colorbar\": {\"outlinewidth\": 0, \"ticks\": \"\"}, \"type\": \"choropleth\"}], \"contour\": [{\"colorbar\": {\"outlinewidth\": 0, \"ticks\": \"\"}, \"colorscale\": [[0.0, \"#0d0887\"], [0.1111111111111111, \"#46039f\"], [0.2222222222222222, \"#7201a8\"], [0.3333333333333333, \"#9c179e\"], [0.4444444444444444, \"#bd3786\"], [0.5555555555555556, \"#d8576b\"], [0.6666666666666666, \"#ed7953\"], [0.7777777777777778, \"#fb9f3a\"], [0.8888888888888888, \"#fdca26\"], [1.0, \"#f0f921\"]], \"type\": \"contour\"}], \"contourcarpet\": [{\"colorbar\": {\"outlinewidth\": 0, \"ticks\": \"\"}, \"type\": \"contourcarpet\"}], \"heatmap\": [{\"colorbar\": {\"outlinewidth\": 0, \"ticks\": \"\"}, \"colorscale\": [[0.0, \"#0d0887\"], [0.1111111111111111, \"#46039f\"], [0.2222222222222222, \"#7201a8\"], [0.3333333333333333, \"#9c179e\"], [0.4444444444444444, \"#bd3786\"], [0.5555555555555556, \"#d8576b\"], [0.6666666666666666, \"#ed7953\"], [0.7777777777777778, \"#fb9f3a\"], [0.8888888888888888, \"#fdca26\"], [1.0, \"#f0f921\"]], \"type\": \"heatmap\"}], \"heatmapgl\": [{\"colorbar\": {\"outlinewidth\": 0, \"ticks\": \"\"}, \"colorscale\": [[0.0, \"#0d0887\"], [0.1111111111111111, \"#46039f\"], [0.2222222222222222, \"#7201a8\"], [0.3333333333333333, \"#9c179e\"], [0.4444444444444444, \"#bd3786\"], [0.5555555555555556, \"#d8576b\"], [0.6666666666666666, \"#ed7953\"], [0.7777777777777778, \"#fb9f3a\"], [0.8888888888888888, \"#fdca26\"], [1.0, \"#f0f921\"]], \"type\": \"heatmapgl\"}], \"histogram\": [{\"marker\": {\"colorbar\": {\"outlinewidth\": 0, \"ticks\": \"\"}}, \"type\": \"histogram\"}], \"histogram2d\": [{\"colorbar\": {\"outlinewidth\": 0, \"ticks\": \"\"}, \"colorscale\": [[0.0, \"#0d0887\"], [0.1111111111111111, \"#46039f\"], [0.2222222222222222, \"#7201a8\"], [0.3333333333333333, \"#9c179e\"], [0.4444444444444444, \"#bd3786\"], [0.5555555555555556, \"#d8576b\"], [0.6666666666666666, \"#ed7953\"], [0.7777777777777778, \"#fb9f3a\"], [0.8888888888888888, \"#fdca26\"], [1.0, \"#f0f921\"]], \"type\": \"histogram2d\"}], \"histogram2dcontour\": [{\"colorbar\": {\"outlinewidth\": 0, \"ticks\": \"\"}, \"colorscale\": [[0.0, \"#0d0887\"], [0.1111111111111111, \"#46039f\"], [0.2222222222222222, \"#7201a8\"], [0.3333333333333333, \"#9c179e\"], [0.4444444444444444, \"#bd3786\"], [0.5555555555555556, \"#d8576b\"], [0.6666666666666666, \"#ed7953\"], [0.7777777777777778, \"#fb9f3a\"], [0.8888888888888888, \"#fdca26\"], [1.0, \"#f0f921\"]], \"type\": \"histogram2dcontour\"}], \"mesh3d\": [{\"colorbar\": {\"outlinewidth\": 0, \"ticks\": \"\"}, \"type\": \"mesh3d\"}], \"parcoords\": [{\"line\": {\"colorbar\": {\"outlinewidth\": 0, \"ticks\": \"\"}}, \"type\": \"parcoords\"}], \"pie\": [{\"automargin\": true, \"type\": \"pie\"}], \"scatter\": [{\"marker\": {\"colorbar\": {\"outlinewidth\": 0, \"ticks\": \"\"}}, \"type\": \"scatter\"}], \"scatter3d\": [{\"line\": {\"colorbar\": {\"outlinewidth\": 0, \"ticks\": \"\"}}, \"marker\": {\"colorbar\": {\"outlinewidth\": 0, \"ticks\": \"\"}}, \"type\": \"scatter3d\"}], \"scattercarpet\": [{\"marker\": {\"colorbar\": {\"outlinewidth\": 0, \"ticks\": \"\"}}, \"type\": \"scattercarpet\"}], \"scattergeo\": [{\"marker\": {\"colorbar\": {\"outlinewidth\": 0, \"ticks\": \"\"}}, \"type\": \"scattergeo\"}], \"scattergl\": [{\"marker\": {\"colorbar\": {\"outlinewidth\": 0, \"ticks\": \"\"}}, \"type\": \"scattergl\"}], \"scattermapbox\": [{\"marker\": {\"colorbar\": {\"outlinewidth\": 0, \"ticks\": \"\"}}, \"type\": \"scattermapbox\"}], \"scatterpolar\": [{\"marker\": {\"colorbar\": {\"outlinewidth\": 0, \"ticks\": \"\"}}, \"type\": \"scatterpolar\"}], \"scatterpolargl\": [{\"marker\": {\"colorbar\": {\"outlinewidth\": 0, \"ticks\": \"\"}}, \"type\": \"scatterpolargl\"}], \"scatterternary\": [{\"marker\": {\"colorbar\": {\"outlinewidth\": 0, \"ticks\": \"\"}}, \"type\": \"scatterternary\"}], \"surface\": [{\"colorbar\": {\"outlinewidth\": 0, \"ticks\": \"\"}, \"colorscale\": [[0.0, \"#0d0887\"], [0.1111111111111111, \"#46039f\"], [0.2222222222222222, \"#7201a8\"], [0.3333333333333333, \"#9c179e\"], [0.4444444444444444, \"#bd3786\"], [0.5555555555555556, \"#d8576b\"], [0.6666666666666666, \"#ed7953\"], [0.7777777777777778, \"#fb9f3a\"], [0.8888888888888888, \"#fdca26\"], [1.0, \"#f0f921\"]], \"type\": \"surface\"}], \"table\": [{\"cells\": {\"fill\": {\"color\": \"#EBF0F8\"}, \"line\": {\"color\": \"white\"}}, \"header\": {\"fill\": {\"color\": \"#C8D4E3\"}, \"line\": {\"color\": \"white\"}}, \"type\": \"table\"}]}, \"layout\": {\"annotationdefaults\": {\"arrowcolor\": \"#2a3f5f\", \"arrowhead\": 0, \"arrowwidth\": 1}, \"autotypenumbers\": \"strict\", \"coloraxis\": {\"colorbar\": {\"outlinewidth\": 0, \"ticks\": \"\"}}, \"colorscale\": {\"diverging\": [[0, \"#8e0152\"], [0.1, \"#c51b7d\"], [0.2, \"#de77ae\"], [0.3, \"#f1b6da\"], [0.4, \"#fde0ef\"], [0.5, \"#f7f7f7\"], [0.6, \"#e6f5d0\"], [0.7, \"#b8e186\"], [0.8, \"#7fbc41\"], [0.9, \"#4d9221\"], [1, \"#276419\"]], \"sequential\": [[0.0, \"#0d0887\"], [0.1111111111111111, \"#46039f\"], [0.2222222222222222, \"#7201a8\"], [0.3333333333333333, \"#9c179e\"], [0.4444444444444444, \"#bd3786\"], [0.5555555555555556, \"#d8576b\"], [0.6666666666666666, \"#ed7953\"], [0.7777777777777778, \"#fb9f3a\"], [0.8888888888888888, \"#fdca26\"], [1.0, \"#f0f921\"]], \"sequentialminus\": [[0.0, \"#0d0887\"], [0.1111111111111111, \"#46039f\"], [0.2222222222222222, \"#7201a8\"], [0.3333333333333333, \"#9c179e\"], [0.4444444444444444, \"#bd3786\"], [0.5555555555555556, \"#d8576b\"], [0.6666666666666666, \"#ed7953\"], [0.7777777777777778, \"#fb9f3a\"], [0.8888888888888888, \"#fdca26\"], [1.0, \"#f0f921\"]]}, \"colorway\": [\"#636efa\", \"#EF553B\", \"#00cc96\", \"#ab63fa\", \"#FFA15A\", \"#19d3f3\", \"#FF6692\", \"#B6E880\", \"#FF97FF\", \"#FECB52\"], \"font\": {\"color\": \"#2a3f5f\"}, \"geo\": {\"bgcolor\": \"white\", \"lakecolor\": \"white\", \"landcolor\": \"#E5ECF6\", \"showlakes\": true, \"showland\": true, \"subunitcolor\": \"white\"}, \"hoverlabel\": {\"align\": \"left\"}, \"hovermode\": \"closest\", \"mapbox\": {\"style\": \"light\"}, \"paper_bgcolor\": \"white\", \"plot_bgcolor\": \"#E5ECF6\", \"polar\": {\"angularaxis\": {\"gridcolor\": \"white\", \"linecolor\": \"white\", \"ticks\": \"\"}, \"bgcolor\": \"#E5ECF6\", \"radialaxis\": {\"gridcolor\": \"white\", \"linecolor\": \"white\", \"ticks\": \"\"}}, \"scene\": {\"xaxis\": {\"backgroundcolor\": \"#E5ECF6\", \"gridcolor\": \"white\", \"gridwidth\": 2, \"linecolor\": \"white\", \"showbackground\": true, \"ticks\": \"\", \"zerolinecolor\": \"white\"}, \"yaxis\": {\"backgroundcolor\": \"#E5ECF6\", \"gridcolor\": \"white\", \"gridwidth\": 2, \"linecolor\": \"white\", \"showbackground\": true, \"ticks\": \"\", \"zerolinecolor\": \"white\"}, \"zaxis\": {\"backgroundcolor\": \"#E5ECF6\", \"gridcolor\": \"white\", \"gridwidth\": 2, \"linecolor\": \"white\", \"showbackground\": true, \"ticks\": \"\", \"zerolinecolor\": \"white\"}}, \"shapedefaults\": {\"line\": {\"color\": \"#2a3f5f\"}}, \"ternary\": {\"aaxis\": {\"gridcolor\": \"white\", \"linecolor\": \"white\", \"ticks\": \"\"}, \"baxis\": {\"gridcolor\": \"white\", \"linecolor\": \"white\", \"ticks\": \"\"}, \"bgcolor\": \"#E5ECF6\", \"caxis\": {\"gridcolor\": \"white\", \"linecolor\": \"white\", \"ticks\": \"\"}}, \"title\": {\"x\": 0.05}, \"xaxis\": {\"automargin\": true, \"gridcolor\": \"white\", \"linecolor\": \"white\", \"ticks\": \"\", \"title\": {\"standoff\": 15}, \"zerolinecolor\": \"white\", \"zerolinewidth\": 2}, \"yaxis\": {\"automargin\": true, \"gridcolor\": \"white\", \"linecolor\": \"white\", \"ticks\": \"\", \"title\": {\"standoff\": 15}, \"zerolinecolor\": \"white\", \"zerolinewidth\": 2}}}, \"title\": {\"text\": \"Syracuse Weather 2015\"}, \"xaxis\": {\"title\": {\"text\": \"Day of the Year\"}}, \"yaxis\": {\"title\": {\"text\": \"Temperature Deg F\"}}},                        {\"responsive\": true}                    ).then(function(){\n",
       "                            \n",
       "var gd = document.getElementById('a47b1534-7782-4dca-b931-f6e4d84ac527');\n",
       "var x = new MutationObserver(function (mutations, observer) {{\n",
       "        var display = window.getComputedStyle(gd).display;\n",
       "        if (!display || display === 'none') {{\n",
       "            console.log([gd, 'removed!']);\n",
       "            Plotly.purge(gd);\n",
       "            observer.disconnect();\n",
       "        }}\n",
       "}});\n",
       "\n",
       "// Listen for the removal of the full notebook cells\n",
       "var notebookContainer = gd.closest('#notebook-container');\n",
       "if (notebookContainer) {{\n",
       "    x.observe(notebookContainer, {childList: true});\n",
       "}}\n",
       "\n",
       "// Listen for the clearing of the current output cell\n",
       "var outputEl = gd.closest('.output');\n",
       "if (outputEl) {{\n",
       "    x.observe(outputEl, {childList: true});\n",
       "}}\n",
       "\n",
       "                        })                };                });            </script>        </div>"
      ]
     },
     "metadata": {},
     "output_type": "display_data"
    }
   ],
   "source": [
    "r = dict(color='red')\n",
    "g = dict(color='green')\n",
    "b = dict(color='blue')\n",
    "weather_data = [\n",
    "    go.Scatter(x=cuse_weather_df['EST'], y=cuse_weather_df['Max TemperatureF'], mode=\"lines\", name=\"Max Temp\", marker=r),\n",
    "    go.Scatter(x=cuse_weather_df['EST'], y=cuse_weather_df['Mean TemperatureF'], mode=\"lines+markers\", name=\"Mean Temp\", marker=g),\n",
    "    go.Scatter(x=cuse_weather_df['EST'], y=cuse_weather_df['Min TemperatureF'], mode=\"lines\", name=\"Min Temp\", marker=b)\n",
    "]\n",
    "\n",
    "figure = go.Figure()\n",
    "for w in weather_data:\n",
    "    figure.add_trace(w)\n",
    "figure.update_layout(title='Syracuse Weather 2015',\n",
    "                   xaxis_title='Day of the Year',\n",
    "                   yaxis_title='Temperature Deg F')\n",
    "figure.show()\n"
   ]
  },
  {
   "cell_type": "markdown",
   "metadata": {},
   "source": [
    "Here's another example with the Exam Scores Dataset. Shows you how much more expressive plot.ly can be."
   ]
  },
  {
   "cell_type": "code",
   "execution_count": 14,
   "metadata": {},
   "outputs": [
    {
     "data": {
      "text/html": [
       "<div>\n",
       "<style scoped>\n",
       "    .dataframe tbody tr th:only-of-type {\n",
       "        vertical-align: middle;\n",
       "    }\n",
       "\n",
       "    .dataframe tbody tr th {\n",
       "        vertical-align: top;\n",
       "    }\n",
       "\n",
       "    .dataframe thead th {\n",
       "        text-align: right;\n",
       "    }\n",
       "</style>\n",
       "<table border=\"1\" class=\"dataframe\">\n",
       "  <thead>\n",
       "    <tr style=\"text-align: right;\">\n",
       "      <th></th>\n",
       "      <th>Class_Section</th>\n",
       "      <th>Exam_Version</th>\n",
       "      <th>Completion_Time</th>\n",
       "      <th>Made_Own_Study_Guide</th>\n",
       "      <th>Did_Exam_Prep Assignment</th>\n",
       "      <th>Studied_In_Groups</th>\n",
       "      <th>Student_Score</th>\n",
       "      <th>Percentage</th>\n",
       "      <th>Letter_Grade</th>\n",
       "    </tr>\n",
       "  </thead>\n",
       "  <tbody>\n",
       "    <tr>\n",
       "      <th>23</th>\n",
       "      <td>M01</td>\n",
       "      <td>D</td>\n",
       "      <td>35</td>\n",
       "      <td>?</td>\n",
       "      <td>?</td>\n",
       "      <td>?</td>\n",
       "      <td>13</td>\n",
       "      <td>43.30%</td>\n",
       "      <td>F</td>\n",
       "    </tr>\n",
       "    <tr>\n",
       "      <th>8</th>\n",
       "      <td>M01</td>\n",
       "      <td>B</td>\n",
       "      <td>20</td>\n",
       "      <td>N</td>\n",
       "      <td>N</td>\n",
       "      <td>Y</td>\n",
       "      <td>13</td>\n",
       "      <td>43.30%</td>\n",
       "      <td>F</td>\n",
       "    </tr>\n",
       "    <tr>\n",
       "      <th>21</th>\n",
       "      <td>M01</td>\n",
       "      <td>D</td>\n",
       "      <td>25</td>\n",
       "      <td>N</td>\n",
       "      <td>N</td>\n",
       "      <td>Y</td>\n",
       "      <td>15</td>\n",
       "      <td>50.00%</td>\n",
       "      <td>D</td>\n",
       "    </tr>\n",
       "    <tr>\n",
       "      <th>29</th>\n",
       "      <td>M02</td>\n",
       "      <td>A</td>\n",
       "      <td>20</td>\n",
       "      <td>N</td>\n",
       "      <td>N</td>\n",
       "      <td>N</td>\n",
       "      <td>16</td>\n",
       "      <td>53.30%</td>\n",
       "      <td>D</td>\n",
       "    </tr>\n",
       "    <tr>\n",
       "      <th>52</th>\n",
       "      <td>M02</td>\n",
       "      <td>C</td>\n",
       "      <td>40</td>\n",
       "      <td>Y</td>\n",
       "      <td>Y</td>\n",
       "      <td>N</td>\n",
       "      <td>16</td>\n",
       "      <td>53.30%</td>\n",
       "      <td>D</td>\n",
       "    </tr>\n",
       "    <tr>\n",
       "      <th>56</th>\n",
       "      <td>M02</td>\n",
       "      <td>C</td>\n",
       "      <td>60</td>\n",
       "      <td>N</td>\n",
       "      <td>N</td>\n",
       "      <td>Y</td>\n",
       "      <td>16</td>\n",
       "      <td>53.30%</td>\n",
       "      <td>D</td>\n",
       "    </tr>\n",
       "  </tbody>\n",
       "</table>\n",
       "</div>"
      ],
      "text/plain": [
       "   Class_Section Exam_Version  Completion_Time Made_Own_Study_Guide  \\\n",
       "23           M01            D               35                    ?   \n",
       "8            M01            B               20                    N   \n",
       "21           M01            D               25                    N   \n",
       "29           M02            A               20                    N   \n",
       "52           M02            C               40                    Y   \n",
       "56           M02            C               60                    N   \n",
       "\n",
       "   Did_Exam_Prep Assignment Studied_In_Groups  Student_Score Percentage  \\\n",
       "23                        ?                 ?             13     43.30%   \n",
       "8                         N                 Y             13     43.30%   \n",
       "21                        N                 Y             15     50.00%   \n",
       "29                        N                 N             16     53.30%   \n",
       "52                        Y                 N             16     53.30%   \n",
       "56                        N                 Y             16     53.30%   \n",
       "\n",
       "   Letter_Grade  \n",
       "23            F  \n",
       "8             F  \n",
       "21            D  \n",
       "29            D  \n",
       "52            D  \n",
       "56            D  "
      ]
     },
     "execution_count": 14,
     "metadata": {},
     "output_type": "execute_result"
    }
   ],
   "source": [
    "scores_df = pd.read_csv('https://raw.githubusercontent.com/mafudge/datasets/master/exam-scores/exam-scores.csv')\n",
    "scores_df = scores_df.sort_values(by='Student_Score')\n",
    "scores_df[0:6]"
   ]
  },
  {
   "cell_type": "code",
   "execution_count": 15,
   "metadata": {
    "scrolled": false
   },
   "outputs": [
    {
     "data": {
      "application/vnd.plotly.v1+json": {
       "config": {
        "plotlyServerURL": "https://plotly.com"
       },
       "data": [
        {
         "marker": {
          "size": [
           13,
           13,
           15,
           16,
           16,
           16,
           17,
           17,
           18,
           19,
           19,
           19,
           20,
           20,
           20,
           20,
           21,
           21,
           21,
           21,
           21,
           22,
           22,
           22,
           22,
           22,
           23,
           23,
           23,
           23,
           23,
           23,
           23,
           23,
           24,
           24,
           24,
           24,
           24,
           24,
           24,
           24,
           24,
           24,
           24,
           25,
           25,
           25,
           25,
           25,
           26,
           26,
           26,
           26,
           27,
           27,
           27,
           27,
           27,
           28,
           28,
           28,
           29,
           30,
           30
          ],
          "sizemode": "diameter",
          "sizeref": 1
         },
         "mode": "markers",
         "type": "scatter",
         "x": [
          "F",
          "F",
          "D",
          "D",
          "D",
          "D",
          "D",
          "D",
          "C-",
          "C-",
          "C-",
          "C-",
          "C",
          "C",
          "C",
          "C",
          "C+",
          "C+",
          "C+",
          "C+",
          "C+",
          "C+",
          "C+",
          "C+",
          "C+",
          "C+",
          "B-",
          "B-",
          "B-",
          "B-",
          "B-",
          "B-",
          "B-",
          "B-",
          "B",
          "B",
          "B",
          "B",
          "B",
          "B",
          "B",
          "B",
          "B",
          "B",
          "B",
          "B",
          "B",
          "B",
          "B",
          "B",
          "B+",
          "B+",
          "B+",
          "B+",
          "A-",
          "A-",
          "A-",
          "A-",
          "A-",
          "A-",
          "A-",
          "A-",
          "A",
          "A",
          "A"
         ],
         "y": [
          35,
          20,
          25,
          20,
          40,
          60,
          55,
          25,
          50,
          60,
          60,
          15,
          45,
          55,
          40,
          25,
          45,
          30,
          35,
          60,
          20,
          60,
          35,
          60,
          45,
          45,
          55,
          60,
          45,
          40,
          35,
          25,
          40,
          35,
          45,
          45,
          30,
          20,
          60,
          45,
          55,
          55,
          30,
          25,
          25,
          25,
          60,
          45,
          45,
          55,
          15,
          60,
          20,
          60,
          20,
          40,
          20,
          50,
          50,
          25,
          50,
          40,
          35,
          60,
          30
         ]
        }
       ],
       "layout": {
        "template": {
         "data": {
          "bar": [
           {
            "error_x": {
             "color": "#2a3f5f"
            },
            "error_y": {
             "color": "#2a3f5f"
            },
            "marker": {
             "line": {
              "color": "#E5ECF6",
              "width": 0.5
             }
            },
            "type": "bar"
           }
          ],
          "barpolar": [
           {
            "marker": {
             "line": {
              "color": "#E5ECF6",
              "width": 0.5
             }
            },
            "type": "barpolar"
           }
          ],
          "carpet": [
           {
            "aaxis": {
             "endlinecolor": "#2a3f5f",
             "gridcolor": "white",
             "linecolor": "white",
             "minorgridcolor": "white",
             "startlinecolor": "#2a3f5f"
            },
            "baxis": {
             "endlinecolor": "#2a3f5f",
             "gridcolor": "white",
             "linecolor": "white",
             "minorgridcolor": "white",
             "startlinecolor": "#2a3f5f"
            },
            "type": "carpet"
           }
          ],
          "choropleth": [
           {
            "colorbar": {
             "outlinewidth": 0,
             "ticks": ""
            },
            "type": "choropleth"
           }
          ],
          "contour": [
           {
            "colorbar": {
             "outlinewidth": 0,
             "ticks": ""
            },
            "colorscale": [
             [
              0,
              "#0d0887"
             ],
             [
              0.1111111111111111,
              "#46039f"
             ],
             [
              0.2222222222222222,
              "#7201a8"
             ],
             [
              0.3333333333333333,
              "#9c179e"
             ],
             [
              0.4444444444444444,
              "#bd3786"
             ],
             [
              0.5555555555555556,
              "#d8576b"
             ],
             [
              0.6666666666666666,
              "#ed7953"
             ],
             [
              0.7777777777777778,
              "#fb9f3a"
             ],
             [
              0.8888888888888888,
              "#fdca26"
             ],
             [
              1,
              "#f0f921"
             ]
            ],
            "type": "contour"
           }
          ],
          "contourcarpet": [
           {
            "colorbar": {
             "outlinewidth": 0,
             "ticks": ""
            },
            "type": "contourcarpet"
           }
          ],
          "heatmap": [
           {
            "colorbar": {
             "outlinewidth": 0,
             "ticks": ""
            },
            "colorscale": [
             [
              0,
              "#0d0887"
             ],
             [
              0.1111111111111111,
              "#46039f"
             ],
             [
              0.2222222222222222,
              "#7201a8"
             ],
             [
              0.3333333333333333,
              "#9c179e"
             ],
             [
              0.4444444444444444,
              "#bd3786"
             ],
             [
              0.5555555555555556,
              "#d8576b"
             ],
             [
              0.6666666666666666,
              "#ed7953"
             ],
             [
              0.7777777777777778,
              "#fb9f3a"
             ],
             [
              0.8888888888888888,
              "#fdca26"
             ],
             [
              1,
              "#f0f921"
             ]
            ],
            "type": "heatmap"
           }
          ],
          "heatmapgl": [
           {
            "colorbar": {
             "outlinewidth": 0,
             "ticks": ""
            },
            "colorscale": [
             [
              0,
              "#0d0887"
             ],
             [
              0.1111111111111111,
              "#46039f"
             ],
             [
              0.2222222222222222,
              "#7201a8"
             ],
             [
              0.3333333333333333,
              "#9c179e"
             ],
             [
              0.4444444444444444,
              "#bd3786"
             ],
             [
              0.5555555555555556,
              "#d8576b"
             ],
             [
              0.6666666666666666,
              "#ed7953"
             ],
             [
              0.7777777777777778,
              "#fb9f3a"
             ],
             [
              0.8888888888888888,
              "#fdca26"
             ],
             [
              1,
              "#f0f921"
             ]
            ],
            "type": "heatmapgl"
           }
          ],
          "histogram": [
           {
            "marker": {
             "colorbar": {
              "outlinewidth": 0,
              "ticks": ""
             }
            },
            "type": "histogram"
           }
          ],
          "histogram2d": [
           {
            "colorbar": {
             "outlinewidth": 0,
             "ticks": ""
            },
            "colorscale": [
             [
              0,
              "#0d0887"
             ],
             [
              0.1111111111111111,
              "#46039f"
             ],
             [
              0.2222222222222222,
              "#7201a8"
             ],
             [
              0.3333333333333333,
              "#9c179e"
             ],
             [
              0.4444444444444444,
              "#bd3786"
             ],
             [
              0.5555555555555556,
              "#d8576b"
             ],
             [
              0.6666666666666666,
              "#ed7953"
             ],
             [
              0.7777777777777778,
              "#fb9f3a"
             ],
             [
              0.8888888888888888,
              "#fdca26"
             ],
             [
              1,
              "#f0f921"
             ]
            ],
            "type": "histogram2d"
           }
          ],
          "histogram2dcontour": [
           {
            "colorbar": {
             "outlinewidth": 0,
             "ticks": ""
            },
            "colorscale": [
             [
              0,
              "#0d0887"
             ],
             [
              0.1111111111111111,
              "#46039f"
             ],
             [
              0.2222222222222222,
              "#7201a8"
             ],
             [
              0.3333333333333333,
              "#9c179e"
             ],
             [
              0.4444444444444444,
              "#bd3786"
             ],
             [
              0.5555555555555556,
              "#d8576b"
             ],
             [
              0.6666666666666666,
              "#ed7953"
             ],
             [
              0.7777777777777778,
              "#fb9f3a"
             ],
             [
              0.8888888888888888,
              "#fdca26"
             ],
             [
              1,
              "#f0f921"
             ]
            ],
            "type": "histogram2dcontour"
           }
          ],
          "mesh3d": [
           {
            "colorbar": {
             "outlinewidth": 0,
             "ticks": ""
            },
            "type": "mesh3d"
           }
          ],
          "parcoords": [
           {
            "line": {
             "colorbar": {
              "outlinewidth": 0,
              "ticks": ""
             }
            },
            "type": "parcoords"
           }
          ],
          "pie": [
           {
            "automargin": true,
            "type": "pie"
           }
          ],
          "scatter": [
           {
            "marker": {
             "colorbar": {
              "outlinewidth": 0,
              "ticks": ""
             }
            },
            "type": "scatter"
           }
          ],
          "scatter3d": [
           {
            "line": {
             "colorbar": {
              "outlinewidth": 0,
              "ticks": ""
             }
            },
            "marker": {
             "colorbar": {
              "outlinewidth": 0,
              "ticks": ""
             }
            },
            "type": "scatter3d"
           }
          ],
          "scattercarpet": [
           {
            "marker": {
             "colorbar": {
              "outlinewidth": 0,
              "ticks": ""
             }
            },
            "type": "scattercarpet"
           }
          ],
          "scattergeo": [
           {
            "marker": {
             "colorbar": {
              "outlinewidth": 0,
              "ticks": ""
             }
            },
            "type": "scattergeo"
           }
          ],
          "scattergl": [
           {
            "marker": {
             "colorbar": {
              "outlinewidth": 0,
              "ticks": ""
             }
            },
            "type": "scattergl"
           }
          ],
          "scattermapbox": [
           {
            "marker": {
             "colorbar": {
              "outlinewidth": 0,
              "ticks": ""
             }
            },
            "type": "scattermapbox"
           }
          ],
          "scatterpolar": [
           {
            "marker": {
             "colorbar": {
              "outlinewidth": 0,
              "ticks": ""
             }
            },
            "type": "scatterpolar"
           }
          ],
          "scatterpolargl": [
           {
            "marker": {
             "colorbar": {
              "outlinewidth": 0,
              "ticks": ""
             }
            },
            "type": "scatterpolargl"
           }
          ],
          "scatterternary": [
           {
            "marker": {
             "colorbar": {
              "outlinewidth": 0,
              "ticks": ""
             }
            },
            "type": "scatterternary"
           }
          ],
          "surface": [
           {
            "colorbar": {
             "outlinewidth": 0,
             "ticks": ""
            },
            "colorscale": [
             [
              0,
              "#0d0887"
             ],
             [
              0.1111111111111111,
              "#46039f"
             ],
             [
              0.2222222222222222,
              "#7201a8"
             ],
             [
              0.3333333333333333,
              "#9c179e"
             ],
             [
              0.4444444444444444,
              "#bd3786"
             ],
             [
              0.5555555555555556,
              "#d8576b"
             ],
             [
              0.6666666666666666,
              "#ed7953"
             ],
             [
              0.7777777777777778,
              "#fb9f3a"
             ],
             [
              0.8888888888888888,
              "#fdca26"
             ],
             [
              1,
              "#f0f921"
             ]
            ],
            "type": "surface"
           }
          ],
          "table": [
           {
            "cells": {
             "fill": {
              "color": "#EBF0F8"
             },
             "line": {
              "color": "white"
             }
            },
            "header": {
             "fill": {
              "color": "#C8D4E3"
             },
             "line": {
              "color": "white"
             }
            },
            "type": "table"
           }
          ]
         },
         "layout": {
          "annotationdefaults": {
           "arrowcolor": "#2a3f5f",
           "arrowhead": 0,
           "arrowwidth": 1
          },
          "autotypenumbers": "strict",
          "coloraxis": {
           "colorbar": {
            "outlinewidth": 0,
            "ticks": ""
           }
          },
          "colorscale": {
           "diverging": [
            [
             0,
             "#8e0152"
            ],
            [
             0.1,
             "#c51b7d"
            ],
            [
             0.2,
             "#de77ae"
            ],
            [
             0.3,
             "#f1b6da"
            ],
            [
             0.4,
             "#fde0ef"
            ],
            [
             0.5,
             "#f7f7f7"
            ],
            [
             0.6,
             "#e6f5d0"
            ],
            [
             0.7,
             "#b8e186"
            ],
            [
             0.8,
             "#7fbc41"
            ],
            [
             0.9,
             "#4d9221"
            ],
            [
             1,
             "#276419"
            ]
           ],
           "sequential": [
            [
             0,
             "#0d0887"
            ],
            [
             0.1111111111111111,
             "#46039f"
            ],
            [
             0.2222222222222222,
             "#7201a8"
            ],
            [
             0.3333333333333333,
             "#9c179e"
            ],
            [
             0.4444444444444444,
             "#bd3786"
            ],
            [
             0.5555555555555556,
             "#d8576b"
            ],
            [
             0.6666666666666666,
             "#ed7953"
            ],
            [
             0.7777777777777778,
             "#fb9f3a"
            ],
            [
             0.8888888888888888,
             "#fdca26"
            ],
            [
             1,
             "#f0f921"
            ]
           ],
           "sequentialminus": [
            [
             0,
             "#0d0887"
            ],
            [
             0.1111111111111111,
             "#46039f"
            ],
            [
             0.2222222222222222,
             "#7201a8"
            ],
            [
             0.3333333333333333,
             "#9c179e"
            ],
            [
             0.4444444444444444,
             "#bd3786"
            ],
            [
             0.5555555555555556,
             "#d8576b"
            ],
            [
             0.6666666666666666,
             "#ed7953"
            ],
            [
             0.7777777777777778,
             "#fb9f3a"
            ],
            [
             0.8888888888888888,
             "#fdca26"
            ],
            [
             1,
             "#f0f921"
            ]
           ]
          },
          "colorway": [
           "#636efa",
           "#EF553B",
           "#00cc96",
           "#ab63fa",
           "#FFA15A",
           "#19d3f3",
           "#FF6692",
           "#B6E880",
           "#FF97FF",
           "#FECB52"
          ],
          "font": {
           "color": "#2a3f5f"
          },
          "geo": {
           "bgcolor": "white",
           "lakecolor": "white",
           "landcolor": "#E5ECF6",
           "showlakes": true,
           "showland": true,
           "subunitcolor": "white"
          },
          "hoverlabel": {
           "align": "left"
          },
          "hovermode": "closest",
          "mapbox": {
           "style": "light"
          },
          "paper_bgcolor": "white",
          "plot_bgcolor": "#E5ECF6",
          "polar": {
           "angularaxis": {
            "gridcolor": "white",
            "linecolor": "white",
            "ticks": ""
           },
           "bgcolor": "#E5ECF6",
           "radialaxis": {
            "gridcolor": "white",
            "linecolor": "white",
            "ticks": ""
           }
          },
          "scene": {
           "xaxis": {
            "backgroundcolor": "#E5ECF6",
            "gridcolor": "white",
            "gridwidth": 2,
            "linecolor": "white",
            "showbackground": true,
            "ticks": "",
            "zerolinecolor": "white"
           },
           "yaxis": {
            "backgroundcolor": "#E5ECF6",
            "gridcolor": "white",
            "gridwidth": 2,
            "linecolor": "white",
            "showbackground": true,
            "ticks": "",
            "zerolinecolor": "white"
           },
           "zaxis": {
            "backgroundcolor": "#E5ECF6",
            "gridcolor": "white",
            "gridwidth": 2,
            "linecolor": "white",
            "showbackground": true,
            "ticks": "",
            "zerolinecolor": "white"
           }
          },
          "shapedefaults": {
           "line": {
            "color": "#2a3f5f"
           }
          },
          "ternary": {
           "aaxis": {
            "gridcolor": "white",
            "linecolor": "white",
            "ticks": ""
           },
           "baxis": {
            "gridcolor": "white",
            "linecolor": "white",
            "ticks": ""
           },
           "bgcolor": "#E5ECF6",
           "caxis": {
            "gridcolor": "white",
            "linecolor": "white",
            "ticks": ""
           }
          },
          "title": {
           "x": 0.05
          },
          "xaxis": {
           "automargin": true,
           "gridcolor": "white",
           "linecolor": "white",
           "ticks": "",
           "title": {
            "standoff": 15
           },
           "zerolinecolor": "white",
           "zerolinewidth": 2
          },
          "yaxis": {
           "automargin": true,
           "gridcolor": "white",
           "linecolor": "white",
           "ticks": "",
           "title": {
            "standoff": 15
           },
           "zerolinecolor": "white",
           "zerolinewidth": 2
          }
         }
        }
       }
      },
      "text/html": [
       "<div>                            <div id=\"975bb447-85aa-4d21-85a6-8eb073c09dfc\" class=\"plotly-graph-div\" style=\"height:525px; width:100%;\"></div>            <script type=\"text/javascript\">                require([\"plotly\"], function(Plotly) {                    window.PLOTLYENV=window.PLOTLYENV || {};                                    if (document.getElementById(\"975bb447-85aa-4d21-85a6-8eb073c09dfc\")) {                    Plotly.newPlot(                        \"975bb447-85aa-4d21-85a6-8eb073c09dfc\",                        [{\"marker\": {\"size\": [13, 13, 15, 16, 16, 16, 17, 17, 18, 19, 19, 19, 20, 20, 20, 20, 21, 21, 21, 21, 21, 22, 22, 22, 22, 22, 23, 23, 23, 23, 23, 23, 23, 23, 24, 24, 24, 24, 24, 24, 24, 24, 24, 24, 24, 25, 25, 25, 25, 25, 26, 26, 26, 26, 27, 27, 27, 27, 27, 28, 28, 28, 29, 30, 30], \"sizemode\": \"diameter\", \"sizeref\": 1.0}, \"mode\": \"markers\", \"type\": \"scatter\", \"x\": [\"F\", \"F\", \"D\", \"D\", \"D\", \"D\", \"D\", \"D\", \"C-\", \"C-\", \"C-\", \"C-\", \"C\", \"C\", \"C\", \"C\", \"C+\", \"C+\", \"C+\", \"C+\", \"C+\", \"C+\", \"C+\", \"C+\", \"C+\", \"C+\", \"B-\", \"B-\", \"B-\", \"B-\", \"B-\", \"B-\", \"B-\", \"B-\", \"B\", \"B\", \"B\", \"B\", \"B\", \"B\", \"B\", \"B\", \"B\", \"B\", \"B\", \"B\", \"B\", \"B\", \"B\", \"B\", \"B+\", \"B+\", \"B+\", \"B+\", \"A-\", \"A-\", \"A-\", \"A-\", \"A-\", \"A-\", \"A-\", \"A-\", \"A\", \"A\", \"A\"], \"y\": [35, 20, 25, 20, 40, 60, 55, 25, 50, 60, 60, 15, 45, 55, 40, 25, 45, 30, 35, 60, 20, 60, 35, 60, 45, 45, 55, 60, 45, 40, 35, 25, 40, 35, 45, 45, 30, 20, 60, 45, 55, 55, 30, 25, 25, 25, 60, 45, 45, 55, 15, 60, 20, 60, 20, 40, 20, 50, 50, 25, 50, 40, 35, 60, 30]}],                        {\"template\": {\"data\": {\"bar\": [{\"error_x\": {\"color\": \"#2a3f5f\"}, \"error_y\": {\"color\": \"#2a3f5f\"}, \"marker\": {\"line\": {\"color\": \"#E5ECF6\", \"width\": 0.5}}, \"type\": \"bar\"}], \"barpolar\": [{\"marker\": {\"line\": {\"color\": \"#E5ECF6\", \"width\": 0.5}}, \"type\": \"barpolar\"}], \"carpet\": [{\"aaxis\": {\"endlinecolor\": \"#2a3f5f\", \"gridcolor\": \"white\", \"linecolor\": \"white\", \"minorgridcolor\": \"white\", \"startlinecolor\": \"#2a3f5f\"}, \"baxis\": {\"endlinecolor\": \"#2a3f5f\", \"gridcolor\": \"white\", \"linecolor\": \"white\", \"minorgridcolor\": \"white\", \"startlinecolor\": \"#2a3f5f\"}, \"type\": \"carpet\"}], \"choropleth\": [{\"colorbar\": {\"outlinewidth\": 0, \"ticks\": \"\"}, \"type\": \"choropleth\"}], \"contour\": [{\"colorbar\": {\"outlinewidth\": 0, \"ticks\": \"\"}, \"colorscale\": [[0.0, \"#0d0887\"], [0.1111111111111111, \"#46039f\"], [0.2222222222222222, \"#7201a8\"], [0.3333333333333333, \"#9c179e\"], [0.4444444444444444, \"#bd3786\"], [0.5555555555555556, \"#d8576b\"], [0.6666666666666666, \"#ed7953\"], [0.7777777777777778, \"#fb9f3a\"], [0.8888888888888888, \"#fdca26\"], [1.0, \"#f0f921\"]], \"type\": \"contour\"}], \"contourcarpet\": [{\"colorbar\": {\"outlinewidth\": 0, \"ticks\": \"\"}, \"type\": \"contourcarpet\"}], \"heatmap\": [{\"colorbar\": {\"outlinewidth\": 0, \"ticks\": \"\"}, \"colorscale\": [[0.0, \"#0d0887\"], [0.1111111111111111, \"#46039f\"], [0.2222222222222222, \"#7201a8\"], [0.3333333333333333, \"#9c179e\"], [0.4444444444444444, \"#bd3786\"], [0.5555555555555556, \"#d8576b\"], [0.6666666666666666, \"#ed7953\"], [0.7777777777777778, \"#fb9f3a\"], [0.8888888888888888, \"#fdca26\"], [1.0, \"#f0f921\"]], \"type\": \"heatmap\"}], \"heatmapgl\": [{\"colorbar\": {\"outlinewidth\": 0, \"ticks\": \"\"}, \"colorscale\": [[0.0, \"#0d0887\"], [0.1111111111111111, \"#46039f\"], [0.2222222222222222, \"#7201a8\"], [0.3333333333333333, \"#9c179e\"], [0.4444444444444444, \"#bd3786\"], [0.5555555555555556, \"#d8576b\"], [0.6666666666666666, \"#ed7953\"], [0.7777777777777778, \"#fb9f3a\"], [0.8888888888888888, \"#fdca26\"], [1.0, \"#f0f921\"]], \"type\": \"heatmapgl\"}], \"histogram\": [{\"marker\": {\"colorbar\": {\"outlinewidth\": 0, \"ticks\": \"\"}}, \"type\": \"histogram\"}], \"histogram2d\": [{\"colorbar\": {\"outlinewidth\": 0, \"ticks\": \"\"}, \"colorscale\": [[0.0, \"#0d0887\"], [0.1111111111111111, \"#46039f\"], [0.2222222222222222, \"#7201a8\"], [0.3333333333333333, \"#9c179e\"], [0.4444444444444444, \"#bd3786\"], [0.5555555555555556, \"#d8576b\"], [0.6666666666666666, \"#ed7953\"], [0.7777777777777778, \"#fb9f3a\"], [0.8888888888888888, \"#fdca26\"], [1.0, \"#f0f921\"]], \"type\": \"histogram2d\"}], \"histogram2dcontour\": [{\"colorbar\": {\"outlinewidth\": 0, \"ticks\": \"\"}, \"colorscale\": [[0.0, \"#0d0887\"], [0.1111111111111111, \"#46039f\"], [0.2222222222222222, \"#7201a8\"], [0.3333333333333333, \"#9c179e\"], [0.4444444444444444, \"#bd3786\"], [0.5555555555555556, \"#d8576b\"], [0.6666666666666666, \"#ed7953\"], [0.7777777777777778, \"#fb9f3a\"], [0.8888888888888888, \"#fdca26\"], [1.0, \"#f0f921\"]], \"type\": \"histogram2dcontour\"}], \"mesh3d\": [{\"colorbar\": {\"outlinewidth\": 0, \"ticks\": \"\"}, \"type\": \"mesh3d\"}], \"parcoords\": [{\"line\": {\"colorbar\": {\"outlinewidth\": 0, \"ticks\": \"\"}}, \"type\": \"parcoords\"}], \"pie\": [{\"automargin\": true, \"type\": \"pie\"}], \"scatter\": [{\"marker\": {\"colorbar\": {\"outlinewidth\": 0, \"ticks\": \"\"}}, \"type\": \"scatter\"}], \"scatter3d\": [{\"line\": {\"colorbar\": {\"outlinewidth\": 0, \"ticks\": \"\"}}, \"marker\": {\"colorbar\": {\"outlinewidth\": 0, \"ticks\": \"\"}}, \"type\": \"scatter3d\"}], \"scattercarpet\": [{\"marker\": {\"colorbar\": {\"outlinewidth\": 0, \"ticks\": \"\"}}, \"type\": \"scattercarpet\"}], \"scattergeo\": [{\"marker\": {\"colorbar\": {\"outlinewidth\": 0, \"ticks\": \"\"}}, \"type\": \"scattergeo\"}], \"scattergl\": [{\"marker\": {\"colorbar\": {\"outlinewidth\": 0, \"ticks\": \"\"}}, \"type\": \"scattergl\"}], \"scattermapbox\": [{\"marker\": {\"colorbar\": {\"outlinewidth\": 0, \"ticks\": \"\"}}, \"type\": \"scattermapbox\"}], \"scatterpolar\": [{\"marker\": {\"colorbar\": {\"outlinewidth\": 0, \"ticks\": \"\"}}, \"type\": \"scatterpolar\"}], \"scatterpolargl\": [{\"marker\": {\"colorbar\": {\"outlinewidth\": 0, \"ticks\": \"\"}}, \"type\": \"scatterpolargl\"}], \"scatterternary\": [{\"marker\": {\"colorbar\": {\"outlinewidth\": 0, \"ticks\": \"\"}}, \"type\": \"scatterternary\"}], \"surface\": [{\"colorbar\": {\"outlinewidth\": 0, \"ticks\": \"\"}, \"colorscale\": [[0.0, \"#0d0887\"], [0.1111111111111111, \"#46039f\"], [0.2222222222222222, \"#7201a8\"], [0.3333333333333333, \"#9c179e\"], [0.4444444444444444, \"#bd3786\"], [0.5555555555555556, \"#d8576b\"], [0.6666666666666666, \"#ed7953\"], [0.7777777777777778, \"#fb9f3a\"], [0.8888888888888888, \"#fdca26\"], [1.0, \"#f0f921\"]], \"type\": \"surface\"}], \"table\": [{\"cells\": {\"fill\": {\"color\": \"#EBF0F8\"}, \"line\": {\"color\": \"white\"}}, \"header\": {\"fill\": {\"color\": \"#C8D4E3\"}, \"line\": {\"color\": \"white\"}}, \"type\": \"table\"}]}, \"layout\": {\"annotationdefaults\": {\"arrowcolor\": \"#2a3f5f\", \"arrowhead\": 0, \"arrowwidth\": 1}, \"autotypenumbers\": \"strict\", \"coloraxis\": {\"colorbar\": {\"outlinewidth\": 0, \"ticks\": \"\"}}, \"colorscale\": {\"diverging\": [[0, \"#8e0152\"], [0.1, \"#c51b7d\"], [0.2, \"#de77ae\"], [0.3, \"#f1b6da\"], [0.4, \"#fde0ef\"], [0.5, \"#f7f7f7\"], [0.6, \"#e6f5d0\"], [0.7, \"#b8e186\"], [0.8, \"#7fbc41\"], [0.9, \"#4d9221\"], [1, \"#276419\"]], \"sequential\": [[0.0, \"#0d0887\"], [0.1111111111111111, \"#46039f\"], [0.2222222222222222, \"#7201a8\"], [0.3333333333333333, \"#9c179e\"], [0.4444444444444444, \"#bd3786\"], [0.5555555555555556, \"#d8576b\"], [0.6666666666666666, \"#ed7953\"], [0.7777777777777778, \"#fb9f3a\"], [0.8888888888888888, \"#fdca26\"], [1.0, \"#f0f921\"]], \"sequentialminus\": [[0.0, \"#0d0887\"], [0.1111111111111111, \"#46039f\"], [0.2222222222222222, \"#7201a8\"], [0.3333333333333333, \"#9c179e\"], [0.4444444444444444, \"#bd3786\"], [0.5555555555555556, \"#d8576b\"], [0.6666666666666666, \"#ed7953\"], [0.7777777777777778, \"#fb9f3a\"], [0.8888888888888888, \"#fdca26\"], [1.0, \"#f0f921\"]]}, \"colorway\": [\"#636efa\", \"#EF553B\", \"#00cc96\", \"#ab63fa\", \"#FFA15A\", \"#19d3f3\", \"#FF6692\", \"#B6E880\", \"#FF97FF\", \"#FECB52\"], \"font\": {\"color\": \"#2a3f5f\"}, \"geo\": {\"bgcolor\": \"white\", \"lakecolor\": \"white\", \"landcolor\": \"#E5ECF6\", \"showlakes\": true, \"showland\": true, \"subunitcolor\": \"white\"}, \"hoverlabel\": {\"align\": \"left\"}, \"hovermode\": \"closest\", \"mapbox\": {\"style\": \"light\"}, \"paper_bgcolor\": \"white\", \"plot_bgcolor\": \"#E5ECF6\", \"polar\": {\"angularaxis\": {\"gridcolor\": \"white\", \"linecolor\": \"white\", \"ticks\": \"\"}, \"bgcolor\": \"#E5ECF6\", \"radialaxis\": {\"gridcolor\": \"white\", \"linecolor\": \"white\", \"ticks\": \"\"}}, \"scene\": {\"xaxis\": {\"backgroundcolor\": \"#E5ECF6\", \"gridcolor\": \"white\", \"gridwidth\": 2, \"linecolor\": \"white\", \"showbackground\": true, \"ticks\": \"\", \"zerolinecolor\": \"white\"}, \"yaxis\": {\"backgroundcolor\": \"#E5ECF6\", \"gridcolor\": \"white\", \"gridwidth\": 2, \"linecolor\": \"white\", \"showbackground\": true, \"ticks\": \"\", \"zerolinecolor\": \"white\"}, \"zaxis\": {\"backgroundcolor\": \"#E5ECF6\", \"gridcolor\": \"white\", \"gridwidth\": 2, \"linecolor\": \"white\", \"showbackground\": true, \"ticks\": \"\", \"zerolinecolor\": \"white\"}}, \"shapedefaults\": {\"line\": {\"color\": \"#2a3f5f\"}}, \"ternary\": {\"aaxis\": {\"gridcolor\": \"white\", \"linecolor\": \"white\", \"ticks\": \"\"}, \"baxis\": {\"gridcolor\": \"white\", \"linecolor\": \"white\", \"ticks\": \"\"}, \"bgcolor\": \"#E5ECF6\", \"caxis\": {\"gridcolor\": \"white\", \"linecolor\": \"white\", \"ticks\": \"\"}}, \"title\": {\"x\": 0.05}, \"xaxis\": {\"automargin\": true, \"gridcolor\": \"white\", \"linecolor\": \"white\", \"ticks\": \"\", \"title\": {\"standoff\": 15}, \"zerolinecolor\": \"white\", \"zerolinewidth\": 2}, \"yaxis\": {\"automargin\": true, \"gridcolor\": \"white\", \"linecolor\": \"white\", \"ticks\": \"\", \"title\": {\"standoff\": 15}, \"zerolinecolor\": \"white\", \"zerolinewidth\": 2}}}},                        {\"responsive\": true}                    ).then(function(){\n",
       "                            \n",
       "var gd = document.getElementById('975bb447-85aa-4d21-85a6-8eb073c09dfc');\n",
       "var x = new MutationObserver(function (mutations, observer) {{\n",
       "        var display = window.getComputedStyle(gd).display;\n",
       "        if (!display || display === 'none') {{\n",
       "            console.log([gd, 'removed!']);\n",
       "            Plotly.purge(gd);\n",
       "            observer.disconnect();\n",
       "        }}\n",
       "}});\n",
       "\n",
       "// Listen for the removal of the full notebook cells\n",
       "var notebookContainer = gd.closest('#notebook-container');\n",
       "if (notebookContainer) {{\n",
       "    x.observe(notebookContainer, {childList: true});\n",
       "}}\n",
       "\n",
       "// Listen for the clearing of the current output cell\n",
       "var outputEl = gd.closest('.output');\n",
       "if (outputEl) {{\n",
       "    x.observe(outputEl, {childList: true});\n",
       "}}\n",
       "\n",
       "                        })                };                });            </script>        </div>"
      ]
     },
     "metadata": {},
     "output_type": "display_data"
    }
   ],
   "source": [
    "f = go.Figure()\n",
    "f.add_trace(go.Scatter(x=scores_df['Letter_Grade'], y=scores_df['Completion_Time'], mode=\"markers\", \n",
    "               marker= { 'size': scores_df['Student_Score'], 'sizemode' : 'diameter', 'sizeref' : 1.0})\n",
    "           )\n",
    "\n",
    "f.show()\n"
   ]
  },
  {
   "cell_type": "code",
   "execution_count": null,
   "metadata": {},
   "outputs": [],
   "source": [
    "f = go.Figure()\n",
    "f.add_trace(go.Heatmap(x=scores_df['Exam_Version'], y=scores_df['Completion_Time'], z=scores_df['Student_Score']))\n",
    "f.show()\n"
   ]
  },
  {
   "cell_type": "code",
   "execution_count": null,
   "metadata": {},
   "outputs": [],
   "source": [
    "# A manual sample, showing you don't need to use Pandas at all.\n",
    "\n",
    "trace0 = go.Scatter(\n",
    "    x=[1,2,3,4,5,6,7,8],\n",
    "    y=[10, 15, 13, 17, 15, 12, 10, 18],\n",
    "    mode = \"markers\",\n",
    "    name = \"series 2\"\n",
    ")\n",
    "trace1 = go.Scatter(\n",
    "    x=[1,2,3,4,5,6,7,8],\n",
    "    y=[16, 5, 11, 9, 16, 10, 14, 12],\n",
    "    mode=\"lines\",\n",
    "    name = \"series 1\"\n",
    ")\n",
    "\n",
    "f = go.Figure()\n",
    "f.add_trace(trace0)\n",
    "f.add_trace(trace1)\n",
    "f.update_layout(title='Sample Chart',\n",
    "                   xaxis_title='X-Axis',\n",
    "                   yaxis_title='Y-Axis')\n",
    "f.show()\n"
   ]
  },
  {
   "cell_type": "code",
   "execution_count": null,
   "metadata": {},
   "outputs": [],
   "source": [
    "df = pd.read_csv('https://raw.githubusercontent.com/plotly/datasets/master/gapminder2007.csv')\n",
    "\n",
    "# make the drawing figure\n",
    "fig = go.Figure(go.Scatter(x=df.gdpPercap, y=df.lifeExp, text=df.country, mode='markers', name='2007'))\n",
    "fig.update_xaxes(title_text='GDP per Capita', type='log')\n",
    "fig.update_yaxes(title_text='Life Expectancy')\n",
    "\n",
    "#save it under a specific name\n",
    "py.plot(fig, filename='pandas-multiple-scatter')\n",
    "#show it\n",
    "fig.show()"
   ]
  },
  {
   "cell_type": "code",
   "execution_count": null,
   "metadata": {},
   "outputs": [],
   "source": [
    "# example using px also using ipython display\n",
    "from IPython.display import display, HTML\n",
    "\n",
    "display(HTML(\"<h1> CHART 1</h1>\"))\n",
    "display(px.scatter(df, x='gdpPercap', y='lifeExp', text='country'))\n",
    "display(HTML(\"<h1> CHART 2</h1>\"))\n",
    "display(px.scatter(df, x='gdpPercap', y='lifeExp', text=None))\n"
   ]
  },
  {
   "cell_type": "code",
   "execution_count": null,
   "metadata": {},
   "outputs": [],
   "source": []
  }
 ],
 "metadata": {
  "anaconda-cloud": {},
  "kernelspec": {
   "display_name": "Python 3",
   "language": "python",
   "name": "python3"
  },
  "language_info": {
   "codemirror_mode": {
    "name": "ipython",
    "version": 3
   },
   "file_extension": ".py",
   "mimetype": "text/x-python",
   "name": "python",
   "nbconvert_exporter": "python",
   "pygments_lexer": "ipython3",
   "version": "3.8.6"
  }
 },
 "nbformat": 4,
 "nbformat_minor": 1
}
