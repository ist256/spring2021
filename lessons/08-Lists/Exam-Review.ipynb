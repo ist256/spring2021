{
 "cells": [
  {
   "cell_type": "code",
   "execution_count": null,
   "metadata": {},
   "outputs": [],
   "source": [
    "# 4 iterations for / while / break, icrement decrement\n",
    "# 5 functions def / return (call, arguments, input/outputs)\n",
    "# 6 strings slices / methods split, find, replace\n",
    "# 7 files open(filename, mode), handle, \"r\" => read() readlines(), \"w\" / \"a\" => write()"
   ]
  },
  {
   "cell_type": "code",
   "execution_count": 2,
   "metadata": {},
   "outputs": [
    {
     "name": "stdout",
     "output_type": "stream",
     "text": [
      "5\n",
      "a == 5\n",
      "b == 0\n"
     ]
    }
   ],
   "source": [
    "a = 0\n",
    "b = 1\n",
    "c = int(input())  # <== 3\n",
    "for i in range(c):\n",
    "    a = a + 1\n",
    "    b = b * i\n",
    "    \n",
    "print(f\"a == {a}\")\n",
    "print(f\"b == {b}\")"
   ]
  },
  {
   "cell_type": "markdown",
   "metadata": {},
   "source": [
    "1. How many times will this code loop?\n",
    "\n",
    "2. What prints when the following is input \n",
    "   w\n",
    "   e\n",
    "   b\n"
   ]
  },
  {
   "cell_type": "code",
   "execution_count": 4,
   "metadata": {},
   "outputs": [
    {
     "name": "stdout",
     "output_type": "stream",
     "text": [
      "g\n",
      "g\n",
      "b\n"
     ]
    }
   ],
   "source": [
    "while True:\n",
    "    z = input(\"\")\n",
    "    if z == 'a' or z == 'b':\n",
    "        break\n",
    "    else:\n",
    "        print(z)"
   ]
  },
  {
   "cell_type": "code",
   "execution_count": 6,
   "metadata": {},
   "outputs": [
    {
     "name": "stdout",
     "output_type": "stream",
     "text": [
      "run\n",
      "omp\n",
      "eyb\n"
     ]
    }
   ],
   "source": [
    "w = \"run computer keyboard\"\n",
    "for x in w.split():\n",
    "    if x.find(\"r\") > 0:\n",
    "        print(x[1:4])\n",
    "    else:\n",
    "        print(x)"
   ]
  }
 ],
 "metadata": {
  "kernelspec": {
   "display_name": "Python 3",
   "language": "python",
   "name": "python3"
  },
  "language_info": {
   "codemirror_mode": {
    "name": "ipython",
    "version": 3
   },
   "file_extension": ".py",
   "mimetype": "text/x-python",
   "name": "python",
   "nbconvert_exporter": "python",
   "pygments_lexer": "ipython3",
   "version": "3.8.6"
  }
 },
 "nbformat": 4,
 "nbformat_minor": 4
}
