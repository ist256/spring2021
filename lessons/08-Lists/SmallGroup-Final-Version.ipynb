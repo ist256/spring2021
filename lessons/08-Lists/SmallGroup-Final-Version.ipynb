{
 "cells": [
  {
   "cell_type": "code",
   "execution_count": 1,
   "metadata": {},
   "outputs": [
    {
     "data": {
      "text/html": [
       "<h1>The Beer Calorie Calculator</h1>"
      ],
      "text/plain": [
       "<IPython.core.display.HTML object>"
      ]
     },
     "metadata": {},
     "output_type": "display_data"
    },
    {
     "data": {
      "text/html": [
       "<img src=\"https://api.time.com/wp-content/uploads/2018/04/national-beer-day-ipa.jpg\" width=\"200\"/>"
      ],
      "text/plain": [
       "<IPython.core.display.Image object>"
      ]
     },
     "metadata": {},
     "output_type": "display_data"
    },
    {
     "data": {
      "application/vnd.jupyter.widget-view+json": {
       "model_id": "1d8ff219223f4904a6231d74c2131d99",
       "version_major": 2,
       "version_minor": 0
      },
      "text/plain": [
       "interactive(children=(Dropdown(description='Beer', options=('--choose--', 'Abita Amber', 'Abita Golden', 'Abit…"
      ]
     },
     "metadata": {},
     "output_type": "display_data"
    }
   ],
   "source": [
    "from IPython.display import display, HTML, Image, clear_output\n",
    "from ipywidgets import interact, widgets\n",
    "\n",
    "# TODO Write code here\n",
    "def readBeerData(filename):\n",
    "    # todo \n",
    "    beers = []\n",
    "    cals = []\n",
    "    with open(filename,\"r\") as f:\n",
    "        for line in f.readlines():\n",
    "            beer,cal = line.split(\",\")\n",
    "            beer = beer.strip()\n",
    "            cal = float(cal)\n",
    "            beers.append(beer)\n",
    "            cals.append(cal)\n",
    "    return beers, cals\n",
    "\n",
    "def writeBeerData(filename,beers,calories):\n",
    "    with open(filename, \"w\") as f:\n",
    "        for i in range(len(beers)):\n",
    "            f.write(f\"{beers[i]},{calories[i]}\\n\")\n",
    "            \n",
    "def printBeers(button):\n",
    "    display(HTML(\"<h2>Beers on My List:</h2>\"))    \n",
    "    for mybeer in button.mybeers:\n",
    "        cal = button.mycalories[button.mybeers.index(mybeer)]\n",
    "        print(f\"- {mybeer} calories: {cal}\")\n",
    "    print(f\"Total Calories {sum(button.mycalories)}\")\n",
    "        \n",
    "mybb = widgets.Button(description=\"Show My Beers\")\n",
    "mybb.on_click(printBeers)\n",
    "\n",
    "beers, calories = readBeerData('beer-calories.txt')\n",
    "beers.insert(0,'--choose--')\n",
    "calories.insert(0, 0)\n",
    "\n",
    "display(HTML('<h1>The Beer Calorie Calculator</h1>'))\n",
    "display(Image(url='https://api.time.com/wp-content/uploads/2018/04/national-beer-day-ipa.jpg',width=200))\n",
    "@interact(Beer=beers)\n",
    "def main(Beer):\n",
    "    try:\n",
    "        mybb.mybeers, mybb.mycalories = readBeerData('mylist.txt')\n",
    "    except FileNotFoundError:\n",
    "        mybb.mybeers = []\n",
    "        mybb.mycalories = []\n",
    "\n",
    "    display(mybb)\n",
    "    if Beer !='--choose--':\n",
    "        cal = calories[beers.index(Beer)]\n",
    "        mybb.mybeers.append(Beer)\n",
    "        mybb.mycalories.append(cal)\n",
    "        writeBeerData('mylist.txt',mybb.mybeers,mybb.mycalories)\n",
    "        print(f\"{Beer} added to My List\")\n"
   ]
  },
  {
   "cell_type": "code",
   "execution_count": null,
   "metadata": {},
   "outputs": [],
   "source": []
  }
 ],
 "metadata": {
  "kernelspec": {
   "display_name": "Python 3",
   "language": "python",
   "name": "python3"
  },
  "language_info": {
   "codemirror_mode": {
    "name": "ipython",
    "version": 3
   },
   "file_extension": ".py",
   "mimetype": "text/x-python",
   "name": "python",
   "nbconvert_exporter": "python",
   "pygments_lexer": "ipython3",
   "version": "3.8.6"
  }
 },
 "nbformat": 4,
 "nbformat_minor": 4
}
