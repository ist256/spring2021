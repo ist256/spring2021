{
 "cells": [
  {
   "cell_type": "markdown",
   "metadata": {},
   "source": [
    "# Code Samples From Large Group\n"
   ]
  },
  {
   "cell_type": "code",
   "execution_count": 1,
   "metadata": {},
   "outputs": [],
   "source": [
    "import time"
   ]
  },
  {
   "cell_type": "code",
   "execution_count": 3,
   "metadata": {},
   "outputs": [
    {
     "name": "stdout",
     "output_type": "stream",
     "text": [
      "hello\n",
      "there\n"
     ]
    }
   ],
   "source": [
    "print(\"hello\")\n",
    "time.sleep(5)\n",
    "print(\"there\")"
   ]
  },
  {
   "cell_type": "code",
   "execution_count": 4,
   "metadata": {},
   "outputs": [
    {
     "ename": "ModuleNotFoundError",
     "evalue": "No module named 'speech'",
     "output_type": "error",
     "traceback": [
      "\u001b[0;31m---------------------------------------------------------------------------\u001b[0m",
      "\u001b[0;31mModuleNotFoundError\u001b[0m                       Traceback (most recent call last)",
      "\u001b[0;32m<ipython-input-4-a6ccd31767c0>\u001b[0m in \u001b[0;36m<module>\u001b[0;34m\u001b[0m\n\u001b[0;32m----> 1\u001b[0;31m \u001b[0;32mimport\u001b[0m \u001b[0mspeech\u001b[0m\u001b[0;34m\u001b[0m\u001b[0;34m\u001b[0m\u001b[0m\n\u001b[0m",
      "\u001b[0;31mModuleNotFoundError\u001b[0m: No module named 'speech'"
     ]
    }
   ],
   "source": [
    "import speech"
   ]
  },
  {
   "cell_type": "code",
   "execution_count": 7,
   "metadata": {},
   "outputs": [
    {
     "data": {
      "text/plain": [
       "True"
      ]
     },
     "execution_count": 7,
     "metadata": {},
     "output_type": "execute_result"
    }
   ],
   "source": [
    "True"
   ]
  },
  {
   "cell_type": "code",
   "execution_count": 8,
   "metadata": {},
   "outputs": [
    {
     "data": {
      "text/plain": [
       "False"
      ]
     },
     "execution_count": 8,
     "metadata": {},
     "output_type": "execute_result"
    }
   ],
   "source": [
    "False"
   ]
  },
  {
   "cell_type": "code",
   "execution_count": 10,
   "metadata": {},
   "outputs": [],
   "source": [
    "mike_is_happy = True"
   ]
  },
  {
   "cell_type": "code",
   "execution_count": 11,
   "metadata": {},
   "outputs": [
    {
     "name": "stdout",
     "output_type": "stream",
     "text": [
      "True\n"
     ]
    }
   ],
   "source": [
    "print(mike_is_happy)"
   ]
  },
  {
   "cell_type": "code",
   "execution_count": 12,
   "metadata": {},
   "outputs": [
    {
     "data": {
      "text/plain": [
       "True"
      ]
     },
     "execution_count": 12,
     "metadata": {},
     "output_type": "execute_result"
    }
   ],
   "source": [
    "7 > 3"
   ]
  },
  {
   "cell_type": "code",
   "execution_count": 13,
   "metadata": {},
   "outputs": [
    {
     "data": {
      "text/plain": [
       "True"
      ]
     },
     "execution_count": 13,
     "metadata": {},
     "output_type": "execute_result"
    }
   ],
   "source": [
    "x = 14\n",
    "y = 12\n",
    "y < x"
   ]
  },
  {
   "cell_type": "code",
   "execution_count": 14,
   "metadata": {},
   "outputs": [
    {
     "data": {
      "text/plain": [
       "False"
      ]
     },
     "execution_count": 14,
     "metadata": {},
     "output_type": "execute_result"
    }
   ],
   "source": [
    "x < y"
   ]
  },
  {
   "cell_type": "code",
   "execution_count": 15,
   "metadata": {},
   "outputs": [
    {
     "data": {
      "text/plain": [
       "26"
      ]
     },
     "execution_count": 15,
     "metadata": {},
     "output_type": "execute_result"
    }
   ],
   "source": [
    "x + y"
   ]
  },
  {
   "cell_type": "code",
   "execution_count": 16,
   "metadata": {},
   "outputs": [
    {
     "data": {
      "text/plain": [
       "False"
      ]
     },
     "execution_count": 16,
     "metadata": {},
     "output_type": "execute_result"
    }
   ],
   "source": [
    "x == y"
   ]
  },
  {
   "cell_type": "code",
   "execution_count": 17,
   "metadata": {},
   "outputs": [
    {
     "data": {
      "text/plain": [
       "True"
      ]
     },
     "execution_count": 17,
     "metadata": {},
     "output_type": "execute_result"
    }
   ],
   "source": [
    "x - 2 == y"
   ]
  },
  {
   "cell_type": "code",
   "execution_count": null,
   "metadata": {},
   "outputs": [],
   "source": [
    "=   (assignment X = 8)\n",
    "==  (equality  X == 8)"
   ]
  },
  {
   "cell_type": "code",
   "execution_count": 25,
   "metadata": {},
   "outputs": [
    {
     "name": "stdout",
     "output_type": "stream",
     "text": [
      "Enter your password: \n",
      "Access Denied!\n",
      "You are not logged in\n",
      "Enter your age: \n"
     ]
    },
    {
     "ename": "ValueError",
     "evalue": "invalid literal for int() with base 10: ''",
     "output_type": "error",
     "traceback": [
      "\u001b[0;31m---------------------------------------------------------------------------\u001b[0m",
      "\u001b[0;31mValueError\u001b[0m                                Traceback (most recent call last)",
      "\u001b[0;32m<ipython-input-25-5f4a0f8db7d6>\u001b[0m in \u001b[0;36m<module>\u001b[0;34m\u001b[0m\n\u001b[1;32m      9\u001b[0m     \u001b[0mlogged_in\u001b[0m \u001b[0;34m=\u001b[0m \u001b[0;32mFalse\u001b[0m\u001b[0;34m\u001b[0m\u001b[0;34m\u001b[0m\u001b[0m\n\u001b[1;32m     10\u001b[0m \u001b[0;34m\u001b[0m\u001b[0m\n\u001b[0;32m---> 11\u001b[0;31m \u001b[0mage\u001b[0m \u001b[0;34m=\u001b[0m \u001b[0mint\u001b[0m\u001b[0;34m(\u001b[0m\u001b[0minput\u001b[0m\u001b[0;34m(\u001b[0m\u001b[0;34m\"Enter your age: \"\u001b[0m\u001b[0;34m)\u001b[0m\u001b[0;34m)\u001b[0m\u001b[0;34m\u001b[0m\u001b[0;34m\u001b[0m\u001b[0m\n\u001b[0m\u001b[1;32m     12\u001b[0m \u001b[0mprint\u001b[0m\u001b[0;34m(\u001b[0m\u001b[0;34mf\"You are {age} years old and logged in is {logged_in}\"\u001b[0m\u001b[0;34m)\u001b[0m\u001b[0;34m\u001b[0m\u001b[0;34m\u001b[0m\u001b[0m\n",
      "\u001b[0;31mValueError\u001b[0m: invalid literal for int() with base 10: ''"
     ]
    }
   ],
   "source": [
    "pw = input(\"Enter your password: \")\n",
    "if pw == 'iphone':\n",
    "    print(\"Password Accepted!\")\n",
    "    print(\"Yay you are logged in!\")\n",
    "    logged_in = True\n",
    "else:\n",
    "    print(\"Access Denied!\")\n",
    "    print(\"You are not logged in\")\n",
    "    logged_in = False\n",
    "    \n",
    "age = int(input(\"Enter your age: \"))\n",
    "print(f\"You are {age} years old and logged in is {logged_in}\")"
   ]
  },
  {
   "cell_type": "code",
   "execution_count": null,
   "metadata": {},
   "outputs": [],
   "source": [
    "# this code doesn't run but the idea is the same\n",
    "milk = get_milk()\n",
    "if milk < 1:\n",
    "    send_tweet(\"Go buy milk\")\n",
    "    display_on_fridge_lcd(\"Get milk\")\n"
   ]
  },
  {
   "cell_type": "code",
   "execution_count": 28,
   "metadata": {},
   "outputs": [
    {
     "name": "stdout",
     "output_type": "stream",
     "text": [
      "Enter milk as read from scale: 0.7\n",
      "This would tweet you to buy more\n"
     ]
    }
   ],
   "source": [
    "milk = float(input(\"Enter milk as read from scale: \"))\n",
    "if milk < 1:\n",
    "    print(\"This would tweet you to buy more\")"
   ]
  },
  {
   "cell_type": "code",
   "execution_count": 31,
   "metadata": {},
   "outputs": [
    {
     "name": "stdout",
     "output_type": "stream",
     "text": [
      "Enter your password: iphone\n"
     ]
    }
   ],
   "source": [
    "valid_time = '09:00'\n",
    "time = '06:00'\n",
    "pw = input(\"Enter your password: \")\n",
    "if pw == 'iphone' and time > valid_time:\n",
    "    print(\"Password Accepted!\")\n",
    "    print(\"And its okay to login now!!\")\n",
    "    print(\"Yay you are logged in!\")\n"
   ]
  },
  {
   "cell_type": "markdown",
   "metadata": {},
   "source": [
    "### Tax Calculations!  \n",
    "- The country of “Fudgebonia” determines your tax rate from the number of dependents:  \n",
    "   - 0 <span>&#8594;</span> 30%  \n",
    "   - 1 <span>&#8594;</span> 25%  \n",
    "   - 2 <span>&#8594;</span> 18%   \n",
    "   - 3 or more <span>&#8594;</span> 10%  \n",
    "   \n",
    "- Write a program to prompt for number of dependents (0-3) and annual income.  \n",
    "\n",
    "- It should then calculate your tax rate and tax bill. Format numbers properly! \n",
    "\n",
    "\n",
    "\n",
    "    input: dependents and income\n",
    "    output: tax rate and tax bill\n",
    "    \n",
    "    process:\n",
    "    \n",
    "    1. input deps and income\n",
    "    2. figure out which tax rate to use\n",
    "    3. calculate tax as rate * income\n",
    "    4. print tax rate and tax\n",
    "    "
   ]
  },
  {
   "cell_type": "code",
   "execution_count": 35,
   "metadata": {},
   "outputs": [
    {
     "name": "stdout",
     "output_type": "stream",
     "text": [
      "Enter number of dependents: 67\n",
      "Enter annual income: 10000\n",
      "With 67 dependents, your tax rate is 0.10.\n",
      "For income of $ 10000.00 your tax is 1000.00\n"
     ]
    }
   ],
   "source": [
    "deps = int(input(\"Enter number of dependents: \"))\n",
    "if deps < 0:\n",
    "    print(\"Read the instructions, please!\")\n",
    "else:\n",
    "    income = float(input(\"Enter annual income: \"))\n",
    "    if deps == 0:\n",
    "        tax_rate = .30\n",
    "    elif deps == 1:\n",
    "        tax_rate = .25\n",
    "    elif deps == 2: \n",
    "        tax_rate = .18   \n",
    "    else:\n",
    "        tax_rate = .1\n",
    "    tax = tax_rate * income\n",
    "    print(f\"With {deps} dependents, your tax rate is {tax_rate:.2f}.\")\n",
    "    print(f\"For income of $ {income:.2f} your tax is {tax:.2f}\")"
   ]
  },
  {
   "cell_type": "code",
   "execution_count": 39,
   "metadata": {},
   "outputs": [
    {
     "name": "stdout",
     "output_type": "stream",
     "text": [
      "Enter number of dependents: kjsdfahgfkjasd\n",
      "That ain't a number, jack!\n",
      "invalid literal for int() with base 10: 'kjsdfahgfkjasd'\n"
     ]
    }
   ],
   "source": [
    "try:\n",
    "    deps = int(input(\"Enter number of dependents: \"))\n",
    "except ValueError as x:\n",
    "    print(\"That ain't a number, jack!\")\n",
    "    print(x)"
   ]
  },
  {
   "cell_type": "code",
   "execution_count": 40,
   "metadata": {},
   "outputs": [
    {
     "name": "stdout",
     "output_type": "stream",
     "text": [
      "Enter number of dependents: sdajkhfkjsd\n"
     ]
    },
    {
     "ename": "ValueError",
     "evalue": "invalid literal for int() with base 10: 'sdajkhfkjsd'",
     "output_type": "error",
     "traceback": [
      "\u001b[0;31m---------------------------------------------------------------------------\u001b[0m",
      "\u001b[0;31mValueError\u001b[0m                                Traceback (most recent call last)",
      "\u001b[0;32m<ipython-input-40-928f57f241e8>\u001b[0m in \u001b[0;36m<module>\u001b[0;34m\u001b[0m\n\u001b[0;32m----> 1\u001b[0;31m \u001b[0mdeps\u001b[0m \u001b[0;34m=\u001b[0m \u001b[0mint\u001b[0m\u001b[0;34m(\u001b[0m\u001b[0minput\u001b[0m\u001b[0;34m(\u001b[0m\u001b[0;34m\"Enter number of dependents: \"\u001b[0m\u001b[0;34m)\u001b[0m\u001b[0;34m)\u001b[0m\u001b[0;34m\u001b[0m\u001b[0;34m\u001b[0m\u001b[0m\n\u001b[0m",
      "\u001b[0;31mValueError\u001b[0m: invalid literal for int() with base 10: 'sdajkhfkjsd'"
     ]
    }
   ],
   "source": [
    "deps = int(input(\"Enter number of dependents: \"))"
   ]
  },
  {
   "cell_type": "code",
   "execution_count": 45,
   "metadata": {},
   "outputs": [
    {
     "name": "stdout",
     "output_type": "stream",
     "text": [
      "Enter number of dependents: kjfdshgas\n",
      "Use Error:That was not a number!\n",
      "Logged Error: invalid literal for int() with base 10: 'kjfdshgas'\n"
     ]
    }
   ],
   "source": [
    "try:\n",
    "    deps = int(input(\"Enter number of dependents: \"))\n",
    "    if deps < 0:\n",
    "        print(\"Read the instructions, please!\")\n",
    "    else:\n",
    "        income = float(input(\"Enter annual income: \"))\n",
    "        if deps == 0:\n",
    "            tax_rate = .30\n",
    "        elif deps == 1:\n",
    "            tax_rate = .25\n",
    "        elif deps == 2: \n",
    "            tax_rate = .18   \n",
    "        else:\n",
    "            tax_rate = .1\n",
    "        tax = tax_rate * income\n",
    "        print(f\"With {deps} dependents, your tax rate is {tax_rate:.2f}.\")\n",
    "        print(f\"For income of $ {income:.2f} your tax is {tax:.2f}\")\n",
    "except ValueError as e1:\n",
    "    print(\"Use Error:That was not a number!\")\n",
    "    print(\"Logged Error:\", e1)\n"
   ]
  }
 ],
 "metadata": {
  "kernelspec": {
   "display_name": "Python 3",
   "language": "python",
   "name": "python3"
  },
  "language_info": {
   "codemirror_mode": {
    "name": "ipython",
    "version": 3
   },
   "file_extension": ".py",
   "mimetype": "text/x-python",
   "name": "python",
   "nbconvert_exporter": "python",
   "pygments_lexer": "ipython3",
   "version": "3.8.6"
  }
 },
 "nbformat": 4,
 "nbformat_minor": 4
}
