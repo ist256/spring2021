{
 "cells": [
  {
   "cell_type": "markdown",
   "metadata": {},
   "source": [
    "# Code Samples From Large Group\n"
   ]
  },
  {
   "cell_type": "code",
   "execution_count": 1,
   "metadata": {},
   "outputs": [
    {
     "name": "stdout",
     "output_type": "stream",
     "text": [
      "1\n",
      "3\n",
      "5\n",
      "7\n"
     ]
    }
   ],
   "source": [
    "x = [1,3,5,7]\n",
    "\n",
    "for i in x:\n",
    "    print(i)"
   ]
  },
  {
   "cell_type": "code",
   "execution_count": null,
   "metadata": {},
   "outputs": [],
   "source": [
    "for line in f.readlines()\n",
    "    print(line)"
   ]
  },
  {
   "cell_type": "code",
   "execution_count": 2,
   "metadata": {},
   "outputs": [
    {
     "ename": "SyntaxError",
     "evalue": "unexpected EOF while parsing (<ipython-input-2-a02201daa082>, line 1)",
     "output_type": "error",
     "traceback": [
      "\u001b[0;36m  File \u001b[0;32m\"<ipython-input-2-a02201daa082>\"\u001b[0;36m, line \u001b[0;32m1\u001b[0m\n\u001b[0;31m    for line in f:\u001b[0m\n\u001b[0m                  ^\u001b[0m\n\u001b[0;31mSyntaxError\u001b[0m\u001b[0;31m:\u001b[0m unexpected EOF while parsing\n"
     ]
    }
   ],
   "source": [
    "for line in f:"
   ]
  },
  {
   "cell_type": "code",
   "execution_count": 5,
   "metadata": {},
   "outputs": [
    {
     "name": "stdout",
     "output_type": "stream",
     "text": [
      "Mike\n",
      "33\n",
      "brown\n"
     ]
    }
   ],
   "source": [
    "mike = { 'name' : 'Mike', 'age' : 33, 'eye_color': 'brown'}\n",
    "for x in mike.values():\n",
    "    print(x)"
   ]
  },
  {
   "cell_type": "code",
   "execution_count": 6,
   "metadata": {},
   "outputs": [
    {
     "name": "stdout",
     "output_type": "stream",
     "text": [
      "name\n",
      "age\n",
      "eye_color\n"
     ]
    }
   ],
   "source": [
    "for k in mike:\n",
    "    print(k)"
   ]
  },
  {
   "cell_type": "code",
   "execution_count": 7,
   "metadata": {},
   "outputs": [
    {
     "name": "stdout",
     "output_type": "stream",
     "text": [
      "name\n",
      "age\n",
      "eye_color\n"
     ]
    }
   ],
   "source": [
    "for k in mike.keys():\n",
    "    print(k)"
   ]
  },
  {
   "cell_type": "code",
   "execution_count": 8,
   "metadata": {},
   "outputs": [
    {
     "data": {
      "text/plain": [
       "dict"
      ]
     },
     "execution_count": 8,
     "metadata": {},
     "output_type": "execute_result"
    }
   ],
   "source": [
    "type(mike)"
   ]
  },
  {
   "cell_type": "code",
   "execution_count": 9,
   "metadata": {},
   "outputs": [],
   "source": [
    "shoppling_list = [ 'milk', 'beer', 'cheese']"
   ]
  },
  {
   "cell_type": "code",
   "execution_count": 10,
   "metadata": {},
   "outputs": [
    {
     "data": {
      "text/plain": [
       "'beer'"
      ]
     },
     "execution_count": 10,
     "metadata": {},
     "output_type": "execute_result"
    }
   ],
   "source": [
    "shoppling_list[1]"
   ]
  },
  {
   "cell_type": "code",
   "execution_count": 11,
   "metadata": {},
   "outputs": [],
   "source": [
    "student = { 'name' : 'Bobbi', 'gpa' : 4.0, 'is_school' : True, 'name' : 'Bobby' }"
   ]
  },
  {
   "cell_type": "code",
   "execution_count": 12,
   "metadata": {},
   "outputs": [
    {
     "name": "stdout",
     "output_type": "stream",
     "text": [
      "{'name': 'Bobby', 'gpa': 4.0, 'is_school': True}\n"
     ]
    }
   ],
   "source": [
    "print(student)"
   ]
  },
  {
   "cell_type": "code",
   "execution_count": 14,
   "metadata": {},
   "outputs": [],
   "source": [
    "student = { 'name' : 'Bobbi', 'gpa' : 4.0, 'is_school' : True, 'NAME' : 'Bobby' }"
   ]
  },
  {
   "cell_type": "code",
   "execution_count": 15,
   "metadata": {},
   "outputs": [
    {
     "name": "stdout",
     "output_type": "stream",
     "text": [
      "{'name': 'Bobbi', 'gpa': 4.0, 'is_school': True, 'NAME': 'Bobby'}\n"
     ]
    }
   ],
   "source": [
    "print(student)"
   ]
  },
  {
   "cell_type": "markdown",
   "metadata": {},
   "source": [
    "# List - more than one of the same thing\n",
    "\n",
    "\n",
    "# Dict - characteristics of one thing"
   ]
  },
  {
   "cell_type": "code",
   "execution_count": 16,
   "metadata": {},
   "outputs": [],
   "source": [
    "student['major'] = 'Data Science'"
   ]
  },
  {
   "cell_type": "code",
   "execution_count": 17,
   "metadata": {},
   "outputs": [
    {
     "name": "stdout",
     "output_type": "stream",
     "text": [
      "{'name': 'Bobbi', 'gpa': 4.0, 'is_school': True, 'NAME': 'Bobby', 'major': 'Data Science'}\n"
     ]
    }
   ],
   "source": [
    "print(student)"
   ]
  },
  {
   "cell_type": "code",
   "execution_count": 18,
   "metadata": {},
   "outputs": [],
   "source": [
    "student['gpa'] = 3.99"
   ]
  },
  {
   "cell_type": "code",
   "execution_count": 19,
   "metadata": {},
   "outputs": [
    {
     "name": "stdout",
     "output_type": "stream",
     "text": [
      "{'name': 'Bobbi', 'gpa': 3.99, 'is_school': True, 'NAME': 'Bobby', 'major': 'Data Science'}\n"
     ]
    }
   ],
   "source": [
    "print(student)"
   ]
  },
  {
   "cell_type": "code",
   "execution_count": 23,
   "metadata": {},
   "outputs": [],
   "source": [
    "student['NAME'] = None"
   ]
  },
  {
   "cell_type": "code",
   "execution_count": 24,
   "metadata": {},
   "outputs": [
    {
     "name": "stdout",
     "output_type": "stream",
     "text": [
      "{'name': 'Bobbi', 'gpa': 3.99, 'is_school': True, 'NAME': None, 'major': 'Data Science'}\n"
     ]
    }
   ],
   "source": [
    "print(student)"
   ]
  },
  {
   "cell_type": "code",
   "execution_count": 25,
   "metadata": {},
   "outputs": [],
   "source": [
    "del student['NAME']"
   ]
  },
  {
   "cell_type": "code",
   "execution_count": 26,
   "metadata": {},
   "outputs": [
    {
     "name": "stdout",
     "output_type": "stream",
     "text": [
      "{'name': 'Bobbi', 'gpa': 3.99, 'is_school': True, 'major': 'Data Science'}\n"
     ]
    }
   ],
   "source": [
    "print(student)"
   ]
  },
  {
   "cell_type": "code",
   "execution_count": 27,
   "metadata": {},
   "outputs": [
    {
     "data": {
      "text/plain": [
       "['__class__',\n",
       " '__contains__',\n",
       " '__delattr__',\n",
       " '__delitem__',\n",
       " '__dir__',\n",
       " '__doc__',\n",
       " '__eq__',\n",
       " '__format__',\n",
       " '__ge__',\n",
       " '__getattribute__',\n",
       " '__getitem__',\n",
       " '__gt__',\n",
       " '__hash__',\n",
       " '__init__',\n",
       " '__init_subclass__',\n",
       " '__iter__',\n",
       " '__le__',\n",
       " '__len__',\n",
       " '__lt__',\n",
       " '__ne__',\n",
       " '__new__',\n",
       " '__reduce__',\n",
       " '__reduce_ex__',\n",
       " '__repr__',\n",
       " '__reversed__',\n",
       " '__setattr__',\n",
       " '__setitem__',\n",
       " '__sizeof__',\n",
       " '__str__',\n",
       " '__subclasshook__',\n",
       " 'clear',\n",
       " 'copy',\n",
       " 'fromkeys',\n",
       " 'get',\n",
       " 'items',\n",
       " 'keys',\n",
       " 'pop',\n",
       " 'popitem',\n",
       " 'setdefault',\n",
       " 'update',\n",
       " 'values']"
      ]
     },
     "execution_count": 27,
     "metadata": {},
     "output_type": "execute_result"
    }
   ],
   "source": [
    "dir(dict)"
   ]
  },
  {
   "cell_type": "code",
   "execution_count": 28,
   "metadata": {},
   "outputs": [
    {
     "data": {
      "text/plain": [
       "dict_keys(['name', 'gpa', 'is_school', 'major'])"
      ]
     },
     "execution_count": 28,
     "metadata": {},
     "output_type": "execute_result"
    }
   ],
   "source": [
    "student.keys()"
   ]
  },
  {
   "cell_type": "code",
   "execution_count": 29,
   "metadata": {},
   "outputs": [
    {
     "data": {
      "text/plain": [
       "dict_values(['Bobbi', 3.99, True, 'Data Science'])"
      ]
     },
     "execution_count": 29,
     "metadata": {},
     "output_type": "execute_result"
    }
   ],
   "source": [
    "student.values()"
   ]
  },
  {
   "cell_type": "code",
   "execution_count": 30,
   "metadata": {},
   "outputs": [
    {
     "data": {
      "text/plain": [
       "dict_items([('name', 'Bobbi'), ('gpa', 3.99), ('is_school', True), ('major', 'Data Science')])"
      ]
     },
     "execution_count": 30,
     "metadata": {},
     "output_type": "execute_result"
    }
   ],
   "source": [
    "student.items()"
   ]
  },
  {
   "cell_type": "code",
   "execution_count": 31,
   "metadata": {},
   "outputs": [
    {
     "name": "stdout",
     "output_type": "stream",
     "text": [
      "name ==> Bobbi\n",
      "gpa ==> 3.99\n",
      "is_school ==> True\n",
      "major ==> Data Science\n"
     ]
    }
   ],
   "source": [
    "for key in student.keys():\n",
    "    print(f\"{key} ==> {student[key]}\")"
   ]
  },
  {
   "cell_type": "code",
   "execution_count": 32,
   "metadata": {},
   "outputs": [
    {
     "name": "stdout",
     "output_type": "stream",
     "text": [
      "Bobbi\n",
      "3.99\n",
      "True\n",
      "Data Science\n"
     ]
    }
   ],
   "source": [
    "for v in student.values():\n",
    "    print(v)"
   ]
  },
  {
   "cell_type": "code",
   "execution_count": 33,
   "metadata": {},
   "outputs": [
    {
     "name": "stdout",
     "output_type": "stream",
     "text": [
      "name ==> Bobbi\n",
      "gpa ==> 3.99\n",
      "is_school ==> True\n",
      "major ==> Data Science\n"
     ]
    }
   ],
   "source": [
    "for key in student:\n",
    "    print(f\"{key} ==> {student[key]}\")"
   ]
  },
  {
   "cell_type": "code",
   "execution_count": 34,
   "metadata": {},
   "outputs": [],
   "source": [
    "car = {}\n",
    "car['model'] = 'Sentra'\n",
    "car['make'] = 'Nissan'\n",
    "car['msrp'] = 40000\n",
    "car['miles'] = 0\n"
   ]
  },
  {
   "cell_type": "code",
   "execution_count": 39,
   "metadata": {},
   "outputs": [
    {
     "name": "stdout",
     "output_type": "stream",
     "text": [
      "Nissan Sentra\n"
     ]
    }
   ],
   "source": [
    "print(f'{car[\"make\"]} {car[\"model\"]}')"
   ]
  },
  {
   "cell_type": "code",
   "execution_count": 42,
   "metadata": {},
   "outputs": [
    {
     "ename": "KeyError",
     "evalue": "'color'",
     "output_type": "error",
     "traceback": [
      "\u001b[0;31m---------------------------------------------------------------------------\u001b[0m",
      "\u001b[0;31mKeyError\u001b[0m                                  Traceback (most recent call last)",
      "\u001b[0;32m<ipython-input-42-65a1f5ec62f0>\u001b[0m in \u001b[0;36m<module>\u001b[0;34m\u001b[0m\n\u001b[0;32m----> 1\u001b[0;31m \u001b[0mcar\u001b[0m\u001b[0;34m[\u001b[0m\u001b[0;34m\"color\"\u001b[0m\u001b[0;34m]\u001b[0m\u001b[0;34m\u001b[0m\u001b[0;34m\u001b[0m\u001b[0m\n\u001b[0m",
      "\u001b[0;31mKeyError\u001b[0m: 'color'"
     ]
    }
   ],
   "source": [
    "car[\"color\"]\n"
   ]
  },
  {
   "cell_type": "code",
   "execution_count": 44,
   "metadata": {},
   "outputs": [
    {
     "name": "stdout",
     "output_type": "stream",
     "text": [
      "blue\n"
     ]
    }
   ],
   "source": [
    "car['color'] = 'blue'\n",
    "try:\n",
    "    print(car[\"color\"])\n",
    "except KeyError:\n",
    "    print(\"Hey there's no color in the car dictionary.\")"
   ]
  },
  {
   "cell_type": "code",
   "execution_count": 49,
   "metadata": {},
   "outputs": [
    {
     "data": {
      "text/plain": [
       "'No License Plate'"
      ]
     },
     "execution_count": 49,
     "metadata": {},
     "output_type": "execute_result"
    }
   ],
   "source": [
    "car.get(\"licplate\", \"No License Plate\")"
   ]
  },
  {
   "cell_type": "code",
   "execution_count": 51,
   "metadata": {},
   "outputs": [
    {
     "data": {
      "text/plain": [
       "'Sentra'"
      ]
     },
     "execution_count": 51,
     "metadata": {},
     "output_type": "execute_result"
    }
   ],
   "source": [
    "car.get(\"model\", \"there is model\")"
   ]
  },
  {
   "cell_type": "code",
   "execution_count": 52,
   "metadata": {},
   "outputs": [
    {
     "data": {
      "text/plain": [
       "'bob'"
      ]
     },
     "execution_count": 52,
     "metadata": {},
     "output_type": "execute_result"
    }
   ],
   "source": [
    "students = [     \n",
    "    { 'Name':'bob','GPA':3.4 },   \n",
    "    { 'Name':'sue','GPA':2.8 },  \n",
    "    { 'Name':'kent','GPA':4.0 }  \n",
    "]\n",
    "\n",
    "#chaining\n",
    "students[0]['Name']"
   ]
  },
  {
   "cell_type": "code",
   "execution_count": null,
   "metadata": {},
   "outputs": [],
   "source": []
  },
  {
   "cell_type": "code",
   "execution_count": 53,
   "metadata": {},
   "outputs": [
    {
     "name": "stdout",
     "output_type": "stream",
     "text": [
      "bob\n",
      "sue\n",
      "kent\n"
     ]
    }
   ],
   "source": [
    "for student in students:\n",
    "    print(student['Name'])"
   ]
  },
  {
   "cell_type": "code",
   "execution_count": 59,
   "metadata": {},
   "outputs": [],
   "source": [
    "students = [     \n",
    "    { 'Name':'bob','GPA':3.4, \"Minor\" : \"Physics\" },   \n",
    "    { 'Name':'sue','GPA':2.8, \"Major\" : \"Finance\" },  \n",
    "    { 'Name':'kent','GPA':4.0 }  \n",
    "]"
   ]
  },
  {
   "cell_type": "code",
   "execution_count": 61,
   "metadata": {},
   "outputs": [
    {
     "name": "stdout",
     "output_type": "stream",
     "text": [
      "sue Finance\n"
     ]
    }
   ],
   "source": [
    "for s in students:    \n",
    "    if \"Major\" in s.keys():\n",
    "        print(s[\"Name\"], s[\"Major\"])"
   ]
  },
  {
   "cell_type": "code",
   "execution_count": 67,
   "metadata": {},
   "outputs": [
    {
     "name": "stdout",
     "output_type": "stream",
     "text": [
      "bob Physics\n",
      "sue\n",
      "kent\n"
     ]
    }
   ],
   "source": [
    "for s in students:    \n",
    "    if \"Minor\" in s.keys():\n",
    "        print(s[\"Name\"], s[\"Minor\"])\n",
    "    else:\n",
    "        print(s[\"Name\"])"
   ]
  },
  {
   "cell_type": "code",
   "execution_count": 69,
   "metadata": {},
   "outputs": [],
   "source": [
    "import json \n",
    "with open('stocks.json',\"r\") as f:\n",
    "    contents = f.read()\n",
    "    stock_list = json.loads(contents)   # De-serialization\n"
   ]
  },
  {
   "cell_type": "code",
   "execution_count": 71,
   "metadata": {},
   "outputs": [
    {
     "data": {
      "text/plain": [
       "list"
      ]
     },
     "execution_count": 71,
     "metadata": {},
     "output_type": "execute_result"
    }
   ],
   "source": [
    "type(stock_list)"
   ]
  },
  {
   "cell_type": "code",
   "execution_count": 73,
   "metadata": {},
   "outputs": [
    {
     "name": "stdout",
     "output_type": "stream",
     "text": [
      "AAPL\n",
      "AMZN\n",
      "FB\n",
      "GOOG\n",
      "IBM\n",
      "MSFT\n",
      "NET\n",
      "NFLX\n",
      "TSLA\n",
      "TWTR\n"
     ]
    }
   ],
   "source": [
    "for stock in stock_list:\n",
    "    print(stock['symbol'])"
   ]
  },
  {
   "cell_type": "code",
   "execution_count": 79,
   "metadata": {},
   "outputs": [
    {
     "name": "stdout",
     "output_type": "stream",
     "text": [
      "['[', '\\n', ' ', ' ', '{', ' ', '\"', 's', 'y', 'm', 'b', 'o', 'l', '\"', ' ', ':', ' ', '\"', 'A', 'A', 'P', 'L', '\"', ',', ' ', '\"', 'p', 'r', 'i', 'c', 'e', '\"', ' ', ':', ' ', '1', '2', '6', '.', '8', '2', ' ', '}', ',', '\\n', ' ', ' ', '{', ' ', '\"', 's', 'y', 'm', 'b', 'o', 'l', '\"', ' ', ':', ' ', '\"', 'A', 'M', 'Z', 'N', '\"', ',', ' ', '\"', 'p', 'r', 'i', 'c', 'e', '\"', ' ', ':', ' ', '3', '0', '9', '8', '.', '1', '2', ' ', '}', ',', '\\n', ' ', ' ', '{', ' ', '\"', 's', 'y', 'm', 'b', 'o', 'l', '\"', ' ', ':', ' ', '\"', 'F', 'B', '\"', ',', ' ', '\"', 'p', 'r', 'i', 'c', 'e', '\"', ' ', ':', ' ', '2', '5', '1', '.', '1', '1', ' ', '}', ',', '\\n', ' ', ' ', '{', ' ', '\"', 's', 'y', 'm', 'b', 'o', 'l', '\"', ' ', ':', ' ', '\"', 'G', 'O', 'O', 'G', '\"', ',', ' ', '\"', 'p', 'r', 'i', 'c', 'e', '\"', ' ', ':', ' ', '1', '7', '2', '5', '.', '0', '5', ' ', '}', ',', '\\n', ' ', ' ', '{', ' ', '\"', 's', 'y', 'm', 'b', 'o', 'l', '\"', ' ', ':', ' ', '\"', 'I', 'B', 'M', '\"', ',', ' ', '\"', 'p', 'r', 'i', 'c', 'e', '\"', ' ', ':', ' ', '1', '2', '8', '.', '3', '9', ' ', '}', ',', '\\n', ' ', ' ', '{', ' ', '\"', 's', 'y', 'm', 'b', 'o', 'l', '\"', ' ', ':', ' ', '\"', 'M', 'S', 'F', 'T', '\"', ',', ' ', '\"', 'p', 'r', 'i', 'c', 'e', '\"', ' ', ':', ' ', '2', '1', '2', '.', '5', '5', ' ', '}', ',', '\\n', ' ', ' ', '{', ' ', '\"', 's', 'y', 'm', 'b', 'o', 'l', '\"', ' ', ':', ' ', '\"', 'N', 'E', 'T', '\"', ',', ' ', '\"', 'p', 'r', 'i', 'c', 'e', '\"', ' ', ':', ' ', '7', '8', '.', '0', '0', ' ', '}', ',', '\\n', ' ', ' ', '{', ' ', '\"', 's', 'y', 'm', 'b', 'o', 'l', '\"', ' ', ':', ' ', '\"', 'N', 'F', 'L', 'X', '\"', ',', ' ', '\"', 'p', 'r', 'i', 'c', 'e', '\"', ' ', ':', ' ', '4', '9', '7', '.', '0', '0', ' ', '}', ',', '\\n', ' ', ' ', '{', ' ', '\"', 's', 'y', 'm', 'b', 'o', 'l', '\"', ' ', ':', ' ', '\"', 'T', 'S', 'L', 'A', '\"', ',', ' ', '\"', 'p', 'r', 'i', 'c', 'e', '\"', ' ', ':', ' ', '8', '2', '3', '.', '8', '0', ' ', '}', ',', '\\n', ' ', ' ', '{', ' ', '\"', 's', 'y', 'm', 'b', 'o', 'l', '\"', ' ', ':', ' ', '\"', 'T', 'W', 'T', 'R', '\"', ',', ' ', '\"', 'p', 'r', 'i', 'c', 'e', '\"', ' ', ':', ' ', '4', '5', '.', '1', '1', ' ', '}', '\\n', ']', '\\n']\n"
     ]
    }
   ],
   "source": [
    "with open('stocks.json',\"r\") as f:\n",
    "    contents = f.read()\n",
    "\n",
    "print(list(contents))"
   ]
  },
  {
   "cell_type": "code",
   "execution_count": 80,
   "metadata": {},
   "outputs": [],
   "source": [
    "import json \n",
    "with open('europe.json',\"r\") as f:\n",
    "    some_string = f.read()\n",
    "    some_deserialized_python_object = json.loads(some_string)   # De-serialization"
   ]
  },
  {
   "cell_type": "code",
   "execution_count": 82,
   "metadata": {},
   "outputs": [
    {
     "data": {
      "text/plain": [
       "list"
      ]
     },
     "execution_count": 82,
     "metadata": {},
     "output_type": "execute_result"
    }
   ],
   "source": [
    "type(some_deserialized_python_object)"
   ]
  },
  {
   "cell_type": "code",
   "execution_count": 92,
   "metadata": {},
   "outputs": [
    {
     "name": "stdout",
     "output_type": "stream",
     "text": [
      "Åland Islands\n",
      "Albania\n",
      "Andorra\n",
      "Austria\n",
      "Belarus\n",
      "Belgium\n",
      "Bosnia and Herzegovina\n",
      "Bulgaria\n",
      "Croatia\n",
      "Cyprus\n",
      "Czech Republic\n",
      "Denmark\n",
      "Estonia\n",
      "Faroe Islands\n",
      "Finland\n",
      "France\n",
      "Germany\n",
      "Gibraltar\n",
      "Greece\n",
      "Guernsey\n",
      "Holy See\n",
      "Hungary\n",
      "Iceland\n",
      "Republic of Ireland\n",
      "Isle of Man\n",
      "Italy\n",
      "Jersey\n",
      "Latvia\n",
      "Liechtenstein\n",
      "Lithuania\n",
      "Luxembourg\n",
      "Republic of Macedonia\n",
      "Malta\n",
      "Moldova\n",
      "Monaco\n",
      "Montenegro\n",
      "Netherlands\n",
      "Norway\n",
      "Poland\n",
      "Portugal\n",
      "Republic of Kosovo\n",
      "Romania\n",
      "Russia\n",
      "San Marino\n",
      "Serbia\n",
      "Slovakia\n",
      "Slovenia\n",
      "Spain\n",
      "Svalbard and Jan Mayen\n",
      "Sweden\n",
      "Switzerland\n",
      "Ukraine\n",
      "United Kingdom\n"
     ]
    }
   ],
   "source": [
    "import json \n",
    "with open('europe.json',\"r\") as f:\n",
    "    some_string = f.read()\n",
    "    some_deserialized_python_object = json.loads(some_string)\n",
    "    for country in some_deserialized_python_object:\n",
    "        print(country['name'])"
   ]
  },
  {
   "cell_type": "code",
   "execution_count": 87,
   "metadata": {},
   "outputs": [],
   "source": [
    "import json\n",
    "with open('somebody.json','r')as f:\n",
    "    x = json.load(f)"
   ]
  },
  {
   "cell_type": "code",
   "execution_count": 88,
   "metadata": {},
   "outputs": [
    {
     "data": {
      "text/plain": [
       "dict"
      ]
     },
     "execution_count": 88,
     "metadata": {},
     "output_type": "execute_result"
    }
   ],
   "source": [
    "type(x)"
   ]
  },
  {
   "cell_type": "code",
   "execution_count": 89,
   "metadata": {},
   "outputs": [
    {
     "data": {
      "text/plain": [
       "dict_keys(['person'])"
      ]
     },
     "execution_count": 89,
     "metadata": {},
     "output_type": "execute_result"
    }
   ],
   "source": [
    "x.keys()"
   ]
  },
  {
   "cell_type": "code",
   "execution_count": 90,
   "metadata": {},
   "outputs": [
    {
     "data": {
      "text/plain": [
       "{'name': 'Mike', 'age': 50}"
      ]
     },
     "execution_count": 90,
     "metadata": {},
     "output_type": "execute_result"
    }
   ],
   "source": [
    "x['person']"
   ]
  },
  {
   "cell_type": "code",
   "execution_count": 91,
   "metadata": {},
   "outputs": [
    {
     "data": {
      "text/plain": [
       "50"
      ]
     },
     "execution_count": 91,
     "metadata": {},
     "output_type": "execute_result"
    }
   ],
   "source": [
    "x['person']['age']"
   ]
  },
  {
   "cell_type": "code",
   "execution_count": 97,
   "metadata": {},
   "outputs": [
    {
     "name": "stdout",
     "output_type": "stream",
     "text": [
      "Straight Claw Hammer 15.95\n",
      "Sledge Hammer 21.95\n",
      "Rip Claw Hammer 19.95\n",
      "Dri-Fit Tee 20.0\n",
      "Running Pants 35.0\n",
      "Wool Socks 8.0\n",
      "Squeaky Sneaks 65.0\n",
      "Cool Jeans 45.0\n",
      "Denim Jacket 60.0\n",
      "Leather Jacket 95.0\n",
      "Courdory Pants 24.0\n",
      "Work Pants 38.0\n",
      "Work Gloves 8.0\n",
      "Comfor-fit Tee 12.0\n",
      "Running Shorts 20.0\n",
      "X-Train Shoes 75.0\n",
      "Baseball Cap 10.0\n",
      "DVD Player 45.0\n",
      "HD-DVD Player 150.0\n",
      "Blu-Ray DVD Player 150.0\n",
      "40\" LCD HD TV 1000.0\n",
      "50\" LCD HD TV 1300.0\n",
      "65\" LCD HD TV 1900.0\n",
      "PC Webcam 20.0\n",
      "Computer Mouse 10.0\n",
      "Ergonomic Keyboard 22.0\n",
      "20\" LCD Monitor 300.0\n",
      "17\" LCD Monitor 150.0\n",
      "18v Drill Driver Set 90.0\n",
      "19.2v Drill Driver Set 90.0\n",
      "10\" Miter Saw 200.0\n",
      "Lazer Level 45.0\n",
      "Table Saw 290.0\n",
      "Power Washer 290.0\n",
      "Cold Chisel Set 10.0\n",
      "Screwdriver Set 10.0\n",
      "Drill Bit Set 25.0\n",
      "Belt Sander 250.0\n",
      "Crock Pot 25.0\n",
      "Monsignor Coffee 20.0\n",
      "Electric Griddle 20.0\n",
      "Tennis Racket 50.0\n",
      "Tennis Balls 8.0\n",
      "Basketball 35.0\n",
      "12 Pack Golf Balls 20.0\n",
      "Pro. Football 65.0\n",
      "Baseball Glove 75.0\n",
      "Heart Monitor 20.0\n",
      "Pedometer 10.0\n",
      "Sport Cycle 255.0\n",
      "Soccer Ball 45.0\n",
      "Steam Iron 15.0\n",
      "Blender 45.0\n"
     ]
    }
   ],
   "source": [
    "with open ('fudgemart-products.json', 'r') as f:\n",
    "    contents = f.read()\n",
    "    products = json.loads(contents)\n",
    "    \n",
    "for p in products:\n",
    "    print(p['product_name'], p['product_retail_price'])"
   ]
  },
  {
   "cell_type": "code",
   "execution_count": null,
   "metadata": {},
   "outputs": [],
   "source": []
  }
 ],
 "metadata": {
  "kernelspec": {
   "display_name": "Python 3",
   "language": "python",
   "name": "python3"
  },
  "language_info": {
   "codemirror_mode": {
    "name": "ipython",
    "version": 3
   },
   "file_extension": ".py",
   "mimetype": "text/x-python",
   "name": "python",
   "nbconvert_exporter": "python",
   "pygments_lexer": "ipython3",
   "version": "3.8.6"
  }
 },
 "nbformat": 4,
 "nbformat_minor": 4
}
