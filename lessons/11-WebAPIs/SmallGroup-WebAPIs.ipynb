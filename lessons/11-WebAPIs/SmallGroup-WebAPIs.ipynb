{
 "cells": [
  {
   "cell_type": "code",
   "execution_count": 7,
   "metadata": {},
   "outputs": [],
   "source": [
    "use_your_key = 'AhZv5ghIa4LKrsWJYkOkwyHZkv-2UF0ECLjMr7uUuo5rIfd3u0YVmzVzsIVmDeiK'"
   ]
  },
  {
   "cell_type": "markdown",
   "metadata": {},
   "source": [
    "# Now You Code In Class: Getting Directions!\n",
    "\n",
    "Let's continue on our zomato journey, mashing it up with the Bing Maps API so that we can get driving instructions to the restaurant. \n",
    "\n",
    "Bing Maps Route API is here: https://docs.microsoft.com/en-us/bingmaps/rest-services/routes/calculate-a-route \n",
    "\n",
    "The google places functions are the the `google.ipynb` file. We can import one noteook into another using the `import_ipynb` python module. "
   ]
  },
  {
   "cell_type": "code",
   "execution_count": 4,
   "metadata": {},
   "outputs": [],
   "source": [
    "import requests \n",
    "import import_ipynb\n",
    "import googleapi as google"
   ]
  },
  {
   "cell_type": "code",
   "execution_count": 5,
   "metadata": {},
   "outputs": [
    {
     "data": {
      "text/plain": [
       "['__builtins__',\n",
       " '__doc__',\n",
       " '__file__',\n",
       " '__loader__',\n",
       " '__name__',\n",
       " '__package__',\n",
       " '__spec__',\n",
       " 'example',\n",
       " 'get_ipython',\n",
       " 'googleGeocode',\n",
       " 'googlePlacesDetails',\n",
       " 'googlePlacesSearch',\n",
       " 'requests']"
      ]
     },
     "execution_count": 5,
     "metadata": {},
     "output_type": "execute_result"
    }
   ],
   "source": [
    "dir(google)"
   ]
  },
  {
   "cell_type": "code",
   "execution_count": 6,
   "metadata": {},
   "outputs": [
    {
     "name": "stdout",
     "output_type": "stream",
     "text": [
      "Searching for university in Syracuse, NY\n",
      "FOUND: Syracuse University https://www.syracuse.edu/\n"
     ]
    }
   ],
   "source": [
    "# testing\n",
    "google_api_key = '751838d6b9978955679461c80a7df60bde4f093d '\n",
    "google.example(google_api_key)"
   ]
  },
  {
   "cell_type": "markdown",
   "metadata": {},
   "source": [
    "## Step 1a: Learning The Bing Route API\n",
    "\n",
    "FIRST: Sign up and get an API Key: https://docs.microsoft.com/en-us/bingmaps/getting-started/bing-maps-dev-center-help/getting-a-bing-maps-key \n",
    "\n",
    "NEXT: Read the Bing Maps Route API is here: https://docs.microsoft.com/en-us/bingmaps/rest-services/routes/calculate-a-route \n",
    "\n",
    "\n",
    "WHAT IS REQUIRED TO EXECUTE THE API (INPUTS): \n",
    "\n",
    "    At minimum, you need wp.1 and wp.2 and key\n",
    "\n",
    "WHAT DOES THE API GIVE US BACK (OUTPUTS):\n",
    "\n",
    "    route data\n",
    "\n",
    "Algorithm (Steps in Program):\n",
    "\n",
    "    Algorithms to call API's are the same, so  the concerns are:\n",
    "    \n",
    "    - input two waypoints\n",
    "    - call the HTTP request\n",
    "    - de-seriealize response\n",
    "    - do something with our fdata.\n",
    "    \n",
    "## Step 1b: Code the API: Proof of Concept"
   ]
  },
  {
   "cell_type": "code",
   "execution_count": 10,
   "metadata": {
    "collapsed": true
   },
   "outputs": [
    {
     "data": {
      "text/plain": [
       "{'authenticationResultCode': 'ValidCredentials',\n",
       " 'brandLogoUri': 'http://dev.virtualearth.net/Branding/logo_powered_by.png',\n",
       " 'copyright': 'Copyright © 2021 Microsoft and its suppliers. All rights reserved. This API cannot be accessed and the content and any results may not be used, reproduced or transmitted in any manner without express written permission from Microsoft Corporation.',\n",
       " 'resourceSets': [{'estimatedTotal': 1,\n",
       "   'resources': [{'__type': 'Route:http://schemas.microsoft.com/search/local/ws/rest/v1',\n",
       "     'bbox': [43.024127, -76.13646, 43.036398, -76.128685],\n",
       "     'id': 'v70,h-1910391646,i0,a0,cen-US,dAAAAAAAAAAA1,y0,s1,m1,o1,t4,wfXVVoBaDRUB8fhghPAhTwA2~AD5Ti0IRlJMkAADgAWH8Pj8A0~MTMyNDQsIE5Z0~~~~~~~~v12,wzlKynISERUCsj4e-uwhTwA2~AD5Ti0JRZZMkAADgAdQeHD4C0~Q2FycmllciBEb21lLCBOWQ2~~~~~~~~v12,k1',\n",
       "     'distanceUnit': 'Kilometer',\n",
       "     'durationUnit': 'Second',\n",
       "     'price': -1,\n",
       "     'routeLegs': [{'actualEnd': {'type': 'Point',\n",
       "        'coordinates': [43.035418, -76.13646]},\n",
       "       'actualStart': {'type': 'Point',\n",
       "        'coordinates': [43.024127, -76.128685]},\n",
       "       'alternateVias': [],\n",
       "       'cost': 0,\n",
       "       'description': 'Comstock Ave, Sims Dr',\n",
       "       'endLocation': {'bbox': [43.03384, -76.140724, 43.037758, -76.133514],\n",
       "        'name': 'Carrier Dome, NY',\n",
       "        'point': {'type': 'Point', 'coordinates': [43.035297, -76.136459]},\n",
       "        'address': {'adminDistrict': 'NY',\n",
       "         'adminDistrict2': 'Onondaga County',\n",
       "         'countryRegion': 'United States',\n",
       "         'formattedAddress': 'Carrier Dome, NY',\n",
       "         'locality': 'Syracuse'},\n",
       "        'confidence': 'High',\n",
       "        'entityType': 'Stadium',\n",
       "        'geocodePoints': [{'type': 'Point',\n",
       "          'coordinates': [43.035297, -76.136459],\n",
       "          'calculationMethod': 'Rooftop',\n",
       "          'usageTypes': ['Display']}],\n",
       "        'matchCodes': ['UpHierarchy']},\n",
       "       'itineraryItems': [{'compassDirection': 'north',\n",
       "         'details': [{'compassDegrees': 355,\n",
       "           'endPathIndices': [1],\n",
       "           'locationCodes': ['104+51879', '104P51878', '104P51879'],\n",
       "           'maneuverType': 'DepartStart',\n",
       "           'mode': 'Driving',\n",
       "           'names': ['Comstock Ave'],\n",
       "           'roadType': 'Street',\n",
       "           'startPathIndices': [0]}],\n",
       "         'exit': '',\n",
       "         'iconType': 'Auto',\n",
       "         'instruction': {'formattedText': None,\n",
       "          'maneuverType': 'DepartStart',\n",
       "          'text': 'Head north on Comstock Ave toward Acorn Path'},\n",
       "         'isRealTimeTransit': False,\n",
       "         'maneuverPoint': {'type': 'Point',\n",
       "          'coordinates': [43.024127, -76.128685]},\n",
       "         'realTimeTransitDelay': 0,\n",
       "         'sideOfStreet': 'Unknown',\n",
       "         'tollZone': '',\n",
       "         'towardsRoadName': 'Acorn Path',\n",
       "         'transitTerminus': '',\n",
       "         'travelDistance': 1.354,\n",
       "         'travelDuration': 132,\n",
       "         'travelMode': 'Driving'},\n",
       "        {'compassDirection': 'west',\n",
       "         'details': [{'compassDegrees': 267,\n",
       "           'endPathIndices': [3],\n",
       "           'maneuverType': 'TurnLeft',\n",
       "           'mode': 'Driving',\n",
       "           'names': ['Euclid Ave'],\n",
       "           'roadType': 'Street',\n",
       "           'startPathIndices': [1]}],\n",
       "         'exit': '',\n",
       "         'iconType': 'Auto',\n",
       "         'instruction': {'formattedText': None,\n",
       "          'maneuverType': 'TurnLeft',\n",
       "          'text': 'Turn left onto Euclid Ave'},\n",
       "         'isRealTimeTransit': False,\n",
       "         'maneuverPoint': {'type': 'Point',\n",
       "          'coordinates': [43.036278, -76.129797]},\n",
       "         'realTimeTransitDelay': 0,\n",
       "         'sideOfStreet': 'Unknown',\n",
       "         'tollZone': '',\n",
       "         'transitTerminus': '',\n",
       "         'travelDistance': 0.126,\n",
       "         'travelDuration': 35,\n",
       "         'travelMode': 'Driving'},\n",
       "        {'compassDirection': 'west',\n",
       "         'details': [{'compassDegrees': 253,\n",
       "           'endPathIndices': [8],\n",
       "           'maneuverType': 'RoadNameChange',\n",
       "           'mode': 'Driving',\n",
       "           'names': ['Sims Dr'],\n",
       "           'roadType': 'Street',\n",
       "           'startPathIndices': [3]}],\n",
       "         'exit': '',\n",
       "         'iconType': 'Auto',\n",
       "         'instruction': {'formattedText': None,\n",
       "          'maneuverType': 'RoadNameChange',\n",
       "          'text': 'Road name changes to Sims Dr'},\n",
       "         'isRealTimeTransit': False,\n",
       "         'maneuverPoint': {'type': 'Point',\n",
       "          'coordinates': [43.036188, -76.131342]},\n",
       "         'realTimeTransitDelay': 0,\n",
       "         'sideOfStreet': 'Unknown',\n",
       "         'tollZone': '',\n",
       "         'transitTerminus': '',\n",
       "         'travelDistance': 0.349,\n",
       "         'travelDuration': 84,\n",
       "         'travelMode': 'Driving',\n",
       "         'warnings': [{'severity': 'None',\n",
       "           'text': 'Gated road',\n",
       "           'warningType': 'GateAccess'},\n",
       "          {'severity': 'None',\n",
       "           'text': 'Private Road',\n",
       "           'warningType': 'PrivateRoad'}]},\n",
       "        {'compassDirection': 'west',\n",
       "         'details': [{'compassDegrees': 270,\n",
       "           'endPathIndices': [12],\n",
       "           'maneuverType': 'TurnRight',\n",
       "           'mode': 'Driving',\n",
       "           'names': ['Forestry Dr'],\n",
       "           'roadType': 'Street',\n",
       "           'startPathIndices': [8]}],\n",
       "         'exit': '',\n",
       "         'iconType': 'Auto',\n",
       "         'instruction': {'formattedText': None,\n",
       "          'maneuverType': 'TurnRight',\n",
       "          'text': 'Turn right onto Forestry Dr'},\n",
       "         'isRealTimeTransit': False,\n",
       "         'maneuverPoint': {'type': 'Point',\n",
       "          'coordinates': [43.035436, -76.134417]},\n",
       "         'realTimeTransitDelay': 0,\n",
       "         'sideOfStreet': 'Unknown',\n",
       "         'tollZone': '',\n",
       "         'transitTerminus': '',\n",
       "         'travelDistance': 0.166,\n",
       "         'travelDuration': 26,\n",
       "         'travelMode': 'Driving',\n",
       "         'warnings': [{'severity': 'None',\n",
       "           'text': 'Private Road',\n",
       "           'warningType': 'PrivateRoad'}]},\n",
       "        {'compassDirection': 'west',\n",
       "         'details': [{'compassDegrees': 269,\n",
       "           'endPathIndices': [12],\n",
       "           'maneuverType': 'ArriveFinish',\n",
       "           'mode': 'Driving',\n",
       "           'names': ['Forestry Dr'],\n",
       "           'roadType': 'Street',\n",
       "           'startPathIndices': [12]}],\n",
       "         'exit': '',\n",
       "         'hints': [{'hintType': 'PreviousIntersection',\n",
       "           'text': 'The last intersection before your destination is Crouse Dr'},\n",
       "          {'hintType': 'NextIntersection',\n",
       "           'text': \"If you reach Campus Dr, you've gone too far\"}],\n",
       "         'iconType': 'Auto',\n",
       "         'instruction': {'formattedText': None,\n",
       "          'maneuverType': 'ArriveFinish',\n",
       "          'text': 'Arrive at Carrier Dome, NY on the left'},\n",
       "         'isRealTimeTransit': False,\n",
       "         'maneuverPoint': {'type': 'Point',\n",
       "          'coordinates': [43.035418, -76.13646]},\n",
       "         'realTimeTransitDelay': 0,\n",
       "         'sideOfStreet': 'Left',\n",
       "         'tollZone': '',\n",
       "         'transitTerminus': '',\n",
       "         'travelDistance': 0,\n",
       "         'travelDuration': 0,\n",
       "         'travelMode': 'Driving'}],\n",
       "       'routeRegion': 'WWMX',\n",
       "       'routeSubLegs': [{'endWaypoint': {'type': 'Point',\n",
       "          'coordinates': [43.035418, -76.13646],\n",
       "          'description': 'Carrier Dome, NY',\n",
       "          'isVia': False,\n",
       "          'locationIdentifier': '0|62|83|139|66|81|101|147|36|0|0|224|1|212|30|28|62|2|43.035418,-76.13646',\n",
       "          'routePathIndex': 12},\n",
       "         'startWaypoint': {'type': 'Point',\n",
       "          'coordinates': [43.024127, -76.128685],\n",
       "          'description': '13244, NY',\n",
       "          'isVia': False,\n",
       "          'locationIdentifier': '0|62|83|139|66|17|148|147|36|0|0|224|1|97|252|62|63|0|43.024127,-76.128685',\n",
       "          'routePathIndex': 0},\n",
       "         'travelDistance': 1.995,\n",
       "         'travelDuration': 279}],\n",
       "       'startLocation': {'bbox': [43.0093, -76.140739, 43.042652, -76.112434],\n",
       "        'name': '13244, NY',\n",
       "        'point': {'type': 'Point', 'coordinates': [43.024128, -76.12867]},\n",
       "        'address': {'adminDistrict': 'NY',\n",
       "         'adminDistrict2': 'Onondaga County',\n",
       "         'countryRegion': 'United States',\n",
       "         'formattedAddress': '13244, NY',\n",
       "         'locality': 'Syracuse',\n",
       "         'postalCode': '13244'},\n",
       "        'confidence': 'High',\n",
       "        'entityType': 'Postcode1',\n",
       "        'geocodePoints': [{'type': 'Point',\n",
       "          'coordinates': [43.024128, -76.12867],\n",
       "          'calculationMethod': 'Rooftop',\n",
       "          'usageTypes': ['Display']}],\n",
       "        'matchCodes': ['UpHierarchy']},\n",
       "       'travelDistance': 1.995,\n",
       "       'travelDuration': 279,\n",
       "       'travelMode': 'Driving'}],\n",
       "     'trafficCongestion': 'None',\n",
       "     'trafficDataUsed': 'None',\n",
       "     'travelDistance': 1.995,\n",
       "     'travelDuration': 279,\n",
       "     'travelDurationTraffic': 267,\n",
       "     'travelMode': 'Driving'}]}],\n",
       " 'statusCode': 200,\n",
       " 'statusDescription': 'OK',\n",
       " 'traceId': 'a78396ac394843d1934a6f5868efad00|BN000021DC|0.0.0.0|BN0000185B, Leg0-BN0000376F|Ref A: DE5A88A3687548A7A338D63CA7E2F115 Ref B: BN3EDGE0513 Ref C: 2021-04-19T14:45:49Z|Ref A: 40B0DD08DFC64DBF9B8D473CFF6C1697 Ref B: BN3EDGE0821 Ref C: 2021-04-19T14:45:49Z'}"
      ]
     },
     "execution_count": 10,
     "metadata": {},
     "output_type": "execute_result"
    }
   ],
   "source": [
    "# PROMPT 3 Demonstrate you can call the API\n",
    "start = 'Manley Field House, Syracuse, NY 13244'\n",
    "finish =  'Carrier Dome, Syracuse, NY 13204'\n",
    "bing_key = use_your_key\n",
    "\n",
    "url = \"https://dev.virtualearth.net/REST/v1/Routes\"\n",
    "query_string = { \n",
    "    'wp.1' : start,\n",
    "    'wp.2' : finish,\n",
    "    'key' : bing_key\n",
    "}\n",
    "\n",
    "response = requests.get(url, params=query_string)\n",
    "response.raise_for_status()\n",
    "routes = response.json()\n",
    "\n",
    "routes"
   ]
  },
  {
   "cell_type": "code",
   "execution_count": 30,
   "metadata": {},
   "outputs": [
    {
     "name": "stdout",
     "output_type": "stream",
     "text": [
      "Head north on Comstock Ave toward Acorn Path\n",
      "Turn left onto Euclid Ave\n",
      "Road name changes to Sims Dr\n",
      "Turn right onto Forestry Dr\n",
      "Arrive at Carrier Dome, NY on the left\n"
     ]
    }
   ],
   "source": [
    "for item in routes['resourceSets'][0]['resources'][0]['routeLegs'][0]['itineraryItems']:\n",
    "    print(item['instruction']['text'])"
   ]
  },
  {
   "cell_type": "code",
   "execution_count": 32,
   "metadata": {},
   "outputs": [
    {
     "data": {
      "text/plain": [
       "{'compassDirection': 'north',\n",
       " 'details': [{'compassDegrees': 355,\n",
       "   'endPathIndices': [1],\n",
       "   'locationCodes': ['104+51879', '104P51878', '104P51879'],\n",
       "   'maneuverType': 'DepartStart',\n",
       "   'mode': 'Driving',\n",
       "   'names': ['Comstock Ave'],\n",
       "   'roadType': 'Street',\n",
       "   'startPathIndices': [0]}],\n",
       " 'exit': '',\n",
       " 'iconType': 'Auto',\n",
       " 'instruction': {'formattedText': None,\n",
       "  'maneuverType': 'DepartStart',\n",
       "  'text': 'Head north on Comstock Ave toward Acorn Path'},\n",
       " 'isRealTimeTransit': False,\n",
       " 'maneuverPoint': {'type': 'Point', 'coordinates': [43.024127, -76.128685]},\n",
       " 'realTimeTransitDelay': 0,\n",
       " 'sideOfStreet': 'Unknown',\n",
       " 'tollZone': '',\n",
       " 'towardsRoadName': 'Acorn Path',\n",
       " 'transitTerminus': '',\n",
       " 'travelDistance': 1.354,\n",
       " 'travelDuration': 132,\n",
       " 'travelMode': 'Driving'}"
      ]
     },
     "execution_count": 32,
     "metadata": {},
     "output_type": "execute_result"
    }
   ],
   "source": [
    "routes['resourceSets'][0]['resources'][0]['routeLegs'][0]['itineraryItems'][0]"
   ]
  },
  {
   "cell_type": "code",
   "execution_count": 33,
   "metadata": {},
   "outputs": [
    {
     "data": {
      "text/plain": [
       "0"
      ]
     },
     "execution_count": 33,
     "metadata": {},
     "output_type": "execute_result"
    }
   ],
   "source": [
    "# PROMPT 4 What do I need from the response?\n",
    "item['travelDistance']"
   ]
  },
  {
   "cell_type": "markdown",
   "metadata": {},
   "source": [
    "## Step 1.c: Refactor into a function `getDirections()`\n",
    "\n",
    "Now the we understand the API, let's refactor the code into a useable function \n",
    "\n",
    "FUNCTION INPUTS:\n",
    "\n",
    "    start and finish these can be addresses\n",
    "    \n",
    "FUNCTION OUTPUTS:\n",
    "\n",
    "    itenerary items\n",
    "    \n",
    "ALGORITHM:\n",
    "\n",
    "    same as others that call and API\n",
    "    \n",
    "TEST (How do we know it's right?)\n",
    "\n",
    "    try the example from above but call function?"
   ]
  },
  {
   "cell_type": "code",
   "execution_count": 35,
   "metadata": {},
   "outputs": [],
   "source": [
    "# PROMPT 9 - write function\n",
    "\n",
    "def getDirections(start,finish, bing_key):    \n",
    "    url = \"https://dev.virtualearth.net/REST/v1/Routes\"\n",
    "    query_string = { \n",
    "        'wp.1' : start,\n",
    "        'wp.2' : finish,\n",
    "        'key' : bing_key\n",
    "    }\n",
    "\n",
    "    response = requests.get(url, params=query_string)\n",
    "    response.raise_for_status()\n",
    "    routes = response.json()\n",
    "    return routes['resourceSets'][0]['resources'][0]['routeLegs'][0]['itineraryItems']\n"
   ]
  },
  {
   "cell_type": "markdown",
   "metadata": {},
   "source": [
    "## Step 1.d: Test the function"
   ]
  },
  {
   "cell_type": "code",
   "execution_count": 38,
   "metadata": {},
   "outputs": [
    {
     "name": "stdout",
     "output_type": "stream",
     "text": [
      "Head east on Capri Circle toward Fortuna Pkwy\n",
      "Turn right onto Fortuna Pkwy\n",
      "Turn right onto Lawton Rd\n",
      "Turn left onto Caughdenoy Rd / County Hwy-49\n",
      "Turn right onto US-11 S / Brewerton Rd\n",
      "Turn left onto Bear Rd\n",
      "Take the ramp on the left for NY-481 S\n",
      "At Exit 9S, head right on the ramp for I-81 South toward Syracuse\n",
      "At Exit 20, head right on the ramp toward Franklin St / West St\n",
      "Bear right onto Butternut St\n",
      "Continue on N Franklin St\n",
      "Arrive at 260 W Genesee St, Syracuse, NY 13202\n"
     ]
    }
   ],
   "source": [
    "# PROMPT 10\n",
    "\n",
    "home = '8031 Capri Circle Clay, NY'\n",
    "finish =  ' 260 W Genesee St, Syracuse, NY 13202'\n",
    "items = getDirections(start, finish, bing_key)\n",
    "\n",
    "for item in items:\n",
    "    print(item['instruction']['text'])"
   ]
  },
  {
   "cell_type": "markdown",
   "metadata": {},
   "source": [
    "## Step 2: Putting it all together\n",
    "\n",
    "\n",
    "PROMPTS:\n",
    "\n",
    "     11. Input your home address, then city where you want to eat.\n",
    "     12. Geocode the city\n",
    "     13. search for restaunds\n",
    "     14. Build a list of trending restaurants\n",
    "     15. Start Interact - upon selection of a restaurant\n",
    "         16. find restaurant ID\n",
    "         17. get restaurant detail\n",
    "         18. show restaurant details name, cuisine, hours, address, phone\n",
    "         19. find driving directions from home address to restaurant \n"
   ]
  },
  {
   "cell_type": "code",
   "execution_count": 77,
   "metadata": {},
   "outputs": [
    {
     "name": "stdout",
     "output_type": "stream",
     "text": [
      "Enter City Where You want to Eat: Albany, NY\n",
      "Enter search term: Italian\n"
     ]
    },
    {
     "data": {
      "text/html": [
       "<h1>Fudge's Italian Finder</h1>"
      ],
      "text/plain": [
       "<IPython.core.display.HTML object>"
      ]
     },
     "metadata": {},
     "output_type": "display_data"
    },
    {
     "data": {
      "application/vnd.jupyter.widget-view+json": {
       "model_id": "26c255c9af3444b79917a9b75ba7a8b6",
       "version_major": 2,
       "version_minor": 0
      },
      "text/plain": [
       "interactive(children=(Dropdown(description='select_pizza_place', options=('288 Lark Wine & Tap', 'Amo La Bella…"
      ]
     },
     "metadata": {},
     "output_type": "display_data"
    }
   ],
   "source": [
    "from IPython.display import display, HTML\n",
    "from ipywidgets import widgets, interact\n",
    "import requests\n",
    "\n",
    "home = '8031 Capri Circle Clay, NY'\n",
    "city = input(\"Enter City Where You want to Eat: \")\n",
    "keyword = input(\"Enter search term: \")\n",
    "latlng = google.googleGeocode(google_api_key, city)\n",
    "places = google.googlePlacesSearch(google_api_key,latlng['lat'],latlng['lng'],'restaraunt', keyword)\n",
    "\n",
    "place_list = []\n",
    "for place in places:\n",
    "    place_list.append(place['name'])\n",
    "    \n",
    "place_list.sort()\n",
    "display(HTML(f\"<h1>Fudge's {keyword} Finder</h1>\"))\n",
    "@interact(select_pizza_place=place_list)\n",
    "def directions_to_place(select_pizza_place):\n",
    "    for place in places:\n",
    "        if place['name'] == select_pizza_place:\n",
    "            details = google.googlePlacesDetails(google_api_key, place['place_id'])\n",
    "            display(HTML(f\"<h2>{details['name']}</h2>\"))\n",
    "            display(HTML(f\"<p>{details['formatted_address']}\"))\n",
    "            display(HTML(f\"<p>{details['formatted_phone_number']}\"))\n",
    "            display(HTML(f\"<p>{details['website']}\"))\n",
    "            display(HTML(f\"<h3>Hours</h3>\"))            \n",
    "            display(HTML(f\"<ul>\"))\n",
    "            for hour in details['opening_hours']['weekday_text']:\n",
    "                display(HTML(f\"<li>{hour}\"))\n",
    "            display(HTML(f\"<h3>Directions</h3>\"))            \n",
    "            display(HTML(f\"<ol>\"))\n",
    "            items = getDirections(home,details['formatted_address'], bing_key)\n",
    "            for item in items:\n",
    "                display(HTML(f\"<li>{item['instruction']['text']}\"))\n",
    "                    \n"
   ]
  },
  {
   "cell_type": "code",
   "execution_count": 73,
   "metadata": {},
   "outputs": [
    {
     "name": "stdout",
     "output_type": "stream",
     "text": [
      "Head east on Capri Circle toward Fortuna Pkwy\n",
      "Turn right onto Fortuna Pkwy\n",
      "Turn right onto Lawton Rd\n",
      "Turn left onto Caughdenoy Rd / County Hwy-49\n",
      "Turn right onto US-11 S / Brewerton Rd\n",
      "Turn left onto Bear Rd\n",
      "Take the ramp on the left for NY-481 S\n",
      "At Exit 9S, head right on the ramp for I-81 South toward Syracuse\n",
      "At Exit 19, head on the ramp right and follow signs for Clinton St / Salina St\n",
      "Bear right onto N Salina St\n",
      "Road name changes to S Salina St\n",
      "Turn left onto E Jefferson St\n",
      "Turn left onto S Warren St\n",
      "Arrive at 344 S Warren St, Syracuse, NY 13202\n"
     ]
    }
   ],
   "source": [
    "items = getDirections(home,'344 S Warren St, Syracuse, NY 13202, USA', bing_key)\n",
    "for item in items:\n",
    "    print(item['instruction']['text'])\n"
   ]
  },
  {
   "cell_type": "code",
   "execution_count": 70,
   "metadata": {},
   "outputs": [
    {
     "data": {
      "text/plain": [
       "['Monday: Closed',\n",
       " 'Tuesday: Closed',\n",
       " 'Wednesday: 4:30 – 9:00 PM',\n",
       " 'Thursday: 4:30 – 9:00 PM',\n",
       " 'Friday: 4:30 – 9:00 PM',\n",
       " 'Saturday: 4:30 – 9:00 PM',\n",
       " 'Sunday: Closed']"
      ]
     },
     "execution_count": 70,
     "metadata": {},
     "output_type": "execute_result"
    }
   ],
   "source": [
    "details['opening_hours']['weekday_text']"
   ]
  },
  {
   "cell_type": "code",
   "execution_count": null,
   "metadata": {},
   "outputs": [],
   "source": [
    "# run this code to turn in your work!\n",
    "from coursetools.submission import Submission\n",
    "Submission().submit_now()"
   ]
  },
  {
   "cell_type": "code",
   "execution_count": null,
   "metadata": {},
   "outputs": [],
   "source": []
  }
 ],
 "metadata": {
  "kernelspec": {
   "display_name": "Python 3",
   "language": "python",
   "name": "python3"
  },
  "language_info": {
   "codemirror_mode": {
    "name": "ipython",
    "version": 3
   },
   "file_extension": ".py",
   "mimetype": "text/x-python",
   "name": "python",
   "nbconvert_exporter": "python",
   "pygments_lexer": "ipython3",
   "version": "3.8.6"
  },
  "toc": {
   "base_numbering": 1,
   "nav_menu": {},
   "number_sections": false,
   "sideBar": false,
   "skip_h1_title": false,
   "title_cell": "Table of Contents",
   "title_sidebar": "Contents",
   "toc_cell": false,
   "toc_position": {},
   "toc_section_display": false,
   "toc_window_display": false
  }
 },
 "nbformat": 4,
 "nbformat_minor": 2
}
